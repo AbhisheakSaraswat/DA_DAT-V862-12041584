{
 "cells": [
  {
   "cell_type": "markdown",
   "id": "6b438678",
   "metadata": {},
   "source": [
    "### Pandas ( Data Analysis and Science Concepts)\n",
    "\n",
    "Pandas is an open-source python package, it is basically designed for data manipulation, data reshaping, indexing, merging, transformation, visualization, pivots, groupby, spliting etc.\n",
    "\n",
    "Its provides powerful, easy to use data structure.\n",
    "\n",
    "* Series and DataFrame\n",
    "\n",
    "* Series : In layman way, series is just a excel column or Series is a one-dimensonal labeled array that is capable of holding any kind of data type such as integer, string, boolean, date etc\n",
    "\n",
    "* DataFrame : In layman way, DataFrame is just like excel spredsheet means combination of rows and column, More specifically In Pandas, DataFrame is the combination of Index and Series.\n",
    "    * Note: Index => Row and Series => Column"
   ]
  },
  {
   "cell_type": "markdown",
   "id": "6bdeb357",
   "metadata": {},
   "source": [
    "* SQL : Records (Rows) and Fields (Columns)\n",
    "* DataFrame : Index (Rows) and Series (Columns)\n",
    "* Excel: Rows and Column"
   ]
  },
  {
   "cell_type": "markdown",
   "id": "ffe12bdc",
   "metadata": {},
   "source": [
    "### Pandas is Useful for ?\n",
    "\n",
    "* Data Manipulation\n",
    "* Handling Missing Data Points\n",
    "* Perfrom different type of operations\n",
    "* Data Wrangling : Merge, Join, Reshapse, Group, Pivot etc\n",
    "* Very powerful for File Handling (CSV, Excel, JSON, SQL etc)\n",
    "* Data Transformation and Filtering\n",
    "* Data Visualization and Automation\n",
    "\n",
    "### Where you can use the Pandas?\n",
    "* Data Cleaning and Transformation\n",
    "* Data Analysis\n",
    "* Exploratory Data Analysis (EDA)\n",
    "* Finanical and Statistical Analysis\n",
    "* Data Engineering"
   ]
  },
  {
   "cell_type": "code",
   "execution_count": 1,
   "id": "72e80e87",
   "metadata": {},
   "outputs": [],
   "source": [
    "import pandas as pd"
   ]
  },
  {
   "cell_type": "markdown",
   "id": "da7f14bc",
   "metadata": {},
   "source": [
    "### Pandas Data Structure:\n",
    "\n",
    "* Series (Columns)\n",
    "* DataFrame (Rows x Columns)"
   ]
  },
  {
   "cell_type": "code",
   "execution_count": 2,
   "id": "bd977aee",
   "metadata": {},
   "outputs": [],
   "source": [
    "sr = pd.Series([10,11,45,20,50])"
   ]
  },
  {
   "cell_type": "code",
   "execution_count": 3,
   "id": "6593ae65",
   "metadata": {},
   "outputs": [
    {
     "data": {
      "text/plain": [
       "0    10\n",
       "1    11\n",
       "2    45\n",
       "3    20\n",
       "4    50\n",
       "dtype: int64"
      ]
     },
     "execution_count": 3,
     "metadata": {},
     "output_type": "execute_result"
    }
   ],
   "source": [
    "sr"
   ]
  },
  {
   "cell_type": "code",
   "execution_count": 4,
   "id": "481fb82e",
   "metadata": {},
   "outputs": [],
   "source": [
    "sr = pd.Series()"
   ]
  },
  {
   "cell_type": "code",
   "execution_count": 5,
   "id": "49e6769e",
   "metadata": {},
   "outputs": [
    {
     "data": {
      "text/plain": [
       "Series([], dtype: object)"
      ]
     },
     "execution_count": 5,
     "metadata": {},
     "output_type": "execute_result"
    }
   ],
   "source": [
    "sr"
   ]
  },
  {
   "cell_type": "code",
   "execution_count": 6,
   "id": "689ab4dc",
   "metadata": {},
   "outputs": [
    {
     "name": "stdout",
     "output_type": "stream",
     "text": [
      "Series([], dtype: object)\n"
     ]
    }
   ],
   "source": [
    "print(sr) # object (object data type is nothing : it is just a string data type)"
   ]
  },
  {
   "cell_type": "code",
   "execution_count": 10,
   "id": "e21544aa",
   "metadata": {},
   "outputs": [],
   "source": [
    "sr = pd.Series(data = None, dtype = 'int64')"
   ]
  },
  {
   "cell_type": "code",
   "execution_count": 11,
   "id": "b488ae04",
   "metadata": {},
   "outputs": [
    {
     "data": {
      "text/plain": [
       "Series([], dtype: int64)"
      ]
     },
     "execution_count": 11,
     "metadata": {},
     "output_type": "execute_result"
    }
   ],
   "source": [
    "sr"
   ]
  },
  {
   "cell_type": "code",
   "execution_count": 13,
   "id": "cea7b84b",
   "metadata": {},
   "outputs": [],
   "source": [
    "# print(sr.__doc__)"
   ]
  },
  {
   "cell_type": "code",
   "execution_count": 15,
   "id": "58726cdb",
   "metadata": {},
   "outputs": [],
   "source": [
    "prices = [750000,390000,5570000,1780000,1091000]\n",
    "carnames = ['Swift','Santro',\"Audi\",'Creta','Bolero']"
   ]
  },
  {
   "cell_type": "code",
   "execution_count": 16,
   "id": "56787c4b",
   "metadata": {},
   "outputs": [],
   "source": [
    "car_series = pd.Series(data = prices )"
   ]
  },
  {
   "cell_type": "code",
   "execution_count": 17,
   "id": "7cce8807",
   "metadata": {},
   "outputs": [
    {
     "data": {
      "text/plain": [
       "0     750000\n",
       "1     390000\n",
       "2    5570000\n",
       "3    1780000\n",
       "4    1091000\n",
       "dtype: int64"
      ]
     },
     "execution_count": 17,
     "metadata": {},
     "output_type": "execute_result"
    }
   ],
   "source": [
    "car_series"
   ]
  },
  {
   "cell_type": "code",
   "execution_count": 18,
   "id": "1215afef",
   "metadata": {},
   "outputs": [],
   "source": [
    "car_series_1 = pd.Series(data = prices, index = carnames)"
   ]
  },
  {
   "cell_type": "code",
   "execution_count": 19,
   "id": "fe912365",
   "metadata": {},
   "outputs": [
    {
     "data": {
      "text/plain": [
       "Swift      750000\n",
       "Santro     390000\n",
       "Audi      5570000\n",
       "Creta     1780000\n",
       "Bolero    1091000\n",
       "dtype: int64"
      ]
     },
     "execution_count": 19,
     "metadata": {},
     "output_type": "execute_result"
    }
   ],
   "source": [
    "car_series_1"
   ]
  },
  {
   "cell_type": "code",
   "execution_count": 20,
   "id": "490ef788",
   "metadata": {},
   "outputs": [
    {
     "data": {
      "text/plain": [
       "pandas.core.series.Series"
      ]
     },
     "execution_count": 20,
     "metadata": {},
     "output_type": "execute_result"
    }
   ],
   "source": [
    "type(car_series)"
   ]
  },
  {
   "cell_type": "code",
   "execution_count": 21,
   "id": "d545c14e",
   "metadata": {},
   "outputs": [
    {
     "data": {
      "text/plain": [
       "pandas.core.series.Series"
      ]
     },
     "execution_count": 21,
     "metadata": {},
     "output_type": "execute_result"
    }
   ],
   "source": [
    "type(car_series_1)"
   ]
  },
  {
   "cell_type": "code",
   "execution_count": 22,
   "id": "63b3ce2a",
   "metadata": {},
   "outputs": [
    {
     "data": {
      "text/plain": [
       "Swift      750000\n",
       "Santro     390000\n",
       "Audi      5570000\n",
       "Creta     1780000\n",
       "Bolero    1091000\n",
       "Name: Price, dtype: int64"
      ]
     },
     "execution_count": 22,
     "metadata": {},
     "output_type": "execute_result"
    }
   ],
   "source": [
    "pd.Series(prices, carnames, name = 'Price')"
   ]
  },
  {
   "cell_type": "code",
   "execution_count": 23,
   "id": "282527c6",
   "metadata": {},
   "outputs": [],
   "source": [
    "prices = [750000,390000,5570000,1780000,1091000]\n",
    "carnames = ['Swift','Santro',\"Audi\",'Creta','Bolero']"
   ]
  },
  {
   "cell_type": "code",
   "execution_count": 26,
   "id": "985b9008",
   "metadata": {},
   "outputs": [],
   "source": [
    "car_prices = dict(zip(carnames,prices))"
   ]
  },
  {
   "cell_type": "code",
   "execution_count": 27,
   "id": "7d5f114b",
   "metadata": {},
   "outputs": [
    {
     "data": {
      "text/plain": [
       "{'Swift': 750000,\n",
       " 'Santro': 390000,\n",
       " 'Audi': 5570000,\n",
       " 'Creta': 1780000,\n",
       " 'Bolero': 1091000}"
      ]
     },
     "execution_count": 27,
     "metadata": {},
     "output_type": "execute_result"
    }
   ],
   "source": [
    "car_prices"
   ]
  },
  {
   "cell_type": "code",
   "execution_count": 31,
   "id": "09da79ab",
   "metadata": {},
   "outputs": [],
   "source": [
    "sr = pd.Series(data = car_prices, name = \"PriceOfCar\")"
   ]
  },
  {
   "cell_type": "code",
   "execution_count": 29,
   "id": "ad70b9d8",
   "metadata": {},
   "outputs": [
    {
     "data": {
      "text/plain": [
       "{'Swift': 750000,\n",
       " 'Santro': 390000,\n",
       " 'Audi': 5570000,\n",
       " 'Creta': 1780000,\n",
       " 'Bolero': 1091000}"
      ]
     },
     "execution_count": 29,
     "metadata": {},
     "output_type": "execute_result"
    }
   ],
   "source": [
    "car_prices"
   ]
  },
  {
   "cell_type": "code",
   "execution_count": 32,
   "id": "82c4c8e3",
   "metadata": {},
   "outputs": [
    {
     "data": {
      "text/plain": [
       "Swift      750000\n",
       "Santro     390000\n",
       "Audi      5570000\n",
       "Creta     1780000\n",
       "Bolero    1091000\n",
       "Name: PriceOfCar, dtype: int64"
      ]
     },
     "execution_count": 32,
     "metadata": {},
     "output_type": "execute_result"
    }
   ],
   "source": [
    "sr"
   ]
  },
  {
   "cell_type": "code",
   "execution_count": 33,
   "id": "ccc55d79",
   "metadata": {},
   "outputs": [
    {
     "data": {
      "text/plain": [
       "'PriceOfCar'"
      ]
     },
     "execution_count": 33,
     "metadata": {},
     "output_type": "execute_result"
    }
   ],
   "source": [
    "sr.name"
   ]
  },
  {
   "cell_type": "code",
   "execution_count": 34,
   "id": "c1713cd2",
   "metadata": {},
   "outputs": [
    {
     "data": {
      "text/plain": [
       "Index(['Swift', 'Santro', 'Audi', 'Creta', 'Bolero'], dtype='object')"
      ]
     },
     "execution_count": 34,
     "metadata": {},
     "output_type": "execute_result"
    }
   ],
   "source": [
    "sr.index"
   ]
  },
  {
   "cell_type": "code",
   "execution_count": 35,
   "id": "6f1dbe49",
   "metadata": {},
   "outputs": [
    {
     "data": {
      "text/plain": [
       "array([ 750000,  390000, 5570000, 1780000, 1091000], dtype=int64)"
      ]
     },
     "execution_count": 35,
     "metadata": {},
     "output_type": "execute_result"
    }
   ],
   "source": [
    "sr.values"
   ]
  },
  {
   "cell_type": "code",
   "execution_count": 36,
   "id": "c78ce983",
   "metadata": {},
   "outputs": [
    {
     "data": {
      "text/plain": [
       "(5,)"
      ]
     },
     "execution_count": 36,
     "metadata": {},
     "output_type": "execute_result"
    }
   ],
   "source": [
    "sr.shape"
   ]
  },
  {
   "cell_type": "code",
   "execution_count": 37,
   "id": "b542385f",
   "metadata": {},
   "outputs": [
    {
     "data": {
      "text/plain": [
       "1"
      ]
     },
     "execution_count": 37,
     "metadata": {},
     "output_type": "execute_result"
    }
   ],
   "source": [
    "sr.ndim"
   ]
  },
  {
   "cell_type": "code",
   "execution_count": 38,
   "id": "e981ae76",
   "metadata": {},
   "outputs": [
    {
     "data": {
      "text/plain": [
       "Swift      750000\n",
       "Santro     390000\n",
       "Audi      5570000\n",
       "Creta     1780000\n",
       "Bolero    1091000\n",
       "Name: PriceOfCar, dtype: int64"
      ]
     },
     "execution_count": 38,
     "metadata": {},
     "output_type": "execute_result"
    }
   ],
   "source": [
    "sr"
   ]
  },
  {
   "cell_type": "code",
   "execution_count": 39,
   "id": "515b9fac",
   "metadata": {},
   "outputs": [
    {
     "data": {
      "text/plain": [
       "Swift      750000\n",
       "Santro     390000\n",
       "Bolero    1091000\n",
       "Name: PriceOfCar, dtype: int64"
      ]
     },
     "execution_count": 39,
     "metadata": {},
     "output_type": "execute_result"
    }
   ],
   "source": [
    "sr[sr < 1500000]"
   ]
  },
  {
   "cell_type": "code",
   "execution_count": 43,
   "id": "1ba60eb6",
   "metadata": {},
   "outputs": [
    {
     "data": {
      "text/plain": [
       "Swift      True\n",
       "Santro     True\n",
       "Audi      False\n",
       "Creta     False\n",
       "Bolero    False\n",
       "Name: PriceOfCar, dtype: bool"
      ]
     },
     "execution_count": 43,
     "metadata": {},
     "output_type": "execute_result"
    }
   ],
   "source": [
    "(sr > 200000) & (sr < 800000)"
   ]
  },
  {
   "cell_type": "code",
   "execution_count": 44,
   "id": "eccc0c6e",
   "metadata": {},
   "outputs": [
    {
     "data": {
      "text/plain": [
       "Swift     750000\n",
       "Santro    390000\n",
       "Name: PriceOfCar, dtype: int64"
      ]
     },
     "execution_count": 44,
     "metadata": {},
     "output_type": "execute_result"
    }
   ],
   "source": [
    "sr[(sr > 200000) & (sr < 800000)]"
   ]
  },
  {
   "cell_type": "code",
   "execution_count": 45,
   "id": "301416f0",
   "metadata": {},
   "outputs": [
    {
     "data": {
      "text/plain": [
       "{'Swift': 750000,\n",
       " 'Santro': 390000,\n",
       " 'Audi': 5570000,\n",
       " 'Creta': 1780000,\n",
       " 'Bolero': 1091000}"
      ]
     },
     "execution_count": 45,
     "metadata": {},
     "output_type": "execute_result"
    }
   ],
   "source": [
    "car_prices"
   ]
  },
  {
   "cell_type": "code",
   "execution_count": 46,
   "id": "fe3ff071",
   "metadata": {},
   "outputs": [
    {
     "data": {
      "text/plain": [
       "dict"
      ]
     },
     "execution_count": 46,
     "metadata": {},
     "output_type": "execute_result"
    }
   ],
   "source": [
    "type(car_prices)"
   ]
  },
  {
   "cell_type": "markdown",
   "id": "572c7b60",
   "metadata": {},
   "source": [
    "### Creating a DataFrame"
   ]
  },
  {
   "cell_type": "code",
   "execution_count": 47,
   "id": "4c7bbb36",
   "metadata": {},
   "outputs": [],
   "source": [
    "df = pd.DataFrame()"
   ]
  },
  {
   "cell_type": "code",
   "execution_count": 48,
   "id": "cf41a884",
   "metadata": {},
   "outputs": [
    {
     "name": "stdout",
     "output_type": "stream",
     "text": [
      "Empty DataFrame\n",
      "Columns: []\n",
      "Index: []\n"
     ]
    }
   ],
   "source": [
    "print(df)"
   ]
  },
  {
   "cell_type": "code",
   "execution_count": 50,
   "id": "7d804999",
   "metadata": {},
   "outputs": [
    {
     "data": {
      "text/plain": [
       "(0, 0)"
      ]
     },
     "execution_count": 50,
     "metadata": {},
     "output_type": "execute_result"
    }
   ],
   "source": [
    "df.shape # shape function will returns a tuple where 1st item your rows and 2nd item your columns"
   ]
  },
  {
   "cell_type": "code",
   "execution_count": 51,
   "id": "4e1ae257",
   "metadata": {},
   "outputs": [
    {
     "ename": "ValueError",
     "evalue": "If using all scalar values, you must pass an index",
     "output_type": "error",
     "traceback": [
      "\u001b[1;31m---------------------------------------------------------------------------\u001b[0m",
      "\u001b[1;31mValueError\u001b[0m                                Traceback (most recent call last)",
      "Cell \u001b[1;32mIn[51], line 1\u001b[0m\n\u001b[1;32m----> 1\u001b[0m df \u001b[38;5;241m=\u001b[39m \u001b[43mpd\u001b[49m\u001b[38;5;241;43m.\u001b[39;49m\u001b[43mDataFrame\u001b[49m\u001b[43m(\u001b[49m\u001b[43mcar_prices\u001b[49m\u001b[43m)\u001b[49m\n",
      "File \u001b[1;32m~\\AppData\\Local\\Programs\\Python\\Python311\\Lib\\site-packages\\pandas\\core\\frame.py:778\u001b[0m, in \u001b[0;36mDataFrame.__init__\u001b[1;34m(self, data, index, columns, dtype, copy)\u001b[0m\n\u001b[0;32m    772\u001b[0m     mgr \u001b[38;5;241m=\u001b[39m \u001b[38;5;28mself\u001b[39m\u001b[38;5;241m.\u001b[39m_init_mgr(\n\u001b[0;32m    773\u001b[0m         data, axes\u001b[38;5;241m=\u001b[39m{\u001b[38;5;124m\"\u001b[39m\u001b[38;5;124mindex\u001b[39m\u001b[38;5;124m\"\u001b[39m: index, \u001b[38;5;124m\"\u001b[39m\u001b[38;5;124mcolumns\u001b[39m\u001b[38;5;124m\"\u001b[39m: columns}, dtype\u001b[38;5;241m=\u001b[39mdtype, copy\u001b[38;5;241m=\u001b[39mcopy\n\u001b[0;32m    774\u001b[0m     )\n\u001b[0;32m    776\u001b[0m \u001b[38;5;28;01melif\u001b[39;00m \u001b[38;5;28misinstance\u001b[39m(data, \u001b[38;5;28mdict\u001b[39m):\n\u001b[0;32m    777\u001b[0m     \u001b[38;5;66;03m# GH#38939 de facto copy defaults to False only in non-dict cases\u001b[39;00m\n\u001b[1;32m--> 778\u001b[0m     mgr \u001b[38;5;241m=\u001b[39m \u001b[43mdict_to_mgr\u001b[49m\u001b[43m(\u001b[49m\u001b[43mdata\u001b[49m\u001b[43m,\u001b[49m\u001b[43m \u001b[49m\u001b[43mindex\u001b[49m\u001b[43m,\u001b[49m\u001b[43m \u001b[49m\u001b[43mcolumns\u001b[49m\u001b[43m,\u001b[49m\u001b[43m \u001b[49m\u001b[43mdtype\u001b[49m\u001b[38;5;241;43m=\u001b[39;49m\u001b[43mdtype\u001b[49m\u001b[43m,\u001b[49m\u001b[43m \u001b[49m\u001b[43mcopy\u001b[49m\u001b[38;5;241;43m=\u001b[39;49m\u001b[43mcopy\u001b[49m\u001b[43m,\u001b[49m\u001b[43m \u001b[49m\u001b[43mtyp\u001b[49m\u001b[38;5;241;43m=\u001b[39;49m\u001b[43mmanager\u001b[49m\u001b[43m)\u001b[49m\n\u001b[0;32m    779\u001b[0m \u001b[38;5;28;01melif\u001b[39;00m \u001b[38;5;28misinstance\u001b[39m(data, ma\u001b[38;5;241m.\u001b[39mMaskedArray):\n\u001b[0;32m    780\u001b[0m     \u001b[38;5;28;01mfrom\u001b[39;00m \u001b[38;5;21;01mnumpy\u001b[39;00m\u001b[38;5;21;01m.\u001b[39;00m\u001b[38;5;21;01mma\u001b[39;00m \u001b[38;5;28;01mimport\u001b[39;00m mrecords\n",
      "File \u001b[1;32m~\\AppData\\Local\\Programs\\Python\\Python311\\Lib\\site-packages\\pandas\\core\\internals\\construction.py:503\u001b[0m, in \u001b[0;36mdict_to_mgr\u001b[1;34m(data, index, columns, dtype, typ, copy)\u001b[0m\n\u001b[0;32m    499\u001b[0m     \u001b[38;5;28;01melse\u001b[39;00m:\n\u001b[0;32m    500\u001b[0m         \u001b[38;5;66;03m# dtype check to exclude e.g. range objects, scalars\u001b[39;00m\n\u001b[0;32m    501\u001b[0m         arrays \u001b[38;5;241m=\u001b[39m [x\u001b[38;5;241m.\u001b[39mcopy() \u001b[38;5;28;01mif\u001b[39;00m \u001b[38;5;28mhasattr\u001b[39m(x, \u001b[38;5;124m\"\u001b[39m\u001b[38;5;124mdtype\u001b[39m\u001b[38;5;124m\"\u001b[39m) \u001b[38;5;28;01melse\u001b[39;00m x \u001b[38;5;28;01mfor\u001b[39;00m x \u001b[38;5;129;01min\u001b[39;00m arrays]\n\u001b[1;32m--> 503\u001b[0m \u001b[38;5;28;01mreturn\u001b[39;00m \u001b[43marrays_to_mgr\u001b[49m\u001b[43m(\u001b[49m\u001b[43marrays\u001b[49m\u001b[43m,\u001b[49m\u001b[43m \u001b[49m\u001b[43mcolumns\u001b[49m\u001b[43m,\u001b[49m\u001b[43m \u001b[49m\u001b[43mindex\u001b[49m\u001b[43m,\u001b[49m\u001b[43m \u001b[49m\u001b[43mdtype\u001b[49m\u001b[38;5;241;43m=\u001b[39;49m\u001b[43mdtype\u001b[49m\u001b[43m,\u001b[49m\u001b[43m \u001b[49m\u001b[43mtyp\u001b[49m\u001b[38;5;241;43m=\u001b[39;49m\u001b[43mtyp\u001b[49m\u001b[43m,\u001b[49m\u001b[43m \u001b[49m\u001b[43mconsolidate\u001b[49m\u001b[38;5;241;43m=\u001b[39;49m\u001b[43mcopy\u001b[49m\u001b[43m)\u001b[49m\n",
      "File \u001b[1;32m~\\AppData\\Local\\Programs\\Python\\Python311\\Lib\\site-packages\\pandas\\core\\internals\\construction.py:114\u001b[0m, in \u001b[0;36marrays_to_mgr\u001b[1;34m(arrays, columns, index, dtype, verify_integrity, typ, consolidate)\u001b[0m\n\u001b[0;32m    111\u001b[0m \u001b[38;5;28;01mif\u001b[39;00m verify_integrity:\n\u001b[0;32m    112\u001b[0m     \u001b[38;5;66;03m# figure out the index, if necessary\u001b[39;00m\n\u001b[0;32m    113\u001b[0m     \u001b[38;5;28;01mif\u001b[39;00m index \u001b[38;5;129;01mis\u001b[39;00m \u001b[38;5;28;01mNone\u001b[39;00m:\n\u001b[1;32m--> 114\u001b[0m         index \u001b[38;5;241m=\u001b[39m \u001b[43m_extract_index\u001b[49m\u001b[43m(\u001b[49m\u001b[43marrays\u001b[49m\u001b[43m)\u001b[49m\n\u001b[0;32m    115\u001b[0m     \u001b[38;5;28;01melse\u001b[39;00m:\n\u001b[0;32m    116\u001b[0m         index \u001b[38;5;241m=\u001b[39m ensure_index(index)\n",
      "File \u001b[1;32m~\\AppData\\Local\\Programs\\Python\\Python311\\Lib\\site-packages\\pandas\\core\\internals\\construction.py:667\u001b[0m, in \u001b[0;36m_extract_index\u001b[1;34m(data)\u001b[0m\n\u001b[0;32m    664\u001b[0m         \u001b[38;5;28;01mraise\u001b[39;00m \u001b[38;5;167;01mValueError\u001b[39;00m(\u001b[38;5;124m\"\u001b[39m\u001b[38;5;124mPer-column arrays must each be 1-dimensional\u001b[39m\u001b[38;5;124m\"\u001b[39m)\n\u001b[0;32m    666\u001b[0m \u001b[38;5;28;01mif\u001b[39;00m \u001b[38;5;129;01mnot\u001b[39;00m indexes \u001b[38;5;129;01mand\u001b[39;00m \u001b[38;5;129;01mnot\u001b[39;00m raw_lengths:\n\u001b[1;32m--> 667\u001b[0m     \u001b[38;5;28;01mraise\u001b[39;00m \u001b[38;5;167;01mValueError\u001b[39;00m(\u001b[38;5;124m\"\u001b[39m\u001b[38;5;124mIf using all scalar values, you must pass an index\u001b[39m\u001b[38;5;124m\"\u001b[39m)\n\u001b[0;32m    669\u001b[0m \u001b[38;5;28;01mif\u001b[39;00m have_series:\n\u001b[0;32m    670\u001b[0m     index \u001b[38;5;241m=\u001b[39m union_indexes(indexes)\n",
      "\u001b[1;31mValueError\u001b[0m: If using all scalar values, you must pass an index"
     ]
    }
   ],
   "source": [
    "df = pd.DataFrame(car_prices)"
   ]
  },
  {
   "cell_type": "code",
   "execution_count": 52,
   "id": "e9b90f4b",
   "metadata": {},
   "outputs": [
    {
     "data": {
      "text/plain": [
       "{'Swift': 750000,\n",
       " 'Santro': 390000,\n",
       " 'Audi': 5570000,\n",
       " 'Creta': 1780000,\n",
       " 'Bolero': 1091000}"
      ]
     },
     "execution_count": 52,
     "metadata": {},
     "output_type": "execute_result"
    }
   ],
   "source": [
    "car_prices"
   ]
  },
  {
   "cell_type": "code",
   "execution_count": 55,
   "id": "f451336d",
   "metadata": {},
   "outputs": [],
   "source": [
    "# solution of above error\n",
    "df = pd.DataFrame(car_prices, index = [\"A\"])"
   ]
  },
  {
   "cell_type": "code",
   "execution_count": 56,
   "id": "06355248",
   "metadata": {},
   "outputs": [
    {
     "data": {
      "text/html": [
       "<div>\n",
       "<style scoped>\n",
       "    .dataframe tbody tr th:only-of-type {\n",
       "        vertical-align: middle;\n",
       "    }\n",
       "\n",
       "    .dataframe tbody tr th {\n",
       "        vertical-align: top;\n",
       "    }\n",
       "\n",
       "    .dataframe thead th {\n",
       "        text-align: right;\n",
       "    }\n",
       "</style>\n",
       "<table border=\"1\" class=\"dataframe\">\n",
       "  <thead>\n",
       "    <tr style=\"text-align: right;\">\n",
       "      <th></th>\n",
       "      <th>Swift</th>\n",
       "      <th>Santro</th>\n",
       "      <th>Audi</th>\n",
       "      <th>Creta</th>\n",
       "      <th>Bolero</th>\n",
       "    </tr>\n",
       "  </thead>\n",
       "  <tbody>\n",
       "    <tr>\n",
       "      <th>A</th>\n",
       "      <td>750000</td>\n",
       "      <td>390000</td>\n",
       "      <td>5570000</td>\n",
       "      <td>1780000</td>\n",
       "      <td>1091000</td>\n",
       "    </tr>\n",
       "  </tbody>\n",
       "</table>\n",
       "</div>"
      ],
      "text/plain": [
       "    Swift  Santro     Audi    Creta   Bolero\n",
       "A  750000  390000  5570000  1780000  1091000"
      ]
     },
     "execution_count": 56,
     "metadata": {},
     "output_type": "execute_result"
    }
   ],
   "source": [
    "df"
   ]
  },
  {
   "cell_type": "code",
   "execution_count": 57,
   "id": "19d5bb94",
   "metadata": {},
   "outputs": [
    {
     "data": {
      "text/plain": [
       "{'Swift': 750000,\n",
       " 'Santro': 390000,\n",
       " 'Audi': 5570000,\n",
       " 'Creta': 1780000,\n",
       " 'Bolero': 1091000}"
      ]
     },
     "execution_count": 57,
     "metadata": {},
     "output_type": "execute_result"
    }
   ],
   "source": [
    "car_prices"
   ]
  },
  {
   "cell_type": "code",
   "execution_count": 59,
   "id": "6a44b9a1",
   "metadata": {},
   "outputs": [
    {
     "data": {
      "text/plain": [
       "dict_values([750000, 390000, 5570000, 1780000, 1091000])"
      ]
     },
     "execution_count": 59,
     "metadata": {},
     "output_type": "execute_result"
    }
   ],
   "source": [
    "car_prices.values()"
   ]
  },
  {
   "cell_type": "code",
   "execution_count": 68,
   "id": "d41605d3",
   "metadata": {},
   "outputs": [],
   "source": [
    "car_dict = dict(map(lambda x : (x[0],[x[1]]), zip(carnames,prices)))"
   ]
  },
  {
   "cell_type": "code",
   "execution_count": 67,
   "id": "86dc5421",
   "metadata": {},
   "outputs": [
    {
     "name": "stdout",
     "output_type": "stream",
     "text": [
      "{'Swift': [750000]}\n",
      "{'Santro': [390000]}\n",
      "{'Audi': [5570000]}\n",
      "{'Creta': [1780000]}\n",
      "{'Bolero': [1091000]}\n"
     ]
    }
   ],
   "source": [
    "for key, value in car_prices.items():\n",
    "    print({key : [value]})"
   ]
  },
  {
   "cell_type": "code",
   "execution_count": 69,
   "id": "d90b6cc0",
   "metadata": {},
   "outputs": [
    {
     "data": {
      "text/html": [
       "<div>\n",
       "<style scoped>\n",
       "    .dataframe tbody tr th:only-of-type {\n",
       "        vertical-align: middle;\n",
       "    }\n",
       "\n",
       "    .dataframe tbody tr th {\n",
       "        vertical-align: top;\n",
       "    }\n",
       "\n",
       "    .dataframe thead th {\n",
       "        text-align: right;\n",
       "    }\n",
       "</style>\n",
       "<table border=\"1\" class=\"dataframe\">\n",
       "  <thead>\n",
       "    <tr style=\"text-align: right;\">\n",
       "      <th></th>\n",
       "      <th>Swift</th>\n",
       "      <th>Santro</th>\n",
       "      <th>Audi</th>\n",
       "      <th>Creta</th>\n",
       "      <th>Bolero</th>\n",
       "    </tr>\n",
       "  </thead>\n",
       "  <tbody>\n",
       "    <tr>\n",
       "      <th>0</th>\n",
       "      <td>750000</td>\n",
       "      <td>390000</td>\n",
       "      <td>5570000</td>\n",
       "      <td>1780000</td>\n",
       "      <td>1091000</td>\n",
       "    </tr>\n",
       "  </tbody>\n",
       "</table>\n",
       "</div>"
      ],
      "text/plain": [
       "    Swift  Santro     Audi    Creta   Bolero\n",
       "0  750000  390000  5570000  1780000  1091000"
      ]
     },
     "execution_count": 69,
     "metadata": {},
     "output_type": "execute_result"
    }
   ],
   "source": [
    "pd.DataFrame(car_dict)"
   ]
  },
  {
   "cell_type": "code",
   "execution_count": 70,
   "id": "048863b4",
   "metadata": {},
   "outputs": [],
   "source": [
    "employee = {\"Name\" : \"Aman\"}"
   ]
  },
  {
   "cell_type": "code",
   "execution_count": 73,
   "id": "a1d5d112",
   "metadata": {},
   "outputs": [
    {
     "data": {
      "text/html": [
       "<div>\n",
       "<style scoped>\n",
       "    .dataframe tbody tr th:only-of-type {\n",
       "        vertical-align: middle;\n",
       "    }\n",
       "\n",
       "    .dataframe tbody tr th {\n",
       "        vertical-align: top;\n",
       "    }\n",
       "\n",
       "    .dataframe thead th {\n",
       "        text-align: right;\n",
       "    }\n",
       "</style>\n",
       "<table border=\"1\" class=\"dataframe\">\n",
       "  <thead>\n",
       "    <tr style=\"text-align: right;\">\n",
       "      <th></th>\n",
       "      <th>Name</th>\n",
       "    </tr>\n",
       "  </thead>\n",
       "  <tbody>\n",
       "    <tr>\n",
       "      <th>A</th>\n",
       "      <td>Aman</td>\n",
       "    </tr>\n",
       "  </tbody>\n",
       "</table>\n",
       "</div>"
      ],
      "text/plain": [
       "   Name\n",
       "A  Aman"
      ]
     },
     "execution_count": 73,
     "metadata": {},
     "output_type": "execute_result"
    }
   ],
   "source": [
    "pd.DataFrame(employee, index = [\"A\"])"
   ]
  },
  {
   "cell_type": "code",
   "execution_count": 74,
   "id": "fc392d92",
   "metadata": {},
   "outputs": [
    {
     "data": {
      "text/html": [
       "<div>\n",
       "<style scoped>\n",
       "    .dataframe tbody tr th:only-of-type {\n",
       "        vertical-align: middle;\n",
       "    }\n",
       "\n",
       "    .dataframe tbody tr th {\n",
       "        vertical-align: top;\n",
       "    }\n",
       "\n",
       "    .dataframe thead th {\n",
       "        text-align: right;\n",
       "    }\n",
       "</style>\n",
       "<table border=\"1\" class=\"dataframe\">\n",
       "  <thead>\n",
       "    <tr style=\"text-align: right;\">\n",
       "      <th></th>\n",
       "      <th>Name</th>\n",
       "    </tr>\n",
       "  </thead>\n",
       "  <tbody>\n",
       "    <tr>\n",
       "      <th>0</th>\n",
       "      <td>Aman</td>\n",
       "    </tr>\n",
       "  </tbody>\n",
       "</table>\n",
       "</div>"
      ],
      "text/plain": [
       "   Name\n",
       "0  Aman"
      ]
     },
     "execution_count": 74,
     "metadata": {},
     "output_type": "execute_result"
    }
   ],
   "source": [
    "employee = {\"Name\" : [\"Aman\"]}\n",
    "pd.DataFrame(employee)"
   ]
  },
  {
   "cell_type": "code",
   "execution_count": 77,
   "id": "c19faca5",
   "metadata": {},
   "outputs": [],
   "source": [
    "EmployeeDb = {\"Name\" : [\"Ankit\",\"Aman\",\"Abhishek\",\"Manya\",\"Sugandha\"],\n",
    "             \"Salary\" : [10000,11000,9000,3000,40000]}"
   ]
  },
  {
   "cell_type": "code",
   "execution_count": 78,
   "id": "e8dfb19f",
   "metadata": {},
   "outputs": [
    {
     "data": {
      "text/html": [
       "<div>\n",
       "<style scoped>\n",
       "    .dataframe tbody tr th:only-of-type {\n",
       "        vertical-align: middle;\n",
       "    }\n",
       "\n",
       "    .dataframe tbody tr th {\n",
       "        vertical-align: top;\n",
       "    }\n",
       "\n",
       "    .dataframe thead th {\n",
       "        text-align: right;\n",
       "    }\n",
       "</style>\n",
       "<table border=\"1\" class=\"dataframe\">\n",
       "  <thead>\n",
       "    <tr style=\"text-align: right;\">\n",
       "      <th></th>\n",
       "      <th>Name</th>\n",
       "      <th>Salary</th>\n",
       "    </tr>\n",
       "  </thead>\n",
       "  <tbody>\n",
       "    <tr>\n",
       "      <th>0</th>\n",
       "      <td>Ankit</td>\n",
       "      <td>10000</td>\n",
       "    </tr>\n",
       "    <tr>\n",
       "      <th>1</th>\n",
       "      <td>Aman</td>\n",
       "      <td>11000</td>\n",
       "    </tr>\n",
       "    <tr>\n",
       "      <th>2</th>\n",
       "      <td>Abhishek</td>\n",
       "      <td>9000</td>\n",
       "    </tr>\n",
       "    <tr>\n",
       "      <th>3</th>\n",
       "      <td>Manya</td>\n",
       "      <td>3000</td>\n",
       "    </tr>\n",
       "    <tr>\n",
       "      <th>4</th>\n",
       "      <td>Sugandha</td>\n",
       "      <td>40000</td>\n",
       "    </tr>\n",
       "  </tbody>\n",
       "</table>\n",
       "</div>"
      ],
      "text/plain": [
       "       Name  Salary\n",
       "0     Ankit   10000\n",
       "1      Aman   11000\n",
       "2  Abhishek    9000\n",
       "3     Manya    3000\n",
       "4  Sugandha   40000"
      ]
     },
     "execution_count": 78,
     "metadata": {},
     "output_type": "execute_result"
    }
   ],
   "source": [
    "pd.DataFrame(EmployeeDb)"
   ]
  },
  {
   "cell_type": "code",
   "execution_count": 79,
   "id": "c3b0fa4b",
   "metadata": {},
   "outputs": [],
   "source": [
    "import pandas as pd"
   ]
  },
  {
   "cell_type": "code",
   "execution_count": null,
   "id": "d6a1d346",
   "metadata": {},
   "outputs": [],
   "source": [
    "# !pip uninstall pandas\n",
    "# !pip install pandas\n",
    "# !pip install pandas==1.21.3"
   ]
  },
  {
   "cell_type": "code",
   "execution_count": null,
   "id": "6cdd9332",
   "metadata": {},
   "outputs": [],
   "source": [
    "# Reading the data from different-2 sources"
   ]
  },
  {
   "cell_type": "markdown",
   "id": "13cdcdcb",
   "metadata": {},
   "source": [
    "### OS Module:"
   ]
  },
  {
   "cell_type": "markdown",
   "id": "43307402",
   "metadata": {},
   "source": [
    "https://youtu.be/Tp4qTuHROX4?si=fhivb5hODcoHkXat"
   ]
  },
  {
   "cell_type": "code",
   "execution_count": 80,
   "id": "7296c715",
   "metadata": {},
   "outputs": [],
   "source": [
    "import os"
   ]
  },
  {
   "cell_type": "code",
   "execution_count": 81,
   "id": "0947b39b",
   "metadata": {},
   "outputs": [
    {
     "data": {
      "text/plain": [
       "'C:\\\\Users\\\\AEPAC\\\\Desktop\\\\KnowledgeHut\\\\2024\\\\2024_KnowledgeHut\\\\Data Analyst (MID - 14th Sep)\\\\Python\\\\13th Oct - Python Lambda and Modules - Pandas'"
      ]
     },
     "execution_count": 81,
     "metadata": {},
     "output_type": "execute_result"
    }
   ],
   "source": [
    "os.getcwd()"
   ]
  },
  {
   "cell_type": "code",
   "execution_count": 82,
   "id": "274eb836",
   "metadata": {},
   "outputs": [
    {
     "data": {
      "text/plain": [
       "['.ipynb_checkpoints',\n",
       " '2015.csv',\n",
       " 'breast_cancer.txt',\n",
       " 'EmployeeDB.csv',\n",
       " 'gnp - Copy.sas7bdat',\n",
       " 'iris.json',\n",
       " 'Lambda function.ipynb',\n",
       " 'Python Pandas - Data Analysis Journey.ipynb',\n",
       " 'Superstore.xls']"
      ]
     },
     "execution_count": 82,
     "metadata": {},
     "output_type": "execute_result"
    }
   ],
   "source": [
    "os.listdir()"
   ]
  },
  {
   "cell_type": "code",
   "execution_count": 83,
   "id": "566b91f5",
   "metadata": {},
   "outputs": [],
   "source": [
    "df_csv = pd.read_csv(\"EmployeeDB.csv\")"
   ]
  },
  {
   "cell_type": "code",
   "execution_count": 84,
   "id": "ae3bcc66",
   "metadata": {},
   "outputs": [
    {
     "data": {
      "text/html": [
       "<div>\n",
       "<style scoped>\n",
       "    .dataframe tbody tr th:only-of-type {\n",
       "        vertical-align: middle;\n",
       "    }\n",
       "\n",
       "    .dataframe tbody tr th {\n",
       "        vertical-align: top;\n",
       "    }\n",
       "\n",
       "    .dataframe thead th {\n",
       "        text-align: right;\n",
       "    }\n",
       "</style>\n",
       "<table border=\"1\" class=\"dataframe\">\n",
       "  <thead>\n",
       "    <tr style=\"text-align: right;\">\n",
       "      <th></th>\n",
       "      <th>EmpID</th>\n",
       "      <th>FirstName</th>\n",
       "      <th>LastName</th>\n",
       "      <th>Education</th>\n",
       "      <th>Occupation</th>\n",
       "      <th>Grade</th>\n",
       "      <th>YearlyIncome</th>\n",
       "      <th>Sales</th>\n",
       "      <th>HireDate</th>\n",
       "      <th>DeptID</th>\n",
       "    </tr>\n",
       "  </thead>\n",
       "  <tbody>\n",
       "    <tr>\n",
       "      <th>0</th>\n",
       "      <td>1870</td>\n",
       "      <td>Annie</td>\n",
       "      <td>Jenkins</td>\n",
       "      <td>Bachelors</td>\n",
       "      <td>Management</td>\n",
       "      <td>A</td>\n",
       "      <td>35000</td>\n",
       "      <td>4650</td>\n",
       "      <td>1899-12-30 00:00:00.000</td>\n",
       "      <td>9</td>\n",
       "    </tr>\n",
       "    <tr>\n",
       "      <th>1</th>\n",
       "      <td>8843</td>\n",
       "      <td>Benjamin</td>\n",
       "      <td>Willis</td>\n",
       "      <td>Master Degree</td>\n",
       "      <td>Professional</td>\n",
       "      <td>B</td>\n",
       "      <td>50000</td>\n",
       "      <td>4093</td>\n",
       "      <td>1899-12-30 00:00:00.000</td>\n",
       "      <td>8</td>\n",
       "    </tr>\n",
       "    <tr>\n",
       "      <th>2</th>\n",
       "      <td>3727</td>\n",
       "      <td>Christopher</td>\n",
       "      <td>Oliver</td>\n",
       "      <td>High School</td>\n",
       "      <td>Management</td>\n",
       "      <td>B</td>\n",
       "      <td>50000</td>\n",
       "      <td>5555</td>\n",
       "      <td>1899-12-30 00:00:00.000</td>\n",
       "      <td>4</td>\n",
       "    </tr>\n",
       "    <tr>\n",
       "      <th>3</th>\n",
       "      <td>9641</td>\n",
       "      <td>Kimberly</td>\n",
       "      <td>Coleman</td>\n",
       "      <td>Intermediate</td>\n",
       "      <td>Professional</td>\n",
       "      <td>D</td>\n",
       "      <td>50000</td>\n",
       "      <td>3248</td>\n",
       "      <td>1899-12-30 00:00:00.000</td>\n",
       "      <td>7</td>\n",
       "    </tr>\n",
       "    <tr>\n",
       "      <th>4</th>\n",
       "      <td>1171</td>\n",
       "      <td>Judy</td>\n",
       "      <td>Sanchez</td>\n",
       "      <td>Master Degree</td>\n",
       "      <td>Professional</td>\n",
       "      <td>D</td>\n",
       "      <td>70000</td>\n",
       "      <td>3014</td>\n",
       "      <td>1899-12-30 00:00:00.000</td>\n",
       "      <td>4</td>\n",
       "    </tr>\n",
       "  </tbody>\n",
       "</table>\n",
       "</div>"
      ],
      "text/plain": [
       "   EmpID    FirstName LastName      Education    Occupation Grade  \\\n",
       "0   1870        Annie  Jenkins      Bachelors    Management     A   \n",
       "1   8843     Benjamin   Willis  Master Degree  Professional     B   \n",
       "2   3727  Christopher   Oliver    High School    Management     B   \n",
       "3   9641     Kimberly  Coleman   Intermediate  Professional     D   \n",
       "4   1171         Judy  Sanchez  Master Degree  Professional     D   \n",
       "\n",
       "   YearlyIncome  Sales                 HireDate  DeptID  \n",
       "0         35000   4650  1899-12-30 00:00:00.000       9  \n",
       "1         50000   4093  1899-12-30 00:00:00.000       8  \n",
       "2         50000   5555  1899-12-30 00:00:00.000       4  \n",
       "3         50000   3248  1899-12-30 00:00:00.000       7  \n",
       "4         70000   3014  1899-12-30 00:00:00.000       4  "
      ]
     },
     "execution_count": 84,
     "metadata": {},
     "output_type": "execute_result"
    }
   ],
   "source": [
    "# can you display first 5 records\n",
    "df_csv.head()"
   ]
  },
  {
   "cell_type": "code",
   "execution_count": 85,
   "id": "60703df1",
   "metadata": {},
   "outputs": [
    {
     "data": {
      "text/plain": [
       "(17, 10)"
      ]
     },
     "execution_count": 85,
     "metadata": {},
     "output_type": "execute_result"
    }
   ],
   "source": [
    "df_csv.shape"
   ]
  },
  {
   "cell_type": "code",
   "execution_count": 86,
   "id": "d89b40a2",
   "metadata": {},
   "outputs": [],
   "source": [
    "excel = pd.read_excel(\"Superstore.xls\")"
   ]
  },
  {
   "cell_type": "code",
   "execution_count": 87,
   "id": "cd5bbaa0",
   "metadata": {},
   "outputs": [
    {
     "data": {
      "text/plain": [
       "(9994, 21)"
      ]
     },
     "execution_count": 87,
     "metadata": {},
     "output_type": "execute_result"
    }
   ],
   "source": [
    "excel.shape"
   ]
  },
  {
   "cell_type": "code",
   "execution_count": 88,
   "id": "77a4a11b",
   "metadata": {},
   "outputs": [
    {
     "data": {
      "text/html": [
       "<div>\n",
       "<style scoped>\n",
       "    .dataframe tbody tr th:only-of-type {\n",
       "        vertical-align: middle;\n",
       "    }\n",
       "\n",
       "    .dataframe tbody tr th {\n",
       "        vertical-align: top;\n",
       "    }\n",
       "\n",
       "    .dataframe thead th {\n",
       "        text-align: right;\n",
       "    }\n",
       "</style>\n",
       "<table border=\"1\" class=\"dataframe\">\n",
       "  <thead>\n",
       "    <tr style=\"text-align: right;\">\n",
       "      <th></th>\n",
       "      <th>Row ID</th>\n",
       "      <th>Order ID</th>\n",
       "      <th>Order Date</th>\n",
       "      <th>Ship Date</th>\n",
       "      <th>Ship Mode</th>\n",
       "      <th>Customer ID</th>\n",
       "      <th>Customer Name</th>\n",
       "      <th>Segment</th>\n",
       "      <th>Country</th>\n",
       "      <th>City</th>\n",
       "      <th>...</th>\n",
       "      <th>Postal Code</th>\n",
       "      <th>Region</th>\n",
       "      <th>Product ID</th>\n",
       "      <th>Category</th>\n",
       "      <th>Sub-Category</th>\n",
       "      <th>Product Name</th>\n",
       "      <th>Sales</th>\n",
       "      <th>Quantity</th>\n",
       "      <th>Discount</th>\n",
       "      <th>Profit</th>\n",
       "    </tr>\n",
       "  </thead>\n",
       "  <tbody>\n",
       "    <tr>\n",
       "      <th>0</th>\n",
       "      <td>1</td>\n",
       "      <td>CA-2016-152156</td>\n",
       "      <td>2016-11-08</td>\n",
       "      <td>2016-11-11</td>\n",
       "      <td>Second Class</td>\n",
       "      <td>CG-12520</td>\n",
       "      <td>Claire Gute</td>\n",
       "      <td>Consumer</td>\n",
       "      <td>United States</td>\n",
       "      <td>Henderson</td>\n",
       "      <td>...</td>\n",
       "      <td>42420</td>\n",
       "      <td>South</td>\n",
       "      <td>FUR-BO-10001798</td>\n",
       "      <td>Furniture</td>\n",
       "      <td>Bookcases</td>\n",
       "      <td>Bush Somerset Collection Bookcase</td>\n",
       "      <td>261.96</td>\n",
       "      <td>2</td>\n",
       "      <td>0.0</td>\n",
       "      <td>41.9136</td>\n",
       "    </tr>\n",
       "  </tbody>\n",
       "</table>\n",
       "<p>1 rows × 21 columns</p>\n",
       "</div>"
      ],
      "text/plain": [
       "   Row ID        Order ID Order Date  Ship Date     Ship Mode Customer ID  \\\n",
       "0       1  CA-2016-152156 2016-11-08 2016-11-11  Second Class    CG-12520   \n",
       "\n",
       "  Customer Name   Segment        Country       City  ... Postal Code  Region  \\\n",
       "0   Claire Gute  Consumer  United States  Henderson  ...       42420   South   \n",
       "\n",
       "        Product ID   Category Sub-Category                       Product Name  \\\n",
       "0  FUR-BO-10001798  Furniture    Bookcases  Bush Somerset Collection Bookcase   \n",
       "\n",
       "    Sales  Quantity  Discount   Profit  \n",
       "0  261.96         2       0.0  41.9136  \n",
       "\n",
       "[1 rows x 21 columns]"
      ]
     },
     "execution_count": 88,
     "metadata": {},
     "output_type": "execute_result"
    }
   ],
   "source": [
    "excel.head(1)"
   ]
  },
  {
   "cell_type": "code",
   "execution_count": 89,
   "id": "06f8c764",
   "metadata": {},
   "outputs": [],
   "source": [
    "txt = pd.read_csv(\"breast_cancer.txt\")"
   ]
  },
  {
   "cell_type": "code",
   "execution_count": 90,
   "id": "9f0a9f11",
   "metadata": {},
   "outputs": [
    {
     "data": {
      "text/html": [
       "<div>\n",
       "<style scoped>\n",
       "    .dataframe tbody tr th:only-of-type {\n",
       "        vertical-align: middle;\n",
       "    }\n",
       "\n",
       "    .dataframe tbody tr th {\n",
       "        vertical-align: top;\n",
       "    }\n",
       "\n",
       "    .dataframe thead th {\n",
       "        text-align: right;\n",
       "    }\n",
       "</style>\n",
       "<table border=\"1\" class=\"dataframe\">\n",
       "  <thead>\n",
       "    <tr style=\"text-align: right;\">\n",
       "      <th></th>\n",
       "      <th>id</th>\n",
       "      <th>clump_thickness</th>\n",
       "      <th>unif_cell_size</th>\n",
       "      <th>uniform_cell_shape</th>\n",
       "      <th>marginal_adhesion</th>\n",
       "      <th>single_epi_cell_size</th>\n",
       "      <th>bare_nuclei</th>\n",
       "      <th>bland_chromation</th>\n",
       "      <th>normal_nucleoli</th>\n",
       "      <th>mitoses</th>\n",
       "      <th>class</th>\n",
       "    </tr>\n",
       "  </thead>\n",
       "  <tbody>\n",
       "    <tr>\n",
       "      <th>0</th>\n",
       "      <td>1000025</td>\n",
       "      <td>5</td>\n",
       "      <td>1</td>\n",
       "      <td>1</td>\n",
       "      <td>1</td>\n",
       "      <td>2</td>\n",
       "      <td>1</td>\n",
       "      <td>3</td>\n",
       "      <td>1</td>\n",
       "      <td>1</td>\n",
       "      <td>2</td>\n",
       "    </tr>\n",
       "    <tr>\n",
       "      <th>1</th>\n",
       "      <td>1002945</td>\n",
       "      <td>5</td>\n",
       "      <td>4</td>\n",
       "      <td>4</td>\n",
       "      <td>5</td>\n",
       "      <td>7</td>\n",
       "      <td>10</td>\n",
       "      <td>3</td>\n",
       "      <td>2</td>\n",
       "      <td>1</td>\n",
       "      <td>2</td>\n",
       "    </tr>\n",
       "  </tbody>\n",
       "</table>\n",
       "</div>"
      ],
      "text/plain": [
       "        id  clump_thickness  unif_cell_size  uniform_cell_shape  \\\n",
       "0  1000025                5               1                   1   \n",
       "1  1002945                5               4                   4   \n",
       "\n",
       "   marginal_adhesion  single_epi_cell_size bare_nuclei  bland_chromation  \\\n",
       "0                  1                     2           1                 3   \n",
       "1                  5                     7          10                 3   \n",
       "\n",
       "   normal_nucleoli  mitoses  class  \n",
       "0                1        1      2  \n",
       "1                2        1      2  "
      ]
     },
     "execution_count": 90,
     "metadata": {},
     "output_type": "execute_result"
    }
   ],
   "source": [
    "txt.head(2)"
   ]
  },
  {
   "cell_type": "code",
   "execution_count": 91,
   "id": "3647df6e",
   "metadata": {},
   "outputs": [
    {
     "data": {
      "text/plain": [
       "(699, 11)"
      ]
     },
     "execution_count": 91,
     "metadata": {},
     "output_type": "execute_result"
    }
   ],
   "source": [
    "txt.shape"
   ]
  },
  {
   "cell_type": "markdown",
   "id": "5f2157a0",
   "metadata": {},
   "source": [
    "### JSON\n",
    "Java Script Object Notation (JSON) : Json data just like dictionary of Python."
   ]
  },
  {
   "cell_type": "code",
   "execution_count": 92,
   "id": "983d3a38",
   "metadata": {},
   "outputs": [],
   "source": [
    "json = pd.read_json(\"iris.json\")"
   ]
  },
  {
   "cell_type": "code",
   "execution_count": 93,
   "id": "bf27e952",
   "metadata": {},
   "outputs": [
    {
     "data": {
      "text/html": [
       "<div>\n",
       "<style scoped>\n",
       "    .dataframe tbody tr th:only-of-type {\n",
       "        vertical-align: middle;\n",
       "    }\n",
       "\n",
       "    .dataframe tbody tr th {\n",
       "        vertical-align: top;\n",
       "    }\n",
       "\n",
       "    .dataframe thead th {\n",
       "        text-align: right;\n",
       "    }\n",
       "</style>\n",
       "<table border=\"1\" class=\"dataframe\">\n",
       "  <thead>\n",
       "    <tr style=\"text-align: right;\">\n",
       "      <th></th>\n",
       "      <th>sepalLength</th>\n",
       "      <th>sepalWidth</th>\n",
       "      <th>petalLength</th>\n",
       "      <th>petalWidth</th>\n",
       "      <th>species</th>\n",
       "    </tr>\n",
       "  </thead>\n",
       "  <tbody>\n",
       "    <tr>\n",
       "      <th>0</th>\n",
       "      <td>5.1</td>\n",
       "      <td>3.5</td>\n",
       "      <td>1.4</td>\n",
       "      <td>0.2</td>\n",
       "      <td>setosa</td>\n",
       "    </tr>\n",
       "  </tbody>\n",
       "</table>\n",
       "</div>"
      ],
      "text/plain": [
       "   sepalLength  sepalWidth  petalLength  petalWidth species\n",
       "0          5.1         3.5          1.4         0.2  setosa"
      ]
     },
     "execution_count": 93,
     "metadata": {},
     "output_type": "execute_result"
    }
   ],
   "source": [
    "json.head(1)"
   ]
  },
  {
   "cell_type": "code",
   "execution_count": 94,
   "id": "52d5e9ca",
   "metadata": {},
   "outputs": [
    {
     "data": {
      "text/plain": [
       "(150, 5)"
      ]
     },
     "execution_count": 94,
     "metadata": {},
     "output_type": "execute_result"
    }
   ],
   "source": [
    "json.shape"
   ]
  },
  {
   "cell_type": "markdown",
   "id": "5d21796a",
   "metadata": {},
   "source": [
    "### SAS : Statistical Analysis Services"
   ]
  },
  {
   "cell_type": "code",
   "execution_count": 95,
   "id": "1ba06c7e",
   "metadata": {},
   "outputs": [],
   "source": [
    "sas = pd.read_sas(\"gnp - Copy.sas7bdat\")"
   ]
  },
  {
   "cell_type": "code",
   "execution_count": 96,
   "id": "37d57689",
   "metadata": {},
   "outputs": [
    {
     "data": {
      "text/html": [
       "<div>\n",
       "<style scoped>\n",
       "    .dataframe tbody tr th:only-of-type {\n",
       "        vertical-align: middle;\n",
       "    }\n",
       "\n",
       "    .dataframe tbody tr th {\n",
       "        vertical-align: top;\n",
       "    }\n",
       "\n",
       "    .dataframe thead th {\n",
       "        text-align: right;\n",
       "    }\n",
       "</style>\n",
       "<table border=\"1\" class=\"dataframe\">\n",
       "  <thead>\n",
       "    <tr style=\"text-align: right;\">\n",
       "      <th></th>\n",
       "      <th>DATE</th>\n",
       "      <th>GNP</th>\n",
       "      <th>CONSUMP</th>\n",
       "      <th>INVEST</th>\n",
       "      <th>EXPORTS</th>\n",
       "      <th>GOVT</th>\n",
       "    </tr>\n",
       "  </thead>\n",
       "  <tbody>\n",
       "    <tr>\n",
       "      <th>0</th>\n",
       "      <td>1960-01-01</td>\n",
       "      <td>516.1</td>\n",
       "      <td>325.5</td>\n",
       "      <td>88.7</td>\n",
       "      <td>4.3</td>\n",
       "      <td>97.6</td>\n",
       "    </tr>\n",
       "    <tr>\n",
       "      <th>1</th>\n",
       "      <td>1960-04-01</td>\n",
       "      <td>514.5</td>\n",
       "      <td>331.6</td>\n",
       "      <td>78.1</td>\n",
       "      <td>5.1</td>\n",
       "      <td>99.6</td>\n",
       "    </tr>\n",
       "  </tbody>\n",
       "</table>\n",
       "</div>"
      ],
      "text/plain": [
       "        DATE    GNP  CONSUMP  INVEST  EXPORTS  GOVT\n",
       "0 1960-01-01  516.1    325.5    88.7      4.3  97.6\n",
       "1 1960-04-01  514.5    331.6    78.1      5.1  99.6"
      ]
     },
     "execution_count": 96,
     "metadata": {},
     "output_type": "execute_result"
    }
   ],
   "source": [
    "sas.head(2)"
   ]
  },
  {
   "cell_type": "code",
   "execution_count": 97,
   "id": "bef3e487",
   "metadata": {},
   "outputs": [
    {
     "data": {
      "text/plain": [
       "(126, 6)"
      ]
     },
     "execution_count": 97,
     "metadata": {},
     "output_type": "execute_result"
    }
   ],
   "source": [
    "sas.shape"
   ]
  },
  {
   "cell_type": "code",
   "execution_count": 100,
   "id": "228ffa63",
   "metadata": {},
   "outputs": [],
   "source": [
    "clipboard = pd.read_clipboard()"
   ]
  },
  {
   "cell_type": "code",
   "execution_count": 101,
   "id": "00c8432a",
   "metadata": {},
   "outputs": [
    {
     "data": {
      "text/html": [
       "<div>\n",
       "<style scoped>\n",
       "    .dataframe tbody tr th:only-of-type {\n",
       "        vertical-align: middle;\n",
       "    }\n",
       "\n",
       "    .dataframe tbody tr th {\n",
       "        vertical-align: top;\n",
       "    }\n",
       "\n",
       "    .dataframe thead th {\n",
       "        text-align: right;\n",
       "    }\n",
       "</style>\n",
       "<table border=\"1\" class=\"dataframe\">\n",
       "  <thead>\n",
       "    <tr style=\"text-align: right;\">\n",
       "      <th></th>\n",
       "      <th>Order Date</th>\n",
       "      <th>Ship Date</th>\n",
       "      <th>Ship Mode</th>\n",
       "      <th>Customer ID</th>\n",
       "      <th>Customer Name</th>\n",
       "    </tr>\n",
       "  </thead>\n",
       "  <tbody>\n",
       "    <tr>\n",
       "      <th>0</th>\n",
       "      <td>11/8/2016</td>\n",
       "      <td>11/11/2016</td>\n",
       "      <td>Second Class</td>\n",
       "      <td>CG-12520</td>\n",
       "      <td>Claire Gute</td>\n",
       "    </tr>\n",
       "    <tr>\n",
       "      <th>1</th>\n",
       "      <td>11/8/2016</td>\n",
       "      <td>11/11/2016</td>\n",
       "      <td>Second Class</td>\n",
       "      <td>CG-12520</td>\n",
       "      <td>Claire Gute</td>\n",
       "    </tr>\n",
       "    <tr>\n",
       "      <th>2</th>\n",
       "      <td>6/12/2016</td>\n",
       "      <td>6/16/2016</td>\n",
       "      <td>Second Class</td>\n",
       "      <td>DV-13045</td>\n",
       "      <td>Darrin Van Huff</td>\n",
       "    </tr>\n",
       "  </tbody>\n",
       "</table>\n",
       "</div>"
      ],
      "text/plain": [
       "  Order Date   Ship Date     Ship Mode Customer ID    Customer Name\n",
       "0  11/8/2016  11/11/2016  Second Class    CG-12520      Claire Gute\n",
       "1  11/8/2016  11/11/2016  Second Class    CG-12520      Claire Gute\n",
       "2  6/12/2016   6/16/2016  Second Class    DV-13045  Darrin Van Huff"
      ]
     },
     "execution_count": 101,
     "metadata": {},
     "output_type": "execute_result"
    }
   ],
   "source": [
    "clipboard"
   ]
  },
  {
   "cell_type": "code",
   "execution_count": 104,
   "id": "a7f3a99c",
   "metadata": {},
   "outputs": [
    {
     "data": {
      "text/html": [
       "<div>\n",
       "<style scoped>\n",
       "    .dataframe tbody tr th:only-of-type {\n",
       "        vertical-align: middle;\n",
       "    }\n",
       "\n",
       "    .dataframe tbody tr th {\n",
       "        vertical-align: top;\n",
       "    }\n",
       "\n",
       "    .dataframe thead th {\n",
       "        text-align: right;\n",
       "    }\n",
       "</style>\n",
       "<table border=\"1\" class=\"dataframe\">\n",
       "  <thead>\n",
       "    <tr style=\"text-align: right;\">\n",
       "      <th></th>\n",
       "      <th>Ratan TataGBE AO</th>\n",
       "      <th>Ratan TataGBE AO.1</th>\n",
       "    </tr>\n",
       "  </thead>\n",
       "  <tbody>\n",
       "    <tr>\n",
       "      <th>0</th>\n",
       "      <td>Tata in 2005</td>\n",
       "      <td>Tata in 2005</td>\n",
       "    </tr>\n",
       "    <tr>\n",
       "      <th>1</th>\n",
       "      <td>Born</td>\n",
       "      <td>Ratan Naval Tata 28 December 1937 Bombay, Bomb...</td>\n",
       "    </tr>\n",
       "    <tr>\n",
       "      <th>2</th>\n",
       "      <td>Died</td>\n",
       "      <td>9 October 2024 (aged 86) Mumbai, Maharashtra, ...</td>\n",
       "    </tr>\n",
       "    <tr>\n",
       "      <th>3</th>\n",
       "      <td>Alma mater</td>\n",
       "      <td>Cornell University (BArch)</td>\n",
       "    </tr>\n",
       "    <tr>\n",
       "      <th>4</th>\n",
       "      <td>Occupations</td>\n",
       "      <td>IndustrialistPhilanthropist</td>\n",
       "    </tr>\n",
       "    <tr>\n",
       "      <th>5</th>\n",
       "      <td>Title</td>\n",
       "      <td>Chairman Emeritus, Tata Sons and Tata Group[1]</td>\n",
       "    </tr>\n",
       "    <tr>\n",
       "      <th>6</th>\n",
       "      <td>Term</td>\n",
       "      <td>1991–20122016–2017</td>\n",
       "    </tr>\n",
       "    <tr>\n",
       "      <th>7</th>\n",
       "      <td>Predecessor</td>\n",
       "      <td>J. R. D. Tata</td>\n",
       "    </tr>\n",
       "    <tr>\n",
       "      <th>8</th>\n",
       "      <td>Successor</td>\n",
       "      <td>Cyrus Mistry (2012–2016)Natarajan Chandrasekar...</td>\n",
       "    </tr>\n",
       "    <tr>\n",
       "      <th>9</th>\n",
       "      <td>Parents</td>\n",
       "      <td>Naval Tata (father)Sooni Commissariat (mother)</td>\n",
       "    </tr>\n",
       "    <tr>\n",
       "      <th>10</th>\n",
       "      <td>Relatives</td>\n",
       "      <td>Tata family</td>\n",
       "    </tr>\n",
       "    <tr>\n",
       "      <th>11</th>\n",
       "      <td>Awards</td>\n",
       "      <td>Order of Australia (2023)Assam Baibhav (2021)H...</td>\n",
       "    </tr>\n",
       "  </tbody>\n",
       "</table>\n",
       "</div>"
      ],
      "text/plain": [
       "   Ratan TataGBE AO                                 Ratan TataGBE AO.1\n",
       "0      Tata in 2005                                       Tata in 2005\n",
       "1              Born  Ratan Naval Tata 28 December 1937 Bombay, Bomb...\n",
       "2              Died  9 October 2024 (aged 86) Mumbai, Maharashtra, ...\n",
       "3        Alma mater                         Cornell University (BArch)\n",
       "4       Occupations                        IndustrialistPhilanthropist\n",
       "5             Title     Chairman Emeritus, Tata Sons and Tata Group[1]\n",
       "6              Term                                 1991–20122016–2017\n",
       "7       Predecessor                                      J. R. D. Tata\n",
       "8         Successor  Cyrus Mistry (2012–2016)Natarajan Chandrasekar...\n",
       "9           Parents     Naval Tata (father)Sooni Commissariat (mother)\n",
       "10        Relatives                                        Tata family\n",
       "11           Awards  Order of Australia (2023)Assam Baibhav (2021)H..."
      ]
     },
     "execution_count": 104,
     "metadata": {},
     "output_type": "execute_result"
    }
   ],
   "source": [
    "pd.read_html(r\"https://en.wikipedia.org/wiki/Ratan_Tata\")[0]"
   ]
  },
  {
   "cell_type": "markdown",
   "id": "8f16d3e5",
   "metadata": {},
   "source": [
    "* df.to_json\n",
    "* df.to_csv\n",
    "* df.to_sql\n",
    "* df.to_excel etc"
   ]
  },
  {
   "cell_type": "markdown",
   "id": "a6054e32",
   "metadata": {},
   "source": [
    "* DataFrame Operations\n",
    "* Pivot Table\n",
    "* Split, Apply, Combined, Join, Merge\n",
    "* Pandas Stats also"
   ]
  },
  {
   "cell_type": "code",
   "execution_count": null,
   "id": "633c6869",
   "metadata": {},
   "outputs": [],
   "source": []
  }
 ],
 "metadata": {
  "kernelspec": {
   "display_name": "Python 3 (ipykernel)",
   "language": "python",
   "name": "python3"
  },
  "language_info": {
   "codemirror_mode": {
    "name": "ipython",
    "version": 3
   },
   "file_extension": ".py",
   "mimetype": "text/x-python",
   "name": "python",
   "nbconvert_exporter": "python",
   "pygments_lexer": "ipython3",
   "version": "3.11.2"
  }
 },
 "nbformat": 4,
 "nbformat_minor": 5
}
