{
 "cells": [
  {
   "cell_type": "markdown",
   "id": "ec22dd0f",
   "metadata": {},
   "source": [
    "### Python Data Structure:\n",
    "\n",
    "Data structure is very essential part of Python programming. Using the data structure we can store any kind of data and we can transform as well if needed.\n",
    "\n",
    "\n",
    "### Type of Python Data Structure:\n",
    "* List\n",
    "* Tuple\n",
    "* Set\n",
    "* Dict"
   ]
  },
  {
   "cell_type": "markdown",
   "id": "3647254a",
   "metadata": {},
   "source": [
    "### List Data Structure:\n",
    "\n",
    "* Rules and guideline of List Data Structure:\n",
    "    * List is a <b> sequential or indexable</b> data structure (like string)\n",
    "    * List is a <b> mutable</b> data structure which means we can change the element if needed\n",
    "    * List elements are seperated by comma\n",
    "    * List can be created using <b> long bracket [] and using list function</b>\n",
    "    * We can store any kind of information within the list."
   ]
  },
  {
   "cell_type": "code",
   "execution_count": 1,
   "id": "11d6d45b",
   "metadata": {},
   "outputs": [
    {
     "name": "stdout",
     "output_type": "stream",
     "text": [
      "All Function from List:  ['append', 'clear', 'copy', 'count', 'extend', 'index', 'insert', 'pop', 'remove', 'reverse', 'sort']\n"
     ]
    }
   ],
   "source": [
    "print(\"All Function from List: \", [i for i in dir(list) if \"__\" not in i])"
   ]
  },
  {
   "cell_type": "markdown",
   "id": "06d46743",
   "metadata": {},
   "source": [
    "### Note:\n",
    "\n",
    "List, Set, Tuple, Dictionary, String etc are iterables (means where we can apply the loop), Numbers are not iterables."
   ]
  },
  {
   "cell_type": "code",
   "execution_count": 2,
   "id": "0a31f0a5",
   "metadata": {},
   "outputs": [],
   "source": [
    "lst = []"
   ]
  },
  {
   "cell_type": "code",
   "execution_count": 3,
   "id": "3d261bb9",
   "metadata": {},
   "outputs": [
    {
     "data": {
      "text/plain": [
       "list"
      ]
     },
     "execution_count": 3,
     "metadata": {},
     "output_type": "execute_result"
    }
   ],
   "source": [
    "type(lst)"
   ]
  },
  {
   "cell_type": "code",
   "execution_count": 4,
   "id": "510cfd28",
   "metadata": {},
   "outputs": [],
   "source": [
    "lst = list()"
   ]
  },
  {
   "cell_type": "code",
   "execution_count": 5,
   "id": "facd4f60",
   "metadata": {},
   "outputs": [
    {
     "data": {
      "text/plain": [
       "[]"
      ]
     },
     "execution_count": 5,
     "metadata": {},
     "output_type": "execute_result"
    }
   ],
   "source": [
    "lst"
   ]
  },
  {
   "cell_type": "code",
   "execution_count": 6,
   "id": "2c7dba64",
   "metadata": {},
   "outputs": [],
   "source": [
    "lst = [1,3,5,12.23,\"A\",\"B\",True,False]"
   ]
  },
  {
   "cell_type": "code",
   "execution_count": 7,
   "id": "6ba3b9bc",
   "metadata": {},
   "outputs": [
    {
     "name": "stdout",
     "output_type": "stream",
     "text": [
      "[1, 3, 5, 12.23, 'A', 'B', True, False]\n"
     ]
    }
   ],
   "source": [
    "print(lst)"
   ]
  },
  {
   "cell_type": "markdown",
   "id": "9ca0fcfa",
   "metadata": {},
   "source": [
    "### List is a mutable which we can change, append, remove, delete,insert etc"
   ]
  },
  {
   "cell_type": "code",
   "execution_count": 9,
   "id": "6537554b",
   "metadata": {},
   "outputs": [],
   "source": [
    "a = \"KnowledgeHut\""
   ]
  },
  {
   "cell_type": "code",
   "execution_count": 11,
   "id": "1927a2a4",
   "metadata": {},
   "outputs": [
    {
     "ename": "TypeError",
     "evalue": "'str' object does not support item assignment",
     "output_type": "error",
     "traceback": [
      "\u001b[1;31m---------------------------------------------------------------------------\u001b[0m",
      "\u001b[1;31mTypeError\u001b[0m                                 Traceback (most recent call last)",
      "Cell \u001b[1;32mIn[11], line 1\u001b[0m\n\u001b[1;32m----> 1\u001b[0m \u001b[43ma\u001b[49m\u001b[43m[\u001b[49m\u001b[38;5;241;43m-\u001b[39;49m\u001b[38;5;241;43m1\u001b[39;49m\u001b[43m]\u001b[49m \u001b[38;5;241m=\u001b[39m \u001b[38;5;124m\"\u001b[39m\u001b[38;5;124mA\u001b[39m\u001b[38;5;124m\"\u001b[39m\n",
      "\u001b[1;31mTypeError\u001b[0m: 'str' object does not support item assignment"
     ]
    }
   ],
   "source": [
    "a[-1] = \"A\""
   ]
  },
  {
   "cell_type": "code",
   "execution_count": 12,
   "id": "42a3f198",
   "metadata": {},
   "outputs": [
    {
     "data": {
      "text/plain": [
       "[1, 3, 5, 12.23, 'A', 'B', True, False]"
      ]
     },
     "execution_count": 12,
     "metadata": {},
     "output_type": "execute_result"
    }
   ],
   "source": [
    "lst"
   ]
  },
  {
   "cell_type": "code",
   "execution_count": 14,
   "id": "7bff675d",
   "metadata": {},
   "outputs": [],
   "source": [
    "lst[-3] = \"Bhagat\""
   ]
  },
  {
   "cell_type": "code",
   "execution_count": 15,
   "id": "52424990",
   "metadata": {},
   "outputs": [
    {
     "data": {
      "text/plain": [
       "[1, 3, 5, 12.23, 'A', 'Bhagat', True, False]"
      ]
     },
     "execution_count": 15,
     "metadata": {},
     "output_type": "execute_result"
    }
   ],
   "source": [
    "lst"
   ]
  },
  {
   "cell_type": "markdown",
   "id": "5bd7d881",
   "metadata": {},
   "source": [
    "### List Append Function\n",
    "\n",
    "Using 'append' function we can append an item (single item only) at the end of the list."
   ]
  },
  {
   "cell_type": "code",
   "execution_count": 16,
   "id": "5627ebf3",
   "metadata": {},
   "outputs": [
    {
     "data": {
      "text/plain": [
       "[1, 3, 5, 12.23, 'A', 'Bhagat', True, False]"
      ]
     },
     "execution_count": 16,
     "metadata": {},
     "output_type": "execute_result"
    }
   ],
   "source": [
    "lst"
   ]
  },
  {
   "cell_type": "code",
   "execution_count": 17,
   "id": "df73834b",
   "metadata": {},
   "outputs": [],
   "source": [
    "lst.append(\"Sohan\")"
   ]
  },
  {
   "cell_type": "code",
   "execution_count": 18,
   "id": "88b5b61d",
   "metadata": {},
   "outputs": [
    {
     "data": {
      "text/plain": [
       "[1, 3, 5, 12.23, 'A', 'Bhagat', True, False, 'Sohan']"
      ]
     },
     "execution_count": 18,
     "metadata": {},
     "output_type": "execute_result"
    }
   ],
   "source": [
    "lst"
   ]
  },
  {
   "cell_type": "code",
   "execution_count": 20,
   "id": "a1f261e3",
   "metadata": {},
   "outputs": [],
   "source": [
    "newlst = [\"Modi\",\"Biden\",\"Jocinda\"]"
   ]
  },
  {
   "cell_type": "code",
   "execution_count": 21,
   "id": "3b7d8911",
   "metadata": {},
   "outputs": [],
   "source": [
    "lst.append(newlst)"
   ]
  },
  {
   "cell_type": "code",
   "execution_count": 22,
   "id": "1b0e976f",
   "metadata": {},
   "outputs": [
    {
     "name": "stdout",
     "output_type": "stream",
     "text": [
      "[1, 3, 5, 12.23, 'A', 'Bhagat', True, False, 'Sohan', ['Modi', 'Biden', 'Jocinda']]\n"
     ]
    }
   ],
   "source": [
    "print(lst)"
   ]
  },
  {
   "cell_type": "code",
   "execution_count": 23,
   "id": "7558ac0b",
   "metadata": {},
   "outputs": [],
   "source": [
    "lst.append(100)"
   ]
  },
  {
   "cell_type": "code",
   "execution_count": 24,
   "id": "335f804e",
   "metadata": {},
   "outputs": [
    {
     "name": "stdout",
     "output_type": "stream",
     "text": [
      "[1, 3, 5, 12.23, 'A', 'Bhagat', True, False, 'Sohan', ['Modi', 'Biden', 'Jocinda'], 100]\n"
     ]
    }
   ],
   "source": [
    "print(lst)"
   ]
  },
  {
   "cell_type": "code",
   "execution_count": 27,
   "id": "ef8f73ad",
   "metadata": {},
   "outputs": [],
   "source": [
    "lst.append?"
   ]
  },
  {
   "cell_type": "code",
   "execution_count": 26,
   "id": "6484bbdc",
   "metadata": {},
   "outputs": [
    {
     "name": "stdout",
     "output_type": "stream",
     "text": [
      "Append object to the end of the list.\n"
     ]
    }
   ],
   "source": [
    "print(lst.append.__doc__)"
   ]
  },
  {
   "cell_type": "markdown",
   "id": "70e26d1e",
   "metadata": {},
   "source": [
    "### List Extend \n",
    "\n",
    "Using this function we can extend a existing list.\n",
    "\n",
    "Extend function can take as input iterable only (always)"
   ]
  },
  {
   "cell_type": "code",
   "execution_count": 28,
   "id": "62bda23e",
   "metadata": {},
   "outputs": [],
   "source": [
    "lst = [1,3,5,7]"
   ]
  },
  {
   "cell_type": "code",
   "execution_count": 29,
   "id": "9f423c30",
   "metadata": {},
   "outputs": [
    {
     "data": {
      "text/plain": [
       "[1, 3, 5, 7]"
      ]
     },
     "execution_count": 29,
     "metadata": {},
     "output_type": "execute_result"
    }
   ],
   "source": [
    "lst"
   ]
  },
  {
   "cell_type": "code",
   "execution_count": 30,
   "id": "8683c8ee",
   "metadata": {},
   "outputs": [
    {
     "ename": "TypeError",
     "evalue": "'int' object is not iterable",
     "output_type": "error",
     "traceback": [
      "\u001b[1;31m---------------------------------------------------------------------------\u001b[0m",
      "\u001b[1;31mTypeError\u001b[0m                                 Traceback (most recent call last)",
      "Cell \u001b[1;32mIn[30], line 1\u001b[0m\n\u001b[1;32m----> 1\u001b[0m \u001b[43mlst\u001b[49m\u001b[38;5;241;43m.\u001b[39;49m\u001b[43mextend\u001b[49m\u001b[43m(\u001b[49m\u001b[38;5;241;43m100\u001b[39;49m\u001b[43m)\u001b[49m\n",
      "\u001b[1;31mTypeError\u001b[0m: 'int' object is not iterable"
     ]
    }
   ],
   "source": [
    "lst.extend(100)"
   ]
  },
  {
   "cell_type": "code",
   "execution_count": 31,
   "id": "a5d48c9f",
   "metadata": {},
   "outputs": [],
   "source": [
    "lst.extend([100])"
   ]
  },
  {
   "cell_type": "code",
   "execution_count": 32,
   "id": "b3ee155d",
   "metadata": {},
   "outputs": [
    {
     "data": {
      "text/plain": [
       "[1, 3, 5, 7, 100]"
      ]
     },
     "execution_count": 32,
     "metadata": {},
     "output_type": "execute_result"
    }
   ],
   "source": [
    "lst"
   ]
  },
  {
   "cell_type": "code",
   "execution_count": 34,
   "id": "00145967",
   "metadata": {},
   "outputs": [
    {
     "data": {
      "text/plain": [
       "['Modi', 'Biden', 'Jocinda']"
      ]
     },
     "execution_count": 34,
     "metadata": {},
     "output_type": "execute_result"
    }
   ],
   "source": [
    "newlst"
   ]
  },
  {
   "cell_type": "code",
   "execution_count": 35,
   "id": "86daf472",
   "metadata": {},
   "outputs": [],
   "source": [
    "lst.extend(newlst)"
   ]
  },
  {
   "cell_type": "code",
   "execution_count": 36,
   "id": "a0a39d59",
   "metadata": {},
   "outputs": [
    {
     "name": "stdout",
     "output_type": "stream",
     "text": [
      "[1, 3, 5, 7, 100, 'Modi', 'Biden', 'Jocinda']\n"
     ]
    }
   ],
   "source": [
    "print(lst)"
   ]
  },
  {
   "cell_type": "code",
   "execution_count": 37,
   "id": "32abed85",
   "metadata": {},
   "outputs": [],
   "source": [
    "lst.extend(\"ARORA\")"
   ]
  },
  {
   "cell_type": "code",
   "execution_count": 38,
   "id": "de89ac31",
   "metadata": {},
   "outputs": [
    {
     "name": "stdout",
     "output_type": "stream",
     "text": [
      "[1, 3, 5, 7, 100, 'Modi', 'Biden', 'Jocinda', 'A', 'R', 'O', 'R', 'A']\n"
     ]
    }
   ],
   "source": [
    "print(lst)"
   ]
  },
  {
   "cell_type": "markdown",
   "id": "918e606c",
   "metadata": {},
   "source": [
    "### Difference between append and extend in list?"
   ]
  },
  {
   "cell_type": "markdown",
   "id": "3c0f66f5",
   "metadata": {},
   "source": [
    "### List Count"
   ]
  },
  {
   "cell_type": "code",
   "execution_count": 39,
   "id": "3f20e9fc",
   "metadata": {},
   "outputs": [
    {
     "data": {
      "text/plain": [
       "[1, 3, 5, 7, 100, 'Modi', 'Biden', 'Jocinda', 'A', 'R', 'O', 'R', 'A']"
      ]
     },
     "execution_count": 39,
     "metadata": {},
     "output_type": "execute_result"
    }
   ],
   "source": [
    "lst"
   ]
  },
  {
   "cell_type": "code",
   "execution_count": 40,
   "id": "b220ce39",
   "metadata": {},
   "outputs": [
    {
     "data": {
      "text/plain": [
       "2"
      ]
     },
     "execution_count": 40,
     "metadata": {},
     "output_type": "execute_result"
    }
   ],
   "source": [
    "lst.count(\"A\")"
   ]
  },
  {
   "cell_type": "code",
   "execution_count": 41,
   "id": "daf25da0",
   "metadata": {},
   "outputs": [
    {
     "data": {
      "text/plain": [
       "2"
      ]
     },
     "execution_count": 41,
     "metadata": {},
     "output_type": "execute_result"
    }
   ],
   "source": [
    "lst.count(\"R\")"
   ]
  },
  {
   "cell_type": "code",
   "execution_count": 42,
   "id": "b1be755f",
   "metadata": {},
   "outputs": [
    {
     "data": {
      "text/plain": [
       "1"
      ]
     },
     "execution_count": 42,
     "metadata": {},
     "output_type": "execute_result"
    }
   ],
   "source": [
    "lst.count(\"Modi\")"
   ]
  },
  {
   "cell_type": "code",
   "execution_count": 43,
   "id": "34e3c0df",
   "metadata": {},
   "outputs": [
    {
     "data": {
      "text/plain": [
       "0"
      ]
     },
     "execution_count": 43,
     "metadata": {},
     "output_type": "execute_result"
    }
   ],
   "source": [
    "lst.count(\"X\")"
   ]
  },
  {
   "cell_type": "code",
   "execution_count": 45,
   "id": "665dcec3",
   "metadata": {},
   "outputs": [],
   "source": [
    "lst.append(5)"
   ]
  },
  {
   "cell_type": "code",
   "execution_count": 46,
   "id": "37718191",
   "metadata": {},
   "outputs": [
    {
     "name": "stdout",
     "output_type": "stream",
     "text": [
      "[1, 3, 5, 7, 100, 'Modi', 'Biden', 'Jocinda', 'A', 'R', 'O', 'R', 'A', 5, 5]\n"
     ]
    }
   ],
   "source": [
    "print(lst)"
   ]
  },
  {
   "cell_type": "code",
   "execution_count": 47,
   "id": "c3bbe6f7",
   "metadata": {},
   "outputs": [
    {
     "data": {
      "text/plain": [
       "3"
      ]
     },
     "execution_count": 47,
     "metadata": {},
     "output_type": "execute_result"
    }
   ],
   "source": [
    "lst.count(5)"
   ]
  },
  {
   "cell_type": "markdown",
   "id": "74ab5e92",
   "metadata": {},
   "source": [
    "### List Index Function\n",
    "\n",
    "Using this function we can find the index of an element."
   ]
  },
  {
   "cell_type": "code",
   "execution_count": 48,
   "id": "348e2484",
   "metadata": {},
   "outputs": [
    {
     "data": {
      "text/plain": [
       "4"
      ]
     },
     "execution_count": 48,
     "metadata": {},
     "output_type": "execute_result"
    }
   ],
   "source": [
    "lst.index(100)"
   ]
  },
  {
   "cell_type": "code",
   "execution_count": 49,
   "id": "d23433b9",
   "metadata": {},
   "outputs": [
    {
     "data": {
      "text/plain": [
       "8"
      ]
     },
     "execution_count": 49,
     "metadata": {},
     "output_type": "execute_result"
    }
   ],
   "source": [
    "lst.index(\"A\")"
   ]
  },
  {
   "cell_type": "code",
   "execution_count": 50,
   "id": "9515bf08",
   "metadata": {},
   "outputs": [
    {
     "data": {
      "text/plain": [
       "8"
      ]
     },
     "execution_count": 50,
     "metadata": {},
     "output_type": "execute_result"
    }
   ],
   "source": [
    "lst.index(\"A\")"
   ]
  },
  {
   "cell_type": "code",
   "execution_count": 51,
   "id": "f0ce3a9a",
   "metadata": {},
   "outputs": [
    {
     "data": {
      "text/plain": [
       "12"
      ]
     },
     "execution_count": 51,
     "metadata": {},
     "output_type": "execute_result"
    }
   ],
   "source": [
    "lst.index(\"A\", lst.index(\"A\") + 1)"
   ]
  },
  {
   "cell_type": "code",
   "execution_count": 52,
   "id": "74e3bf57",
   "metadata": {},
   "outputs": [
    {
     "data": {
      "text/plain": [
       "'A'"
      ]
     },
     "execution_count": 52,
     "metadata": {},
     "output_type": "execute_result"
    }
   ],
   "source": [
    "lst[8]"
   ]
  },
  {
   "cell_type": "code",
   "execution_count": 53,
   "id": "0007ed9c",
   "metadata": {},
   "outputs": [
    {
     "data": {
      "text/plain": [
       "'A'"
      ]
     },
     "execution_count": 53,
     "metadata": {},
     "output_type": "execute_result"
    }
   ],
   "source": [
    "lst[12]"
   ]
  },
  {
   "cell_type": "code",
   "execution_count": 54,
   "id": "f726a9ae",
   "metadata": {},
   "outputs": [
    {
     "data": {
      "text/plain": [
       "100"
      ]
     },
     "execution_count": 54,
     "metadata": {},
     "output_type": "execute_result"
    }
   ],
   "source": [
    "lst[4]"
   ]
  },
  {
   "cell_type": "code",
   "execution_count": 55,
   "id": "13aa25ab",
   "metadata": {},
   "outputs": [
    {
     "data": {
      "text/plain": [
       "[1, 3, 5, 7, 100, 'Modi', 'Biden', 'Jocinda', 'A', 'R', 'O', 'R', 'A', 5, 5]"
      ]
     },
     "execution_count": 55,
     "metadata": {},
     "output_type": "execute_result"
    }
   ],
   "source": [
    "lst"
   ]
  },
  {
   "cell_type": "markdown",
   "id": "370876f2",
   "metadata": {},
   "source": [
    "### List Insert Function\n",
    "\n",
    "Using this function we can insert an object or item at the specified index position."
   ]
  },
  {
   "cell_type": "code",
   "execution_count": 56,
   "id": "c5e20823",
   "metadata": {},
   "outputs": [],
   "source": [
    "lst = [1, 3, 5, 7, 100, 'Modi', 'Biden', 'Jocinda']"
   ]
  },
  {
   "cell_type": "code",
   "execution_count": 57,
   "id": "d1c1b83c",
   "metadata": {},
   "outputs": [
    {
     "data": {
      "text/plain": [
       "[1, 3, 5, 7, 100, 'Modi', 'Biden', 'Jocinda']"
      ]
     },
     "execution_count": 57,
     "metadata": {},
     "output_type": "execute_result"
    }
   ],
   "source": [
    "lst"
   ]
  },
  {
   "cell_type": "code",
   "execution_count": 58,
   "id": "dc63e47a",
   "metadata": {},
   "outputs": [],
   "source": [
    "lst.insert(4, \"Manya\")"
   ]
  },
  {
   "cell_type": "code",
   "execution_count": 59,
   "id": "5286f45b",
   "metadata": {},
   "outputs": [
    {
     "data": {
      "text/plain": [
       "[1, 3, 5, 7, 'Manya', 100, 'Modi', 'Biden', 'Jocinda']"
      ]
     },
     "execution_count": 59,
     "metadata": {},
     "output_type": "execute_result"
    }
   ],
   "source": [
    "lst"
   ]
  },
  {
   "cell_type": "code",
   "execution_count": 61,
   "id": "27ede468",
   "metadata": {},
   "outputs": [
    {
     "data": {
      "text/plain": [
       "8"
      ]
     },
     "execution_count": 61,
     "metadata": {},
     "output_type": "execute_result"
    }
   ],
   "source": [
    "lst.index(\"Biden\") + 1"
   ]
  },
  {
   "cell_type": "code",
   "execution_count": 62,
   "id": "7994870e",
   "metadata": {},
   "outputs": [],
   "source": [
    "lst.insert(lst.index(\"Biden\") + 1,\"Abhishek\")"
   ]
  },
  {
   "cell_type": "code",
   "execution_count": 63,
   "id": "ec8e900c",
   "metadata": {},
   "outputs": [
    {
     "data": {
      "text/plain": [
       "[1, 3, 5, 7, 'Manya', 100, 'Modi', 'Biden', 'Abhishek', 'Jocinda']"
      ]
     },
     "execution_count": 63,
     "metadata": {},
     "output_type": "execute_result"
    }
   ],
   "source": [
    "lst"
   ]
  },
  {
   "cell_type": "code",
   "execution_count": 64,
   "id": "0caa0703",
   "metadata": {},
   "outputs": [],
   "source": [
    "lst.insert(-1,\"A\")"
   ]
  },
  {
   "cell_type": "code",
   "execution_count": 65,
   "id": "ee66e67b",
   "metadata": {},
   "outputs": [
    {
     "data": {
      "text/plain": [
       "[1, 3, 5, 7, 'Manya', 100, 'Modi', 'Biden', 'Abhishek', 'A', 'Jocinda']"
      ]
     },
     "execution_count": 65,
     "metadata": {},
     "output_type": "execute_result"
    }
   ],
   "source": [
    "lst"
   ]
  },
  {
   "cell_type": "code",
   "execution_count": 66,
   "id": "3e8ddcae",
   "metadata": {},
   "outputs": [],
   "source": [
    "lst.insert(-5,\"X\")"
   ]
  },
  {
   "cell_type": "code",
   "execution_count": 67,
   "id": "3a582b53",
   "metadata": {},
   "outputs": [
    {
     "data": {
      "text/plain": [
       "[1, 3, 5, 7, 'Manya', 100, 'X', 'Modi', 'Biden', 'Abhishek', 'A', 'Jocinda']"
      ]
     },
     "execution_count": 67,
     "metadata": {},
     "output_type": "execute_result"
    }
   ],
   "source": [
    "lst"
   ]
  },
  {
   "cell_type": "markdown",
   "id": "b53357ef",
   "metadata": {},
   "source": [
    "### List Clear method\n",
    "\n",
    "Using this list we can clear the element."
   ]
  },
  {
   "cell_type": "code",
   "execution_count": 68,
   "id": "1290da8a",
   "metadata": {},
   "outputs": [
    {
     "data": {
      "text/plain": [
       "['Modi', 'Biden', 'Jocinda']"
      ]
     },
     "execution_count": 68,
     "metadata": {},
     "output_type": "execute_result"
    }
   ],
   "source": [
    "newlst"
   ]
  },
  {
   "cell_type": "code",
   "execution_count": 69,
   "id": "61cd79ab",
   "metadata": {},
   "outputs": [],
   "source": [
    "newlst.clear()"
   ]
  },
  {
   "cell_type": "code",
   "execution_count": 70,
   "id": "d9c1e9f7",
   "metadata": {},
   "outputs": [
    {
     "data": {
      "text/plain": [
       "[]"
      ]
     },
     "execution_count": 70,
     "metadata": {},
     "output_type": "execute_result"
    }
   ],
   "source": [
    "newlst"
   ]
  },
  {
   "cell_type": "code",
   "execution_count": 71,
   "id": "7f63eb63",
   "metadata": {},
   "outputs": [],
   "source": [
    "newlst.extend(lst)"
   ]
  },
  {
   "cell_type": "code",
   "execution_count": 72,
   "id": "481c5a79",
   "metadata": {},
   "outputs": [
    {
     "data": {
      "text/plain": [
       "[1, 3, 5, 7, 'Manya', 100, 'X', 'Modi', 'Biden', 'Abhishek', 'A', 'Jocinda']"
      ]
     },
     "execution_count": 72,
     "metadata": {},
     "output_type": "execute_result"
    }
   ],
   "source": [
    "newlst"
   ]
  },
  {
   "cell_type": "markdown",
   "id": "d9d71c69",
   "metadata": {},
   "source": [
    "### List Copy Method\n",
    "\n",
    "make a copy of existing list."
   ]
  },
  {
   "cell_type": "code",
   "execution_count": 73,
   "id": "d92c979b",
   "metadata": {},
   "outputs": [],
   "source": [
    "lstOfNumber = [11,33,55,77,88,99,98]"
   ]
  },
  {
   "cell_type": "code",
   "execution_count": 74,
   "id": "a64167b5",
   "metadata": {},
   "outputs": [],
   "source": [
    "numbers = lstOfNumber.copy()"
   ]
  },
  {
   "cell_type": "code",
   "execution_count": 75,
   "id": "991532aa",
   "metadata": {},
   "outputs": [
    {
     "data": {
      "text/plain": [
       "[11, 33, 55, 77, 88, 99, 98]"
      ]
     },
     "execution_count": 75,
     "metadata": {},
     "output_type": "execute_result"
    }
   ],
   "source": [
    "numbers"
   ]
  },
  {
   "cell_type": "code",
   "execution_count": 76,
   "id": "1d06b01d",
   "metadata": {},
   "outputs": [
    {
     "data": {
      "text/plain": [
       "[11, 33, 55, 77, 88, 99, 98]"
      ]
     },
     "execution_count": 76,
     "metadata": {},
     "output_type": "execute_result"
    }
   ],
   "source": [
    "lstOfNumber"
   ]
  },
  {
   "cell_type": "markdown",
   "id": "4358e1c4",
   "metadata": {},
   "source": [
    "### List Sort Function\n",
    "\n",
    "Using this function we can sort the list either in asc or desc (by default: asc).\n",
    "\n",
    "Note: This function will change the sequence of your original list as well."
   ]
  },
  {
   "cell_type": "code",
   "execution_count": 77,
   "id": "16f801cc",
   "metadata": {},
   "outputs": [],
   "source": [
    "numbers = [11,66,10,5,23,10,30,-40,12,30,7]"
   ]
  },
  {
   "cell_type": "code",
   "execution_count": 78,
   "id": "7b9eaee2",
   "metadata": {},
   "outputs": [
    {
     "data": {
      "text/plain": [
       "[11, 66, 10, 5, 23, 10, 30, -40, 12, 30, 7]"
      ]
     },
     "execution_count": 78,
     "metadata": {},
     "output_type": "execute_result"
    }
   ],
   "source": [
    "numbers"
   ]
  },
  {
   "cell_type": "code",
   "execution_count": 81,
   "id": "97f18bd2",
   "metadata": {},
   "outputs": [],
   "source": [
    "numbers.sort(reverse=False)"
   ]
  },
  {
   "cell_type": "code",
   "execution_count": 82,
   "id": "cb72d915",
   "metadata": {},
   "outputs": [
    {
     "data": {
      "text/plain": [
       "[-40, 5, 7, 10, 10, 11, 12, 23, 30, 30, 66]"
      ]
     },
     "execution_count": 82,
     "metadata": {},
     "output_type": "execute_result"
    }
   ],
   "source": [
    "numbers"
   ]
  },
  {
   "cell_type": "code",
   "execution_count": 83,
   "id": "c37e1d65",
   "metadata": {},
   "outputs": [],
   "source": [
    "numbers.sort(reverse=True)"
   ]
  },
  {
   "cell_type": "code",
   "execution_count": 84,
   "id": "35fc08bf",
   "metadata": {},
   "outputs": [
    {
     "data": {
      "text/plain": [
       "[66, 30, 30, 23, 12, 11, 10, 10, 7, 5, -40]"
      ]
     },
     "execution_count": 84,
     "metadata": {},
     "output_type": "execute_result"
    }
   ],
   "source": [
    "numbers"
   ]
  },
  {
   "cell_type": "code",
   "execution_count": 85,
   "id": "26091b89",
   "metadata": {},
   "outputs": [],
   "source": [
    "lst = [10,3,5,102,\"A\"]"
   ]
  },
  {
   "cell_type": "code",
   "execution_count": 86,
   "id": "34dbb58d",
   "metadata": {},
   "outputs": [
    {
     "ename": "TypeError",
     "evalue": "'<' not supported between instances of 'str' and 'int'",
     "output_type": "error",
     "traceback": [
      "\u001b[1;31m---------------------------------------------------------------------------\u001b[0m",
      "\u001b[1;31mTypeError\u001b[0m                                 Traceback (most recent call last)",
      "Cell \u001b[1;32mIn[86], line 1\u001b[0m\n\u001b[1;32m----> 1\u001b[0m \u001b[43mlst\u001b[49m\u001b[38;5;241;43m.\u001b[39;49m\u001b[43msort\u001b[49m\u001b[43m(\u001b[49m\u001b[43m)\u001b[49m\n",
      "\u001b[1;31mTypeError\u001b[0m: '<' not supported between instances of 'str' and 'int'"
     ]
    }
   ],
   "source": [
    "lst.sort()"
   ]
  },
  {
   "cell_type": "code",
   "execution_count": 87,
   "id": "2d183b8a",
   "metadata": {},
   "outputs": [],
   "source": [
    "lstOfChar = [\"A\",\"B\",\"H\",\"A\",\"X\",\"O\",\"N\",\"D\"]"
   ]
  },
  {
   "cell_type": "code",
   "execution_count": 88,
   "id": "41b5eee0",
   "metadata": {},
   "outputs": [],
   "source": [
    "lstOfChar.sort()"
   ]
  },
  {
   "cell_type": "code",
   "execution_count": 89,
   "id": "535a1e58",
   "metadata": {},
   "outputs": [
    {
     "data": {
      "text/plain": [
       "['A', 'A', 'B', 'D', 'H', 'N', 'O', 'X']"
      ]
     },
     "execution_count": 89,
     "metadata": {},
     "output_type": "execute_result"
    }
   ],
   "source": [
    "lstOfChar"
   ]
  },
  {
   "cell_type": "code",
   "execution_count": 90,
   "id": "d596fb46",
   "metadata": {},
   "outputs": [],
   "source": [
    "lstOfChar.sort(reverse=True)"
   ]
  },
  {
   "cell_type": "code",
   "execution_count": 91,
   "id": "2a6a849d",
   "metadata": {},
   "outputs": [
    {
     "data": {
      "text/plain": [
       "['X', 'O', 'N', 'H', 'D', 'B', 'A', 'A']"
      ]
     },
     "execution_count": 91,
     "metadata": {},
     "output_type": "execute_result"
    }
   ],
   "source": [
    "lstOfChar"
   ]
  },
  {
   "cell_type": "markdown",
   "id": "6b351359",
   "metadata": {},
   "source": [
    "### List Reverse"
   ]
  },
  {
   "cell_type": "code",
   "execution_count": 93,
   "id": "9aee1059",
   "metadata": {},
   "outputs": [],
   "source": [
    "numbers = [11,66,10,5,23,10,30,-40,12,30,7]"
   ]
  },
  {
   "cell_type": "code",
   "execution_count": 94,
   "id": "1d22bf82",
   "metadata": {},
   "outputs": [
    {
     "data": {
      "text/plain": [
       "[11, 66, 10, 5, 23, 10, 30, -40, 12, 30, 7]"
      ]
     },
     "execution_count": 94,
     "metadata": {},
     "output_type": "execute_result"
    }
   ],
   "source": [
    "numbers"
   ]
  },
  {
   "cell_type": "code",
   "execution_count": 95,
   "id": "69a881db",
   "metadata": {},
   "outputs": [],
   "source": [
    "numbers.reverse()"
   ]
  },
  {
   "cell_type": "code",
   "execution_count": 96,
   "id": "2640669e",
   "metadata": {},
   "outputs": [
    {
     "data": {
      "text/plain": [
       "[7, 30, 12, -40, 30, 10, 23, 5, 10, 66, 11]"
      ]
     },
     "execution_count": 96,
     "metadata": {},
     "output_type": "execute_result"
    }
   ],
   "source": [
    "numbers"
   ]
  },
  {
   "cell_type": "code",
   "execution_count": 97,
   "id": "0b4e2283",
   "metadata": {},
   "outputs": [],
   "source": [
    "lstOfChar = [\"A\",\"B\",\"H\",\"A\",\"X\",\"O\",\"N\",\"D\"]"
   ]
  },
  {
   "cell_type": "code",
   "execution_count": 98,
   "id": "e0c5184c",
   "metadata": {},
   "outputs": [],
   "source": [
    "lstOfChar.reverse()"
   ]
  },
  {
   "cell_type": "code",
   "execution_count": 99,
   "id": "1dfc997c",
   "metadata": {},
   "outputs": [
    {
     "data": {
      "text/plain": [
       "['D', 'N', 'O', 'X', 'A', 'H', 'B', 'A']"
      ]
     },
     "execution_count": 99,
     "metadata": {},
     "output_type": "execute_result"
    }
   ],
   "source": [
    "lstOfChar"
   ]
  },
  {
   "cell_type": "markdown",
   "id": "91dc9200",
   "metadata": {},
   "source": [
    "### Removing, Popping, Deleting\n",
    "\n",
    "* List Remove:\n",
    "\n",
    "Using remove method we can remove an item based on item's name and it will not be return the removed item.\n",
    "\n",
    "* List Pop:\n",
    "\n",
    "Using pop method we can pop an item based on item's index, if you are not passing an index by default this function will take last index (-1) and this function always return the popped item."
   ]
  },
  {
   "cell_type": "code",
   "execution_count": 100,
   "id": "3458b71e",
   "metadata": {},
   "outputs": [
    {
     "data": {
      "text/plain": [
       "['D', 'N', 'O', 'X', 'A', 'H', 'B', 'A']"
      ]
     },
     "execution_count": 100,
     "metadata": {},
     "output_type": "execute_result"
    }
   ],
   "source": [
    "lstOfChar"
   ]
  },
  {
   "cell_type": "code",
   "execution_count": 101,
   "id": "6e624e6a",
   "metadata": {},
   "outputs": [],
   "source": [
    "lstOfChar.remove(\"X\")"
   ]
  },
  {
   "cell_type": "code",
   "execution_count": 103,
   "id": "e879eda6",
   "metadata": {},
   "outputs": [
    {
     "data": {
      "text/plain": [
       "['D', 'N', 'O', 'A', 'H', 'B', 'A']"
      ]
     },
     "execution_count": 103,
     "metadata": {},
     "output_type": "execute_result"
    }
   ],
   "source": [
    "lstOfChar"
   ]
  },
  {
   "cell_type": "code",
   "execution_count": 107,
   "id": "edd4c5e6",
   "metadata": {},
   "outputs": [],
   "source": [
    "lstOfChar.append(\"X\")"
   ]
  },
  {
   "cell_type": "code",
   "execution_count": 104,
   "id": "302b9e69",
   "metadata": {},
   "outputs": [
    {
     "ename": "ValueError",
     "evalue": "list.remove(x): x not in list",
     "output_type": "error",
     "traceback": [
      "\u001b[1;31m---------------------------------------------------------------------------\u001b[0m",
      "\u001b[1;31mValueError\u001b[0m                                Traceback (most recent call last)",
      "Cell \u001b[1;32mIn[104], line 1\u001b[0m\n\u001b[1;32m----> 1\u001b[0m \u001b[43mlstOfChar\u001b[49m\u001b[38;5;241;43m.\u001b[39;49m\u001b[43mremove\u001b[49m\u001b[43m(\u001b[49m\u001b[38;5;124;43m\"\u001b[39;49m\u001b[38;5;124;43mx\u001b[39;49m\u001b[38;5;124;43m\"\u001b[39;49m\u001b[43m)\u001b[49m\n",
      "\u001b[1;31mValueError\u001b[0m: list.remove(x): x not in list"
     ]
    }
   ],
   "source": [
    "lstOfChar.remove(\"x\")"
   ]
  },
  {
   "cell_type": "code",
   "execution_count": 106,
   "id": "98536018",
   "metadata": {},
   "outputs": [
    {
     "data": {
      "text/plain": [
       "['D', 'N', 'O', 'A', 'H', 'B', 'A', 'X']"
      ]
     },
     "execution_count": 106,
     "metadata": {},
     "output_type": "execute_result"
    }
   ],
   "source": [
    "lstOfChar"
   ]
  },
  {
   "cell_type": "code",
   "execution_count": 108,
   "id": "30369faf",
   "metadata": {},
   "outputs": [],
   "source": [
    "lstOfChar.insert(3,\"X\")"
   ]
  },
  {
   "cell_type": "code",
   "execution_count": 109,
   "id": "2b15528d",
   "metadata": {},
   "outputs": [
    {
     "data": {
      "text/plain": [
       "['D', 'N', 'O', 'X', 'A', 'H', 'B', 'A', 'X', 'X']"
      ]
     },
     "execution_count": 109,
     "metadata": {},
     "output_type": "execute_result"
    }
   ],
   "source": [
    "lstOfChar"
   ]
  },
  {
   "cell_type": "code",
   "execution_count": 110,
   "id": "47c1af2b",
   "metadata": {},
   "outputs": [],
   "source": [
    "lstOfChar.remove(\"X\")"
   ]
  },
  {
   "cell_type": "code",
   "execution_count": 111,
   "id": "5907d7a5",
   "metadata": {},
   "outputs": [
    {
     "data": {
      "text/plain": [
       "['D', 'N', 'O', 'A', 'H', 'B', 'A', 'X', 'X']"
      ]
     },
     "execution_count": 111,
     "metadata": {},
     "output_type": "execute_result"
    }
   ],
   "source": [
    "lstOfChar"
   ]
  },
  {
   "cell_type": "code",
   "execution_count": 112,
   "id": "401d4304",
   "metadata": {},
   "outputs": [],
   "source": [
    "# pop : based on item's index"
   ]
  },
  {
   "cell_type": "code",
   "execution_count": 113,
   "id": "4cf56203",
   "metadata": {},
   "outputs": [
    {
     "data": {
      "text/plain": [
       "['D', 'N', 'O', 'A', 'H', 'B', 'A', 'X', 'X']"
      ]
     },
     "execution_count": 113,
     "metadata": {},
     "output_type": "execute_result"
    }
   ],
   "source": [
    "lstOfChar"
   ]
  },
  {
   "cell_type": "code",
   "execution_count": 114,
   "id": "d532cfb8",
   "metadata": {},
   "outputs": [
    {
     "data": {
      "text/plain": [
       "'X'"
      ]
     },
     "execution_count": 114,
     "metadata": {},
     "output_type": "execute_result"
    }
   ],
   "source": [
    "lstOfChar.pop()"
   ]
  },
  {
   "cell_type": "code",
   "execution_count": 115,
   "id": "c05a6b9f",
   "metadata": {},
   "outputs": [
    {
     "data": {
      "text/plain": [
       "['D', 'N', 'O', 'A', 'H', 'B', 'A', 'X']"
      ]
     },
     "execution_count": 115,
     "metadata": {},
     "output_type": "execute_result"
    }
   ],
   "source": [
    "lstOfChar"
   ]
  },
  {
   "cell_type": "code",
   "execution_count": 116,
   "id": "30758e51",
   "metadata": {},
   "outputs": [
    {
     "data": {
      "text/plain": [
       "'A'"
      ]
     },
     "execution_count": 116,
     "metadata": {},
     "output_type": "execute_result"
    }
   ],
   "source": [
    "lstOfChar.pop(3)"
   ]
  },
  {
   "cell_type": "code",
   "execution_count": 117,
   "id": "3504aed6",
   "metadata": {},
   "outputs": [
    {
     "data": {
      "text/plain": [
       "['D', 'N', 'O', 'H', 'B', 'A', 'X']"
      ]
     },
     "execution_count": 117,
     "metadata": {},
     "output_type": "execute_result"
    }
   ],
   "source": [
    "lstOfChar"
   ]
  },
  {
   "cell_type": "markdown",
   "id": "7371fce8",
   "metadata": {},
   "source": [
    "### Del\n",
    "\n",
    "Del is a keyword, using del we can delete an item or whole list as well.\n",
    "\n",
    "Item can be deleted based on item's index and does not return the delete item."
   ]
  },
  {
   "cell_type": "code",
   "execution_count": 118,
   "id": "11e4c4e3",
   "metadata": {},
   "outputs": [
    {
     "data": {
      "text/plain": [
       "['D', 'N', 'O', 'H', 'B', 'A', 'X']"
      ]
     },
     "execution_count": 118,
     "metadata": {},
     "output_type": "execute_result"
    }
   ],
   "source": [
    "lstOfChar"
   ]
  },
  {
   "cell_type": "code",
   "execution_count": 120,
   "id": "b7b94c3c",
   "metadata": {},
   "outputs": [],
   "source": [
    "del lstOfChar[-3]"
   ]
  },
  {
   "cell_type": "code",
   "execution_count": 121,
   "id": "7ffabdfa",
   "metadata": {},
   "outputs": [
    {
     "data": {
      "text/plain": [
       "['D', 'N', 'O', 'H', 'A', 'X']"
      ]
     },
     "execution_count": 121,
     "metadata": {},
     "output_type": "execute_result"
    }
   ],
   "source": [
    "lstOfChar"
   ]
  },
  {
   "cell_type": "code",
   "execution_count": 122,
   "id": "27e297bd",
   "metadata": {},
   "outputs": [],
   "source": [
    "del lstOfChar"
   ]
  },
  {
   "cell_type": "code",
   "execution_count": 123,
   "id": "67629913",
   "metadata": {},
   "outputs": [
    {
     "ename": "NameError",
     "evalue": "name 'lstOfChar' is not defined",
     "output_type": "error",
     "traceback": [
      "\u001b[1;31m---------------------------------------------------------------------------\u001b[0m",
      "\u001b[1;31mNameError\u001b[0m                                 Traceback (most recent call last)",
      "Cell \u001b[1;32mIn[123], line 1\u001b[0m\n\u001b[1;32m----> 1\u001b[0m \u001b[43mlstOfChar\u001b[49m\n",
      "\u001b[1;31mNameError\u001b[0m: name 'lstOfChar' is not defined"
     ]
    }
   ],
   "source": [
    "lstOfChar"
   ]
  },
  {
   "cell_type": "markdown",
   "id": "6ff4d64f",
   "metadata": {},
   "source": [
    "### Python Sorted Function\n",
    "\n",
    "using this function we can sort the item in asc or desc, but this function always return an output in the form of list."
   ]
  },
  {
   "cell_type": "code",
   "execution_count": 124,
   "id": "08b42248",
   "metadata": {},
   "outputs": [],
   "source": [
    "a = \"AbhishekSaraswat\""
   ]
  },
  {
   "cell_type": "code",
   "execution_count": 126,
   "id": "95261ffd",
   "metadata": {},
   "outputs": [
    {
     "name": "stdout",
     "output_type": "stream",
     "text": [
      "['A', 'S', 'a', 'a', 'a', 'b', 'e', 'h', 'h', 'i', 'k', 'r', 's', 's', 't', 'w']\n"
     ]
    }
   ],
   "source": [
    "print(sorted(a))"
   ]
  },
  {
   "cell_type": "code",
   "execution_count": 127,
   "id": "44792d82",
   "metadata": {},
   "outputs": [
    {
     "name": "stdout",
     "output_type": "stream",
     "text": [
      "['w', 't', 's', 's', 'r', 'k', 'i', 'h', 'h', 'e', 'b', 'a', 'a', 'a', 'S', 'A']\n"
     ]
    }
   ],
   "source": [
    "print(sorted(a, reverse=True))"
   ]
  },
  {
   "cell_type": "code",
   "execution_count": 128,
   "id": "def8f309",
   "metadata": {},
   "outputs": [],
   "source": [
    "lst = [1,5,8,0,10,3,9,3,1,5,2]"
   ]
  },
  {
   "cell_type": "code",
   "execution_count": 129,
   "id": "a86b15f3",
   "metadata": {},
   "outputs": [],
   "source": [
    "new_lst = sorted(lst)"
   ]
  },
  {
   "cell_type": "code",
   "execution_count": 130,
   "id": "5e7dabd2",
   "metadata": {},
   "outputs": [
    {
     "data": {
      "text/plain": [
       "[0, 1, 1, 2, 3, 3, 5, 5, 8, 9, 10]"
      ]
     },
     "execution_count": 130,
     "metadata": {},
     "output_type": "execute_result"
    }
   ],
   "source": [
    "new_lst"
   ]
  },
  {
   "cell_type": "code",
   "execution_count": 131,
   "id": "8a25da6f",
   "metadata": {},
   "outputs": [
    {
     "data": {
      "text/plain": [
       "[1, 5, 8, 0, 10, 3, 9, 3, 1, 5, 2]"
      ]
     },
     "execution_count": 131,
     "metadata": {},
     "output_type": "execute_result"
    }
   ],
   "source": [
    "lst"
   ]
  },
  {
   "cell_type": "code",
   "execution_count": 132,
   "id": "b61528a7",
   "metadata": {},
   "outputs": [],
   "source": [
    "lst = [1,3,5,7]"
   ]
  },
  {
   "cell_type": "code",
   "execution_count": 133,
   "id": "43818959",
   "metadata": {},
   "outputs": [
    {
     "data": {
      "text/plain": [
       "[1, 3, 5, 7, 1, 3, 5, 7]"
      ]
     },
     "execution_count": 133,
     "metadata": {},
     "output_type": "execute_result"
    }
   ],
   "source": [
    "lst * 2"
   ]
  },
  {
   "cell_type": "code",
   "execution_count": 134,
   "id": "0cf86ae1",
   "metadata": {},
   "outputs": [
    {
     "data": {
      "text/plain": [
       "[1, 3, 5, 7, 1, 3, 5, 7, 1, 3, 5, 7, 1, 3, 5, 7, 1, 3, 5, 7]"
      ]
     },
     "execution_count": 134,
     "metadata": {},
     "output_type": "execute_result"
    }
   ],
   "source": [
    "lst * 5"
   ]
  },
  {
   "cell_type": "code",
   "execution_count": 138,
   "id": "7311d70e",
   "metadata": {},
   "outputs": [
    {
     "data": {
      "text/plain": [
       "[1, 3, 5, 7]"
      ]
     },
     "execution_count": 138,
     "metadata": {},
     "output_type": "execute_result"
    }
   ],
   "source": [
    "lst"
   ]
  },
  {
   "cell_type": "code",
   "execution_count": 139,
   "id": "c6d8c786",
   "metadata": {},
   "outputs": [
    {
     "name": "stdout",
     "output_type": "stream",
     "text": [
      "2\n",
      "6\n",
      "10\n",
      "14\n"
     ]
    }
   ],
   "source": [
    "for i in lst:\n",
    "    print(i*2)"
   ]
  },
  {
   "cell_type": "code",
   "execution_count": null,
   "id": "9b6d5c6c",
   "metadata": {},
   "outputs": [],
   "source": []
  }
 ],
 "metadata": {
  "kernelspec": {
   "display_name": "Python 3 (ipykernel)",
   "language": "python",
   "name": "python3"
  },
  "language_info": {
   "codemirror_mode": {
    "name": "ipython",
    "version": 3
   },
   "file_extension": ".py",
   "mimetype": "text/x-python",
   "name": "python",
   "nbconvert_exporter": "python",
   "pygments_lexer": "ipython3",
   "version": "3.11.2"
  }
 },
 "nbformat": 4,
 "nbformat_minor": 5
}
