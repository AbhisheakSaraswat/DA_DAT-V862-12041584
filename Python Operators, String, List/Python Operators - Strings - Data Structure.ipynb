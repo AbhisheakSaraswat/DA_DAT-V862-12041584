{
 "cells": [
  {
   "cell_type": "markdown",
   "id": "73d3eee8",
   "metadata": {},
   "source": [
    "### Python Operators\n",
    "\n",
    "* Arithmetic Operator\n",
    "* Membership Operator\n",
    "* Logical Operator\n",
    "* Comparison Operator\n",
    "* Identity Operator\n",
    "* Assignment Opreator\n",
    "* Bitwise Operator (exclude)\n"
   ]
  },
  {
   "cell_type": "markdown",
   "id": "58ee175e",
   "metadata": {},
   "source": [
    "### Arithmetic Operator:\n",
    "\n",
    "+,-,*,/,//,^,**,%"
   ]
  },
  {
   "cell_type": "code",
   "execution_count": 1,
   "id": "4ed90158",
   "metadata": {},
   "outputs": [],
   "source": [
    "a = 5; b = 3"
   ]
  },
  {
   "cell_type": "code",
   "execution_count": 2,
   "id": "f6427916",
   "metadata": {},
   "outputs": [
    {
     "data": {
      "text/plain": [
       "8"
      ]
     },
     "execution_count": 2,
     "metadata": {},
     "output_type": "execute_result"
    }
   ],
   "source": [
    "a + b"
   ]
  },
  {
   "cell_type": "code",
   "execution_count": 3,
   "id": "17c4f628",
   "metadata": {},
   "outputs": [
    {
     "data": {
      "text/plain": [
       "2"
      ]
     },
     "execution_count": 3,
     "metadata": {},
     "output_type": "execute_result"
    }
   ],
   "source": [
    "a - b"
   ]
  },
  {
   "cell_type": "code",
   "execution_count": 4,
   "id": "d5239c76",
   "metadata": {},
   "outputs": [
    {
     "data": {
      "text/plain": [
       "15"
      ]
     },
     "execution_count": 4,
     "metadata": {},
     "output_type": "execute_result"
    }
   ],
   "source": [
    "a * b"
   ]
  },
  {
   "cell_type": "code",
   "execution_count": 5,
   "id": "3a8e5a2f",
   "metadata": {},
   "outputs": [
    {
     "data": {
      "text/plain": [
       "1.6666666666666667"
      ]
     },
     "execution_count": 5,
     "metadata": {},
     "output_type": "execute_result"
    }
   ],
   "source": [
    "a / b"
   ]
  },
  {
   "cell_type": "code",
   "execution_count": 6,
   "id": "fcfdb2c8",
   "metadata": {},
   "outputs": [],
   "source": [
    "# power operator"
   ]
  },
  {
   "cell_type": "code",
   "execution_count": 7,
   "id": "a639da47",
   "metadata": {},
   "outputs": [
    {
     "data": {
      "text/plain": [
       "25"
      ]
     },
     "execution_count": 7,
     "metadata": {},
     "output_type": "execute_result"
    }
   ],
   "source": [
    "5 ** 2"
   ]
  },
  {
   "cell_type": "code",
   "execution_count": 8,
   "id": "d50a6169",
   "metadata": {},
   "outputs": [
    {
     "data": {
      "text/plain": [
       "125"
      ]
     },
     "execution_count": 8,
     "metadata": {},
     "output_type": "execute_result"
    }
   ],
   "source": [
    "5 ** 3"
   ]
  },
  {
   "cell_type": "code",
   "execution_count": 9,
   "id": "5e024b25",
   "metadata": {},
   "outputs": [
    {
     "data": {
      "text/plain": [
       "343"
      ]
     },
     "execution_count": 9,
     "metadata": {},
     "output_type": "execute_result"
    }
   ],
   "source": [
    "7 ** 3"
   ]
  },
  {
   "cell_type": "code",
   "execution_count": 11,
   "id": "5855ed2d",
   "metadata": {},
   "outputs": [
    {
     "data": {
      "text/plain": [
       "100000"
      ]
     },
     "execution_count": 11,
     "metadata": {},
     "output_type": "execute_result"
    }
   ],
   "source": [
    "10 ** 5"
   ]
  },
  {
   "cell_type": "markdown",
   "id": "d1a94ae9",
   "metadata": {},
   "source": [
    "### Modulus Operator %\n",
    "\n",
    "Gives remainder\n"
   ]
  },
  {
   "cell_type": "code",
   "execution_count": 12,
   "id": "88338564",
   "metadata": {},
   "outputs": [
    {
     "data": {
      "text/plain": [
       "2"
      ]
     },
     "execution_count": 12,
     "metadata": {},
     "output_type": "execute_result"
    }
   ],
   "source": [
    "14 % 4"
   ]
  },
  {
   "cell_type": "code",
   "execution_count": 13,
   "id": "64c85100",
   "metadata": {},
   "outputs": [
    {
     "data": {
      "text/plain": [
       "6"
      ]
     },
     "execution_count": 13,
     "metadata": {},
     "output_type": "execute_result"
    }
   ],
   "source": [
    "20 % 7"
   ]
  },
  {
   "cell_type": "code",
   "execution_count": 14,
   "id": "a6aed6c6",
   "metadata": {},
   "outputs": [
    {
     "data": {
      "text/plain": [
       "0"
      ]
     },
     "execution_count": 14,
     "metadata": {},
     "output_type": "execute_result"
    }
   ],
   "source": [
    "12 % 2"
   ]
  },
  {
   "cell_type": "markdown",
   "id": "605ede0b",
   "metadata": {},
   "source": [
    "### Floor Division"
   ]
  },
  {
   "cell_type": "code",
   "execution_count": 16,
   "id": "5f7b15e3",
   "metadata": {},
   "outputs": [
    {
     "data": {
      "text/plain": [
       "2"
      ]
     },
     "execution_count": 16,
     "metadata": {},
     "output_type": "execute_result"
    }
   ],
   "source": [
    "20 // 7"
   ]
  },
  {
   "cell_type": "code",
   "execution_count": 17,
   "id": "4679f57d",
   "metadata": {},
   "outputs": [
    {
     "data": {
      "text/plain": [
       "10"
      ]
     },
     "execution_count": 17,
     "metadata": {},
     "output_type": "execute_result"
    }
   ],
   "source": [
    "20 // 2"
   ]
  },
  {
   "cell_type": "markdown",
   "id": "582a9a75",
   "metadata": {},
   "source": [
    "### Assignment Operator\n",
    "\n",
    "We can assign any specific value to the variables."
   ]
  },
  {
   "cell_type": "code",
   "execution_count": 19,
   "id": "95c6da31",
   "metadata": {},
   "outputs": [],
   "source": [
    "x = 10"
   ]
  },
  {
   "cell_type": "code",
   "execution_count": 20,
   "id": "9dc7cf71",
   "metadata": {},
   "outputs": [],
   "source": [
    "x += 3 # x = x + 3"
   ]
  },
  {
   "cell_type": "code",
   "execution_count": 21,
   "id": "d5b1ebc7",
   "metadata": {},
   "outputs": [
    {
     "data": {
      "text/plain": [
       "13"
      ]
     },
     "execution_count": 21,
     "metadata": {},
     "output_type": "execute_result"
    }
   ],
   "source": [
    "x"
   ]
  },
  {
   "cell_type": "code",
   "execution_count": 22,
   "id": "af881fb0",
   "metadata": {},
   "outputs": [],
   "source": [
    "x *= 3 # x =  x * 3"
   ]
  },
  {
   "cell_type": "code",
   "execution_count": 23,
   "id": "9b01f568",
   "metadata": {},
   "outputs": [
    {
     "data": {
      "text/plain": [
       "39"
      ]
     },
     "execution_count": 23,
     "metadata": {},
     "output_type": "execute_result"
    }
   ],
   "source": [
    "x"
   ]
  },
  {
   "cell_type": "code",
   "execution_count": 24,
   "id": "850f9ea7",
   "metadata": {},
   "outputs": [],
   "source": [
    "x = 100"
   ]
  },
  {
   "cell_type": "code",
   "execution_count": 25,
   "id": "ed6bba29",
   "metadata": {},
   "outputs": [
    {
     "data": {
      "text/plain": [
       "True"
      ]
     },
     "execution_count": 25,
     "metadata": {},
     "output_type": "execute_result"
    }
   ],
   "source": [
    "x != 10"
   ]
  },
  {
   "cell_type": "code",
   "execution_count": 26,
   "id": "fae28155",
   "metadata": {},
   "outputs": [
    {
     "data": {
      "text/plain": [
       "False"
      ]
     },
     "execution_count": 26,
     "metadata": {},
     "output_type": "execute_result"
    }
   ],
   "source": [
    "x != 100"
   ]
  },
  {
   "cell_type": "markdown",
   "id": "93e0478f",
   "metadata": {},
   "source": [
    "### Python Comparison Operator:\n",
    "\n",
    "Comparison operators are basically used to compare two values etc."
   ]
  },
  {
   "cell_type": "code",
   "execution_count": 27,
   "id": "82d15688",
   "metadata": {},
   "outputs": [],
   "source": [
    "a = 5"
   ]
  },
  {
   "cell_type": "code",
   "execution_count": 28,
   "id": "8dbc5e0c",
   "metadata": {},
   "outputs": [
    {
     "data": {
      "text/plain": [
       "False"
      ]
     },
     "execution_count": 28,
     "metadata": {},
     "output_type": "execute_result"
    }
   ],
   "source": [
    "a == 10"
   ]
  },
  {
   "cell_type": "code",
   "execution_count": 29,
   "id": "e5f845bd",
   "metadata": {},
   "outputs": [
    {
     "data": {
      "text/plain": [
       "False"
      ]
     },
     "execution_count": 29,
     "metadata": {},
     "output_type": "execute_result"
    }
   ],
   "source": [
    "a != 5"
   ]
  },
  {
   "cell_type": "code",
   "execution_count": 30,
   "id": "426b6c52",
   "metadata": {},
   "outputs": [
    {
     "data": {
      "text/plain": [
       "True"
      ]
     },
     "execution_count": 30,
     "metadata": {},
     "output_type": "execute_result"
    }
   ],
   "source": [
    "a > 3"
   ]
  },
  {
   "cell_type": "code",
   "execution_count": 31,
   "id": "b43bfd38",
   "metadata": {},
   "outputs": [
    {
     "data": {
      "text/plain": [
       "True"
      ]
     },
     "execution_count": 31,
     "metadata": {},
     "output_type": "execute_result"
    }
   ],
   "source": [
    "a <= 5"
   ]
  },
  {
   "attachments": {
    "image.png": {
     "image/png": "[encoded data removed]"
    }
   },
   "cell_type": "markdown",
   "id": "057b3581",
   "metadata": {},
   "source": [
    "![image.png](attachment:image.png)"
   ]
  },
  {
   "cell_type": "code",
   "execution_count": 32,
   "id": "6ccff28f",
   "metadata": {},
   "outputs": [],
   "source": [
    "a = 5; b = 7; c = 3"
   ]
  },
  {
   "cell_type": "code",
   "execution_count": 36,
   "id": "1bc7129a",
   "metadata": {},
   "outputs": [
    {
     "data": {
      "text/plain": [
       "True"
      ]
     },
     "execution_count": 36,
     "metadata": {},
     "output_type": "execute_result"
    }
   ],
   "source": [
    "((a >= 10) or (b != 10)) and ((c == 5) or (a >= 3))"
   ]
  },
  {
   "cell_type": "code",
   "execution_count": 37,
   "id": "5d76ddd5",
   "metadata": {},
   "outputs": [
    {
     "data": {
      "text/plain": [
       "True"
      ]
     },
     "execution_count": 37,
     "metadata": {},
     "output_type": "execute_result"
    }
   ],
   "source": [
    "(a >= 10) or (((b != 10) and (c == 5)) or (a >= 3))"
   ]
  },
  {
   "cell_type": "markdown",
   "id": "914d5c8d",
   "metadata": {},
   "source": [
    "### Python Identity Operator\n",
    "* is\n",
    "* is not"
   ]
  },
  {
   "cell_type": "code",
   "execution_count": 38,
   "id": "007073ec",
   "metadata": {},
   "outputs": [],
   "source": [
    "a = 10"
   ]
  },
  {
   "cell_type": "code",
   "execution_count": 39,
   "id": "fb9f99ed",
   "metadata": {},
   "outputs": [
    {
     "name": "stderr",
     "output_type": "stream",
     "text": [
      "<>:1: SyntaxWarning: \"is\" with a literal. Did you mean \"==\"?\n",
      "<>:1: SyntaxWarning: \"is\" with a literal. Did you mean \"==\"?\n",
      "C:\\Users\\AEPAC\\AppData\\Local\\Temp\\ipykernel_9096\\2365217341.py:1: SyntaxWarning: \"is\" with a literal. Did you mean \"==\"?\n",
      "  a is 10\n"
     ]
    },
    {
     "data": {
      "text/plain": [
       "True"
      ]
     },
     "execution_count": 39,
     "metadata": {},
     "output_type": "execute_result"
    }
   ],
   "source": [
    "a is 10"
   ]
  },
  {
   "cell_type": "code",
   "execution_count": 40,
   "id": "a6f703d6",
   "metadata": {},
   "outputs": [
    {
     "data": {
      "text/plain": [
       "True"
      ]
     },
     "execution_count": 40,
     "metadata": {},
     "output_type": "execute_result"
    }
   ],
   "source": [
    "a == 10"
   ]
  },
  {
   "cell_type": "code",
   "execution_count": 42,
   "id": "b3e87e87",
   "metadata": {},
   "outputs": [
    {
     "name": "stderr",
     "output_type": "stream",
     "text": [
      "<>:1: SyntaxWarning: \"is not\" with a literal. Did you mean \"!=\"?\n",
      "<>:1: SyntaxWarning: \"is not\" with a literal. Did you mean \"!=\"?\n",
      "C:\\Users\\AEPAC\\AppData\\Local\\Temp\\ipykernel_9096\\1564030816.py:1: SyntaxWarning: \"is not\" with a literal. Did you mean \"!=\"?\n",
      "  a is not 10\n"
     ]
    },
    {
     "data": {
      "text/plain": [
       "False"
      ]
     },
     "execution_count": 42,
     "metadata": {},
     "output_type": "execute_result"
    }
   ],
   "source": [
    "a is not 10"
   ]
  },
  {
   "cell_type": "code",
   "execution_count": 43,
   "id": "5c1a3857",
   "metadata": {},
   "outputs": [
    {
     "data": {
      "text/plain": [
       "False"
      ]
     },
     "execution_count": 43,
     "metadata": {},
     "output_type": "execute_result"
    }
   ],
   "source": [
    "a != 10"
   ]
  },
  {
   "cell_type": "markdown",
   "id": "8af887db",
   "metadata": {},
   "source": [
    "### Membership Operator:\n",
    "\n",
    "It will give you True when a string or substring or any item found in the statement."
   ]
  },
  {
   "cell_type": "code",
   "execution_count": 45,
   "id": "b2a221a4",
   "metadata": {},
   "outputs": [],
   "source": [
    "st = \"Hey we are learning Python Programming in upGrad\""
   ]
  },
  {
   "cell_type": "code",
   "execution_count": 46,
   "id": "ddb7d698",
   "metadata": {},
   "outputs": [
    {
     "data": {
      "text/plain": [
       "True"
      ]
     },
     "execution_count": 46,
     "metadata": {},
     "output_type": "execute_result"
    }
   ],
   "source": [
    "\"Grad\" in st"
   ]
  },
  {
   "cell_type": "code",
   "execution_count": 47,
   "id": "9f58c83b",
   "metadata": {},
   "outputs": [
    {
     "data": {
      "text/plain": [
       "True"
      ]
     },
     "execution_count": 47,
     "metadata": {},
     "output_type": "execute_result"
    }
   ],
   "source": [
    "\"Python\" in st"
   ]
  },
  {
   "cell_type": "code",
   "execution_count": 48,
   "id": "0782be78",
   "metadata": {},
   "outputs": [
    {
     "data": {
      "text/plain": [
       "False"
      ]
     },
     "execution_count": 48,
     "metadata": {},
     "output_type": "execute_result"
    }
   ],
   "source": [
    "\"python\" in st"
   ]
  },
  {
   "cell_type": "code",
   "execution_count": 49,
   "id": "d9137ea9",
   "metadata": {},
   "outputs": [
    {
     "data": {
      "text/plain": [
       "True"
      ]
     },
     "execution_count": 49,
     "metadata": {},
     "output_type": "execute_result"
    }
   ],
   "source": [
    "\"Modi\" not in st"
   ]
  },
  {
   "cell_type": "markdown",
   "id": "5a431dc7",
   "metadata": {},
   "source": [
    "### Python BitWise Operator:\n",
    "\n",
    "Bitwise operator are used to compare the binary numbers.\n",
    "\n",
    "and (&), or (|)"
   ]
  },
  {
   "cell_type": "code",
   "execution_count": 50,
   "id": "67f5571c",
   "metadata": {},
   "outputs": [],
   "source": [
    "a = 7; b = 3"
   ]
  },
  {
   "cell_type": "code",
   "execution_count": 51,
   "id": "88275be4",
   "metadata": {},
   "outputs": [
    {
     "data": {
      "text/plain": [
       "3"
      ]
     },
     "execution_count": 51,
     "metadata": {},
     "output_type": "execute_result"
    }
   ],
   "source": [
    "a & 3"
   ]
  },
  {
   "cell_type": "code",
   "execution_count": 52,
   "id": "14649165",
   "metadata": {},
   "outputs": [
    {
     "data": {
      "text/plain": [
       "7"
      ]
     },
     "execution_count": 52,
     "metadata": {},
     "output_type": "execute_result"
    }
   ],
   "source": [
    "a | b"
   ]
  },
  {
   "cell_type": "code",
   "execution_count": 65,
   "id": "f42a8fe4",
   "metadata": {},
   "outputs": [],
   "source": [
    "a = 7; b = 10"
   ]
  },
  {
   "cell_type": "code",
   "execution_count": 66,
   "id": "c0e614e4",
   "metadata": {},
   "outputs": [
    {
     "data": {
      "text/plain": [
       "2"
      ]
     },
     "execution_count": 66,
     "metadata": {},
     "output_type": "execute_result"
    }
   ],
   "source": [
    "a & b"
   ]
  },
  {
   "cell_type": "code",
   "execution_count": 67,
   "id": "f6ef8e5d",
   "metadata": {},
   "outputs": [
    {
     "data": {
      "text/plain": [
       "15"
      ]
     },
     "execution_count": 67,
     "metadata": {},
     "output_type": "execute_result"
    }
   ],
   "source": [
    "a | b"
   ]
  },
  {
   "cell_type": "markdown",
   "id": "5b3236a5",
   "metadata": {},
   "source": [
    "### How to convert a number to binary?\n",
    "\n",
    "* 1 : True\n",
    "* 0 : False"
   ]
  },
  {
   "cell_type": "code",
   "execution_count": 63,
   "id": "32dfbdbd",
   "metadata": {},
   "outputs": [
    {
     "data": {
      "text/plain": [
       "'0b111'"
      ]
     },
     "execution_count": 63,
     "metadata": {},
     "output_type": "execute_result"
    }
   ],
   "source": [
    "bin(a) # 7"
   ]
  },
  {
   "cell_type": "code",
   "execution_count": 64,
   "id": "3e17014e",
   "metadata": {},
   "outputs": [
    {
     "data": {
      "text/plain": [
       "'0b1010'"
      ]
     },
     "execution_count": 64,
     "metadata": {},
     "output_type": "execute_result"
    }
   ],
   "source": [
    "bin(10)"
   ]
  },
  {
   "cell_type": "code",
   "execution_count": null,
   "id": "7e733cf0",
   "metadata": {},
   "outputs": [],
   "source": [
    "0 1 1 1\n",
    "1 0 1 0\n",
    "_________ |\n",
    "1 1 1 1"
   ]
  },
  {
   "cell_type": "code",
   "execution_count": 68,
   "id": "848c0bec",
   "metadata": {},
   "outputs": [
    {
     "name": "stdout",
     "output_type": "stream",
     "text": [
      "15\n"
     ]
    }
   ],
   "source": [
    "print(0b1111)"
   ]
  },
  {
   "cell_type": "code",
   "execution_count": null,
   "id": "8b5c2f54",
   "metadata": {},
   "outputs": [],
   "source": [
    "0 1 1 1\n",
    "1 0 1 0\n",
    "_________ &\n",
    "0 0 1 0"
   ]
  },
  {
   "cell_type": "code",
   "execution_count": 69,
   "id": "99ec4b4a",
   "metadata": {},
   "outputs": [
    {
     "name": "stdout",
     "output_type": "stream",
     "text": [
      "2\n"
     ]
    }
   ],
   "source": [
    "print(0b0010)"
   ]
  },
  {
   "cell_type": "code",
   "execution_count": 70,
   "id": "79ea1ba8",
   "metadata": {},
   "outputs": [],
   "source": [
    "a = 10"
   ]
  },
  {
   "cell_type": "code",
   "execution_count": 71,
   "id": "73b60531",
   "metadata": {},
   "outputs": [
    {
     "data": {
      "text/plain": [
       "'0b1010'"
      ]
     },
     "execution_count": 71,
     "metadata": {},
     "output_type": "execute_result"
    }
   ],
   "source": [
    "bin(a)"
   ]
  },
  {
   "cell_type": "code",
   "execution_count": null,
   "id": "4b3e400b",
   "metadata": {},
   "outputs": [],
   "source": [
    "1011001"
   ]
  },
  {
   "cell_type": "code",
   "execution_count": 72,
   "id": "2df3a8e7",
   "metadata": {},
   "outputs": [
    {
     "name": "stdout",
     "output_type": "stream",
     "text": [
      "89\n"
     ]
    }
   ],
   "source": [
    "print(0b1011001)"
   ]
  },
  {
   "cell_type": "code",
   "execution_count": 73,
   "id": "f7af2651",
   "metadata": {},
   "outputs": [
    {
     "data": {
      "text/plain": [
       "'0b1011001'"
      ]
     },
     "execution_count": 73,
     "metadata": {},
     "output_type": "execute_result"
    }
   ],
   "source": [
    "bin(89)"
   ]
  },
  {
   "cell_type": "code",
   "execution_count": 74,
   "id": "689e7bd5",
   "metadata": {},
   "outputs": [
    {
     "data": {
      "text/plain": [
       "'0b110'"
      ]
     },
     "execution_count": 74,
     "metadata": {},
     "output_type": "execute_result"
    }
   ],
   "source": [
    "bin(6) # number to binary"
   ]
  },
  {
   "cell_type": "code",
   "execution_count": 75,
   "id": "a14f61d6",
   "metadata": {},
   "outputs": [
    {
     "name": "stdout",
     "output_type": "stream",
     "text": [
      "6\n"
     ]
    }
   ],
   "source": [
    "# binary to num\n",
    "print(0b110)"
   ]
  },
  {
   "cell_type": "code",
   "execution_count": null,
   "id": "d216dd6b",
   "metadata": {},
   "outputs": [],
   "source": []
  }
 ],
 "metadata": {
  "kernelspec": {
   "display_name": "Python 3 (ipykernel)",
   "language": "python",
   "name": "python3"
  },
  "language_info": {
   "codemirror_mode": {
    "name": "ipython",
    "version": 3
   },
   "file_extension": ".py",
   "mimetype": "text/x-python",
   "name": "python",
   "nbconvert_exporter": "python",
   "pygments_lexer": "ipython3",
   "version": "3.11.2"
  }
 },
 "nbformat": 4,
 "nbformat_minor": 5
}
