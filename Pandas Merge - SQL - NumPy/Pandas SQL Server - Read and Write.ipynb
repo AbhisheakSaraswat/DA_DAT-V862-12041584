{
 "cells": [
  {
   "cell_type": "code",
   "execution_count": 2,
   "id": "22103e29",
   "metadata": {},
   "outputs": [],
   "source": [
    "import pandas as pd\n",
    "import pyodbc # python object database connectivity\n",
    "import warnings\n",
    "import platform\n",
    "import os\n",
    "warnings.filterwarnings(\"ignore\")"
   ]
  },
  {
   "cell_type": "code",
   "execution_count": 2,
   "id": "c8cdd384",
   "metadata": {},
   "outputs": [
    {
     "data": {
      "text/plain": [
       "['SQL Server',\n",
       " 'SQL Server Native Client 11.0',\n",
       " 'SQL Server Native Client RDA 11.0',\n",
       " 'PostgreSQL ANSI(x64)',\n",
       " 'PostgreSQL Unicode(x64)',\n",
       " 'Amazon Redshift (x64)',\n",
       " 'ODBC Driver 17 for SQL Server']"
      ]
     },
     "execution_count": 2,
     "metadata": {},
     "output_type": "execute_result"
    }
   ],
   "source": [
    "pyodbc.drivers()"
   ]
  },
  {
   "cell_type": "code",
   "execution_count": 3,
   "id": "b8385a68",
   "metadata": {},
   "outputs": [
    {
     "data": {
      "text/plain": [
       "'DESKTOP-NAKP5E5'"
      ]
     },
     "execution_count": 3,
     "metadata": {},
     "output_type": "execute_result"
    }
   ],
   "source": [
    "platform.node()"
   ]
  },
  {
   "cell_type": "markdown",
   "id": "f916fea8",
   "metadata": {},
   "source": [
    "* driver\n",
    "* host\n",
    "* database\n",
    "* trusted_connection"
   ]
  },
  {
   "cell_type": "code",
   "execution_count": 4,
   "id": "d9722087",
   "metadata": {},
   "outputs": [],
   "source": [
    "connection = pyodbc.connect(driver = \"{ODBC Driver 17 for SQL Server}\",\n",
    "                           host = platform.node(), database = \"KnowledgeHut\",\n",
    "                           trusted_connection='yes')"
   ]
  },
  {
   "cell_type": "code",
   "execution_count": 5,
   "id": "b914c577",
   "metadata": {},
   "outputs": [
    {
     "data": {
      "text/plain": [
       "<pyodbc.Connection at 0x2a3d18bedb0>"
      ]
     },
     "execution_count": 5,
     "metadata": {},
     "output_type": "execute_result"
    }
   ],
   "source": [
    "connection"
   ]
  },
  {
   "cell_type": "code",
   "execution_count": 6,
   "id": "c7b21a20",
   "metadata": {},
   "outputs": [],
   "source": [
    "# reading the data from database"
   ]
  },
  {
   "cell_type": "code",
   "execution_count": 7,
   "id": "d7afc194",
   "metadata": {},
   "outputs": [],
   "source": [
    "sql_query = \"select * from employee\""
   ]
  },
  {
   "cell_type": "code",
   "execution_count": 8,
   "id": "f605bca6",
   "metadata": {},
   "outputs": [],
   "source": [
    "df = pd.read_sql(sql=sql_query, con =  connection)"
   ]
  },
  {
   "cell_type": "code",
   "execution_count": 9,
   "id": "7f15cf46",
   "metadata": {},
   "outputs": [
    {
     "data": {
      "text/plain": [
       "(30, 14)"
      ]
     },
     "execution_count": 9,
     "metadata": {},
     "output_type": "execute_result"
    }
   ],
   "source": [
    "df.shape"
   ]
  },
  {
   "cell_type": "code",
   "execution_count": 10,
   "id": "09c6860b",
   "metadata": {},
   "outputs": [
    {
     "data": {
      "text/html": [
       "<div>\n",
       "<style scoped>\n",
       "    .dataframe tbody tr th:only-of-type {\n",
       "        vertical-align: middle;\n",
       "    }\n",
       "\n",
       "    .dataframe tbody tr th {\n",
       "        vertical-align: top;\n",
       "    }\n",
       "\n",
       "    .dataframe thead th {\n",
       "        text-align: right;\n",
       "    }\n",
       "</style>\n",
       "<table border=\"1\" class=\"dataframe\">\n",
       "  <thead>\n",
       "    <tr style=\"text-align: right;\">\n",
       "      <th></th>\n",
       "      <th>id</th>\n",
       "      <th>first_name</th>\n",
       "      <th>last_name</th>\n",
       "      <th>age</th>\n",
       "      <th>sex</th>\n",
       "      <th>employee_title</th>\n",
       "      <th>department</th>\n",
       "      <th>salary</th>\n",
       "      <th>target</th>\n",
       "      <th>bonus</th>\n",
       "      <th>email</th>\n",
       "      <th>city</th>\n",
       "      <th>address</th>\n",
       "      <th>manager_id</th>\n",
       "    </tr>\n",
       "  </thead>\n",
       "  <tbody>\n",
       "    <tr>\n",
       "      <th>0</th>\n",
       "      <td>5.0</td>\n",
       "      <td>Max</td>\n",
       "      <td>George</td>\n",
       "      <td>26.0</td>\n",
       "      <td>M</td>\n",
       "      <td>Sales</td>\n",
       "      <td>Sales</td>\n",
       "      <td>1300.0</td>\n",
       "      <td>200.0</td>\n",
       "      <td>150.0</td>\n",
       "      <td>Max@company.com</td>\n",
       "      <td>California</td>\n",
       "      <td>2638 Richards Avenue</td>\n",
       "      <td>1.0</td>\n",
       "    </tr>\n",
       "    <tr>\n",
       "      <th>1</th>\n",
       "      <td>13.0</td>\n",
       "      <td>Katty</td>\n",
       "      <td>Bond</td>\n",
       "      <td>56.0</td>\n",
       "      <td>F</td>\n",
       "      <td>Manager</td>\n",
       "      <td>Management</td>\n",
       "      <td>150000.0</td>\n",
       "      <td>0.0</td>\n",
       "      <td>300.0</td>\n",
       "      <td>Katty@company.com</td>\n",
       "      <td>Arizona</td>\n",
       "      <td>None</td>\n",
       "      <td>1.0</td>\n",
       "    </tr>\n",
       "    <tr>\n",
       "      <th>2</th>\n",
       "      <td>11.0</td>\n",
       "      <td>Richerd</td>\n",
       "      <td>Gear</td>\n",
       "      <td>57.0</td>\n",
       "      <td>M</td>\n",
       "      <td>Manager</td>\n",
       "      <td>Management</td>\n",
       "      <td>250000.0</td>\n",
       "      <td>0.0</td>\n",
       "      <td>300.0</td>\n",
       "      <td>Richerd@company.com</td>\n",
       "      <td>Alabama</td>\n",
       "      <td>None</td>\n",
       "      <td>1.0</td>\n",
       "    </tr>\n",
       "    <tr>\n",
       "      <th>3</th>\n",
       "      <td>10.0</td>\n",
       "      <td>Jennifer</td>\n",
       "      <td>Dion</td>\n",
       "      <td>34.0</td>\n",
       "      <td>F</td>\n",
       "      <td>Sales</td>\n",
       "      <td>Sales</td>\n",
       "      <td>1000.0</td>\n",
       "      <td>200.0</td>\n",
       "      <td>150.0</td>\n",
       "      <td>Jennifer@company.com</td>\n",
       "      <td>Alabama</td>\n",
       "      <td>None</td>\n",
       "      <td>13.0</td>\n",
       "    </tr>\n",
       "    <tr>\n",
       "      <th>4</th>\n",
       "      <td>19.0</td>\n",
       "      <td>George</td>\n",
       "      <td>Joe</td>\n",
       "      <td>50.0</td>\n",
       "      <td>M</td>\n",
       "      <td>Manager</td>\n",
       "      <td>Management</td>\n",
       "      <td>100000.0</td>\n",
       "      <td>0.0</td>\n",
       "      <td>300.0</td>\n",
       "      <td>George@company.com</td>\n",
       "      <td>Florida</td>\n",
       "      <td>1003 Wyatt Street</td>\n",
       "      <td>1.0</td>\n",
       "    </tr>\n",
       "  </tbody>\n",
       "</table>\n",
       "</div>"
      ],
      "text/plain": [
       "     id first_name last_name   age sex employee_title  department    salary  \\\n",
       "0   5.0        Max    George  26.0   M          Sales       Sales    1300.0   \n",
       "1  13.0      Katty      Bond  56.0   F        Manager  Management  150000.0   \n",
       "2  11.0    Richerd      Gear  57.0   M        Manager  Management  250000.0   \n",
       "3  10.0   Jennifer      Dion  34.0   F          Sales       Sales    1000.0   \n",
       "4  19.0     George       Joe  50.0   M        Manager  Management  100000.0   \n",
       "\n",
       "   target  bonus                 email        city               address  \\\n",
       "0   200.0  150.0       Max@company.com  California  2638 Richards Avenue   \n",
       "1     0.0  300.0     Katty@company.com     Arizona                  None   \n",
       "2     0.0  300.0   Richerd@company.com     Alabama                  None   \n",
       "3   200.0  150.0  Jennifer@company.com     Alabama                  None   \n",
       "4     0.0  300.0    George@company.com     Florida     1003 Wyatt Street   \n",
       "\n",
       "   manager_id  \n",
       "0         1.0  \n",
       "1         1.0  \n",
       "2         1.0  \n",
       "3        13.0  \n",
       "4         1.0  "
      ]
     },
     "execution_count": 10,
     "metadata": {},
     "output_type": "execute_result"
    }
   ],
   "source": [
    "df.head()"
   ]
  },
  {
   "cell_type": "code",
   "execution_count": 11,
   "id": "915865b0",
   "metadata": {},
   "outputs": [],
   "source": [
    "df1 = pd.read_sql(sql=\"select * from employee where department = 'Sales'\", con = connection)"
   ]
  },
  {
   "cell_type": "code",
   "execution_count": 13,
   "id": "b25baa9b",
   "metadata": {},
   "outputs": [
    {
     "data": {
      "text/plain": [
       "array(['Sales'], dtype=object)"
      ]
     },
     "execution_count": 13,
     "metadata": {},
     "output_type": "execute_result"
    }
   ],
   "source": [
    "df1['department'].unique()"
   ]
  },
  {
   "cell_type": "code",
   "execution_count": 15,
   "id": "adafcfb6",
   "metadata": {},
   "outputs": [],
   "source": [
    "os.mkdir(\"Kaushal\")"
   ]
  },
  {
   "cell_type": "code",
   "execution_count": 5,
   "id": "edcd172d",
   "metadata": {},
   "outputs": [],
   "source": [
    "fldpath = os.getcwd() + \"\\\\\" + \"Kaushal\""
   ]
  },
  {
   "cell_type": "code",
   "execution_count": 6,
   "id": "61bf9fab",
   "metadata": {},
   "outputs": [
    {
     "data": {
      "text/plain": [
       "'C:\\\\Users\\\\AEPAC\\\\Desktop\\\\KnowledgeHut\\\\2024\\\\2024_KnowledgeHut\\\\Data Analyst (MID - 14th Sep)\\\\Python\\\\20th - Oct Python Pandas - Numpy - Visualization\\\\Kaushal'"
      ]
     },
     "execution_count": 6,
     "metadata": {},
     "output_type": "execute_result"
    }
   ],
   "source": [
    "fldpath"
   ]
  },
  {
   "cell_type": "code",
   "execution_count": 7,
   "id": "0f2d06dc",
   "metadata": {},
   "outputs": [],
   "source": [
    "sales = pd.read_csv(\"Superstore.csv\", encoding=\"ISO-8859-1\")"
   ]
  },
  {
   "cell_type": "code",
   "execution_count": 8,
   "id": "dc32a567",
   "metadata": {},
   "outputs": [
    {
     "data": {
      "text/plain": [
       "(9994, 21)"
      ]
     },
     "execution_count": 8,
     "metadata": {},
     "output_type": "execute_result"
    }
   ],
   "source": [
    "sales.shape"
   ]
  },
  {
   "cell_type": "code",
   "execution_count": 9,
   "id": "fde25c11",
   "metadata": {},
   "outputs": [],
   "source": [
    "for st in sales.State.unique():\n",
    "    result = sales[sales[\"State\"] == st]\n",
    "    result.to_csv(fldpath + \"\\\\\" + st + \".csv\", index = False)"
   ]
  },
  {
   "cell_type": "code",
   "execution_count": 10,
   "id": "296e41fe",
   "metadata": {},
   "outputs": [],
   "source": [
    "import sqlalchemy"
   ]
  },
  {
   "cell_type": "code",
   "execution_count": 11,
   "id": "3f6012ca",
   "metadata": {},
   "outputs": [
    {
     "name": "stdout",
     "output_type": "stream",
     "text": [
      "All the files names: \n",
      " ['Alabama.csv', 'Arizona.csv', 'Arkansas.csv', 'California.csv', 'Colorado.csv', 'Connecticut.csv', 'Delaware.csv', 'District of Columbia.csv', 'Florida.csv', 'Georgia.csv', 'Idaho.csv', 'Illinois.csv', 'Indiana.csv', 'Iowa.csv', 'Kansas.csv', 'Kentucky.csv', 'Louisiana.csv', 'Maine.csv', 'Maryland.csv', 'Massachusetts.csv', 'Michigan.csv', 'Minnesota.csv', 'Mississippi.csv', 'Missouri.csv', 'Montana.csv', 'Nebraska.csv', 'Nevada.csv', 'New Hampshire.csv', 'New Jersey.csv', 'New Mexico.csv', 'New York.csv', 'North Carolina.csv', 'North Dakota.csv', 'Ohio.csv', 'Oklahoma.csv', 'Oregon.csv', 'Pennsylvania.csv', 'Rhode Island.csv', 'South Carolina.csv', 'South Dakota.csv', 'Tennessee.csv', 'Texas.csv', 'Utah.csv', 'Vermont.csv', 'Virginia.csv', 'Washington.csv', 'West Virginia.csv', 'Wisconsin.csv', 'Wyoming.csv']\n"
     ]
    }
   ],
   "source": [
    "print(\"All the files names: \\n\", os.listdir(fldpath))"
   ]
  },
  {
   "cell_type": "code",
   "execution_count": 12,
   "id": "b7f79d7d",
   "metadata": {},
   "outputs": [],
   "source": [
    "# connect with sql with python using sqlalchemy"
   ]
  },
  {
   "cell_type": "code",
   "execution_count": 27,
   "id": "d8fa3d14",
   "metadata": {},
   "outputs": [],
   "source": [
    "import pandas as pd\n",
    "from sqlalchemy import create_engine\n",
    "\n",
    "# Define the SQL Server connection string using Windows Authentication\n",
    "server = platform.node()\n",
    "database = 'KnowledgeHut'\n",
    "\n",
    "# Create the SQLAlchemy engine with a trusted connection\n",
    "engine = create_engine(f\"mssql+pyodbc://@{server}/{database}?driver=ODBC+Driver+17+for+SQL+Server&trusted_connection=yes\")"
   ]
  },
  {
   "cell_type": "code",
   "execution_count": 32,
   "id": "1b46eb71",
   "metadata": {},
   "outputs": [],
   "source": [
    "for fl in os.listdir(fldpath):\n",
    "    df = pd.read_csv(fldpath + \"\\\\\" + fl)\n",
    "    df.to_sql(\"salesData1\", con = engine , if_exists='append', index = False)"
   ]
  },
  {
   "cell_type": "code",
   "execution_count": null,
   "id": "8f450484",
   "metadata": {},
   "outputs": [],
   "source": []
  }
 ],
 "metadata": {
  "kernelspec": {
   "display_name": "Python 3 (ipykernel)",
   "language": "python",
   "name": "python3"
  },
  "language_info": {
   "codemirror_mode": {
    "name": "ipython",
    "version": 3
   },
   "file_extension": ".py",
   "mimetype": "text/x-python",
   "name": "python",
   "nbconvert_exporter": "python",
   "pygments_lexer": "ipython3",
   "version": "3.11.2"
  }
 },
 "nbformat": 4,
 "nbformat_minor": 5
}
