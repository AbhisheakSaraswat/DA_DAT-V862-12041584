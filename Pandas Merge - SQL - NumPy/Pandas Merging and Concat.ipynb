{
 "cells": [
  {
   "cell_type": "markdown",
   "id": "fbb2e692",
   "metadata": {},
   "source": [
    "### Pandas Merging and Joining"
   ]
  },
  {
   "cell_type": "code",
   "execution_count": 3,
   "id": "dfa3d2ed",
   "metadata": {},
   "outputs": [],
   "source": [
    "import pandas as pd\n",
    "import numpy as np\n",
    "import os\n",
    "import warnings\n",
    "warnings.filterwarnings(\"ignore\")"
   ]
  },
  {
   "cell_type": "code",
   "execution_count": 4,
   "id": "a36f405b",
   "metadata": {},
   "outputs": [
    {
     "data": {
      "text/plain": [
       "['.ipynb_checkpoints', 'Random_Sales.xlsx', 'Superstore.csv', 'Untitled.ipynb']"
      ]
     },
     "execution_count": 4,
     "metadata": {},
     "output_type": "execute_result"
    }
   ],
   "source": [
    "os.listdir()"
   ]
  },
  {
   "cell_type": "code",
   "execution_count": 5,
   "id": "a76c21e6",
   "metadata": {},
   "outputs": [],
   "source": [
    "# Get all worksheets from a workbook\n",
    "worksheets = pd.read_excel(\"Random_Sales.xlsx\", sheet_name=None)"
   ]
  },
  {
   "cell_type": "code",
   "execution_count": 6,
   "id": "08c08211",
   "metadata": {},
   "outputs": [
    {
     "data": {
      "text/plain": [
       "dict"
      ]
     },
     "execution_count": 6,
     "metadata": {},
     "output_type": "execute_result"
    }
   ],
   "source": [
    "# now your worksheets is dictionary\n",
    "type(worksheets)"
   ]
  },
  {
   "cell_type": "code",
   "execution_count": 8,
   "id": "b0fcb68f",
   "metadata": {},
   "outputs": [
    {
     "data": {
      "text/plain": [
       "dict_keys(['Orders', 'Amit', 'Pushpanjali', 'Om', 'Returns', 'Ankita'])"
      ]
     },
     "execution_count": 8,
     "metadata": {},
     "output_type": "execute_result"
    }
   ],
   "source": [
    "worksheets.keys()"
   ]
  },
  {
   "cell_type": "code",
   "execution_count": 9,
   "id": "5dda4575",
   "metadata": {},
   "outputs": [
    {
     "data": {
      "text/plain": [
       "['Orders', 'Amit', 'Pushpanjali', 'Om', 'Returns', 'Ankita']"
      ]
     },
     "execution_count": 9,
     "metadata": {},
     "output_type": "execute_result"
    }
   ],
   "source": [
    "pd.ExcelFile(\"Random_Sales.xlsx\").sheet_names"
   ]
  },
  {
   "cell_type": "code",
   "execution_count": 10,
   "id": "e4871b3b",
   "metadata": {},
   "outputs": [],
   "source": [
    "orders = pd.read_excel(\"Random_Sales.xlsx\", sheet_name=\"Orders\")"
   ]
  },
  {
   "cell_type": "code",
   "execution_count": 11,
   "id": "19bd3bda",
   "metadata": {},
   "outputs": [
    {
     "data": {
      "text/plain": [
       "(5000, 5)"
      ]
     },
     "execution_count": 11,
     "metadata": {},
     "output_type": "execute_result"
    }
   ],
   "source": [
    "orders.shape"
   ]
  },
  {
   "cell_type": "code",
   "execution_count": 12,
   "id": "894f66c0",
   "metadata": {},
   "outputs": [
    {
     "data": {
      "text/html": [
       "<div>\n",
       "<style scoped>\n",
       "    .dataframe tbody tr th:only-of-type {\n",
       "        vertical-align: middle;\n",
       "    }\n",
       "\n",
       "    .dataframe tbody tr th {\n",
       "        vertical-align: top;\n",
       "    }\n",
       "\n",
       "    .dataframe thead th {\n",
       "        text-align: right;\n",
       "    }\n",
       "</style>\n",
       "<table border=\"1\" class=\"dataframe\">\n",
       "  <thead>\n",
       "    <tr style=\"text-align: right;\">\n",
       "      <th></th>\n",
       "      <th>Order ID</th>\n",
       "      <th>Customer</th>\n",
       "      <th>City</th>\n",
       "      <th>Quantity</th>\n",
       "      <th>Price</th>\n",
       "    </tr>\n",
       "  </thead>\n",
       "  <tbody>\n",
       "    <tr>\n",
       "      <th>0</th>\n",
       "      <td>NJ-2016-152156</td>\n",
       "      <td>Raymond Young</td>\n",
       "      <td>Troy</td>\n",
       "      <td>6</td>\n",
       "      <td>12.42</td>\n",
       "    </tr>\n",
       "    <tr>\n",
       "      <th>1</th>\n",
       "      <td>NJ-2016-138688</td>\n",
       "      <td>Helen Dean</td>\n",
       "      <td>Westfield</td>\n",
       "      <td>7</td>\n",
       "      <td>17.83</td>\n",
       "    </tr>\n",
       "    <tr>\n",
       "      <th>2</th>\n",
       "      <td>WA-2015-108966</td>\n",
       "      <td>Shirley Chavez</td>\n",
       "      <td>Seattle</td>\n",
       "      <td>2</td>\n",
       "      <td>53.35</td>\n",
       "    </tr>\n",
       "    <tr>\n",
       "      <th>3</th>\n",
       "      <td>NJ-2014-115812</td>\n",
       "      <td>Brian Ryan</td>\n",
       "      <td>Westfield</td>\n",
       "      <td>1</td>\n",
       "      <td>53.35</td>\n",
       "    </tr>\n",
       "    <tr>\n",
       "      <th>4</th>\n",
       "      <td>NJ-2017-114412</td>\n",
       "      <td>Benjamin Willis</td>\n",
       "      <td>Westfield</td>\n",
       "      <td>3</td>\n",
       "      <td>17.83</td>\n",
       "    </tr>\n",
       "  </tbody>\n",
       "</table>\n",
       "</div>"
      ],
      "text/plain": [
       "         Order ID         Customer       City  Quantity  Price\n",
       "0  NJ-2016-152156    Raymond Young       Troy         6  12.42\n",
       "1  NJ-2016-138688       Helen Dean  Westfield         7  17.83\n",
       "2  WA-2015-108966   Shirley Chavez    Seattle         2  53.35\n",
       "3  NJ-2014-115812       Brian Ryan  Westfield         1  53.35\n",
       "4  NJ-2017-114412  Benjamin Willis  Westfield         3  17.83"
      ]
     },
     "execution_count": 12,
     "metadata": {},
     "output_type": "execute_result"
    }
   ],
   "source": [
    "orders.head()"
   ]
  },
  {
   "cell_type": "code",
   "execution_count": 13,
   "id": "880fb188",
   "metadata": {},
   "outputs": [],
   "source": [
    "returns = pd.read_excel(\"Random_Sales.xlsx\", sheet_name=\"Returns\")"
   ]
  },
  {
   "cell_type": "code",
   "execution_count": 14,
   "id": "ec32b11f",
   "metadata": {},
   "outputs": [
    {
     "data": {
      "text/plain": [
       "(2000, 4)"
      ]
     },
     "execution_count": 14,
     "metadata": {},
     "output_type": "execute_result"
    }
   ],
   "source": [
    "returns.shape"
   ]
  },
  {
   "cell_type": "code",
   "execution_count": 16,
   "id": "6461ff77",
   "metadata": {},
   "outputs": [
    {
     "data": {
      "text/html": [
       "<div>\n",
       "<style scoped>\n",
       "    .dataframe tbody tr th:only-of-type {\n",
       "        vertical-align: middle;\n",
       "    }\n",
       "\n",
       "    .dataframe tbody tr th {\n",
       "        vertical-align: top;\n",
       "    }\n",
       "\n",
       "    .dataframe thead th {\n",
       "        text-align: right;\n",
       "    }\n",
       "</style>\n",
       "<table border=\"1\" class=\"dataframe\">\n",
       "  <thead>\n",
       "    <tr style=\"text-align: right;\">\n",
       "      <th></th>\n",
       "      <th>Order ID</th>\n",
       "      <th>Customer</th>\n",
       "      <th>City</th>\n",
       "      <th>State</th>\n",
       "    </tr>\n",
       "  </thead>\n",
       "  <tbody>\n",
       "    <tr>\n",
       "      <th>0</th>\n",
       "      <td>NJ-2016-273214</td>\n",
       "      <td>Raymond Young</td>\n",
       "      <td>Troy</td>\n",
       "      <td>New York</td>\n",
       "    </tr>\n",
       "    <tr>\n",
       "      <th>1</th>\n",
       "      <td>NJ-2016-271456</td>\n",
       "      <td>Helen Dean</td>\n",
       "      <td>Westfield</td>\n",
       "      <td>New Jersey</td>\n",
       "    </tr>\n",
       "  </tbody>\n",
       "</table>\n",
       "</div>"
      ],
      "text/plain": [
       "         Order ID       Customer       City       State\n",
       "0  NJ-2016-273214  Raymond Young       Troy    New York\n",
       "1  NJ-2016-271456     Helen Dean  Westfield  New Jersey"
      ]
     },
     "execution_count": 16,
     "metadata": {},
     "output_type": "execute_result"
    }
   ],
   "source": [
    "returns.head(2)"
   ]
  },
  {
   "cell_type": "code",
   "execution_count": 17,
   "id": "3e89af09",
   "metadata": {},
   "outputs": [
    {
     "data": {
      "text/html": [
       "<div>\n",
       "<style scoped>\n",
       "    .dataframe tbody tr th:only-of-type {\n",
       "        vertical-align: middle;\n",
       "    }\n",
       "\n",
       "    .dataframe tbody tr th {\n",
       "        vertical-align: top;\n",
       "    }\n",
       "\n",
       "    .dataframe thead th {\n",
       "        text-align: right;\n",
       "    }\n",
       "</style>\n",
       "<table border=\"1\" class=\"dataframe\">\n",
       "  <thead>\n",
       "    <tr style=\"text-align: right;\">\n",
       "      <th></th>\n",
       "      <th>Order ID</th>\n",
       "      <th>Customer</th>\n",
       "      <th>City</th>\n",
       "      <th>Quantity</th>\n",
       "      <th>Price</th>\n",
       "    </tr>\n",
       "  </thead>\n",
       "  <tbody>\n",
       "    <tr>\n",
       "      <th>0</th>\n",
       "      <td>NJ-2016-152156</td>\n",
       "      <td>Raymond Young</td>\n",
       "      <td>Troy</td>\n",
       "      <td>6</td>\n",
       "      <td>12.42</td>\n",
       "    </tr>\n",
       "    <tr>\n",
       "      <th>1</th>\n",
       "      <td>NJ-2016-138688</td>\n",
       "      <td>Helen Dean</td>\n",
       "      <td>Westfield</td>\n",
       "      <td>7</td>\n",
       "      <td>17.83</td>\n",
       "    </tr>\n",
       "  </tbody>\n",
       "</table>\n",
       "</div>"
      ],
      "text/plain": [
       "         Order ID       Customer       City  Quantity  Price\n",
       "0  NJ-2016-152156  Raymond Young       Troy         6  12.42\n",
       "1  NJ-2016-138688     Helen Dean  Westfield         7  17.83"
      ]
     },
     "execution_count": 17,
     "metadata": {},
     "output_type": "execute_result"
    }
   ],
   "source": [
    "orders.head(2)"
   ]
  },
  {
   "cell_type": "code",
   "execution_count": 18,
   "id": "63af66c6",
   "metadata": {},
   "outputs": [],
   "source": [
    "# Get state column in orders table"
   ]
  },
  {
   "cell_type": "code",
   "execution_count": 19,
   "id": "a93c0e2a",
   "metadata": {},
   "outputs": [],
   "source": [
    "# Inner Join : Gives common records from both the dataframe"
   ]
  },
  {
   "cell_type": "code",
   "execution_count": 20,
   "id": "8f68d108",
   "metadata": {},
   "outputs": [],
   "source": [
    "innerJoin = pd.merge(left=orders, right=returns, \n",
    "                     how=\"inner\", on = 'Order ID')"
   ]
  },
  {
   "cell_type": "code",
   "execution_count": 22,
   "id": "565841e2",
   "metadata": {},
   "outputs": [
    {
     "name": "stdout",
     "output_type": "stream",
     "text": [
      "Orders table : (5000, 5) and Returns Table : (2000, 4)\n"
     ]
    }
   ],
   "source": [
    "print(f\"Orders table : {orders.shape} and Returns Table : {returns.shape}\")"
   ]
  },
  {
   "cell_type": "code",
   "execution_count": 23,
   "id": "0cdd02db",
   "metadata": {},
   "outputs": [
    {
     "data": {
      "text/plain": [
       "(89, 8)"
      ]
     },
     "execution_count": 23,
     "metadata": {},
     "output_type": "execute_result"
    }
   ],
   "source": [
    "innerJoin.shape"
   ]
  },
  {
   "cell_type": "code",
   "execution_count": 24,
   "id": "77c4b236",
   "metadata": {},
   "outputs": [
    {
     "data": {
      "text/html": [
       "<div>\n",
       "<style scoped>\n",
       "    .dataframe tbody tr th:only-of-type {\n",
       "        vertical-align: middle;\n",
       "    }\n",
       "\n",
       "    .dataframe tbody tr th {\n",
       "        vertical-align: top;\n",
       "    }\n",
       "\n",
       "    .dataframe thead th {\n",
       "        text-align: right;\n",
       "    }\n",
       "</style>\n",
       "<table border=\"1\" class=\"dataframe\">\n",
       "  <thead>\n",
       "    <tr style=\"text-align: right;\">\n",
       "      <th></th>\n",
       "      <th>Order ID</th>\n",
       "      <th>Customer_x</th>\n",
       "      <th>City_x</th>\n",
       "      <th>Quantity</th>\n",
       "      <th>Price</th>\n",
       "      <th>Customer_y</th>\n",
       "      <th>City_y</th>\n",
       "      <th>State</th>\n",
       "    </tr>\n",
       "  </thead>\n",
       "  <tbody>\n",
       "    <tr>\n",
       "      <th>0</th>\n",
       "      <td>WA-2016-117590</td>\n",
       "      <td>Judy Sanchez</td>\n",
       "      <td>Seattle</td>\n",
       "      <td>7</td>\n",
       "      <td>53.35</td>\n",
       "      <td>Judy Sanchez</td>\n",
       "      <td>Seattle</td>\n",
       "      <td>Washington</td>\n",
       "    </tr>\n",
       "    <tr>\n",
       "      <th>1</th>\n",
       "      <td>WA-2015-117415</td>\n",
       "      <td>Harold Hunter</td>\n",
       "      <td>Seattle</td>\n",
       "      <td>4</td>\n",
       "      <td>12.42</td>\n",
       "      <td>Harold Hunter</td>\n",
       "      <td>Seattle</td>\n",
       "      <td>Washington</td>\n",
       "    </tr>\n",
       "    <tr>\n",
       "      <th>2</th>\n",
       "      <td>MA-2017-120999</td>\n",
       "      <td>Lori Shaw</td>\n",
       "      <td>Lowell</td>\n",
       "      <td>7</td>\n",
       "      <td>16.32</td>\n",
       "      <td>Lori Shaw</td>\n",
       "      <td>Lowell</td>\n",
       "      <td>Massachusetts</td>\n",
       "    </tr>\n",
       "    <tr>\n",
       "      <th>3</th>\n",
       "      <td>NJ-2016-101343</td>\n",
       "      <td>Sandra Hicks</td>\n",
       "      <td>Troy</td>\n",
       "      <td>1</td>\n",
       "      <td>53.35</td>\n",
       "      <td>Sandra Hicks</td>\n",
       "      <td>Troy</td>\n",
       "      <td>New York</td>\n",
       "    </tr>\n",
       "    <tr>\n",
       "      <th>4</th>\n",
       "      <td>MA-2017-139619</td>\n",
       "      <td>Roger Gomez</td>\n",
       "      <td>Lowell</td>\n",
       "      <td>7</td>\n",
       "      <td>16.32</td>\n",
       "      <td>Roger Gomez</td>\n",
       "      <td>Lowell</td>\n",
       "      <td>Massachusetts</td>\n",
       "    </tr>\n",
       "  </tbody>\n",
       "</table>\n",
       "</div>"
      ],
      "text/plain": [
       "         Order ID     Customer_x   City_x  Quantity  Price     Customer_y  \\\n",
       "0  WA-2016-117590   Judy Sanchez  Seattle         7  53.35   Judy Sanchez   \n",
       "1  WA-2015-117415  Harold Hunter  Seattle         4  12.42  Harold Hunter   \n",
       "2  MA-2017-120999      Lori Shaw   Lowell         7  16.32      Lori Shaw   \n",
       "3  NJ-2016-101343   Sandra Hicks     Troy         1  53.35   Sandra Hicks   \n",
       "4  MA-2017-139619    Roger Gomez   Lowell         7  16.32    Roger Gomez   \n",
       "\n",
       "    City_y          State  \n",
       "0  Seattle     Washington  \n",
       "1  Seattle     Washington  \n",
       "2   Lowell  Massachusetts  \n",
       "3     Troy       New York  \n",
       "4   Lowell  Massachusetts  "
      ]
     },
     "execution_count": 24,
     "metadata": {},
     "output_type": "execute_result"
    }
   ],
   "source": [
    "innerJoin.head()"
   ]
  },
  {
   "cell_type": "code",
   "execution_count": 27,
   "id": "a1ecb24e",
   "metadata": {},
   "outputs": [],
   "source": [
    "innerJoin = pd.merge(left=orders, right=returns[[\"Order ID\",\"State\"]],\n",
    "                     how=\"inner\", on = 'Order ID')"
   ]
  },
  {
   "cell_type": "code",
   "execution_count": 28,
   "id": "e12fea2d",
   "metadata": {},
   "outputs": [
    {
     "data": {
      "text/plain": [
       "(89, 6)"
      ]
     },
     "execution_count": 28,
     "metadata": {},
     "output_type": "execute_result"
    }
   ],
   "source": [
    "innerJoin.shape"
   ]
  },
  {
   "cell_type": "code",
   "execution_count": 29,
   "id": "610ae9d9",
   "metadata": {},
   "outputs": [
    {
     "data": {
      "text/html": [
       "<div>\n",
       "<style scoped>\n",
       "    .dataframe tbody tr th:only-of-type {\n",
       "        vertical-align: middle;\n",
       "    }\n",
       "\n",
       "    .dataframe tbody tr th {\n",
       "        vertical-align: top;\n",
       "    }\n",
       "\n",
       "    .dataframe thead th {\n",
       "        text-align: right;\n",
       "    }\n",
       "</style>\n",
       "<table border=\"1\" class=\"dataframe\">\n",
       "  <thead>\n",
       "    <tr style=\"text-align: right;\">\n",
       "      <th></th>\n",
       "      <th>Order ID</th>\n",
       "      <th>Customer</th>\n",
       "      <th>City</th>\n",
       "      <th>Quantity</th>\n",
       "      <th>Price</th>\n",
       "      <th>State</th>\n",
       "    </tr>\n",
       "  </thead>\n",
       "  <tbody>\n",
       "    <tr>\n",
       "      <th>0</th>\n",
       "      <td>WA-2016-117590</td>\n",
       "      <td>Judy Sanchez</td>\n",
       "      <td>Seattle</td>\n",
       "      <td>7</td>\n",
       "      <td>53.35</td>\n",
       "      <td>Washington</td>\n",
       "    </tr>\n",
       "    <tr>\n",
       "      <th>1</th>\n",
       "      <td>WA-2015-117415</td>\n",
       "      <td>Harold Hunter</td>\n",
       "      <td>Seattle</td>\n",
       "      <td>4</td>\n",
       "      <td>12.42</td>\n",
       "      <td>Washington</td>\n",
       "    </tr>\n",
       "    <tr>\n",
       "      <th>2</th>\n",
       "      <td>MA-2017-120999</td>\n",
       "      <td>Lori Shaw</td>\n",
       "      <td>Lowell</td>\n",
       "      <td>7</td>\n",
       "      <td>16.32</td>\n",
       "      <td>Massachusetts</td>\n",
       "    </tr>\n",
       "    <tr>\n",
       "      <th>3</th>\n",
       "      <td>NJ-2016-101343</td>\n",
       "      <td>Sandra Hicks</td>\n",
       "      <td>Troy</td>\n",
       "      <td>1</td>\n",
       "      <td>53.35</td>\n",
       "      <td>New York</td>\n",
       "    </tr>\n",
       "    <tr>\n",
       "      <th>4</th>\n",
       "      <td>MA-2017-139619</td>\n",
       "      <td>Roger Gomez</td>\n",
       "      <td>Lowell</td>\n",
       "      <td>7</td>\n",
       "      <td>16.32</td>\n",
       "      <td>Massachusetts</td>\n",
       "    </tr>\n",
       "  </tbody>\n",
       "</table>\n",
       "</div>"
      ],
      "text/plain": [
       "         Order ID       Customer     City  Quantity  Price          State\n",
       "0  WA-2016-117590   Judy Sanchez  Seattle         7  53.35     Washington\n",
       "1  WA-2015-117415  Harold Hunter  Seattle         4  12.42     Washington\n",
       "2  MA-2017-120999      Lori Shaw   Lowell         7  16.32  Massachusetts\n",
       "3  NJ-2016-101343   Sandra Hicks     Troy         1  53.35       New York\n",
       "4  MA-2017-139619    Roger Gomez   Lowell         7  16.32  Massachusetts"
      ]
     },
     "execution_count": 29,
     "metadata": {},
     "output_type": "execute_result"
    }
   ],
   "source": [
    "innerJoin.head()"
   ]
  },
  {
   "cell_type": "code",
   "execution_count": 30,
   "id": "0751feaf",
   "metadata": {},
   "outputs": [],
   "source": [
    "# InnerJoin(Common or Natural Join) : 89"
   ]
  },
  {
   "cell_type": "code",
   "execution_count": 31,
   "id": "29ab7ce8",
   "metadata": {},
   "outputs": [],
   "source": [
    "# Left Join : You will get whatever the count of left table\n",
    "# Left records with matching records"
   ]
  },
  {
   "cell_type": "code",
   "execution_count": 32,
   "id": "7770393a",
   "metadata": {},
   "outputs": [],
   "source": [
    "leftJoin = pd.merge(left=orders, right=returns[[\"Order ID\",\"State\"]],\n",
    "                     how=\"left\", on = 'Order ID')"
   ]
  },
  {
   "cell_type": "code",
   "execution_count": 33,
   "id": "c3a8209b",
   "metadata": {},
   "outputs": [
    {
     "data": {
      "text/plain": [
       "5000"
      ]
     },
     "execution_count": 33,
     "metadata": {},
     "output_type": "execute_result"
    }
   ],
   "source": [
    "orders.shape[0]"
   ]
  },
  {
   "cell_type": "code",
   "execution_count": 34,
   "id": "cd8c500b",
   "metadata": {},
   "outputs": [
    {
     "data": {
      "text/plain": [
       "(5000, 6)"
      ]
     },
     "execution_count": 34,
     "metadata": {},
     "output_type": "execute_result"
    }
   ],
   "source": [
    "leftJoin.shape"
   ]
  },
  {
   "cell_type": "code",
   "execution_count": 40,
   "id": "ef505ee3",
   "metadata": {},
   "outputs": [
    {
     "data": {
      "text/html": [
       "<div>\n",
       "<style scoped>\n",
       "    .dataframe tbody tr th:only-of-type {\n",
       "        vertical-align: middle;\n",
       "    }\n",
       "\n",
       "    .dataframe tbody tr th {\n",
       "        vertical-align: top;\n",
       "    }\n",
       "\n",
       "    .dataframe thead th {\n",
       "        text-align: right;\n",
       "    }\n",
       "</style>\n",
       "<table border=\"1\" class=\"dataframe\">\n",
       "  <thead>\n",
       "    <tr style=\"text-align: right;\">\n",
       "      <th></th>\n",
       "      <th>Order ID</th>\n",
       "      <th>Customer</th>\n",
       "      <th>City</th>\n",
       "      <th>Quantity</th>\n",
       "      <th>Price</th>\n",
       "      <th>State</th>\n",
       "    </tr>\n",
       "  </thead>\n",
       "  <tbody>\n",
       "    <tr>\n",
       "      <th>12</th>\n",
       "      <td>MA-2015-106320</td>\n",
       "      <td>Walter Kennedy</td>\n",
       "      <td>Lowell</td>\n",
       "      <td>1</td>\n",
       "      <td>12.42</td>\n",
       "      <td>NaN</td>\n",
       "    </tr>\n",
       "    <tr>\n",
       "      <th>13</th>\n",
       "      <td>WA-2016-121755</td>\n",
       "      <td>Pamela Alexander</td>\n",
       "      <td>Seattle</td>\n",
       "      <td>4</td>\n",
       "      <td>12.42</td>\n",
       "      <td>NaN</td>\n",
       "    </tr>\n",
       "    <tr>\n",
       "      <th>14</th>\n",
       "      <td>NJ-2015-150630</td>\n",
       "      <td>Gloria Harper</td>\n",
       "      <td>Troy</td>\n",
       "      <td>8</td>\n",
       "      <td>16.32</td>\n",
       "      <td>NaN</td>\n",
       "    </tr>\n",
       "    <tr>\n",
       "      <th>15</th>\n",
       "      <td>NJ-2017-107727</td>\n",
       "      <td>Harold Hunter</td>\n",
       "      <td>Troy</td>\n",
       "      <td>10</td>\n",
       "      <td>53.35</td>\n",
       "      <td>NaN</td>\n",
       "    </tr>\n",
       "    <tr>\n",
       "      <th>16</th>\n",
       "      <td>WA-2016-117590</td>\n",
       "      <td>Judy Sanchez</td>\n",
       "      <td>Seattle</td>\n",
       "      <td>7</td>\n",
       "      <td>53.35</td>\n",
       "      <td>Washington</td>\n",
       "    </tr>\n",
       "    <tr>\n",
       "      <th>17</th>\n",
       "      <td>WA-2015-117415</td>\n",
       "      <td>Harold Hunter</td>\n",
       "      <td>Seattle</td>\n",
       "      <td>4</td>\n",
       "      <td>12.42</td>\n",
       "      <td>Washington</td>\n",
       "    </tr>\n",
       "  </tbody>\n",
       "</table>\n",
       "</div>"
      ],
      "text/plain": [
       "          Order ID          Customer     City  Quantity  Price       State\n",
       "12  MA-2015-106320    Walter Kennedy   Lowell         1  12.42         NaN\n",
       "13  WA-2016-121755  Pamela Alexander  Seattle         4  12.42         NaN\n",
       "14  NJ-2015-150630     Gloria Harper     Troy         8  16.32         NaN\n",
       "15  NJ-2017-107727     Harold Hunter     Troy        10  53.35         NaN\n",
       "16  WA-2016-117590      Judy Sanchez  Seattle         7  53.35  Washington\n",
       "17  WA-2015-117415     Harold Hunter  Seattle         4  12.42  Washington"
      ]
     },
     "execution_count": 40,
     "metadata": {},
     "output_type": "execute_result"
    }
   ],
   "source": [
    "leftJoin[12:18]"
   ]
  },
  {
   "cell_type": "code",
   "execution_count": 41,
   "id": "e0a74e6d",
   "metadata": {},
   "outputs": [],
   "source": [
    "leftJoin = pd.merge(left=orders, right=returns[[\"Order ID\",\"State\"]],\n",
    "                     how=\"left\", on = 'Order ID', indicator=True)"
   ]
  },
  {
   "cell_type": "code",
   "execution_count": 42,
   "id": "e28fd997",
   "metadata": {},
   "outputs": [
    {
     "data": {
      "text/plain": [
       "(5000, 7)"
      ]
     },
     "execution_count": 42,
     "metadata": {},
     "output_type": "execute_result"
    }
   ],
   "source": [
    "leftJoin.shape"
   ]
  },
  {
   "cell_type": "code",
   "execution_count": 43,
   "id": "e27717a5",
   "metadata": {},
   "outputs": [
    {
     "data": {
      "text/html": [
       "<div>\n",
       "<style scoped>\n",
       "    .dataframe tbody tr th:only-of-type {\n",
       "        vertical-align: middle;\n",
       "    }\n",
       "\n",
       "    .dataframe tbody tr th {\n",
       "        vertical-align: top;\n",
       "    }\n",
       "\n",
       "    .dataframe thead th {\n",
       "        text-align: right;\n",
       "    }\n",
       "</style>\n",
       "<table border=\"1\" class=\"dataframe\">\n",
       "  <thead>\n",
       "    <tr style=\"text-align: right;\">\n",
       "      <th></th>\n",
       "      <th>Order ID</th>\n",
       "      <th>Customer</th>\n",
       "      <th>City</th>\n",
       "      <th>Quantity</th>\n",
       "      <th>Price</th>\n",
       "      <th>State</th>\n",
       "      <th>_merge</th>\n",
       "    </tr>\n",
       "  </thead>\n",
       "  <tbody>\n",
       "    <tr>\n",
       "      <th>0</th>\n",
       "      <td>NJ-2016-152156</td>\n",
       "      <td>Raymond Young</td>\n",
       "      <td>Troy</td>\n",
       "      <td>6</td>\n",
       "      <td>12.42</td>\n",
       "      <td>NaN</td>\n",
       "      <td>left_only</td>\n",
       "    </tr>\n",
       "    <tr>\n",
       "      <th>1</th>\n",
       "      <td>NJ-2016-138688</td>\n",
       "      <td>Helen Dean</td>\n",
       "      <td>Westfield</td>\n",
       "      <td>7</td>\n",
       "      <td>17.83</td>\n",
       "      <td>NaN</td>\n",
       "      <td>left_only</td>\n",
       "    </tr>\n",
       "    <tr>\n",
       "      <th>2</th>\n",
       "      <td>WA-2015-108966</td>\n",
       "      <td>Shirley Chavez</td>\n",
       "      <td>Seattle</td>\n",
       "      <td>2</td>\n",
       "      <td>53.35</td>\n",
       "      <td>NaN</td>\n",
       "      <td>left_only</td>\n",
       "    </tr>\n",
       "    <tr>\n",
       "      <th>3</th>\n",
       "      <td>NJ-2014-115812</td>\n",
       "      <td>Brian Ryan</td>\n",
       "      <td>Westfield</td>\n",
       "      <td>1</td>\n",
       "      <td>53.35</td>\n",
       "      <td>NaN</td>\n",
       "      <td>left_only</td>\n",
       "    </tr>\n",
       "    <tr>\n",
       "      <th>4</th>\n",
       "      <td>NJ-2017-114412</td>\n",
       "      <td>Benjamin Willis</td>\n",
       "      <td>Westfield</td>\n",
       "      <td>3</td>\n",
       "      <td>17.83</td>\n",
       "      <td>NaN</td>\n",
       "      <td>left_only</td>\n",
       "    </tr>\n",
       "  </tbody>\n",
       "</table>\n",
       "</div>"
      ],
      "text/plain": [
       "         Order ID         Customer       City  Quantity  Price State  \\\n",
       "0  NJ-2016-152156    Raymond Young       Troy         6  12.42   NaN   \n",
       "1  NJ-2016-138688       Helen Dean  Westfield         7  17.83   NaN   \n",
       "2  WA-2015-108966   Shirley Chavez    Seattle         2  53.35   NaN   \n",
       "3  NJ-2014-115812       Brian Ryan  Westfield         1  53.35   NaN   \n",
       "4  NJ-2017-114412  Benjamin Willis  Westfield         3  17.83   NaN   \n",
       "\n",
       "      _merge  \n",
       "0  left_only  \n",
       "1  left_only  \n",
       "2  left_only  \n",
       "3  left_only  \n",
       "4  left_only  "
      ]
     },
     "execution_count": 43,
     "metadata": {},
     "output_type": "execute_result"
    }
   ],
   "source": [
    "leftJoin.head()"
   ]
  },
  {
   "cell_type": "code",
   "execution_count": 46,
   "id": "7e4da711",
   "metadata": {},
   "outputs": [
    {
     "data": {
      "text/html": [
       "<div>\n",
       "<style scoped>\n",
       "    .dataframe tbody tr th:only-of-type {\n",
       "        vertical-align: middle;\n",
       "    }\n",
       "\n",
       "    .dataframe tbody tr th {\n",
       "        vertical-align: top;\n",
       "    }\n",
       "\n",
       "    .dataframe thead th {\n",
       "        text-align: right;\n",
       "    }\n",
       "</style>\n",
       "<table border=\"1\" class=\"dataframe\">\n",
       "  <thead>\n",
       "    <tr style=\"text-align: right;\">\n",
       "      <th></th>\n",
       "      <th>_merge</th>\n",
       "      <th>count</th>\n",
       "    </tr>\n",
       "  </thead>\n",
       "  <tbody>\n",
       "    <tr>\n",
       "      <th>0</th>\n",
       "      <td>left_only</td>\n",
       "      <td>4911</td>\n",
       "    </tr>\n",
       "    <tr>\n",
       "      <th>1</th>\n",
       "      <td>both</td>\n",
       "      <td>89</td>\n",
       "    </tr>\n",
       "    <tr>\n",
       "      <th>2</th>\n",
       "      <td>right_only</td>\n",
       "      <td>0</td>\n",
       "    </tr>\n",
       "  </tbody>\n",
       "</table>\n",
       "</div>"
      ],
      "text/plain": [
       "       _merge  count\n",
       "0   left_only   4911\n",
       "1        both     89\n",
       "2  right_only      0"
      ]
     },
     "execution_count": 46,
     "metadata": {},
     "output_type": "execute_result"
    }
   ],
   "source": [
    "leftJoin[\"_merge\"].value_counts().reset_index()"
   ]
  },
  {
   "cell_type": "code",
   "execution_count": 47,
   "id": "a4522786",
   "metadata": {},
   "outputs": [],
   "source": [
    "# Returns : 2000"
   ]
  },
  {
   "cell_type": "code",
   "execution_count": 50,
   "id": "eb730896",
   "metadata": {},
   "outputs": [],
   "source": [
    "rightJoin = pd.merge(left=orders[[\"Order ID\",\"Price\"]], right=returns,\n",
    "                     how=\"right\", on = 'Order ID', indicator=True)"
   ]
  },
  {
   "cell_type": "code",
   "execution_count": 51,
   "id": "c2442fdc",
   "metadata": {},
   "outputs": [
    {
     "data": {
      "text/plain": [
       "(2000, 6)"
      ]
     },
     "execution_count": 51,
     "metadata": {},
     "output_type": "execute_result"
    }
   ],
   "source": [
    "rightJoin.shape"
   ]
  },
  {
   "cell_type": "code",
   "execution_count": 53,
   "id": "e969a2b9",
   "metadata": {},
   "outputs": [
    {
     "data": {
      "text/html": [
       "<div>\n",
       "<style scoped>\n",
       "    .dataframe tbody tr th:only-of-type {\n",
       "        vertical-align: middle;\n",
       "    }\n",
       "\n",
       "    .dataframe tbody tr th {\n",
       "        vertical-align: top;\n",
       "    }\n",
       "\n",
       "    .dataframe thead th {\n",
       "        text-align: right;\n",
       "    }\n",
       "</style>\n",
       "<table border=\"1\" class=\"dataframe\">\n",
       "  <thead>\n",
       "    <tr style=\"text-align: right;\">\n",
       "      <th></th>\n",
       "      <th>_merge</th>\n",
       "      <th>count</th>\n",
       "    </tr>\n",
       "  </thead>\n",
       "  <tbody>\n",
       "    <tr>\n",
       "      <th>0</th>\n",
       "      <td>right_only</td>\n",
       "      <td>1911</td>\n",
       "    </tr>\n",
       "    <tr>\n",
       "      <th>1</th>\n",
       "      <td>both</td>\n",
       "      <td>89</td>\n",
       "    </tr>\n",
       "    <tr>\n",
       "      <th>2</th>\n",
       "      <td>left_only</td>\n",
       "      <td>0</td>\n",
       "    </tr>\n",
       "  </tbody>\n",
       "</table>\n",
       "</div>"
      ],
      "text/plain": [
       "       _merge  count\n",
       "0  right_only   1911\n",
       "1        both     89\n",
       "2   left_only      0"
      ]
     },
     "execution_count": 53,
     "metadata": {},
     "output_type": "execute_result"
    }
   ],
   "source": [
    "rightJoin._merge.value_counts().reset_index()"
   ]
  },
  {
   "cell_type": "code",
   "execution_count": 54,
   "id": "b36c2b86",
   "metadata": {},
   "outputs": [],
   "source": [
    "fullJoin = pd.merge(left=orders[[\"Order ID\",\"Price\"]], right=returns,\n",
    "                     how=\"outer\", on = 'Order ID', indicator=True)"
   ]
  },
  {
   "cell_type": "code",
   "execution_count": 55,
   "id": "cee745e0",
   "metadata": {},
   "outputs": [
    {
     "data": {
      "text/plain": [
       "(6911, 6)"
      ]
     },
     "execution_count": 55,
     "metadata": {},
     "output_type": "execute_result"
    }
   ],
   "source": [
    "fullJoin.shape"
   ]
  },
  {
   "cell_type": "code",
   "execution_count": 56,
   "id": "7fd7f015",
   "metadata": {},
   "outputs": [
    {
     "data": {
      "text/html": [
       "<div>\n",
       "<style scoped>\n",
       "    .dataframe tbody tr th:only-of-type {\n",
       "        vertical-align: middle;\n",
       "    }\n",
       "\n",
       "    .dataframe tbody tr th {\n",
       "        vertical-align: top;\n",
       "    }\n",
       "\n",
       "    .dataframe thead th {\n",
       "        text-align: right;\n",
       "    }\n",
       "</style>\n",
       "<table border=\"1\" class=\"dataframe\">\n",
       "  <thead>\n",
       "    <tr style=\"text-align: right;\">\n",
       "      <th></th>\n",
       "      <th>_merge</th>\n",
       "      <th>count</th>\n",
       "    </tr>\n",
       "  </thead>\n",
       "  <tbody>\n",
       "    <tr>\n",
       "      <th>0</th>\n",
       "      <td>left_only</td>\n",
       "      <td>4911</td>\n",
       "    </tr>\n",
       "    <tr>\n",
       "      <th>1</th>\n",
       "      <td>right_only</td>\n",
       "      <td>1911</td>\n",
       "    </tr>\n",
       "    <tr>\n",
       "      <th>2</th>\n",
       "      <td>both</td>\n",
       "      <td>89</td>\n",
       "    </tr>\n",
       "  </tbody>\n",
       "</table>\n",
       "</div>"
      ],
      "text/plain": [
       "       _merge  count\n",
       "0   left_only   4911\n",
       "1  right_only   1911\n",
       "2        both     89"
      ]
     },
     "execution_count": 56,
     "metadata": {},
     "output_type": "execute_result"
    }
   ],
   "source": [
    "fullJoin._merge.value_counts().reset_index()"
   ]
  },
  {
   "cell_type": "code",
   "execution_count": 57,
   "id": "bd861ab3",
   "metadata": {},
   "outputs": [],
   "source": [
    "ord1 = pd.read_clipboard()"
   ]
  },
  {
   "cell_type": "code",
   "execution_count": 58,
   "id": "7131e3c9",
   "metadata": {},
   "outputs": [
    {
     "data": {
      "text/html": [
       "<div>\n",
       "<style scoped>\n",
       "    .dataframe tbody tr th:only-of-type {\n",
       "        vertical-align: middle;\n",
       "    }\n",
       "\n",
       "    .dataframe tbody tr th {\n",
       "        vertical-align: top;\n",
       "    }\n",
       "\n",
       "    .dataframe thead th {\n",
       "        text-align: right;\n",
       "    }\n",
       "</style>\n",
       "<table border=\"1\" class=\"dataframe\">\n",
       "  <thead>\n",
       "    <tr style=\"text-align: right;\">\n",
       "      <th></th>\n",
       "      <th>Order ID</th>\n",
       "      <th>Customer</th>\n",
       "      <th>City</th>\n",
       "      <th>Quantity</th>\n",
       "      <th>Price</th>\n",
       "    </tr>\n",
       "  </thead>\n",
       "  <tbody>\n",
       "    <tr>\n",
       "      <th>0</th>\n",
       "      <td>NJ-2016-152156</td>\n",
       "      <td>Raymond Young</td>\n",
       "      <td>Troy</td>\n",
       "      <td>6</td>\n",
       "      <td>12.42</td>\n",
       "    </tr>\n",
       "    <tr>\n",
       "      <th>1</th>\n",
       "      <td>NJ-2016-138688</td>\n",
       "      <td>Helen Dean</td>\n",
       "      <td>Westfield</td>\n",
       "      <td>7</td>\n",
       "      <td>17.83</td>\n",
       "    </tr>\n",
       "    <tr>\n",
       "      <th>2</th>\n",
       "      <td>WA-2015-108966</td>\n",
       "      <td>Shirley Chavez</td>\n",
       "      <td>Seattle</td>\n",
       "      <td>2</td>\n",
       "      <td>53.35</td>\n",
       "    </tr>\n",
       "    <tr>\n",
       "      <th>3</th>\n",
       "      <td>NJ-2014-115812</td>\n",
       "      <td>Brian Ryan</td>\n",
       "      <td>Westfield</td>\n",
       "      <td>1</td>\n",
       "      <td>53.35</td>\n",
       "    </tr>\n",
       "    <tr>\n",
       "      <th>4</th>\n",
       "      <td>NJ-2017-114412</td>\n",
       "      <td>Benjamin Willis</td>\n",
       "      <td>Westfield</td>\n",
       "      <td>3</td>\n",
       "      <td>17.83</td>\n",
       "    </tr>\n",
       "  </tbody>\n",
       "</table>\n",
       "</div>"
      ],
      "text/plain": [
       "         Order ID         Customer       City  Quantity  Price\n",
       "0  NJ-2016-152156    Raymond Young       Troy         6  12.42\n",
       "1  NJ-2016-138688       Helen Dean  Westfield         7  17.83\n",
       "2  WA-2015-108966   Shirley Chavez    Seattle         2  53.35\n",
       "3  NJ-2014-115812       Brian Ryan  Westfield         1  53.35\n",
       "4  NJ-2017-114412  Benjamin Willis  Westfield         3  17.83"
      ]
     },
     "execution_count": 58,
     "metadata": {},
     "output_type": "execute_result"
    }
   ],
   "source": [
    "ord1"
   ]
  },
  {
   "cell_type": "code",
   "execution_count": 59,
   "id": "485985ac",
   "metadata": {},
   "outputs": [],
   "source": [
    "ret1 = pd.read_clipboard()"
   ]
  },
  {
   "cell_type": "code",
   "execution_count": 60,
   "id": "1b35bc89",
   "metadata": {},
   "outputs": [
    {
     "data": {
      "text/html": [
       "<div>\n",
       "<style scoped>\n",
       "    .dataframe tbody tr th:only-of-type {\n",
       "        vertical-align: middle;\n",
       "    }\n",
       "\n",
       "    .dataframe tbody tr th {\n",
       "        vertical-align: top;\n",
       "    }\n",
       "\n",
       "    .dataframe thead th {\n",
       "        text-align: right;\n",
       "    }\n",
       "</style>\n",
       "<table border=\"1\" class=\"dataframe\">\n",
       "  <thead>\n",
       "    <tr style=\"text-align: right;\">\n",
       "      <th></th>\n",
       "      <th>Order ID</th>\n",
       "      <th>Customer</th>\n",
       "      <th>City</th>\n",
       "      <th>State</th>\n",
       "    </tr>\n",
       "  </thead>\n",
       "  <tbody>\n",
       "    <tr>\n",
       "      <th>0</th>\n",
       "      <td>NJ-2014-115812</td>\n",
       "      <td>Raymond Young</td>\n",
       "      <td>Troy</td>\n",
       "      <td>New York</td>\n",
       "    </tr>\n",
       "    <tr>\n",
       "      <th>1</th>\n",
       "      <td>NJ-2014-115812</td>\n",
       "      <td>Helen Dean</td>\n",
       "      <td>Westfield</td>\n",
       "      <td>New Jersey</td>\n",
       "    </tr>\n",
       "    <tr>\n",
       "      <th>2</th>\n",
       "      <td>NJ-2014-115812</td>\n",
       "      <td>Shirley Chavez</td>\n",
       "      <td>Seattle</td>\n",
       "      <td>Washington</td>\n",
       "    </tr>\n",
       "    <tr>\n",
       "      <th>3</th>\n",
       "      <td>NJ-2014-115812</td>\n",
       "      <td>Brian Ryan</td>\n",
       "      <td>Westfield</td>\n",
       "      <td>New Jersey</td>\n",
       "    </tr>\n",
       "    <tr>\n",
       "      <th>4</th>\n",
       "      <td>NJ-2014-115812</td>\n",
       "      <td>Benjamin Willis</td>\n",
       "      <td>Westfield</td>\n",
       "      <td>New Jersey</td>\n",
       "    </tr>\n",
       "    <tr>\n",
       "      <th>5</th>\n",
       "      <td>WA-2016-362144</td>\n",
       "      <td>Annie Jenkins</td>\n",
       "      <td>Seattle</td>\n",
       "      <td>Washington</td>\n",
       "    </tr>\n",
       "  </tbody>\n",
       "</table>\n",
       "</div>"
      ],
      "text/plain": [
       "         Order ID         Customer       City       State\n",
       "0  NJ-2014-115812    Raymond Young       Troy    New York\n",
       "1  NJ-2014-115812       Helen Dean  Westfield  New Jersey\n",
       "2  NJ-2014-115812   Shirley Chavez    Seattle  Washington\n",
       "3  NJ-2014-115812       Brian Ryan  Westfield  New Jersey\n",
       "4  NJ-2014-115812  Benjamin Willis  Westfield  New Jersey\n",
       "5  WA-2016-362144    Annie Jenkins    Seattle  Washington"
      ]
     },
     "execution_count": 60,
     "metadata": {},
     "output_type": "execute_result"
    }
   ],
   "source": [
    "ret1"
   ]
  },
  {
   "cell_type": "code",
   "execution_count": 63,
   "id": "d1dbd481",
   "metadata": {},
   "outputs": [],
   "source": [
    "innerJoin = pd.merge(left=ord1, right=ret1[[\"Order ID\",\"State\"]],\n",
    "                     how=\"inner\", on = 'Order ID')"
   ]
  },
  {
   "cell_type": "code",
   "execution_count": 64,
   "id": "98a9fd2e",
   "metadata": {},
   "outputs": [
    {
     "data": {
      "text/plain": [
       "(5, 6)"
      ]
     },
     "execution_count": 64,
     "metadata": {},
     "output_type": "execute_result"
    }
   ],
   "source": [
    "innerJoin.shape"
   ]
  },
  {
   "cell_type": "code",
   "execution_count": 65,
   "id": "4e375a40",
   "metadata": {},
   "outputs": [
    {
     "data": {
      "text/plain": [
       "(5, 6)"
      ]
     },
     "execution_count": 65,
     "metadata": {},
     "output_type": "execute_result"
    }
   ],
   "source": [
    "innerJoin.shape"
   ]
  },
  {
   "cell_type": "code",
   "execution_count": 66,
   "id": "a6d1e3a6",
   "metadata": {},
   "outputs": [
    {
     "data": {
      "text/html": [
       "<div>\n",
       "<style scoped>\n",
       "    .dataframe tbody tr th:only-of-type {\n",
       "        vertical-align: middle;\n",
       "    }\n",
       "\n",
       "    .dataframe tbody tr th {\n",
       "        vertical-align: top;\n",
       "    }\n",
       "\n",
       "    .dataframe thead th {\n",
       "        text-align: right;\n",
       "    }\n",
       "</style>\n",
       "<table border=\"1\" class=\"dataframe\">\n",
       "  <thead>\n",
       "    <tr style=\"text-align: right;\">\n",
       "      <th></th>\n",
       "      <th>Order ID</th>\n",
       "      <th>Customer</th>\n",
       "      <th>City</th>\n",
       "      <th>Quantity</th>\n",
       "      <th>Price</th>\n",
       "      <th>State</th>\n",
       "    </tr>\n",
       "  </thead>\n",
       "  <tbody>\n",
       "    <tr>\n",
       "      <th>0</th>\n",
       "      <td>NJ-2014-115812</td>\n",
       "      <td>Brian Ryan</td>\n",
       "      <td>Westfield</td>\n",
       "      <td>1</td>\n",
       "      <td>53.35</td>\n",
       "      <td>New York</td>\n",
       "    </tr>\n",
       "    <tr>\n",
       "      <th>1</th>\n",
       "      <td>NJ-2014-115812</td>\n",
       "      <td>Brian Ryan</td>\n",
       "      <td>Westfield</td>\n",
       "      <td>1</td>\n",
       "      <td>53.35</td>\n",
       "      <td>New Jersey</td>\n",
       "    </tr>\n",
       "    <tr>\n",
       "      <th>2</th>\n",
       "      <td>NJ-2014-115812</td>\n",
       "      <td>Brian Ryan</td>\n",
       "      <td>Westfield</td>\n",
       "      <td>1</td>\n",
       "      <td>53.35</td>\n",
       "      <td>Washington</td>\n",
       "    </tr>\n",
       "    <tr>\n",
       "      <th>3</th>\n",
       "      <td>NJ-2014-115812</td>\n",
       "      <td>Brian Ryan</td>\n",
       "      <td>Westfield</td>\n",
       "      <td>1</td>\n",
       "      <td>53.35</td>\n",
       "      <td>New Jersey</td>\n",
       "    </tr>\n",
       "    <tr>\n",
       "      <th>4</th>\n",
       "      <td>NJ-2014-115812</td>\n",
       "      <td>Brian Ryan</td>\n",
       "      <td>Westfield</td>\n",
       "      <td>1</td>\n",
       "      <td>53.35</td>\n",
       "      <td>New Jersey</td>\n",
       "    </tr>\n",
       "  </tbody>\n",
       "</table>\n",
       "</div>"
      ],
      "text/plain": [
       "         Order ID    Customer       City  Quantity  Price       State\n",
       "0  NJ-2014-115812  Brian Ryan  Westfield         1  53.35    New York\n",
       "1  NJ-2014-115812  Brian Ryan  Westfield         1  53.35  New Jersey\n",
       "2  NJ-2014-115812  Brian Ryan  Westfield         1  53.35  Washington\n",
       "3  NJ-2014-115812  Brian Ryan  Westfield         1  53.35  New Jersey\n",
       "4  NJ-2014-115812  Brian Ryan  Westfield         1  53.35  New Jersey"
      ]
     },
     "execution_count": 66,
     "metadata": {},
     "output_type": "execute_result"
    }
   ],
   "source": [
    "innerJoin.head()"
   ]
  },
  {
   "cell_type": "code",
   "execution_count": 69,
   "id": "554cabac",
   "metadata": {},
   "outputs": [
    {
     "data": {
      "text/html": [
       "<div>\n",
       "<style scoped>\n",
       "    .dataframe tbody tr th:only-of-type {\n",
       "        vertical-align: middle;\n",
       "    }\n",
       "\n",
       "    .dataframe tbody tr th {\n",
       "        vertical-align: top;\n",
       "    }\n",
       "\n",
       "    .dataframe thead th {\n",
       "        text-align: right;\n",
       "    }\n",
       "</style>\n",
       "<table border=\"1\" class=\"dataframe\">\n",
       "  <thead>\n",
       "    <tr style=\"text-align: right;\">\n",
       "      <th></th>\n",
       "      <th>Order ID_x</th>\n",
       "      <th>Customer_x</th>\n",
       "      <th>City_x</th>\n",
       "      <th>Quantity</th>\n",
       "      <th>Price</th>\n",
       "      <th>Order ID_y</th>\n",
       "      <th>Customer_y</th>\n",
       "      <th>City_y</th>\n",
       "      <th>State</th>\n",
       "    </tr>\n",
       "  </thead>\n",
       "  <tbody>\n",
       "    <tr>\n",
       "      <th>0</th>\n",
       "      <td>NJ-2016-152156</td>\n",
       "      <td>Raymond Young</td>\n",
       "      <td>Troy</td>\n",
       "      <td>6</td>\n",
       "      <td>12.42</td>\n",
       "      <td>NJ-2014-115812</td>\n",
       "      <td>Raymond Young</td>\n",
       "      <td>Troy</td>\n",
       "      <td>New York</td>\n",
       "    </tr>\n",
       "    <tr>\n",
       "      <th>1</th>\n",
       "      <td>NJ-2016-152156</td>\n",
       "      <td>Raymond Young</td>\n",
       "      <td>Troy</td>\n",
       "      <td>6</td>\n",
       "      <td>12.42</td>\n",
       "      <td>NJ-2014-115812</td>\n",
       "      <td>Helen Dean</td>\n",
       "      <td>Westfield</td>\n",
       "      <td>New Jersey</td>\n",
       "    </tr>\n",
       "    <tr>\n",
       "      <th>2</th>\n",
       "      <td>NJ-2016-138688</td>\n",
       "      <td>Helen Dean</td>\n",
       "      <td>Westfield</td>\n",
       "      <td>7</td>\n",
       "      <td>17.83</td>\n",
       "      <td>NJ-2014-115812</td>\n",
       "      <td>Raymond Young</td>\n",
       "      <td>Troy</td>\n",
       "      <td>New York</td>\n",
       "    </tr>\n",
       "    <tr>\n",
       "      <th>3</th>\n",
       "      <td>NJ-2016-138688</td>\n",
       "      <td>Helen Dean</td>\n",
       "      <td>Westfield</td>\n",
       "      <td>7</td>\n",
       "      <td>17.83</td>\n",
       "      <td>NJ-2014-115812</td>\n",
       "      <td>Helen Dean</td>\n",
       "      <td>Westfield</td>\n",
       "      <td>New Jersey</td>\n",
       "    </tr>\n",
       "  </tbody>\n",
       "</table>\n",
       "</div>"
      ],
      "text/plain": [
       "       Order ID_x     Customer_x     City_x  Quantity  Price      Order ID_y  \\\n",
       "0  NJ-2016-152156  Raymond Young       Troy         6  12.42  NJ-2014-115812   \n",
       "1  NJ-2016-152156  Raymond Young       Troy         6  12.42  NJ-2014-115812   \n",
       "2  NJ-2016-138688     Helen Dean  Westfield         7  17.83  NJ-2014-115812   \n",
       "3  NJ-2016-138688     Helen Dean  Westfield         7  17.83  NJ-2014-115812   \n",
       "\n",
       "      Customer_y     City_y       State  \n",
       "0  Raymond Young       Troy    New York  \n",
       "1     Helen Dean  Westfield  New Jersey  \n",
       "2  Raymond Young       Troy    New York  \n",
       "3     Helen Dean  Westfield  New Jersey  "
      ]
     },
     "execution_count": 69,
     "metadata": {},
     "output_type": "execute_result"
    }
   ],
   "source": [
    "# In the cross Join no need to provide on parameter\n",
    "\n",
    "pd.merge(ord1[:2],ret1[:2],how='cross')"
   ]
  },
  {
   "cell_type": "code",
   "execution_count": 70,
   "id": "d4c69def",
   "metadata": {},
   "outputs": [],
   "source": [
    "# pd.concat"
   ]
  },
  {
   "cell_type": "code",
   "execution_count": 76,
   "id": "83a8224a",
   "metadata": {},
   "outputs": [],
   "source": [
    "ord1 = pd.read_clipboard()"
   ]
  },
  {
   "cell_type": "code",
   "execution_count": 77,
   "id": "caa80899",
   "metadata": {},
   "outputs": [
    {
     "data": {
      "text/html": [
       "<div>\n",
       "<style scoped>\n",
       "    .dataframe tbody tr th:only-of-type {\n",
       "        vertical-align: middle;\n",
       "    }\n",
       "\n",
       "    .dataframe tbody tr th {\n",
       "        vertical-align: top;\n",
       "    }\n",
       "\n",
       "    .dataframe thead th {\n",
       "        text-align: right;\n",
       "    }\n",
       "</style>\n",
       "<table border=\"1\" class=\"dataframe\">\n",
       "  <thead>\n",
       "    <tr style=\"text-align: right;\">\n",
       "      <th></th>\n",
       "      <th>Order ID</th>\n",
       "      <th>Customer</th>\n",
       "      <th>City</th>\n",
       "      <th>Quantity</th>\n",
       "    </tr>\n",
       "  </thead>\n",
       "  <tbody>\n",
       "    <tr>\n",
       "      <th>0</th>\n",
       "      <td>NJ-2016-152156</td>\n",
       "      <td>Raymond Young</td>\n",
       "      <td>Troy</td>\n",
       "      <td>6</td>\n",
       "    </tr>\n",
       "    <tr>\n",
       "      <th>1</th>\n",
       "      <td>NJ-2016-138688</td>\n",
       "      <td>Helen Dean</td>\n",
       "      <td>Westfield</td>\n",
       "      <td>7</td>\n",
       "    </tr>\n",
       "    <tr>\n",
       "      <th>2</th>\n",
       "      <td>WA-2015-108966</td>\n",
       "      <td>Shirley Chavez</td>\n",
       "      <td>Seattle</td>\n",
       "      <td>2</td>\n",
       "    </tr>\n",
       "    <tr>\n",
       "      <th>3</th>\n",
       "      <td>NJ-2014-115812</td>\n",
       "      <td>Brian Ryan</td>\n",
       "      <td>Westfield</td>\n",
       "      <td>1</td>\n",
       "    </tr>\n",
       "    <tr>\n",
       "      <th>4</th>\n",
       "      <td>NJ-2017-114412</td>\n",
       "      <td>Benjamin Willis</td>\n",
       "      <td>Westfield</td>\n",
       "      <td>3</td>\n",
       "    </tr>\n",
       "    <tr>\n",
       "      <th>5</th>\n",
       "      <td>WA-2016-161389</td>\n",
       "      <td>Annie Jenkins</td>\n",
       "      <td>Seattle</td>\n",
       "      <td>6</td>\n",
       "    </tr>\n",
       "    <tr>\n",
       "      <th>6</th>\n",
       "      <td>NJ-2015-118983</td>\n",
       "      <td>Christina Little</td>\n",
       "      <td>Troy</td>\n",
       "      <td>6</td>\n",
       "    </tr>\n",
       "    <tr>\n",
       "      <th>7</th>\n",
       "      <td>WA-2014-105893</td>\n",
       "      <td>Annie Jenkins</td>\n",
       "      <td>Seattle</td>\n",
       "      <td>9</td>\n",
       "    </tr>\n",
       "    <tr>\n",
       "      <th>8</th>\n",
       "      <td>NJ-2014-167164</td>\n",
       "      <td>Ruby Matthews</td>\n",
       "      <td>Troy</td>\n",
       "      <td>6</td>\n",
       "    </tr>\n",
       "  </tbody>\n",
       "</table>\n",
       "</div>"
      ],
      "text/plain": [
       "         Order ID          Customer       City  Quantity\n",
       "0  NJ-2016-152156     Raymond Young       Troy         6\n",
       "1  NJ-2016-138688        Helen Dean  Westfield         7\n",
       "2  WA-2015-108966    Shirley Chavez    Seattle         2\n",
       "3  NJ-2014-115812        Brian Ryan  Westfield         1\n",
       "4  NJ-2017-114412   Benjamin Willis  Westfield         3\n",
       "5  WA-2016-161389     Annie Jenkins    Seattle         6\n",
       "6  NJ-2015-118983  Christina Little       Troy         6\n",
       "7  WA-2014-105893     Annie Jenkins    Seattle         9\n",
       "8  NJ-2014-167164     Ruby Matthews       Troy         6"
      ]
     },
     "execution_count": 77,
     "metadata": {},
     "output_type": "execute_result"
    }
   ],
   "source": [
    "ord1"
   ]
  },
  {
   "cell_type": "code",
   "execution_count": 78,
   "id": "ea2d4cba",
   "metadata": {},
   "outputs": [],
   "source": [
    "ret1 = pd.read_clipboard()"
   ]
  },
  {
   "cell_type": "code",
   "execution_count": 73,
   "id": "fcd5532a",
   "metadata": {},
   "outputs": [],
   "source": [
    "# ret1.rename(columns={\"City\" : \"Village\"}, inplace = True)"
   ]
  },
  {
   "cell_type": "code",
   "execution_count": 79,
   "id": "37af1b56",
   "metadata": {},
   "outputs": [
    {
     "data": {
      "text/html": [
       "<div>\n",
       "<style scoped>\n",
       "    .dataframe tbody tr th:only-of-type {\n",
       "        vertical-align: middle;\n",
       "    }\n",
       "\n",
       "    .dataframe tbody tr th {\n",
       "        vertical-align: top;\n",
       "    }\n",
       "\n",
       "    .dataframe thead th {\n",
       "        text-align: right;\n",
       "    }\n",
       "</style>\n",
       "<table border=\"1\" class=\"dataframe\">\n",
       "  <thead>\n",
       "    <tr style=\"text-align: right;\">\n",
       "      <th></th>\n",
       "      <th>Order ID</th>\n",
       "      <th>Customer</th>\n",
       "      <th>Village</th>\n",
       "      <th>Quantity</th>\n",
       "    </tr>\n",
       "  </thead>\n",
       "  <tbody>\n",
       "    <tr>\n",
       "      <th>0</th>\n",
       "      <td>NJ-2016-152156</td>\n",
       "      <td>Raymond Young</td>\n",
       "      <td>Troy</td>\n",
       "      <td>6</td>\n",
       "    </tr>\n",
       "    <tr>\n",
       "      <th>1</th>\n",
       "      <td>NJ-2016-138688</td>\n",
       "      <td>Helen Dean</td>\n",
       "      <td>Westfield</td>\n",
       "      <td>7</td>\n",
       "    </tr>\n",
       "    <tr>\n",
       "      <th>2</th>\n",
       "      <td>WA-2015-108966</td>\n",
       "      <td>Shirley Chavez</td>\n",
       "      <td>Seattle</td>\n",
       "      <td>2</td>\n",
       "    </tr>\n",
       "    <tr>\n",
       "      <th>3</th>\n",
       "      <td>NJ-2014-115812</td>\n",
       "      <td>Brian Ryan</td>\n",
       "      <td>Westfield</td>\n",
       "      <td>1</td>\n",
       "    </tr>\n",
       "    <tr>\n",
       "      <th>4</th>\n",
       "      <td>NJ-2017-114412</td>\n",
       "      <td>Benjamin Willis</td>\n",
       "      <td>Westfield</td>\n",
       "      <td>3</td>\n",
       "    </tr>\n",
       "    <tr>\n",
       "      <th>5</th>\n",
       "      <td>WA-2016-161389</td>\n",
       "      <td>Annie Jenkins</td>\n",
       "      <td>Seattle</td>\n",
       "      <td>6</td>\n",
       "    </tr>\n",
       "    <tr>\n",
       "      <th>6</th>\n",
       "      <td>NJ-2015-118983</td>\n",
       "      <td>Christina Little</td>\n",
       "      <td>Troy</td>\n",
       "      <td>6</td>\n",
       "    </tr>\n",
       "    <tr>\n",
       "      <th>7</th>\n",
       "      <td>WA-2014-105893</td>\n",
       "      <td>Annie Jenkins</td>\n",
       "      <td>Seattle</td>\n",
       "      <td>9</td>\n",
       "    </tr>\n",
       "    <tr>\n",
       "      <th>8</th>\n",
       "      <td>NJ-2014-167164</td>\n",
       "      <td>Ruby Matthews</td>\n",
       "      <td>Troy</td>\n",
       "      <td>6</td>\n",
       "    </tr>\n",
       "  </tbody>\n",
       "</table>\n",
       "</div>"
      ],
      "text/plain": [
       "         Order ID          Customer    Village  Quantity\n",
       "0  NJ-2016-152156     Raymond Young       Troy         6\n",
       "1  NJ-2016-138688        Helen Dean  Westfield         7\n",
       "2  WA-2015-108966    Shirley Chavez    Seattle         2\n",
       "3  NJ-2014-115812        Brian Ryan  Westfield         1\n",
       "4  NJ-2017-114412   Benjamin Willis  Westfield         3\n",
       "5  WA-2016-161389     Annie Jenkins    Seattle         6\n",
       "6  NJ-2015-118983  Christina Little       Troy         6\n",
       "7  WA-2014-105893     Annie Jenkins    Seattle         9\n",
       "8  NJ-2014-167164     Ruby Matthews       Troy         6"
      ]
     },
     "execution_count": 79,
     "metadata": {},
     "output_type": "execute_result"
    }
   ],
   "source": [
    "ret1"
   ]
  },
  {
   "cell_type": "code",
   "execution_count": 84,
   "id": "49187c9d",
   "metadata": {},
   "outputs": [],
   "source": [
    "result = pd.concat([ord1,ret1], axis = 0)"
   ]
  },
  {
   "cell_type": "code",
   "execution_count": 85,
   "id": "74851e4c",
   "metadata": {},
   "outputs": [
    {
     "data": {
      "text/html": [
       "<div>\n",
       "<style scoped>\n",
       "    .dataframe tbody tr th:only-of-type {\n",
       "        vertical-align: middle;\n",
       "    }\n",
       "\n",
       "    .dataframe tbody tr th {\n",
       "        vertical-align: top;\n",
       "    }\n",
       "\n",
       "    .dataframe thead th {\n",
       "        text-align: right;\n",
       "    }\n",
       "</style>\n",
       "<table border=\"1\" class=\"dataframe\">\n",
       "  <thead>\n",
       "    <tr style=\"text-align: right;\">\n",
       "      <th></th>\n",
       "      <th>Order ID</th>\n",
       "      <th>Customer</th>\n",
       "      <th>City</th>\n",
       "      <th>Quantity</th>\n",
       "      <th>Village</th>\n",
       "    </tr>\n",
       "  </thead>\n",
       "  <tbody>\n",
       "    <tr>\n",
       "      <th>0</th>\n",
       "      <td>NJ-2016-152156</td>\n",
       "      <td>Raymond Young</td>\n",
       "      <td>Troy</td>\n",
       "      <td>6</td>\n",
       "      <td>NaN</td>\n",
       "    </tr>\n",
       "    <tr>\n",
       "      <th>1</th>\n",
       "      <td>NJ-2016-138688</td>\n",
       "      <td>Helen Dean</td>\n",
       "      <td>Westfield</td>\n",
       "      <td>7</td>\n",
       "      <td>NaN</td>\n",
       "    </tr>\n",
       "    <tr>\n",
       "      <th>2</th>\n",
       "      <td>WA-2015-108966</td>\n",
       "      <td>Shirley Chavez</td>\n",
       "      <td>Seattle</td>\n",
       "      <td>2</td>\n",
       "      <td>NaN</td>\n",
       "    </tr>\n",
       "    <tr>\n",
       "      <th>3</th>\n",
       "      <td>NJ-2014-115812</td>\n",
       "      <td>Brian Ryan</td>\n",
       "      <td>Westfield</td>\n",
       "      <td>1</td>\n",
       "      <td>NaN</td>\n",
       "    </tr>\n",
       "    <tr>\n",
       "      <th>4</th>\n",
       "      <td>NJ-2017-114412</td>\n",
       "      <td>Benjamin Willis</td>\n",
       "      <td>Westfield</td>\n",
       "      <td>3</td>\n",
       "      <td>NaN</td>\n",
       "    </tr>\n",
       "    <tr>\n",
       "      <th>5</th>\n",
       "      <td>WA-2016-161389</td>\n",
       "      <td>Annie Jenkins</td>\n",
       "      <td>Seattle</td>\n",
       "      <td>6</td>\n",
       "      <td>NaN</td>\n",
       "    </tr>\n",
       "    <tr>\n",
       "      <th>6</th>\n",
       "      <td>NJ-2015-118983</td>\n",
       "      <td>Christina Little</td>\n",
       "      <td>Troy</td>\n",
       "      <td>6</td>\n",
       "      <td>NaN</td>\n",
       "    </tr>\n",
       "    <tr>\n",
       "      <th>7</th>\n",
       "      <td>WA-2014-105893</td>\n",
       "      <td>Annie Jenkins</td>\n",
       "      <td>Seattle</td>\n",
       "      <td>9</td>\n",
       "      <td>NaN</td>\n",
       "    </tr>\n",
       "    <tr>\n",
       "      <th>8</th>\n",
       "      <td>NJ-2014-167164</td>\n",
       "      <td>Ruby Matthews</td>\n",
       "      <td>Troy</td>\n",
       "      <td>6</td>\n",
       "      <td>NaN</td>\n",
       "    </tr>\n",
       "    <tr>\n",
       "      <th>0</th>\n",
       "      <td>NJ-2016-152156</td>\n",
       "      <td>Raymond Young</td>\n",
       "      <td>NaN</td>\n",
       "      <td>6</td>\n",
       "      <td>Troy</td>\n",
       "    </tr>\n",
       "    <tr>\n",
       "      <th>1</th>\n",
       "      <td>NJ-2016-138688</td>\n",
       "      <td>Helen Dean</td>\n",
       "      <td>NaN</td>\n",
       "      <td>7</td>\n",
       "      <td>Westfield</td>\n",
       "    </tr>\n",
       "    <tr>\n",
       "      <th>2</th>\n",
       "      <td>WA-2015-108966</td>\n",
       "      <td>Shirley Chavez</td>\n",
       "      <td>NaN</td>\n",
       "      <td>2</td>\n",
       "      <td>Seattle</td>\n",
       "    </tr>\n",
       "    <tr>\n",
       "      <th>3</th>\n",
       "      <td>NJ-2014-115812</td>\n",
       "      <td>Brian Ryan</td>\n",
       "      <td>NaN</td>\n",
       "      <td>1</td>\n",
       "      <td>Westfield</td>\n",
       "    </tr>\n",
       "    <tr>\n",
       "      <th>4</th>\n",
       "      <td>NJ-2017-114412</td>\n",
       "      <td>Benjamin Willis</td>\n",
       "      <td>NaN</td>\n",
       "      <td>3</td>\n",
       "      <td>Westfield</td>\n",
       "    </tr>\n",
       "    <tr>\n",
       "      <th>5</th>\n",
       "      <td>WA-2016-161389</td>\n",
       "      <td>Annie Jenkins</td>\n",
       "      <td>NaN</td>\n",
       "      <td>6</td>\n",
       "      <td>Seattle</td>\n",
       "    </tr>\n",
       "    <tr>\n",
       "      <th>6</th>\n",
       "      <td>NJ-2015-118983</td>\n",
       "      <td>Christina Little</td>\n",
       "      <td>NaN</td>\n",
       "      <td>6</td>\n",
       "      <td>Troy</td>\n",
       "    </tr>\n",
       "    <tr>\n",
       "      <th>7</th>\n",
       "      <td>WA-2014-105893</td>\n",
       "      <td>Annie Jenkins</td>\n",
       "      <td>NaN</td>\n",
       "      <td>9</td>\n",
       "      <td>Seattle</td>\n",
       "    </tr>\n",
       "    <tr>\n",
       "      <th>8</th>\n",
       "      <td>NJ-2014-167164</td>\n",
       "      <td>Ruby Matthews</td>\n",
       "      <td>NaN</td>\n",
       "      <td>6</td>\n",
       "      <td>Troy</td>\n",
       "    </tr>\n",
       "  </tbody>\n",
       "</table>\n",
       "</div>"
      ],
      "text/plain": [
       "         Order ID          Customer       City  Quantity    Village\n",
       "0  NJ-2016-152156     Raymond Young       Troy         6        NaN\n",
       "1  NJ-2016-138688        Helen Dean  Westfield         7        NaN\n",
       "2  WA-2015-108966    Shirley Chavez    Seattle         2        NaN\n",
       "3  NJ-2014-115812        Brian Ryan  Westfield         1        NaN\n",
       "4  NJ-2017-114412   Benjamin Willis  Westfield         3        NaN\n",
       "5  WA-2016-161389     Annie Jenkins    Seattle         6        NaN\n",
       "6  NJ-2015-118983  Christina Little       Troy         6        NaN\n",
       "7  WA-2014-105893     Annie Jenkins    Seattle         9        NaN\n",
       "8  NJ-2014-167164     Ruby Matthews       Troy         6        NaN\n",
       "0  NJ-2016-152156     Raymond Young        NaN         6       Troy\n",
       "1  NJ-2016-138688        Helen Dean        NaN         7  Westfield\n",
       "2  WA-2015-108966    Shirley Chavez        NaN         2    Seattle\n",
       "3  NJ-2014-115812        Brian Ryan        NaN         1  Westfield\n",
       "4  NJ-2017-114412   Benjamin Willis        NaN         3  Westfield\n",
       "5  WA-2016-161389     Annie Jenkins        NaN         6    Seattle\n",
       "6  NJ-2015-118983  Christina Little        NaN         6       Troy\n",
       "7  WA-2014-105893     Annie Jenkins        NaN         9    Seattle\n",
       "8  NJ-2014-167164     Ruby Matthews        NaN         6       Troy"
      ]
     },
     "execution_count": 85,
     "metadata": {},
     "output_type": "execute_result"
    }
   ],
   "source": [
    "result"
   ]
  },
  {
   "cell_type": "code",
   "execution_count": 83,
   "id": "5152ee88",
   "metadata": {},
   "outputs": [
    {
     "data": {
      "text/html": [
       "<div>\n",
       "<style scoped>\n",
       "    .dataframe tbody tr th:only-of-type {\n",
       "        vertical-align: middle;\n",
       "    }\n",
       "\n",
       "    .dataframe tbody tr th {\n",
       "        vertical-align: top;\n",
       "    }\n",
       "\n",
       "    .dataframe thead th {\n",
       "        text-align: right;\n",
       "    }\n",
       "</style>\n",
       "<table border=\"1\" class=\"dataframe\">\n",
       "  <thead>\n",
       "    <tr style=\"text-align: right;\">\n",
       "      <th></th>\n",
       "      <th>Order ID</th>\n",
       "      <th>Customer</th>\n",
       "      <th>City</th>\n",
       "      <th>Quantity</th>\n",
       "      <th>Order ID</th>\n",
       "      <th>Customer</th>\n",
       "      <th>Village</th>\n",
       "      <th>Quantity</th>\n",
       "    </tr>\n",
       "  </thead>\n",
       "  <tbody>\n",
       "    <tr>\n",
       "      <th>0</th>\n",
       "      <td>NJ-2016-152156</td>\n",
       "      <td>Raymond Young</td>\n",
       "      <td>Troy</td>\n",
       "      <td>6</td>\n",
       "      <td>NJ-2016-152156</td>\n",
       "      <td>Raymond Young</td>\n",
       "      <td>Troy</td>\n",
       "      <td>6</td>\n",
       "    </tr>\n",
       "    <tr>\n",
       "      <th>1</th>\n",
       "      <td>NJ-2016-138688</td>\n",
       "      <td>Helen Dean</td>\n",
       "      <td>Westfield</td>\n",
       "      <td>7</td>\n",
       "      <td>NJ-2016-138688</td>\n",
       "      <td>Helen Dean</td>\n",
       "      <td>Westfield</td>\n",
       "      <td>7</td>\n",
       "    </tr>\n",
       "    <tr>\n",
       "      <th>2</th>\n",
       "      <td>WA-2015-108966</td>\n",
       "      <td>Shirley Chavez</td>\n",
       "      <td>Seattle</td>\n",
       "      <td>2</td>\n",
       "      <td>WA-2015-108966</td>\n",
       "      <td>Shirley Chavez</td>\n",
       "      <td>Seattle</td>\n",
       "      <td>2</td>\n",
       "    </tr>\n",
       "    <tr>\n",
       "      <th>3</th>\n",
       "      <td>NJ-2014-115812</td>\n",
       "      <td>Brian Ryan</td>\n",
       "      <td>Westfield</td>\n",
       "      <td>1</td>\n",
       "      <td>NJ-2014-115812</td>\n",
       "      <td>Brian Ryan</td>\n",
       "      <td>Westfield</td>\n",
       "      <td>1</td>\n",
       "    </tr>\n",
       "    <tr>\n",
       "      <th>4</th>\n",
       "      <td>NJ-2017-114412</td>\n",
       "      <td>Benjamin Willis</td>\n",
       "      <td>Westfield</td>\n",
       "      <td>3</td>\n",
       "      <td>NJ-2017-114412</td>\n",
       "      <td>Benjamin Willis</td>\n",
       "      <td>Westfield</td>\n",
       "      <td>3</td>\n",
       "    </tr>\n",
       "    <tr>\n",
       "      <th>5</th>\n",
       "      <td>WA-2016-161389</td>\n",
       "      <td>Annie Jenkins</td>\n",
       "      <td>Seattle</td>\n",
       "      <td>6</td>\n",
       "      <td>WA-2016-161389</td>\n",
       "      <td>Annie Jenkins</td>\n",
       "      <td>Seattle</td>\n",
       "      <td>6</td>\n",
       "    </tr>\n",
       "    <tr>\n",
       "      <th>6</th>\n",
       "      <td>NJ-2015-118983</td>\n",
       "      <td>Christina Little</td>\n",
       "      <td>Troy</td>\n",
       "      <td>6</td>\n",
       "      <td>NJ-2015-118983</td>\n",
       "      <td>Christina Little</td>\n",
       "      <td>Troy</td>\n",
       "      <td>6</td>\n",
       "    </tr>\n",
       "    <tr>\n",
       "      <th>7</th>\n",
       "      <td>WA-2014-105893</td>\n",
       "      <td>Annie Jenkins</td>\n",
       "      <td>Seattle</td>\n",
       "      <td>9</td>\n",
       "      <td>WA-2014-105893</td>\n",
       "      <td>Annie Jenkins</td>\n",
       "      <td>Seattle</td>\n",
       "      <td>9</td>\n",
       "    </tr>\n",
       "    <tr>\n",
       "      <th>8</th>\n",
       "      <td>NJ-2014-167164</td>\n",
       "      <td>Ruby Matthews</td>\n",
       "      <td>Troy</td>\n",
       "      <td>6</td>\n",
       "      <td>NJ-2014-167164</td>\n",
       "      <td>Ruby Matthews</td>\n",
       "      <td>Troy</td>\n",
       "      <td>6</td>\n",
       "    </tr>\n",
       "  </tbody>\n",
       "</table>\n",
       "</div>"
      ],
      "text/plain": [
       "         Order ID          Customer       City  Quantity        Order ID  \\\n",
       "0  NJ-2016-152156     Raymond Young       Troy         6  NJ-2016-152156   \n",
       "1  NJ-2016-138688        Helen Dean  Westfield         7  NJ-2016-138688   \n",
       "2  WA-2015-108966    Shirley Chavez    Seattle         2  WA-2015-108966   \n",
       "3  NJ-2014-115812        Brian Ryan  Westfield         1  NJ-2014-115812   \n",
       "4  NJ-2017-114412   Benjamin Willis  Westfield         3  NJ-2017-114412   \n",
       "5  WA-2016-161389     Annie Jenkins    Seattle         6  WA-2016-161389   \n",
       "6  NJ-2015-118983  Christina Little       Troy         6  NJ-2015-118983   \n",
       "7  WA-2014-105893     Annie Jenkins    Seattle         9  WA-2014-105893   \n",
       "8  NJ-2014-167164     Ruby Matthews       Troy         6  NJ-2014-167164   \n",
       "\n",
       "           Customer    Village  Quantity  \n",
       "0     Raymond Young       Troy         6  \n",
       "1        Helen Dean  Westfield         7  \n",
       "2    Shirley Chavez    Seattle         2  \n",
       "3        Brian Ryan  Westfield         1  \n",
       "4   Benjamin Willis  Westfield         3  \n",
       "5     Annie Jenkins    Seattle         6  \n",
       "6  Christina Little       Troy         6  \n",
       "7     Annie Jenkins    Seattle         9  \n",
       "8     Ruby Matthews       Troy         6  "
      ]
     },
     "execution_count": 83,
     "metadata": {},
     "output_type": "execute_result"
    }
   ],
   "source": [
    "pd.concat([ord1,ret1], axis = 1)\n",
    "# axis = 0 : rows\n",
    "# axis = 1 : columns"
   ]
  },
  {
   "cell_type": "code",
   "execution_count": 88,
   "id": "975a2e6c",
   "metadata": {},
   "outputs": [
    {
     "name": "stdout",
     "output_type": "stream",
     "text": [
      "Object `pd.append` not found.\n"
     ]
    }
   ],
   "source": [
    "pd.append?"
   ]
  },
  {
   "cell_type": "code",
   "execution_count": 92,
   "id": "ad4870f5",
   "metadata": {},
   "outputs": [
    {
     "data": {
      "text/plain": [
       "Index(['Order ID', 'Customer', 'City', 'Quantity'], dtype='object')"
      ]
     },
     "execution_count": 92,
     "metadata": {},
     "output_type": "execute_result"
    }
   ],
   "source": [
    "ord1.columns"
   ]
  },
  {
   "cell_type": "code",
   "execution_count": 93,
   "id": "3c3eadd4",
   "metadata": {},
   "outputs": [
    {
     "data": {
      "text/plain": [
       "Index(['Order ID', 'Customer', 'Village', 'Quantity'], dtype='object')"
      ]
     },
     "execution_count": 93,
     "metadata": {},
     "output_type": "execute_result"
    }
   ],
   "source": [
    "ret1.columns"
   ]
  },
  {
   "cell_type": "code",
   "execution_count": 105,
   "id": "e5ca10c0",
   "metadata": {},
   "outputs": [
    {
     "data": {
      "text/html": [
       "<div>\n",
       "<style scoped>\n",
       "    .dataframe tbody tr th:only-of-type {\n",
       "        vertical-align: middle;\n",
       "    }\n",
       "\n",
       "    .dataframe tbody tr th {\n",
       "        vertical-align: top;\n",
       "    }\n",
       "\n",
       "    .dataframe thead th {\n",
       "        text-align: right;\n",
       "    }\n",
       "</style>\n",
       "<table border=\"1\" class=\"dataframe\">\n",
       "  <thead>\n",
       "    <tr style=\"text-align: right;\">\n",
       "      <th></th>\n",
       "      <th>Order ID</th>\n",
       "      <th>Customer</th>\n",
       "      <th>City</th>\n",
       "      <th>Quantity</th>\n",
       "    </tr>\n",
       "  </thead>\n",
       "  <tbody>\n",
       "    <tr>\n",
       "      <th>0</th>\n",
       "      <td>NJ-2016-152156</td>\n",
       "      <td>Raymond Young</td>\n",
       "      <td>Troy</td>\n",
       "      <td>6</td>\n",
       "    </tr>\n",
       "    <tr>\n",
       "      <th>1</th>\n",
       "      <td>NJ-2016-138688</td>\n",
       "      <td>Helen Dean</td>\n",
       "      <td>Westfield</td>\n",
       "      <td>7</td>\n",
       "    </tr>\n",
       "    <tr>\n",
       "      <th>2</th>\n",
       "      <td>WA-2015-108966</td>\n",
       "      <td>Shirley Chavez</td>\n",
       "      <td>Seattle</td>\n",
       "      <td>2</td>\n",
       "    </tr>\n",
       "    <tr>\n",
       "      <th>3</th>\n",
       "      <td>NJ-2014-115812</td>\n",
       "      <td>Brian Ryan</td>\n",
       "      <td>Westfield</td>\n",
       "      <td>1</td>\n",
       "    </tr>\n",
       "    <tr>\n",
       "      <th>4</th>\n",
       "      <td>NJ-2017-114412</td>\n",
       "      <td>Benjamin Willis</td>\n",
       "      <td>Westfield</td>\n",
       "      <td>3</td>\n",
       "    </tr>\n",
       "    <tr>\n",
       "      <th>5</th>\n",
       "      <td>WA-2016-161389</td>\n",
       "      <td>Annie Jenkins</td>\n",
       "      <td>Seattle</td>\n",
       "      <td>6</td>\n",
       "    </tr>\n",
       "    <tr>\n",
       "      <th>6</th>\n",
       "      <td>NJ-2015-118983</td>\n",
       "      <td>Christina Little</td>\n",
       "      <td>Troy</td>\n",
       "      <td>6</td>\n",
       "    </tr>\n",
       "    <tr>\n",
       "      <th>7</th>\n",
       "      <td>WA-2014-105893</td>\n",
       "      <td>Annie Jenkins</td>\n",
       "      <td>Seattle</td>\n",
       "      <td>9</td>\n",
       "    </tr>\n",
       "    <tr>\n",
       "      <th>8</th>\n",
       "      <td>NJ-2014-167164</td>\n",
       "      <td>Ruby Matthews</td>\n",
       "      <td>Troy</td>\n",
       "      <td>6</td>\n",
       "    </tr>\n",
       "  </tbody>\n",
       "</table>\n",
       "</div>"
      ],
      "text/plain": [
       "         Order ID          Customer       City  Quantity\n",
       "0  NJ-2016-152156     Raymond Young       Troy         6\n",
       "1  NJ-2016-138688        Helen Dean  Westfield         7\n",
       "2  WA-2015-108966    Shirley Chavez    Seattle         2\n",
       "3  NJ-2014-115812        Brian Ryan  Westfield         1\n",
       "4  NJ-2017-114412   Benjamin Willis  Westfield         3\n",
       "5  WA-2016-161389     Annie Jenkins    Seattle         6\n",
       "6  NJ-2015-118983  Christina Little       Troy         6\n",
       "7  WA-2014-105893     Annie Jenkins    Seattle         9\n",
       "8  NJ-2014-167164     Ruby Matthews       Troy         6"
      ]
     },
     "execution_count": 105,
     "metadata": {},
     "output_type": "execute_result"
    }
   ],
   "source": [
    "ord1"
   ]
  },
  {
   "cell_type": "code",
   "execution_count": 106,
   "id": "815fca42",
   "metadata": {},
   "outputs": [
    {
     "data": {
      "text/html": [
       "<div>\n",
       "<style scoped>\n",
       "    .dataframe tbody tr th:only-of-type {\n",
       "        vertical-align: middle;\n",
       "    }\n",
       "\n",
       "    .dataframe tbody tr th {\n",
       "        vertical-align: top;\n",
       "    }\n",
       "\n",
       "    .dataframe thead th {\n",
       "        text-align: right;\n",
       "    }\n",
       "</style>\n",
       "<table border=\"1\" class=\"dataframe\">\n",
       "  <thead>\n",
       "    <tr style=\"text-align: right;\">\n",
       "      <th></th>\n",
       "      <th>Order ID</th>\n",
       "      <th>Customer</th>\n",
       "      <th>Village</th>\n",
       "      <th>Quantity</th>\n",
       "    </tr>\n",
       "  </thead>\n",
       "  <tbody>\n",
       "    <tr>\n",
       "      <th>0</th>\n",
       "      <td>NJ-2016-152156</td>\n",
       "      <td>Raymond Young</td>\n",
       "      <td>Troy</td>\n",
       "      <td>6</td>\n",
       "    </tr>\n",
       "    <tr>\n",
       "      <th>1</th>\n",
       "      <td>NJ-2016-138688</td>\n",
       "      <td>Helen Dean</td>\n",
       "      <td>Westfield</td>\n",
       "      <td>7</td>\n",
       "    </tr>\n",
       "    <tr>\n",
       "      <th>2</th>\n",
       "      <td>WA-2015-108966</td>\n",
       "      <td>Shirley Chavez</td>\n",
       "      <td>Seattle</td>\n",
       "      <td>2</td>\n",
       "    </tr>\n",
       "    <tr>\n",
       "      <th>3</th>\n",
       "      <td>NJ-2014-115812</td>\n",
       "      <td>Brian Ryan</td>\n",
       "      <td>Westfield</td>\n",
       "      <td>1</td>\n",
       "    </tr>\n",
       "    <tr>\n",
       "      <th>4</th>\n",
       "      <td>NJ-2017-114412</td>\n",
       "      <td>Benjamin Willis</td>\n",
       "      <td>Westfield</td>\n",
       "      <td>3</td>\n",
       "    </tr>\n",
       "    <tr>\n",
       "      <th>5</th>\n",
       "      <td>WA-2016-161389</td>\n",
       "      <td>Annie Jenkins</td>\n",
       "      <td>Seattle</td>\n",
       "      <td>6</td>\n",
       "    </tr>\n",
       "    <tr>\n",
       "      <th>6</th>\n",
       "      <td>NJ-2015-118983</td>\n",
       "      <td>Christina Little</td>\n",
       "      <td>Troy</td>\n",
       "      <td>6</td>\n",
       "    </tr>\n",
       "    <tr>\n",
       "      <th>7</th>\n",
       "      <td>WA-2014-105893</td>\n",
       "      <td>Annie Jenkins</td>\n",
       "      <td>Seattle</td>\n",
       "      <td>9</td>\n",
       "    </tr>\n",
       "    <tr>\n",
       "      <th>8</th>\n",
       "      <td>NJ-2014-167164</td>\n",
       "      <td>Ruby Matthews</td>\n",
       "      <td>Troy</td>\n",
       "      <td>6</td>\n",
       "    </tr>\n",
       "  </tbody>\n",
       "</table>\n",
       "</div>"
      ],
      "text/plain": [
       "         Order ID          Customer    Village  Quantity\n",
       "0  NJ-2016-152156     Raymond Young       Troy         6\n",
       "1  NJ-2016-138688        Helen Dean  Westfield         7\n",
       "2  WA-2015-108966    Shirley Chavez    Seattle         2\n",
       "3  NJ-2014-115812        Brian Ryan  Westfield         1\n",
       "4  NJ-2017-114412   Benjamin Willis  Westfield         3\n",
       "5  WA-2016-161389     Annie Jenkins    Seattle         6\n",
       "6  NJ-2015-118983  Christina Little       Troy         6\n",
       "7  WA-2014-105893     Annie Jenkins    Seattle         9\n",
       "8  NJ-2014-167164     Ruby Matthews       Troy         6"
      ]
     },
     "execution_count": 106,
     "metadata": {},
     "output_type": "execute_result"
    }
   ],
   "source": [
    "ret1"
   ]
  },
  {
   "cell_type": "code",
   "execution_count": 107,
   "id": "7b974550",
   "metadata": {},
   "outputs": [
    {
     "data": {
      "text/html": [
       "<div>\n",
       "<style scoped>\n",
       "    .dataframe tbody tr th:only-of-type {\n",
       "        vertical-align: middle;\n",
       "    }\n",
       "\n",
       "    .dataframe tbody tr th {\n",
       "        vertical-align: top;\n",
       "    }\n",
       "\n",
       "    .dataframe thead th {\n",
       "        text-align: right;\n",
       "    }\n",
       "</style>\n",
       "<table border=\"1\" class=\"dataframe\">\n",
       "  <thead>\n",
       "    <tr style=\"text-align: right;\">\n",
       "      <th></th>\n",
       "      <th>Order ID</th>\n",
       "      <th>Customer</th>\n",
       "      <th>City</th>\n",
       "      <th>Quantity</th>\n",
       "      <th>Village</th>\n",
       "    </tr>\n",
       "  </thead>\n",
       "  <tbody>\n",
       "    <tr>\n",
       "      <th>0</th>\n",
       "      <td>NJ-2016-152156</td>\n",
       "      <td>Raymond Young</td>\n",
       "      <td>Troy</td>\n",
       "      <td>6</td>\n",
       "      <td>NaN</td>\n",
       "    </tr>\n",
       "    <tr>\n",
       "      <th>1</th>\n",
       "      <td>NJ-2016-138688</td>\n",
       "      <td>Helen Dean</td>\n",
       "      <td>Westfield</td>\n",
       "      <td>7</td>\n",
       "      <td>NaN</td>\n",
       "    </tr>\n",
       "    <tr>\n",
       "      <th>2</th>\n",
       "      <td>WA-2015-108966</td>\n",
       "      <td>Shirley Chavez</td>\n",
       "      <td>Seattle</td>\n",
       "      <td>2</td>\n",
       "      <td>NaN</td>\n",
       "    </tr>\n",
       "    <tr>\n",
       "      <th>3</th>\n",
       "      <td>NJ-2014-115812</td>\n",
       "      <td>Brian Ryan</td>\n",
       "      <td>Westfield</td>\n",
       "      <td>1</td>\n",
       "      <td>NaN</td>\n",
       "    </tr>\n",
       "    <tr>\n",
       "      <th>4</th>\n",
       "      <td>NJ-2017-114412</td>\n",
       "      <td>Benjamin Willis</td>\n",
       "      <td>Westfield</td>\n",
       "      <td>3</td>\n",
       "      <td>NaN</td>\n",
       "    </tr>\n",
       "    <tr>\n",
       "      <th>5</th>\n",
       "      <td>WA-2016-161389</td>\n",
       "      <td>Annie Jenkins</td>\n",
       "      <td>Seattle</td>\n",
       "      <td>6</td>\n",
       "      <td>NaN</td>\n",
       "    </tr>\n",
       "    <tr>\n",
       "      <th>6</th>\n",
       "      <td>NJ-2015-118983</td>\n",
       "      <td>Christina Little</td>\n",
       "      <td>Troy</td>\n",
       "      <td>6</td>\n",
       "      <td>NaN</td>\n",
       "    </tr>\n",
       "    <tr>\n",
       "      <th>7</th>\n",
       "      <td>WA-2014-105893</td>\n",
       "      <td>Annie Jenkins</td>\n",
       "      <td>Seattle</td>\n",
       "      <td>9</td>\n",
       "      <td>NaN</td>\n",
       "    </tr>\n",
       "    <tr>\n",
       "      <th>8</th>\n",
       "      <td>NJ-2014-167164</td>\n",
       "      <td>Ruby Matthews</td>\n",
       "      <td>Troy</td>\n",
       "      <td>6</td>\n",
       "      <td>NaN</td>\n",
       "    </tr>\n",
       "    <tr>\n",
       "      <th>0</th>\n",
       "      <td>NJ-2016-152156</td>\n",
       "      <td>Raymond Young</td>\n",
       "      <td>NaN</td>\n",
       "      <td>6</td>\n",
       "      <td>Troy</td>\n",
       "    </tr>\n",
       "    <tr>\n",
       "      <th>1</th>\n",
       "      <td>NJ-2016-138688</td>\n",
       "      <td>Helen Dean</td>\n",
       "      <td>NaN</td>\n",
       "      <td>7</td>\n",
       "      <td>Westfield</td>\n",
       "    </tr>\n",
       "    <tr>\n",
       "      <th>2</th>\n",
       "      <td>WA-2015-108966</td>\n",
       "      <td>Shirley Chavez</td>\n",
       "      <td>NaN</td>\n",
       "      <td>2</td>\n",
       "      <td>Seattle</td>\n",
       "    </tr>\n",
       "    <tr>\n",
       "      <th>3</th>\n",
       "      <td>NJ-2014-115812</td>\n",
       "      <td>Brian Ryan</td>\n",
       "      <td>NaN</td>\n",
       "      <td>1</td>\n",
       "      <td>Westfield</td>\n",
       "    </tr>\n",
       "    <tr>\n",
       "      <th>4</th>\n",
       "      <td>NJ-2017-114412</td>\n",
       "      <td>Benjamin Willis</td>\n",
       "      <td>NaN</td>\n",
       "      <td>3</td>\n",
       "      <td>Westfield</td>\n",
       "    </tr>\n",
       "    <tr>\n",
       "      <th>5</th>\n",
       "      <td>WA-2016-161389</td>\n",
       "      <td>Annie Jenkins</td>\n",
       "      <td>NaN</td>\n",
       "      <td>6</td>\n",
       "      <td>Seattle</td>\n",
       "    </tr>\n",
       "    <tr>\n",
       "      <th>6</th>\n",
       "      <td>NJ-2015-118983</td>\n",
       "      <td>Christina Little</td>\n",
       "      <td>NaN</td>\n",
       "      <td>6</td>\n",
       "      <td>Troy</td>\n",
       "    </tr>\n",
       "    <tr>\n",
       "      <th>7</th>\n",
       "      <td>WA-2014-105893</td>\n",
       "      <td>Annie Jenkins</td>\n",
       "      <td>NaN</td>\n",
       "      <td>9</td>\n",
       "      <td>Seattle</td>\n",
       "    </tr>\n",
       "    <tr>\n",
       "      <th>8</th>\n",
       "      <td>NJ-2014-167164</td>\n",
       "      <td>Ruby Matthews</td>\n",
       "      <td>NaN</td>\n",
       "      <td>6</td>\n",
       "      <td>Troy</td>\n",
       "    </tr>\n",
       "  </tbody>\n",
       "</table>\n",
       "</div>"
      ],
      "text/plain": [
       "         Order ID          Customer       City  Quantity    Village\n",
       "0  NJ-2016-152156     Raymond Young       Troy         6        NaN\n",
       "1  NJ-2016-138688        Helen Dean  Westfield         7        NaN\n",
       "2  WA-2015-108966    Shirley Chavez    Seattle         2        NaN\n",
       "3  NJ-2014-115812        Brian Ryan  Westfield         1        NaN\n",
       "4  NJ-2017-114412   Benjamin Willis  Westfield         3        NaN\n",
       "5  WA-2016-161389     Annie Jenkins    Seattle         6        NaN\n",
       "6  NJ-2015-118983  Christina Little       Troy         6        NaN\n",
       "7  WA-2014-105893     Annie Jenkins    Seattle         9        NaN\n",
       "8  NJ-2014-167164     Ruby Matthews       Troy         6        NaN\n",
       "0  NJ-2016-152156     Raymond Young        NaN         6       Troy\n",
       "1  NJ-2016-138688        Helen Dean        NaN         7  Westfield\n",
       "2  WA-2015-108966    Shirley Chavez        NaN         2    Seattle\n",
       "3  NJ-2014-115812        Brian Ryan        NaN         1  Westfield\n",
       "4  NJ-2017-114412   Benjamin Willis        NaN         3  Westfield\n",
       "5  WA-2016-161389     Annie Jenkins        NaN         6    Seattle\n",
       "6  NJ-2015-118983  Christina Little        NaN         6       Troy\n",
       "7  WA-2014-105893     Annie Jenkins        NaN         9    Seattle\n",
       "8  NJ-2014-167164     Ruby Matthews        NaN         6       Troy"
      ]
     },
     "execution_count": 107,
     "metadata": {},
     "output_type": "execute_result"
    }
   ],
   "source": [
    "pd.concat([ord1,ret1])"
   ]
  },
  {
   "cell_type": "code",
   "execution_count": 108,
   "id": "e3e54243",
   "metadata": {},
   "outputs": [
    {
     "data": {
      "text/plain": [
       "Index(['Order ID', 'Customer', 'City', 'Quantity', 'Price'], dtype='object')"
      ]
     },
     "execution_count": 108,
     "metadata": {},
     "output_type": "execute_result"
    }
   ],
   "source": [
    "orders.columns"
   ]
  },
  {
   "cell_type": "code",
   "execution_count": 112,
   "id": "73ecd283",
   "metadata": {},
   "outputs": [],
   "source": [
    "orders.rename(columns = {\"Order ID\" : \"Unique_ID\"}, inplace = True)"
   ]
  },
  {
   "cell_type": "code",
   "execution_count": 113,
   "id": "00211bb2",
   "metadata": {},
   "outputs": [
    {
     "data": {
      "text/plain": [
       "Index(['Unique_ID', 'Customer', 'City', 'Quantity', 'Price'], dtype='object')"
      ]
     },
     "execution_count": 113,
     "metadata": {},
     "output_type": "execute_result"
    }
   ],
   "source": [
    "orders.columns"
   ]
  },
  {
   "cell_type": "code",
   "execution_count": 115,
   "id": "d187488c",
   "metadata": {},
   "outputs": [
    {
     "data": {
      "text/plain": [
       "Index(['Order ID', 'Customer', 'City', 'State'], dtype='object')"
      ]
     },
     "execution_count": 115,
     "metadata": {},
     "output_type": "execute_result"
    }
   ],
   "source": [
    "returns.columns"
   ]
  },
  {
   "cell_type": "code",
   "execution_count": 116,
   "id": "88a5144d",
   "metadata": {},
   "outputs": [],
   "source": [
    "innerJoin = pd.merge(left=orders, right=returns, \n",
    "                     how=\"inner\", left_on=\"Unique_ID\", right_on=\"Order ID\")"
   ]
  },
  {
   "cell_type": "code",
   "execution_count": 117,
   "id": "9ecc3315",
   "metadata": {},
   "outputs": [
    {
     "data": {
      "text/html": [
       "<div>\n",
       "<style scoped>\n",
       "    .dataframe tbody tr th:only-of-type {\n",
       "        vertical-align: middle;\n",
       "    }\n",
       "\n",
       "    .dataframe tbody tr th {\n",
       "        vertical-align: top;\n",
       "    }\n",
       "\n",
       "    .dataframe thead th {\n",
       "        text-align: right;\n",
       "    }\n",
       "</style>\n",
       "<table border=\"1\" class=\"dataframe\">\n",
       "  <thead>\n",
       "    <tr style=\"text-align: right;\">\n",
       "      <th></th>\n",
       "      <th>Unique_ID</th>\n",
       "      <th>Customer_x</th>\n",
       "      <th>City_x</th>\n",
       "      <th>Quantity</th>\n",
       "      <th>Price</th>\n",
       "      <th>Order ID</th>\n",
       "      <th>Customer_y</th>\n",
       "      <th>City_y</th>\n",
       "      <th>State</th>\n",
       "    </tr>\n",
       "  </thead>\n",
       "  <tbody>\n",
       "    <tr>\n",
       "      <th>0</th>\n",
       "      <td>WA-2016-117590</td>\n",
       "      <td>Judy Sanchez</td>\n",
       "      <td>Seattle</td>\n",
       "      <td>7</td>\n",
       "      <td>53.35</td>\n",
       "      <td>WA-2016-117590</td>\n",
       "      <td>Judy Sanchez</td>\n",
       "      <td>Seattle</td>\n",
       "      <td>Washington</td>\n",
       "    </tr>\n",
       "    <tr>\n",
       "      <th>1</th>\n",
       "      <td>WA-2015-117415</td>\n",
       "      <td>Harold Hunter</td>\n",
       "      <td>Seattle</td>\n",
       "      <td>4</td>\n",
       "      <td>12.42</td>\n",
       "      <td>WA-2015-117415</td>\n",
       "      <td>Harold Hunter</td>\n",
       "      <td>Seattle</td>\n",
       "      <td>Washington</td>\n",
       "    </tr>\n",
       "    <tr>\n",
       "      <th>2</th>\n",
       "      <td>MA-2017-120999</td>\n",
       "      <td>Lori Shaw</td>\n",
       "      <td>Lowell</td>\n",
       "      <td>7</td>\n",
       "      <td>16.32</td>\n",
       "      <td>MA-2017-120999</td>\n",
       "      <td>Lori Shaw</td>\n",
       "      <td>Lowell</td>\n",
       "      <td>Massachusetts</td>\n",
       "    </tr>\n",
       "    <tr>\n",
       "      <th>3</th>\n",
       "      <td>NJ-2016-101343</td>\n",
       "      <td>Sandra Hicks</td>\n",
       "      <td>Troy</td>\n",
       "      <td>1</td>\n",
       "      <td>53.35</td>\n",
       "      <td>NJ-2016-101343</td>\n",
       "      <td>Sandra Hicks</td>\n",
       "      <td>Troy</td>\n",
       "      <td>New York</td>\n",
       "    </tr>\n",
       "    <tr>\n",
       "      <th>4</th>\n",
       "      <td>MA-2017-139619</td>\n",
       "      <td>Roger Gomez</td>\n",
       "      <td>Lowell</td>\n",
       "      <td>7</td>\n",
       "      <td>16.32</td>\n",
       "      <td>MA-2017-139619</td>\n",
       "      <td>Roger Gomez</td>\n",
       "      <td>Lowell</td>\n",
       "      <td>Massachusetts</td>\n",
       "    </tr>\n",
       "  </tbody>\n",
       "</table>\n",
       "</div>"
      ],
      "text/plain": [
       "        Unique_ID     Customer_x   City_x  Quantity  Price        Order ID  \\\n",
       "0  WA-2016-117590   Judy Sanchez  Seattle         7  53.35  WA-2016-117590   \n",
       "1  WA-2015-117415  Harold Hunter  Seattle         4  12.42  WA-2015-117415   \n",
       "2  MA-2017-120999      Lori Shaw   Lowell         7  16.32  MA-2017-120999   \n",
       "3  NJ-2016-101343   Sandra Hicks     Troy         1  53.35  NJ-2016-101343   \n",
       "4  MA-2017-139619    Roger Gomez   Lowell         7  16.32  MA-2017-139619   \n",
       "\n",
       "      Customer_y   City_y          State  \n",
       "0   Judy Sanchez  Seattle     Washington  \n",
       "1  Harold Hunter  Seattle     Washington  \n",
       "2      Lori Shaw   Lowell  Massachusetts  \n",
       "3   Sandra Hicks     Troy       New York  \n",
       "4    Roger Gomez   Lowell  Massachusetts  "
      ]
     },
     "execution_count": 117,
     "metadata": {},
     "output_type": "execute_result"
    }
   ],
   "source": [
    "innerJoin.head()"
   ]
  },
  {
   "cell_type": "code",
   "execution_count": 118,
   "id": "2e08b659",
   "metadata": {},
   "outputs": [],
   "source": [
    "innerJoin = pd.merge(left=orders, right=returns, \n",
    "                     how=\"inner\", left_index=True,right_index=True)"
   ]
  },
  {
   "cell_type": "code",
   "execution_count": 119,
   "id": "cad28653",
   "metadata": {},
   "outputs": [
    {
     "data": {
      "text/html": [
       "<div>\n",
       "<style scoped>\n",
       "    .dataframe tbody tr th:only-of-type {\n",
       "        vertical-align: middle;\n",
       "    }\n",
       "\n",
       "    .dataframe tbody tr th {\n",
       "        vertical-align: top;\n",
       "    }\n",
       "\n",
       "    .dataframe thead th {\n",
       "        text-align: right;\n",
       "    }\n",
       "</style>\n",
       "<table border=\"1\" class=\"dataframe\">\n",
       "  <thead>\n",
       "    <tr style=\"text-align: right;\">\n",
       "      <th></th>\n",
       "      <th>Unique_ID</th>\n",
       "      <th>Customer_x</th>\n",
       "      <th>City_x</th>\n",
       "      <th>Quantity</th>\n",
       "      <th>Price</th>\n",
       "      <th>Order ID</th>\n",
       "      <th>Customer_y</th>\n",
       "      <th>City_y</th>\n",
       "      <th>State</th>\n",
       "    </tr>\n",
       "  </thead>\n",
       "  <tbody>\n",
       "    <tr>\n",
       "      <th>0</th>\n",
       "      <td>NJ-2016-152156</td>\n",
       "      <td>Raymond Young</td>\n",
       "      <td>Troy</td>\n",
       "      <td>6</td>\n",
       "      <td>12.42</td>\n",
       "      <td>NJ-2016-273214</td>\n",
       "      <td>Raymond Young</td>\n",
       "      <td>Troy</td>\n",
       "      <td>New York</td>\n",
       "    </tr>\n",
       "    <tr>\n",
       "      <th>1</th>\n",
       "      <td>NJ-2016-138688</td>\n",
       "      <td>Helen Dean</td>\n",
       "      <td>Westfield</td>\n",
       "      <td>7</td>\n",
       "      <td>17.83</td>\n",
       "      <td>NJ-2016-271456</td>\n",
       "      <td>Helen Dean</td>\n",
       "      <td>Westfield</td>\n",
       "      <td>New Jersey</td>\n",
       "    </tr>\n",
       "    <tr>\n",
       "      <th>2</th>\n",
       "      <td>WA-2015-108966</td>\n",
       "      <td>Shirley Chavez</td>\n",
       "      <td>Seattle</td>\n",
       "      <td>2</td>\n",
       "      <td>53.35</td>\n",
       "      <td>WA-2015-451988</td>\n",
       "      <td>Shirley Chavez</td>\n",
       "      <td>Seattle</td>\n",
       "      <td>Washington</td>\n",
       "    </tr>\n",
       "    <tr>\n",
       "      <th>3</th>\n",
       "      <td>NJ-2014-115812</td>\n",
       "      <td>Brian Ryan</td>\n",
       "      <td>Westfield</td>\n",
       "      <td>1</td>\n",
       "      <td>53.35</td>\n",
       "      <td>NJ-2014-352961</td>\n",
       "      <td>Brian Ryan</td>\n",
       "      <td>Westfield</td>\n",
       "      <td>New Jersey</td>\n",
       "    </tr>\n",
       "    <tr>\n",
       "      <th>4</th>\n",
       "      <td>NJ-2017-114412</td>\n",
       "      <td>Benjamin Willis</td>\n",
       "      <td>Westfield</td>\n",
       "      <td>3</td>\n",
       "      <td>17.83</td>\n",
       "      <td>NJ-2017-213231</td>\n",
       "      <td>Benjamin Willis</td>\n",
       "      <td>Westfield</td>\n",
       "      <td>New Jersey</td>\n",
       "    </tr>\n",
       "  </tbody>\n",
       "</table>\n",
       "</div>"
      ],
      "text/plain": [
       "        Unique_ID       Customer_x     City_x  Quantity  Price  \\\n",
       "0  NJ-2016-152156    Raymond Young       Troy         6  12.42   \n",
       "1  NJ-2016-138688       Helen Dean  Westfield         7  17.83   \n",
       "2  WA-2015-108966   Shirley Chavez    Seattle         2  53.35   \n",
       "3  NJ-2014-115812       Brian Ryan  Westfield         1  53.35   \n",
       "4  NJ-2017-114412  Benjamin Willis  Westfield         3  17.83   \n",
       "\n",
       "         Order ID       Customer_y     City_y       State  \n",
       "0  NJ-2016-273214    Raymond Young       Troy    New York  \n",
       "1  NJ-2016-271456       Helen Dean  Westfield  New Jersey  \n",
       "2  WA-2015-451988   Shirley Chavez    Seattle  Washington  \n",
       "3  NJ-2014-352961       Brian Ryan  Westfield  New Jersey  \n",
       "4  NJ-2017-213231  Benjamin Willis  Westfield  New Jersey  "
      ]
     },
     "execution_count": 119,
     "metadata": {},
     "output_type": "execute_result"
    }
   ],
   "source": [
    "innerJoin.head()"
   ]
  },
  {
   "cell_type": "code",
   "execution_count": 120,
   "id": "3d13351d",
   "metadata": {},
   "outputs": [],
   "source": [
    "# Query"
   ]
  },
  {
   "cell_type": "code",
   "execution_count": 121,
   "id": "b077829f",
   "metadata": {},
   "outputs": [
    {
     "data": {
      "text/html": [
       "<div>\n",
       "<style scoped>\n",
       "    .dataframe tbody tr th:only-of-type {\n",
       "        vertical-align: middle;\n",
       "    }\n",
       "\n",
       "    .dataframe tbody tr th {\n",
       "        vertical-align: top;\n",
       "    }\n",
       "\n",
       "    .dataframe thead th {\n",
       "        text-align: right;\n",
       "    }\n",
       "</style>\n",
       "<table border=\"1\" class=\"dataframe\">\n",
       "  <thead>\n",
       "    <tr style=\"text-align: right;\">\n",
       "      <th></th>\n",
       "      <th>Unique_ID</th>\n",
       "      <th>Customer</th>\n",
       "      <th>City</th>\n",
       "      <th>Quantity</th>\n",
       "      <th>Price</th>\n",
       "    </tr>\n",
       "  </thead>\n",
       "  <tbody>\n",
       "    <tr>\n",
       "      <th>0</th>\n",
       "      <td>NJ-2016-152156</td>\n",
       "      <td>Raymond Young</td>\n",
       "      <td>Troy</td>\n",
       "      <td>6</td>\n",
       "      <td>12.42</td>\n",
       "    </tr>\n",
       "    <tr>\n",
       "      <th>1</th>\n",
       "      <td>NJ-2016-138688</td>\n",
       "      <td>Helen Dean</td>\n",
       "      <td>Westfield</td>\n",
       "      <td>7</td>\n",
       "      <td>17.83</td>\n",
       "    </tr>\n",
       "    <tr>\n",
       "      <th>2</th>\n",
       "      <td>WA-2015-108966</td>\n",
       "      <td>Shirley Chavez</td>\n",
       "      <td>Seattle</td>\n",
       "      <td>2</td>\n",
       "      <td>53.35</td>\n",
       "    </tr>\n",
       "    <tr>\n",
       "      <th>3</th>\n",
       "      <td>NJ-2014-115812</td>\n",
       "      <td>Brian Ryan</td>\n",
       "      <td>Westfield</td>\n",
       "      <td>1</td>\n",
       "      <td>53.35</td>\n",
       "    </tr>\n",
       "    <tr>\n",
       "      <th>4</th>\n",
       "      <td>NJ-2017-114412</td>\n",
       "      <td>Benjamin Willis</td>\n",
       "      <td>Westfield</td>\n",
       "      <td>3</td>\n",
       "      <td>17.83</td>\n",
       "    </tr>\n",
       "  </tbody>\n",
       "</table>\n",
       "</div>"
      ],
      "text/plain": [
       "        Unique_ID         Customer       City  Quantity  Price\n",
       "0  NJ-2016-152156    Raymond Young       Troy         6  12.42\n",
       "1  NJ-2016-138688       Helen Dean  Westfield         7  17.83\n",
       "2  WA-2015-108966   Shirley Chavez    Seattle         2  53.35\n",
       "3  NJ-2014-115812       Brian Ryan  Westfield         1  53.35\n",
       "4  NJ-2017-114412  Benjamin Willis  Westfield         3  17.83"
      ]
     },
     "execution_count": 121,
     "metadata": {},
     "output_type": "execute_result"
    }
   ],
   "source": [
    "orders.head()"
   ]
  },
  {
   "cell_type": "code",
   "execution_count": 123,
   "id": "e457304c",
   "metadata": {},
   "outputs": [
    {
     "data": {
      "text/html": [
       "<div>\n",
       "<style scoped>\n",
       "    .dataframe tbody tr th:only-of-type {\n",
       "        vertical-align: middle;\n",
       "    }\n",
       "\n",
       "    .dataframe tbody tr th {\n",
       "        vertical-align: top;\n",
       "    }\n",
       "\n",
       "    .dataframe thead th {\n",
       "        text-align: right;\n",
       "    }\n",
       "</style>\n",
       "<table border=\"1\" class=\"dataframe\">\n",
       "  <thead>\n",
       "    <tr style=\"text-align: right;\">\n",
       "      <th></th>\n",
       "      <th>Price</th>\n",
       "      <th>Quantity</th>\n",
       "      <th>City</th>\n",
       "      <th>Customer</th>\n",
       "      <th>Unique_ID</th>\n",
       "    </tr>\n",
       "  </thead>\n",
       "  <tbody>\n",
       "  </tbody>\n",
       "</table>\n",
       "</div>"
      ],
      "text/plain": [
       "Empty DataFrame\n",
       "Columns: [Price, Quantity, City, Customer, Unique_ID]\n",
       "Index: []"
      ]
     },
     "execution_count": 123,
     "metadata": {},
     "output_type": "execute_result"
    }
   ],
   "source": [
    "orders[orders.columns[::-1]].head(0)"
   ]
  },
  {
   "cell_type": "code",
   "execution_count": 126,
   "id": "89516a4f",
   "metadata": {},
   "outputs": [
    {
     "data": {
      "text/html": [
       "<div>\n",
       "<style scoped>\n",
       "    .dataframe tbody tr th:only-of-type {\n",
       "        vertical-align: middle;\n",
       "    }\n",
       "\n",
       "    .dataframe tbody tr th {\n",
       "        vertical-align: top;\n",
       "    }\n",
       "\n",
       "    .dataframe thead th {\n",
       "        text-align: right;\n",
       "    }\n",
       "</style>\n",
       "<table border=\"1\" class=\"dataframe\">\n",
       "  <thead>\n",
       "    <tr style=\"text-align: right;\">\n",
       "      <th></th>\n",
       "      <th>Price</th>\n",
       "      <th>Quantity</th>\n",
       "      <th>City</th>\n",
       "      <th>Customer</th>\n",
       "      <th>Unique_ID</th>\n",
       "    </tr>\n",
       "  </thead>\n",
       "  <tbody>\n",
       "  </tbody>\n",
       "</table>\n",
       "</div>"
      ],
      "text/plain": [
       "Empty DataFrame\n",
       "Columns: [Price, Quantity, City, Customer, Unique_ID]\n",
       "Index: []"
      ]
     },
     "execution_count": 126,
     "metadata": {},
     "output_type": "execute_result"
    }
   ],
   "source": [
    "orders.iloc[:,::-1].head(0)"
   ]
  },
  {
   "cell_type": "code",
   "execution_count": 132,
   "id": "074658ca",
   "metadata": {},
   "outputs": [
    {
     "data": {
      "text/html": [
       "<div>\n",
       "<style scoped>\n",
       "    .dataframe tbody tr th:only-of-type {\n",
       "        vertical-align: middle;\n",
       "    }\n",
       "\n",
       "    .dataframe tbody tr th {\n",
       "        vertical-align: top;\n",
       "    }\n",
       "\n",
       "    .dataframe thead th {\n",
       "        text-align: right;\n",
       "    }\n",
       "</style>\n",
       "<table border=\"1\" class=\"dataframe\">\n",
       "  <thead>\n",
       "    <tr style=\"text-align: right;\">\n",
       "      <th></th>\n",
       "      <th>Price</th>\n",
       "      <th>Quantity</th>\n",
       "      <th>City</th>\n",
       "      <th>Customer</th>\n",
       "      <th>Unique_ID</th>\n",
       "    </tr>\n",
       "  </thead>\n",
       "  <tbody>\n",
       "  </tbody>\n",
       "</table>\n",
       "</div>"
      ],
      "text/plain": [
       "Empty DataFrame\n",
       "Columns: [Price, Quantity, City, Customer, Unique_ID]\n",
       "Index: []"
      ]
     },
     "execution_count": 132,
     "metadata": {},
     "output_type": "execute_result"
    }
   ],
   "source": [
    "orders.loc[:,orders.columns[::-1]].head(0)"
   ]
  },
  {
   "cell_type": "code",
   "execution_count": null,
   "id": "e6216a02",
   "metadata": {},
   "outputs": [],
   "source": []
  }
 ],
 "metadata": {
  "kernelspec": {
   "display_name": "Python 3 (ipykernel)",
   "language": "python",
   "name": "python3"
  },
  "language_info": {
   "codemirror_mode": {
    "name": "ipython",
    "version": 3
   },
   "file_extension": ".py",
   "mimetype": "text/x-python",
   "name": "python",
   "nbconvert_exporter": "python",
   "pygments_lexer": "ipython3",
   "version": "3.11.2"
  }
 },
 "nbformat": 4,
 "nbformat_minor": 5
}
