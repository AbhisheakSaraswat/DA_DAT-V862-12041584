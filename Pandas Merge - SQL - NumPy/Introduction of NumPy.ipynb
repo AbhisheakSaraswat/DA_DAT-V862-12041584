{
 "cells": [
  {
   "cell_type": "markdown",
   "id": "ce8c5506",
   "metadata": {},
   "source": [
    "# Array\n",
    "\n",
    "Array is the collection of similar data type.\n"
   ]
  },
  {
   "cell_type": "code",
   "execution_count": 1,
   "id": "589dc9bb",
   "metadata": {},
   "outputs": [],
   "source": [
    "import numpy as np"
   ]
  },
  {
   "cell_type": "code",
   "execution_count": 3,
   "id": "86d885fe",
   "metadata": {},
   "outputs": [],
   "source": [
    "arr = np.array([])"
   ]
  },
  {
   "cell_type": "code",
   "execution_count": 4,
   "id": "de324ac3",
   "metadata": {},
   "outputs": [
    {
     "data": {
      "text/plain": [
       "array([], dtype=float64)"
      ]
     },
     "execution_count": 4,
     "metadata": {},
     "output_type": "execute_result"
    }
   ],
   "source": [
    "arr"
   ]
  },
  {
   "cell_type": "code",
   "execution_count": 5,
   "id": "850b3fca",
   "metadata": {},
   "outputs": [],
   "source": [
    "arr = np.array([1,2,3,4,5])"
   ]
  },
  {
   "cell_type": "code",
   "execution_count": 6,
   "id": "8d5bc5c5",
   "metadata": {},
   "outputs": [
    {
     "data": {
      "text/plain": [
       "array([1, 2, 3, 4, 5])"
      ]
     },
     "execution_count": 6,
     "metadata": {},
     "output_type": "execute_result"
    }
   ],
   "source": [
    "arr"
   ]
  },
  {
   "cell_type": "code",
   "execution_count": 7,
   "id": "39289762",
   "metadata": {},
   "outputs": [],
   "source": [
    "arr = np.array([1,2,3,4,\"A\"])"
   ]
  },
  {
   "cell_type": "code",
   "execution_count": 8,
   "id": "01890a5d",
   "metadata": {},
   "outputs": [
    {
     "data": {
      "text/plain": [
       "array(['1', '2', '3', '4', 'A'], dtype='<U11')"
      ]
     },
     "execution_count": 8,
     "metadata": {},
     "output_type": "execute_result"
    }
   ],
   "source": [
    "arr"
   ]
  },
  {
   "cell_type": "code",
   "execution_count": 11,
   "id": "55f5a31f",
   "metadata": {},
   "outputs": [],
   "source": [
    "arr = np.array([1,2,3,4], dtype = 'float')"
   ]
  },
  {
   "cell_type": "code",
   "execution_count": 12,
   "id": "80fa0f56",
   "metadata": {},
   "outputs": [
    {
     "data": {
      "text/plain": [
       "array([1., 2., 3., 4.])"
      ]
     },
     "execution_count": 12,
     "metadata": {},
     "output_type": "execute_result"
    }
   ],
   "source": [
    "arr"
   ]
  },
  {
   "cell_type": "code",
   "execution_count": 13,
   "id": "db940560",
   "metadata": {},
   "outputs": [
    {
     "data": {
      "text/plain": [
       "array([1., 2., 3., 4.])"
      ]
     },
     "execution_count": 13,
     "metadata": {},
     "output_type": "execute_result"
    }
   ],
   "source": [
    "arr"
   ]
  },
  {
   "cell_type": "code",
   "execution_count": 14,
   "id": "4eb0ae16",
   "metadata": {},
   "outputs": [
    {
     "data": {
      "text/plain": [
       "1"
      ]
     },
     "execution_count": 14,
     "metadata": {},
     "output_type": "execute_result"
    }
   ],
   "source": [
    "arr.ndim"
   ]
  },
  {
   "cell_type": "code",
   "execution_count": 15,
   "id": "a3a879a4",
   "metadata": {},
   "outputs": [
    {
     "data": {
      "text/plain": [
       "4"
      ]
     },
     "execution_count": 15,
     "metadata": {},
     "output_type": "execute_result"
    }
   ],
   "source": [
    "arr.size"
   ]
  },
  {
   "cell_type": "code",
   "execution_count": 16,
   "id": "a534218a",
   "metadata": {},
   "outputs": [
    {
     "data": {
      "text/plain": [
       "(4,)"
      ]
     },
     "execution_count": 16,
     "metadata": {},
     "output_type": "execute_result"
    }
   ],
   "source": [
    "arr.shape"
   ]
  },
  {
   "cell_type": "code",
   "execution_count": 17,
   "id": "70b188eb",
   "metadata": {},
   "outputs": [],
   "source": [
    "# creating 2d array"
   ]
  },
  {
   "cell_type": "code",
   "execution_count": 18,
   "id": "8a82df98",
   "metadata": {},
   "outputs": [],
   "source": [
    "arr = np.array([[1,2,3],[4,5,6]])"
   ]
  },
  {
   "cell_type": "code",
   "execution_count": 19,
   "id": "eb5fdee0",
   "metadata": {},
   "outputs": [
    {
     "data": {
      "text/plain": [
       "array([[1, 2, 3],\n",
       "       [4, 5, 6]])"
      ]
     },
     "execution_count": 19,
     "metadata": {},
     "output_type": "execute_result"
    }
   ],
   "source": [
    "arr"
   ]
  },
  {
   "cell_type": "code",
   "execution_count": 20,
   "id": "0cc8b869",
   "metadata": {},
   "outputs": [
    {
     "data": {
      "text/plain": [
       "2"
      ]
     },
     "execution_count": 20,
     "metadata": {},
     "output_type": "execute_result"
    }
   ],
   "source": [
    "arr.ndim"
   ]
  },
  {
   "cell_type": "code",
   "execution_count": 22,
   "id": "600fe55a",
   "metadata": {},
   "outputs": [
    {
     "data": {
      "text/plain": [
       "6"
      ]
     },
     "execution_count": 22,
     "metadata": {},
     "output_type": "execute_result"
    }
   ],
   "source": [
    "arr.size"
   ]
  },
  {
   "cell_type": "code",
   "execution_count": 23,
   "id": "0dbd1633",
   "metadata": {},
   "outputs": [
    {
     "data": {
      "text/plain": [
       "(2, 3)"
      ]
     },
     "execution_count": 23,
     "metadata": {},
     "output_type": "execute_result"
    }
   ],
   "source": [
    "arr.shape"
   ]
  },
  {
   "cell_type": "code",
   "execution_count": 24,
   "id": "ed8cc23d",
   "metadata": {},
   "outputs": [],
   "source": [
    "# arange : array range"
   ]
  },
  {
   "cell_type": "code",
   "execution_count": 25,
   "id": "6fd8d033",
   "metadata": {},
   "outputs": [],
   "source": [
    "arr = np.arange(10)"
   ]
  },
  {
   "cell_type": "code",
   "execution_count": 26,
   "id": "bc85df46",
   "metadata": {},
   "outputs": [
    {
     "data": {
      "text/plain": [
       "array([0, 1, 2, 3, 4, 5, 6, 7, 8, 9])"
      ]
     },
     "execution_count": 26,
     "metadata": {},
     "output_type": "execute_result"
    }
   ],
   "source": [
    "arr"
   ]
  },
  {
   "cell_type": "code",
   "execution_count": 27,
   "id": "78bf3195",
   "metadata": {},
   "outputs": [],
   "source": [
    "arr = np.arange(5,10,2)"
   ]
  },
  {
   "cell_type": "code",
   "execution_count": 28,
   "id": "2d51b781",
   "metadata": {},
   "outputs": [
    {
     "data": {
      "text/plain": [
       "array([5, 7, 9])"
      ]
     },
     "execution_count": 28,
     "metadata": {},
     "output_type": "execute_result"
    }
   ],
   "source": [
    "arr"
   ]
  },
  {
   "cell_type": "code",
   "execution_count": 29,
   "id": "20a2ff58",
   "metadata": {},
   "outputs": [],
   "source": [
    "np_arr = np.array([['Python',\"R\",\"Kotlin\"],[len(\"Python\"),len(\"R\"),len(\"Kotlin\")]])"
   ]
  },
  {
   "cell_type": "code",
   "execution_count": 30,
   "id": "bdbf1506",
   "metadata": {},
   "outputs": [
    {
     "data": {
      "text/plain": [
       "array([['Python', 'R', 'Kotlin'],\n",
       "       ['6', '1', '6']], dtype='<U11')"
      ]
     },
     "execution_count": 30,
     "metadata": {},
     "output_type": "execute_result"
    }
   ],
   "source": [
    "np_arr"
   ]
  },
  {
   "cell_type": "code",
   "execution_count": 31,
   "id": "548e0a72",
   "metadata": {},
   "outputs": [
    {
     "data": {
      "text/plain": [
       "array(['Python', 'R', 'Kotlin'], dtype='<U11')"
      ]
     },
     "execution_count": 31,
     "metadata": {},
     "output_type": "execute_result"
    }
   ],
   "source": [
    "np_arr[0]"
   ]
  },
  {
   "cell_type": "code",
   "execution_count": 32,
   "id": "8bc5e953",
   "metadata": {},
   "outputs": [
    {
     "data": {
      "text/plain": [
       "array(['6', '1', '6'], dtype='<U11')"
      ]
     },
     "execution_count": 32,
     "metadata": {},
     "output_type": "execute_result"
    }
   ],
   "source": [
    "np_arr[1]"
   ]
  },
  {
   "cell_type": "code",
   "execution_count": 37,
   "id": "12bfa81d",
   "metadata": {},
   "outputs": [
    {
     "data": {
      "text/plain": [
       "'Python'"
      ]
     },
     "execution_count": 37,
     "metadata": {},
     "output_type": "execute_result"
    }
   ],
   "source": [
    "np_arr[0][0]"
   ]
  },
  {
   "cell_type": "code",
   "execution_count": 38,
   "id": "00b80743",
   "metadata": {},
   "outputs": [
    {
     "data": {
      "text/plain": [
       "'6'"
      ]
     },
     "execution_count": 38,
     "metadata": {},
     "output_type": "execute_result"
    }
   ],
   "source": [
    "np_arr[1][-1]"
   ]
  },
  {
   "cell_type": "code",
   "execution_count": 39,
   "id": "4fa5c3eb",
   "metadata": {},
   "outputs": [],
   "source": [
    "# how to create a random array with number"
   ]
  },
  {
   "cell_type": "code",
   "execution_count": 40,
   "id": "8f6f41e9",
   "metadata": {},
   "outputs": [],
   "source": [
    "arr = np.random.randint(low = 10, high = 100, size = 48)"
   ]
  },
  {
   "cell_type": "code",
   "execution_count": 41,
   "id": "b02b935e",
   "metadata": {},
   "outputs": [
    {
     "data": {
      "text/plain": [
       "array([47, 53, 97, 53, 80, 48, 70, 34, 95, 53, 76, 36, 28, 24, 34, 36, 54,\n",
       "       28, 54, 34, 18, 28, 85, 85, 40, 61, 69, 12, 22, 14, 14, 14, 38, 46,\n",
       "       36, 12, 62, 93, 38, 56, 81, 18, 94, 71, 15, 14, 10, 77])"
      ]
     },
     "execution_count": 41,
     "metadata": {},
     "output_type": "execute_result"
    }
   ],
   "source": [
    "arr"
   ]
  },
  {
   "cell_type": "code",
   "execution_count": 53,
   "id": "9402bb64",
   "metadata": {},
   "outputs": [],
   "source": [
    "lst = list(np.random.randint(low = 10, high = 100, size = 48))"
   ]
  },
  {
   "cell_type": "code",
   "execution_count": 54,
   "id": "bb167f39",
   "metadata": {},
   "outputs": [
    {
     "name": "stdout",
     "output_type": "stream",
     "text": [
      "[91, 86, 38, 80, 97, 76, 54, 78, 79, 86, 49, 66, 65, 57, 60, 25, 39, 58, 18, 81, 18, 83, 10, 83, 40, 44, 94, 27, 89, 60, 39, 85, 94, 51, 68, 22, 97, 95, 92, 90, 15, 81, 20, 23, 30, 54, 77, 95]\n"
     ]
    }
   ],
   "source": [
    "print(lst)"
   ]
  },
  {
   "cell_type": "code",
   "execution_count": 55,
   "id": "1e034b54",
   "metadata": {},
   "outputs": [
    {
     "data": {
      "text/plain": [
       "array([97, 95, 93, 94])"
      ]
     },
     "execution_count": 55,
     "metadata": {},
     "output_type": "execute_result"
    }
   ],
   "source": [
    "arr[arr > 90]"
   ]
  },
  {
   "cell_type": "code",
   "execution_count": 56,
   "id": "ed44f24d",
   "metadata": {},
   "outputs": [],
   "source": [
    "myarr = np.array(lst)"
   ]
  },
  {
   "cell_type": "code",
   "execution_count": 57,
   "id": "17a4f00f",
   "metadata": {},
   "outputs": [
    {
     "data": {
      "text/plain": [
       "array([91, 97, 94, 94, 97, 95, 92, 95])"
      ]
     },
     "execution_count": 57,
     "metadata": {},
     "output_type": "execute_result"
    }
   ],
   "source": [
    "myarr[myarr > 90]"
   ]
  },
  {
   "cell_type": "code",
   "execution_count": 58,
   "id": "e35e9412",
   "metadata": {},
   "outputs": [],
   "source": [
    "lst = list(np.random.randint(low = 10, high = 500, size = 100))"
   ]
  },
  {
   "cell_type": "code",
   "execution_count": 60,
   "id": "7cb819fc",
   "metadata": {},
   "outputs": [
    {
     "name": "stdout",
     "output_type": "stream",
     "text": [
      "[395, 258, 342, 465, 93, 152, 63, 66, 14, 122, 470, 491, 219, 436, 81, 16, 300, 404, 46, 415, 141, 255, 82, 393, 347, 197, 144, 93, 156, 106, 224, 234, 183, 353, 125, 118, 298, 323, 51, 133, 208, 362, 125, 64, 412, 280, 343, 114, 197, 485, 56, 194, 163, 124, 108, 68, 429, 209, 467, 396, 231, 296, 472, 497, 315, 44, 179, 241, 244, 439, 59, 261, 302, 230, 158, 471, 375, 269, 288, 225, 140, 184, 94, 432, 204, 56, 374, 221, 306, 278, 80, 21, 112, 428, 135, 400, 160, 381, 123, 419]\n"
     ]
    }
   ],
   "source": [
    "print(lst)"
   ]
  },
  {
   "cell_type": "code",
   "execution_count": 61,
   "id": "a618acc8",
   "metadata": {},
   "outputs": [],
   "source": [
    "arr = np.array(lst) # converting list into array"
   ]
  },
  {
   "cell_type": "code",
   "execution_count": 62,
   "id": "3b6b228c",
   "metadata": {},
   "outputs": [
    {
     "data": {
      "text/plain": [
       "array([122, 141, 144, 106, 125, 118, 133, 125, 114, 124, 108, 140, 112,\n",
       "       135, 123])"
      ]
     },
     "execution_count": 62,
     "metadata": {},
     "output_type": "execute_result"
    }
   ],
   "source": [
    "arr[(arr >= 100) & (arr <= 150)]"
   ]
  },
  {
   "cell_type": "code",
   "execution_count": 63,
   "id": "b25778fb",
   "metadata": {},
   "outputs": [],
   "source": [
    "# Find out the index of each number between 100 and 150"
   ]
  },
  {
   "cell_type": "markdown",
   "id": "4e490346",
   "metadata": {},
   "source": [
    "### NumPy Where method\n",
    "\n",
    "this function by default return the index of each item from the array."
   ]
  },
  {
   "cell_type": "code",
   "execution_count": 64,
   "id": "f16b30be",
   "metadata": {},
   "outputs": [
    {
     "data": {
      "text/plain": [
       "(array([ 9, 20, 26, 29, 34, 35, 39, 42, 47, 53, 54, 80, 92, 94, 98],\n",
       "       dtype=int64),)"
      ]
     },
     "execution_count": 64,
     "metadata": {},
     "output_type": "execute_result"
    }
   ],
   "source": [
    "np.where((arr >= 100) & (arr <= 150))"
   ]
  },
  {
   "cell_type": "code",
   "execution_count": 71,
   "id": "03d88fe3",
   "metadata": {},
   "outputs": [
    {
     "data": {
      "text/plain": [
       "118"
      ]
     },
     "execution_count": 71,
     "metadata": {},
     "output_type": "execute_result"
    }
   ],
   "source": [
    "arr[35]"
   ]
  },
  {
   "cell_type": "code",
   "execution_count": 72,
   "id": "18aaed75",
   "metadata": {},
   "outputs": [
    {
     "data": {
      "text/plain": [
       "array([122, 141, 144, 106, 125, 118, 133, 125, 114, 124, 108, 140, 112,\n",
       "       135, 123])"
      ]
     },
     "execution_count": 72,
     "metadata": {},
     "output_type": "execute_result"
    }
   ],
   "source": [
    "arr[np.where((arr >= 100) & (arr <= 150))]"
   ]
  },
  {
   "cell_type": "code",
   "execution_count": 73,
   "id": "0ae640c3",
   "metadata": {},
   "outputs": [
    {
     "data": {
      "text/plain": [
       "array([395, 258, 342, 465,  93, 152,  63,  66,  14, 122, 470, 491, 219,\n",
       "       436,  81,  16, 300, 404,  46, 415, 141, 255,  82, 393, 347, 197,\n",
       "       144,  93, 156, 106, 224, 234, 183, 353, 125, 118, 298, 323,  51,\n",
       "       133, 208, 362, 125,  64, 412, 280, 343, 114, 197, 485,  56, 194,\n",
       "       163, 124, 108,  68, 429, 209, 467, 396, 231, 296, 472, 497, 315,\n",
       "        44, 179, 241, 244, 439,  59, 261, 302, 230, 158, 471, 375, 269,\n",
       "       288, 225, 140, 184,  94, 432, 204,  56, 374, 221, 306, 278,  80,\n",
       "        21, 112, 428, 135, 400, 160, 381, 123, 419])"
      ]
     },
     "execution_count": 73,
     "metadata": {},
     "output_type": "execute_result"
    }
   ],
   "source": [
    "arr"
   ]
  },
  {
   "cell_type": "code",
   "execution_count": 75,
   "id": "086f744b",
   "metadata": {},
   "outputs": [
    {
     "data": {
      "text/plain": [
       "array([395, 152,  14, 122, 395,  14, 122])"
      ]
     },
     "execution_count": 75,
     "metadata": {},
     "output_type": "execute_result"
    }
   ],
   "source": [
    "arr[[0,5,8,9,0,8,9]]"
   ]
  },
  {
   "cell_type": "code",
   "execution_count": 76,
   "id": "3a3e4753",
   "metadata": {},
   "outputs": [
    {
     "name": "stdout",
     "output_type": "stream",
     "text": [
      "[395, 258, 342, 465, 93, 152, 63, 66, 14, 122, 470, 491, 219, 436, 81, 16, 300, 404, 46, 415, 141, 255, 82, 393, 347, 197, 144, 93, 156, 106, 224, 234, 183, 353, 125, 118, 298, 323, 51, 133, 208, 362, 125, 64, 412, 280, 343, 114, 197, 485, 56, 194, 163, 124, 108, 68, 429, 209, 467, 396, 231, 296, 472, 497, 315, 44, 179, 241, 244, 439, 59, 261, 302, 230, 158, 471, 375, 269, 288, 225, 140, 184, 94, 432, 204, 56, 374, 221, 306, 278, 80, 21, 112, 428, 135, 400, 160, 381, 123, 419]\n"
     ]
    }
   ],
   "source": [
    "print(lst)"
   ]
  },
  {
   "cell_type": "code",
   "execution_count": 77,
   "id": "4b7e755e",
   "metadata": {},
   "outputs": [
    {
     "ename": "TypeError",
     "evalue": "list indices must be integers or slices, not list",
     "output_type": "error",
     "traceback": [
      "\u001b[1;31m---------------------------------------------------------------------------\u001b[0m",
      "\u001b[1;31mTypeError\u001b[0m                                 Traceback (most recent call last)",
      "Cell \u001b[1;32mIn[77], line 1\u001b[0m\n\u001b[1;32m----> 1\u001b[0m \u001b[43mlst\u001b[49m\u001b[43m[\u001b[49m\u001b[43m[\u001b[49m\u001b[38;5;241;43m0\u001b[39;49m\u001b[43m,\u001b[49m\u001b[38;5;241;43m5\u001b[39;49m\u001b[43m,\u001b[49m\u001b[38;5;241;43m9\u001b[39;49m\u001b[43m]\u001b[49m\u001b[43m]\u001b[49m\n",
      "\u001b[1;31mTypeError\u001b[0m: list indices must be integers or slices, not list"
     ]
    }
   ],
   "source": [
    "x"
   ]
  },
  {
   "cell_type": "code",
   "execution_count": 78,
   "id": "237b444a",
   "metadata": {},
   "outputs": [
    {
     "name": "stdout",
     "output_type": "stream",
     "text": [
      "[395, 258, 342, 465, 93, 152, 63, 66, 14, 122, 470, 491, 219, 436, 81, 16, 300, 404, 46, 415, 141, 255, 82, 393, 347, 197, 144, 93, 156, 106, 224, 234, 183, 353, 125, 118, 298, 323, 51, 133, 208, 362, 125, 64, 412, 280, 343, 114, 197, 485, 56, 194, 163, 124, 108, 68, 429, 209, 467, 396, 231, 296, 472, 497, 315, 44, 179, 241, 244, 439, 59, 261, 302, 230, 158, 471, 375, 269, 288, 225, 140, 184, 94, 432, 204, 56, 374, 221, 306, 278, 80, 21, 112, 428, 135, 400, 160, 381, 123, 419]\n"
     ]
    }
   ],
   "source": [
    "print(lst)"
   ]
  },
  {
   "cell_type": "code",
   "execution_count": 82,
   "id": "380ace72",
   "metadata": {},
   "outputs": [
    {
     "data": {
      "text/plain": [
       "array([258, 342, 152,  66,  14, 122, 470, 436,  16, 300, 404,  46,  82,\n",
       "       144, 156, 106, 224, 234, 118, 298, 208, 362,  64, 412, 280, 114,\n",
       "        56, 194, 124, 108,  68, 396, 296, 472,  44, 244, 302, 230, 158,\n",
       "       288, 140, 184,  94, 432, 204,  56, 374, 306, 278,  80, 112, 428,\n",
       "       400, 160])"
      ]
     },
     "execution_count": 82,
     "metadata": {},
     "output_type": "execute_result"
    }
   ],
   "source": [
    "arr[arr % 2 == 0]"
   ]
  },
  {
   "cell_type": "code",
   "execution_count": 83,
   "id": "60b0914a",
   "metadata": {},
   "outputs": [
    {
     "data": {
      "text/plain": [
       "array([395, 465, 470, 300, 415, 255, 125, 125, 280, 485, 315, 230, 375,\n",
       "       225, 140,  80, 135, 400, 160])"
      ]
     },
     "execution_count": 83,
     "metadata": {},
     "output_type": "execute_result"
    }
   ],
   "source": [
    "arr[arr % 5 == 0]"
   ]
  },
  {
   "cell_type": "code",
   "execution_count": 85,
   "id": "1c3088b3",
   "metadata": {},
   "outputs": [
    {
     "data": {
      "text/plain": [
       "array([465, 300, 255, 315, 375, 225, 135])"
      ]
     },
     "execution_count": 85,
     "metadata": {},
     "output_type": "execute_result"
    }
   ],
   "source": [
    "arr[(arr % 5 == 0) & (arr % 15 == 0)]"
   ]
  },
  {
   "cell_type": "markdown",
   "id": "441f9d18",
   "metadata": {},
   "source": [
    "### How to append an array"
   ]
  },
  {
   "cell_type": "code",
   "execution_count": 86,
   "id": "52dcf5cb",
   "metadata": {},
   "outputs": [],
   "source": [
    "arr = np.array([1,2,3])"
   ]
  },
  {
   "cell_type": "code",
   "execution_count": 87,
   "id": "928fbeba",
   "metadata": {},
   "outputs": [
    {
     "data": {
      "text/plain": [
       "array([1, 2, 3, 5])"
      ]
     },
     "execution_count": 87,
     "metadata": {},
     "output_type": "execute_result"
    }
   ],
   "source": [
    "np.append(arr = arr, values = 5)"
   ]
  },
  {
   "cell_type": "code",
   "execution_count": 90,
   "id": "8e383e08",
   "metadata": {},
   "outputs": [],
   "source": [
    "arr = np.append(arr,[6,7,8,9,0])"
   ]
  },
  {
   "cell_type": "markdown",
   "id": "3b6efedc",
   "metadata": {},
   "source": [
    "### How we can delete the number from array "
   ]
  },
  {
   "cell_type": "markdown",
   "id": "10c23ae5",
   "metadata": {},
   "source": [
    "### NumPy Delete\n",
    "\n",
    "Using this function we can delete any item based on item's index."
   ]
  },
  {
   "cell_type": "code",
   "execution_count": 91,
   "id": "c12e1d74",
   "metadata": {},
   "outputs": [
    {
     "data": {
      "text/plain": [
       "array([1, 2, 3, 6, 7, 8, 9, 0])"
      ]
     },
     "execution_count": 91,
     "metadata": {},
     "output_type": "execute_result"
    }
   ],
   "source": [
    "arr"
   ]
  },
  {
   "cell_type": "code",
   "execution_count": 93,
   "id": "25b6a469",
   "metadata": {},
   "outputs": [
    {
     "data": {
      "text/plain": [
       "array([1, 2, 6, 7, 8, 0])"
      ]
     },
     "execution_count": 93,
     "metadata": {},
     "output_type": "execute_result"
    }
   ],
   "source": [
    "np.delete(arr,[2,-2])"
   ]
  },
  {
   "cell_type": "code",
   "execution_count": 94,
   "id": "4ac5d30f",
   "metadata": {},
   "outputs": [],
   "source": [
    "newarray = np.array(lst)"
   ]
  },
  {
   "cell_type": "code",
   "execution_count": 95,
   "id": "627477c1",
   "metadata": {},
   "outputs": [
    {
     "data": {
      "text/plain": [
       "array([395, 258, 342, 465,  93, 152,  63,  66,  14, 122, 470, 491, 219,\n",
       "       436,  81,  16, 300, 404,  46, 415, 141, 255,  82, 393, 347, 197,\n",
       "       144,  93, 156, 106, 224, 234, 183, 353, 125, 118, 298, 323,  51,\n",
       "       133, 208, 362, 125,  64, 412, 280, 343, 114, 197, 485,  56, 194,\n",
       "       163, 124, 108,  68, 429, 209, 467, 396, 231, 296, 472, 497, 315,\n",
       "        44, 179, 241, 244, 439,  59, 261, 302, 230, 158, 471, 375, 269,\n",
       "       288, 225, 140, 184,  94, 432, 204,  56, 374, 221, 306, 278,  80,\n",
       "        21, 112, 428, 135, 400, 160, 381, 123, 419])"
      ]
     },
     "execution_count": 95,
     "metadata": {},
     "output_type": "execute_result"
    }
   ],
   "source": [
    "newarray"
   ]
  },
  {
   "cell_type": "code",
   "execution_count": 96,
   "id": "2fccbc4b",
   "metadata": {},
   "outputs": [
    {
     "data": {
      "text/plain": [
       "(array([ 1,  2,  5,  7,  8,  9, 10, 13, 15, 16, 17, 18, 22, 26, 28, 29, 30,\n",
       "        31, 35, 36, 40, 41, 43, 44, 45, 47, 50, 51, 53, 54, 55, 59, 61, 62,\n",
       "        65, 68, 72, 73, 74, 78, 80, 81, 82, 83, 84, 85, 86, 88, 89, 90, 92,\n",
       "        93, 95, 96], dtype=int64),)"
      ]
     },
     "execution_count": 96,
     "metadata": {},
     "output_type": "execute_result"
    }
   ],
   "source": [
    "np.where(newarray % 2 == 0)"
   ]
  },
  {
   "cell_type": "code",
   "execution_count": 97,
   "id": "ef126e37",
   "metadata": {},
   "outputs": [
    {
     "data": {
      "text/plain": [
       "array([395, 465,  93,  63, 491, 219,  81, 415, 141, 255, 393, 347, 197,\n",
       "        93, 183, 353, 125, 323,  51, 133, 125, 343, 197, 485, 163, 429,\n",
       "       209, 467, 231, 497, 315, 179, 241, 439,  59, 261, 471, 375, 269,\n",
       "       225, 221,  21, 135, 381, 123, 419])"
      ]
     },
     "execution_count": 97,
     "metadata": {},
     "output_type": "execute_result"
    }
   ],
   "source": [
    "np.delete(newarray, np.where(newarray % 2 == 0))"
   ]
  },
  {
   "cell_type": "code",
   "execution_count": 98,
   "id": "87db758d",
   "metadata": {},
   "outputs": [
    {
     "data": {
      "text/plain": [
       "array([1, 2, 3, 6, 7, 8, 9, 0])"
      ]
     },
     "execution_count": 98,
     "metadata": {},
     "output_type": "execute_result"
    }
   ],
   "source": [
    "arr"
   ]
  },
  {
   "cell_type": "code",
   "execution_count": 99,
   "id": "5e3ec103",
   "metadata": {},
   "outputs": [
    {
     "data": {
      "text/plain": [
       "1"
      ]
     },
     "execution_count": 99,
     "metadata": {},
     "output_type": "execute_result"
    }
   ],
   "source": [
    "arr[0]"
   ]
  },
  {
   "cell_type": "code",
   "execution_count": 100,
   "id": "6cfa347e",
   "metadata": {},
   "outputs": [],
   "source": [
    "arr[0] = 100"
   ]
  },
  {
   "cell_type": "code",
   "execution_count": 101,
   "id": "6ed243f4",
   "metadata": {},
   "outputs": [
    {
     "data": {
      "text/plain": [
       "array([100,   2,   3,   6,   7,   8,   9,   0])"
      ]
     },
     "execution_count": 101,
     "metadata": {},
     "output_type": "execute_result"
    }
   ],
   "source": [
    "arr"
   ]
  },
  {
   "cell_type": "code",
   "execution_count": 102,
   "id": "87c6fb3c",
   "metadata": {},
   "outputs": [],
   "source": [
    "arr = np.array([[1,2,3],[4,5,6]])"
   ]
  },
  {
   "cell_type": "code",
   "execution_count": 108,
   "id": "ac207dc3",
   "metadata": {},
   "outputs": [
    {
     "data": {
      "text/plain": [
       "array([[1, 2, 3],\n",
       "       [4, 5, 6]])"
      ]
     },
     "execution_count": 108,
     "metadata": {},
     "output_type": "execute_result"
    }
   ],
   "source": [
    "arr"
   ]
  },
  {
   "cell_type": "code",
   "execution_count": 104,
   "id": "399fd642",
   "metadata": {},
   "outputs": [
    {
     "data": {
      "text/plain": [
       "array([ 1,  2,  3,  4,  5,  6, 10])"
      ]
     },
     "execution_count": 104,
     "metadata": {},
     "output_type": "execute_result"
    }
   ],
   "source": [
    "np.append(arr, 10)"
   ]
  },
  {
   "cell_type": "code",
   "execution_count": 112,
   "id": "297048f0",
   "metadata": {},
   "outputs": [],
   "source": [
    "newarr = np.array([7,8,9])"
   ]
  },
  {
   "cell_type": "code",
   "execution_count": 113,
   "id": "17eec6cc",
   "metadata": {},
   "outputs": [
    {
     "data": {
      "text/plain": [
       "array([1, 2, 3, 4, 5, 6, 7, 8, 9])"
      ]
     },
     "execution_count": 113,
     "metadata": {},
     "output_type": "execute_result"
    }
   ],
   "source": [
    "np.append(arr, newarr)"
   ]
  },
  {
   "cell_type": "code",
   "execution_count": 115,
   "id": "3c969d0f",
   "metadata": {},
   "outputs": [
    {
     "ename": "ValueError",
     "evalue": "all the input arrays must have same number of dimensions, but the array at index 0 has 2 dimension(s) and the array at index 1 has 1 dimension(s)",
     "output_type": "error",
     "traceback": [
      "\u001b[1;31m---------------------------------------------------------------------------\u001b[0m",
      "\u001b[1;31mValueError\u001b[0m                                Traceback (most recent call last)",
      "Cell \u001b[1;32mIn[115], line 1\u001b[0m\n\u001b[1;32m----> 1\u001b[0m \u001b[43mnp\u001b[49m\u001b[38;5;241;43m.\u001b[39;49m\u001b[43mappend\u001b[49m\u001b[43m(\u001b[49m\u001b[43marr\u001b[49m\u001b[43m,\u001b[49m\u001b[43m \u001b[49m\u001b[43mnewarr\u001b[49m\u001b[43m,\u001b[49m\u001b[43m \u001b[49m\u001b[43maxis\u001b[49m\u001b[43m \u001b[49m\u001b[38;5;241;43m=\u001b[39;49m\u001b[43m \u001b[49m\u001b[38;5;241;43m0\u001b[39;49m\u001b[43m)\u001b[49m\n",
      "File \u001b[1;32m~\\AppData\\Local\\Programs\\Python\\Python311\\Lib\\site-packages\\numpy\\lib\\function_base.py:5618\u001b[0m, in \u001b[0;36mappend\u001b[1;34m(arr, values, axis)\u001b[0m\n\u001b[0;32m   5616\u001b[0m     values \u001b[38;5;241m=\u001b[39m ravel(values)\n\u001b[0;32m   5617\u001b[0m     axis \u001b[38;5;241m=\u001b[39m arr\u001b[38;5;241m.\u001b[39mndim\u001b[38;5;241m-\u001b[39m\u001b[38;5;241m1\u001b[39m\n\u001b[1;32m-> 5618\u001b[0m \u001b[38;5;28;01mreturn\u001b[39;00m \u001b[43mconcatenate\u001b[49m\u001b[43m(\u001b[49m\u001b[43m(\u001b[49m\u001b[43marr\u001b[49m\u001b[43m,\u001b[49m\u001b[43m \u001b[49m\u001b[43mvalues\u001b[49m\u001b[43m)\u001b[49m\u001b[43m,\u001b[49m\u001b[43m \u001b[49m\u001b[43maxis\u001b[49m\u001b[38;5;241;43m=\u001b[39;49m\u001b[43maxis\u001b[49m\u001b[43m)\u001b[49m\n",
      "\u001b[1;31mValueError\u001b[0m: all the input arrays must have same number of dimensions, but the array at index 0 has 2 dimension(s) and the array at index 1 has 1 dimension(s)"
     ]
    }
   ],
   "source": [
    "np.append(arr, newarr, axis = 0)"
   ]
  },
  {
   "cell_type": "code",
   "execution_count": 116,
   "id": "6f66baf4",
   "metadata": {},
   "outputs": [],
   "source": [
    "arr1 = np.array([[5,6,7],[7,8,0]])"
   ]
  },
  {
   "cell_type": "code",
   "execution_count": 117,
   "id": "aa1b673c",
   "metadata": {},
   "outputs": [
    {
     "data": {
      "text/plain": [
       "array([[1, 2, 3],\n",
       "       [4, 5, 6]])"
      ]
     },
     "execution_count": 117,
     "metadata": {},
     "output_type": "execute_result"
    }
   ],
   "source": [
    "arr"
   ]
  },
  {
   "cell_type": "code",
   "execution_count": 118,
   "id": "0d077930",
   "metadata": {},
   "outputs": [
    {
     "data": {
      "text/plain": [
       "array([[5, 6, 7],\n",
       "       [7, 8, 0]])"
      ]
     },
     "execution_count": 118,
     "metadata": {},
     "output_type": "execute_result"
    }
   ],
   "source": [
    "arr1"
   ]
  },
  {
   "cell_type": "code",
   "execution_count": 119,
   "id": "bfa83bcc",
   "metadata": {},
   "outputs": [
    {
     "data": {
      "text/plain": [
       "array([1, 2, 3, 4, 5, 6, 5, 6, 7, 7, 8, 0])"
      ]
     },
     "execution_count": 119,
     "metadata": {},
     "output_type": "execute_result"
    }
   ],
   "source": [
    "np.append(arr, arr1)"
   ]
  },
  {
   "cell_type": "code",
   "execution_count": 120,
   "id": "265c03d2",
   "metadata": {},
   "outputs": [
    {
     "data": {
      "text/plain": [
       "array([[1, 2, 3],\n",
       "       [4, 5, 6],\n",
       "       [5, 6, 7],\n",
       "       [7, 8, 0]])"
      ]
     },
     "execution_count": 120,
     "metadata": {},
     "output_type": "execute_result"
    }
   ],
   "source": [
    "np.append(arr, arr1, axis = 0)"
   ]
  },
  {
   "cell_type": "code",
   "execution_count": 121,
   "id": "9a2cb0d1",
   "metadata": {},
   "outputs": [
    {
     "data": {
      "text/plain": [
       "array([[1, 2, 3],\n",
       "       [4, 5, 6],\n",
       "       [5, 6, 7],\n",
       "       [7, 8, 0]])"
      ]
     },
     "execution_count": 121,
     "metadata": {},
     "output_type": "execute_result"
    }
   ],
   "source": [
    "np.concatenate((arr, arr1), axis = 0)"
   ]
  },
  {
   "cell_type": "code",
   "execution_count": 122,
   "id": "9665b856",
   "metadata": {},
   "outputs": [
    {
     "data": {
      "text/plain": [
       "array([[1, 2, 3, 5, 6, 7],\n",
       "       [4, 5, 6, 7, 8, 0]])"
      ]
     },
     "execution_count": 122,
     "metadata": {},
     "output_type": "execute_result"
    }
   ],
   "source": [
    "np.concatenate((arr, arr1), axis = 1)"
   ]
  },
  {
   "cell_type": "code",
   "execution_count": 125,
   "id": "4061940c",
   "metadata": {},
   "outputs": [
    {
     "data": {
      "text/plain": [
       "array([[1, 2, 3],\n",
       "       [4, 5, 6]])"
      ]
     },
     "execution_count": 125,
     "metadata": {},
     "output_type": "execute_result"
    }
   ],
   "source": [
    "arr"
   ]
  },
  {
   "cell_type": "code",
   "execution_count": 126,
   "id": "c3ef4548",
   "metadata": {},
   "outputs": [
    {
     "data": {
      "text/plain": [
       "array(['1', '2', '3', '4', '5', '6', 'Suman'], dtype='<U11')"
      ]
     },
     "execution_count": 126,
     "metadata": {},
     "output_type": "execute_result"
    }
   ],
   "source": [
    "np.append(arr, \"Suman\")"
   ]
  },
  {
   "cell_type": "markdown",
   "id": "6654ff14",
   "metadata": {},
   "source": [
    "### numpy mathmatical opeations"
   ]
  },
  {
   "cell_type": "code",
   "execution_count": 128,
   "id": "4a285c0e",
   "metadata": {},
   "outputs": [],
   "source": [
    "jan_revenue = np.array([345,67,89,56.78])\n",
    "feb_revenue = np.array([56,78,90,45.6])"
   ]
  },
  {
   "cell_type": "code",
   "execution_count": 129,
   "id": "3a0eca45",
   "metadata": {},
   "outputs": [
    {
     "data": {
      "text/plain": [
       "array([401.  , 145.  , 179.  , 102.38])"
      ]
     },
     "execution_count": 129,
     "metadata": {},
     "output_type": "execute_result"
    }
   ],
   "source": [
    "jan_revenue + feb_revenue"
   ]
  },
  {
   "cell_type": "code",
   "execution_count": 130,
   "id": "6996b046",
   "metadata": {},
   "outputs": [
    {
     "data": {
      "text/plain": [
       "array([289.  , -11.  ,  -1.  ,  11.18])"
      ]
     },
     "execution_count": 130,
     "metadata": {},
     "output_type": "execute_result"
    }
   ],
   "source": [
    "jan_revenue - feb_revenue"
   ]
  },
  {
   "cell_type": "code",
   "execution_count": 131,
   "id": "ad5089da",
   "metadata": {},
   "outputs": [],
   "source": [
    "a = np.array([[5,-6],[-4,6]])\n",
    "b = np.array([[4,6],[5,8]])"
   ]
  },
  {
   "cell_type": "code",
   "execution_count": 132,
   "id": "602d54dc",
   "metadata": {},
   "outputs": [
    {
     "data": {
      "text/plain": [
       "array([ 6,  8, 10])"
      ]
     },
     "execution_count": 132,
     "metadata": {},
     "output_type": "execute_result"
    }
   ],
   "source": [
    "np.add([1,2,3],[5,6,7])"
   ]
  },
  {
   "cell_type": "code",
   "execution_count": 133,
   "id": "d2adb0e9",
   "metadata": {},
   "outputs": [
    {
     "data": {
      "text/plain": [
       "array([[  1, -12],\n",
       "       [ -9,  -2]])"
      ]
     },
     "execution_count": 133,
     "metadata": {},
     "output_type": "execute_result"
    }
   ],
   "source": [
    "a - b"
   ]
  },
  {
   "cell_type": "code",
   "execution_count": 134,
   "id": "d25ba8d2",
   "metadata": {},
   "outputs": [
    {
     "data": {
      "text/plain": [
       "array([[ 9,  0],\n",
       "       [ 1, 14]])"
      ]
     },
     "execution_count": 134,
     "metadata": {},
     "output_type": "execute_result"
    }
   ],
   "source": [
    "a + b"
   ]
  },
  {
   "cell_type": "code",
   "execution_count": 135,
   "id": "8baa599e",
   "metadata": {},
   "outputs": [
    {
     "data": {
      "text/plain": [
       "array([[ 20, -36],\n",
       "       [-20,  48]])"
      ]
     },
     "execution_count": 135,
     "metadata": {},
     "output_type": "execute_result"
    }
   ],
   "source": [
    "a * b"
   ]
  },
  {
   "cell_type": "code",
   "execution_count": 136,
   "id": "2d9fe59f",
   "metadata": {},
   "outputs": [
    {
     "data": {
      "text/plain": [
       "269.6"
      ]
     },
     "execution_count": 136,
     "metadata": {},
     "output_type": "execute_result"
    }
   ],
   "source": [
    "np.sum(feb_revenue)"
   ]
  },
  {
   "cell_type": "code",
   "execution_count": 137,
   "id": "1137fbba",
   "metadata": {},
   "outputs": [
    {
     "data": {
      "text/plain": [
       "139.445"
      ]
     },
     "execution_count": 137,
     "metadata": {},
     "output_type": "execute_result"
    }
   ],
   "source": [
    "np.mean(jan_revenue)"
   ]
  },
  {
   "cell_type": "code",
   "execution_count": 138,
   "id": "630af03b",
   "metadata": {},
   "outputs": [],
   "source": [
    "arr = np.array([4,5,6,7,8,9])"
   ]
  },
  {
   "cell_type": "code",
   "execution_count": 139,
   "id": "3831e7cf",
   "metadata": {},
   "outputs": [
    {
     "data": {
      "text/plain": [
       "array([4, 5, 6, 7, 8, 9])"
      ]
     },
     "execution_count": 139,
     "metadata": {},
     "output_type": "execute_result"
    }
   ],
   "source": [
    "arr"
   ]
  },
  {
   "cell_type": "code",
   "execution_count": 140,
   "id": "db44eda9",
   "metadata": {},
   "outputs": [
    {
     "data": {
      "text/plain": [
       "array([2.        , 2.23606798, 2.44948974, 2.64575131, 2.82842712,\n",
       "       3.        ])"
      ]
     },
     "execution_count": 140,
     "metadata": {},
     "output_type": "execute_result"
    }
   ],
   "source": [
    "np.sqrt(arr)"
   ]
  },
  {
   "cell_type": "code",
   "execution_count": 141,
   "id": "4a4c4060",
   "metadata": {},
   "outputs": [
    {
     "data": {
      "text/plain": [
       "array([16, 25, 36, 49, 64, 81])"
      ]
     },
     "execution_count": 141,
     "metadata": {},
     "output_type": "execute_result"
    }
   ],
   "source": [
    "np.square(arr)"
   ]
  },
  {
   "cell_type": "code",
   "execution_count": 142,
   "id": "46e201ab",
   "metadata": {},
   "outputs": [],
   "source": [
    "# how to reshape of array"
   ]
  },
  {
   "cell_type": "code",
   "execution_count": 143,
   "id": "58552f3b",
   "metadata": {},
   "outputs": [],
   "source": [
    "arr = np.arange(48).reshape(4,12)"
   ]
  },
  {
   "cell_type": "code",
   "execution_count": 144,
   "id": "dbfb9a5f",
   "metadata": {},
   "outputs": [
    {
     "data": {
      "text/plain": [
       "array([[ 0,  1,  2,  3,  4,  5,  6,  7,  8,  9, 10, 11],\n",
       "       [12, 13, 14, 15, 16, 17, 18, 19, 20, 21, 22, 23],\n",
       "       [24, 25, 26, 27, 28, 29, 30, 31, 32, 33, 34, 35],\n",
       "       [36, 37, 38, 39, 40, 41, 42, 43, 44, 45, 46, 47]])"
      ]
     },
     "execution_count": 144,
     "metadata": {},
     "output_type": "execute_result"
    }
   ],
   "source": [
    "arr"
   ]
  },
  {
   "cell_type": "code",
   "execution_count": 146,
   "id": "27873907",
   "metadata": {},
   "outputs": [],
   "source": [
    "arr = np.arange(64).reshape(4,4,4)"
   ]
  },
  {
   "cell_type": "code",
   "execution_count": 147,
   "id": "dda88079",
   "metadata": {},
   "outputs": [
    {
     "data": {
      "text/plain": [
       "array([[[ 0,  1,  2,  3],\n",
       "        [ 4,  5,  6,  7],\n",
       "        [ 8,  9, 10, 11],\n",
       "        [12, 13, 14, 15]],\n",
       "\n",
       "       [[16, 17, 18, 19],\n",
       "        [20, 21, 22, 23],\n",
       "        [24, 25, 26, 27],\n",
       "        [28, 29, 30, 31]],\n",
       "\n",
       "       [[32, 33, 34, 35],\n",
       "        [36, 37, 38, 39],\n",
       "        [40, 41, 42, 43],\n",
       "        [44, 45, 46, 47]],\n",
       "\n",
       "       [[48, 49, 50, 51],\n",
       "        [52, 53, 54, 55],\n",
       "        [56, 57, 58, 59],\n",
       "        [60, 61, 62, 63]]])"
      ]
     },
     "execution_count": 147,
     "metadata": {},
     "output_type": "execute_result"
    }
   ],
   "source": [
    "arr"
   ]
  },
  {
   "cell_type": "code",
   "execution_count": 148,
   "id": "55e70ae5",
   "metadata": {},
   "outputs": [],
   "source": [
    "arr = np.arange(64).reshape(2,4,4,2)"
   ]
  },
  {
   "cell_type": "code",
   "execution_count": 149,
   "id": "2a48b852",
   "metadata": {},
   "outputs": [
    {
     "data": {
      "text/plain": [
       "array([[[[ 0,  1],\n",
       "         [ 2,  3],\n",
       "         [ 4,  5],\n",
       "         [ 6,  7]],\n",
       "\n",
       "        [[ 8,  9],\n",
       "         [10, 11],\n",
       "         [12, 13],\n",
       "         [14, 15]],\n",
       "\n",
       "        [[16, 17],\n",
       "         [18, 19],\n",
       "         [20, 21],\n",
       "         [22, 23]],\n",
       "\n",
       "        [[24, 25],\n",
       "         [26, 27],\n",
       "         [28, 29],\n",
       "         [30, 31]]],\n",
       "\n",
       "\n",
       "       [[[32, 33],\n",
       "         [34, 35],\n",
       "         [36, 37],\n",
       "         [38, 39]],\n",
       "\n",
       "        [[40, 41],\n",
       "         [42, 43],\n",
       "         [44, 45],\n",
       "         [46, 47]],\n",
       "\n",
       "        [[48, 49],\n",
       "         [50, 51],\n",
       "         [52, 53],\n",
       "         [54, 55]],\n",
       "\n",
       "        [[56, 57],\n",
       "         [58, 59],\n",
       "         [60, 61],\n",
       "         [62, 63]]]])"
      ]
     },
     "execution_count": 149,
     "metadata": {},
     "output_type": "execute_result"
    }
   ],
   "source": [
    "arr"
   ]
  },
  {
   "cell_type": "code",
   "execution_count": 150,
   "id": "1d58b3e7",
   "metadata": {},
   "outputs": [
    {
     "data": {
      "text/plain": [
       "(2, 4, 4, 2)"
      ]
     },
     "execution_count": 150,
     "metadata": {},
     "output_type": "execute_result"
    }
   ],
   "source": [
    "arr.shape"
   ]
  },
  {
   "cell_type": "code",
   "execution_count": 151,
   "id": "8f06c7fd",
   "metadata": {},
   "outputs": [
    {
     "data": {
      "text/plain": [
       "4"
      ]
     },
     "execution_count": 151,
     "metadata": {},
     "output_type": "execute_result"
    }
   ],
   "source": [
    "arr.ndim"
   ]
  },
  {
   "cell_type": "code",
   "execution_count": 152,
   "id": "93cc4aad",
   "metadata": {},
   "outputs": [
    {
     "data": {
      "text/plain": [
       "64"
      ]
     },
     "execution_count": 152,
     "metadata": {},
     "output_type": "execute_result"
    }
   ],
   "source": [
    "arr.size"
   ]
  },
  {
   "cell_type": "code",
   "execution_count": 153,
   "id": "bc198017",
   "metadata": {},
   "outputs": [
    {
     "data": {
      "text/plain": [
       "dtype('int32')"
      ]
     },
     "execution_count": 153,
     "metadata": {},
     "output_type": "execute_result"
    }
   ],
   "source": [
    "arr.dtype"
   ]
  },
  {
   "cell_type": "code",
   "execution_count": 161,
   "id": "ce74b9e3",
   "metadata": {},
   "outputs": [],
   "source": [
    "arr = np.array([2,3,4,5,6,7,8,9,2,3,4,5,6,7,8,9])"
   ]
  },
  {
   "cell_type": "code",
   "execution_count": 165,
   "id": "c4ba63b9",
   "metadata": {},
   "outputs": [
    {
     "data": {
      "text/plain": [
       "16"
      ]
     },
     "execution_count": 165,
     "metadata": {},
     "output_type": "execute_result"
    }
   ],
   "source": [
    "len(arr)"
   ]
  },
  {
   "cell_type": "code",
   "execution_count": 166,
   "id": "5d24e1bb",
   "metadata": {},
   "outputs": [
    {
     "data": {
      "text/plain": [
       "[array([2, 3, 4, 5]),\n",
       " array([6, 7, 8, 9]),\n",
       " array([2, 3, 4, 5]),\n",
       " array([6, 7, 8, 9])]"
      ]
     },
     "execution_count": 166,
     "metadata": {},
     "output_type": "execute_result"
    }
   ],
   "source": [
    "np.split(arr,4)"
   ]
  },
  {
   "cell_type": "code",
   "execution_count": 168,
   "id": "71ee16b1",
   "metadata": {},
   "outputs": [
    {
     "data": {
      "text/plain": [
       "[array([2, 3]),\n",
       " array([4, 5]),\n",
       " array([6, 7, 8, 9, 2]),\n",
       " array([3, 4, 5, 6, 7, 8, 9])]"
      ]
     },
     "execution_count": 168,
     "metadata": {},
     "output_type": "execute_result"
    }
   ],
   "source": [
    "np.split(arr,[2,4,9])"
   ]
  },
  {
   "cell_type": "code",
   "execution_count": 183,
   "id": "f694d840",
   "metadata": {},
   "outputs": [],
   "source": [
    "lst = np.random.randint(10,1000,100)"
   ]
  },
  {
   "cell_type": "code",
   "execution_count": 184,
   "id": "a470fe51",
   "metadata": {},
   "outputs": [
    {
     "name": "stdout",
     "output_type": "stream",
     "text": [
      "[460 260 528 532 427 760 665 953 443 495 822 243 487 200 787 116 759 814\n",
      " 147 761  63 908 103 746 933 239 356 732 332 586 726  25 737 950 281 204\n",
      " 377 107  66 245 396 242 640 140 619 569 997 404 681 282 224 170 240  93\n",
      " 403 939 237 235 607 431 674 115 949  33 379 969 147 982  62 601 461 769\n",
      " 844 588 525 209 651 205 612 368 252 441 274 630 171 534 119 327 638 973\n",
      " 916 645 593  91  15 603 244 990 115 802]\n"
     ]
    }
   ],
   "source": [
    "print(lst)"
   ]
  },
  {
   "cell_type": "code",
   "execution_count": 186,
   "id": "8f4804d5",
   "metadata": {},
   "outputs": [
    {
     "data": {
      "text/plain": [
       "array(['-', '-', '528', '532', '-', '760', '665', '953', '-', '-', '822',\n",
       "       '-', '-', '-', '787', '-', '759', '814', '-', '761', '-', '908',\n",
       "       '-', '746', '933', '-', '-', '732', '-', '586', '726', '-', '737',\n",
       "       '950', '-', '-', '-', '-', '-', '-', '-', '-', '640', '-', '619',\n",
       "       '569', '997', '-', '681', '-', '-', '-', '-', '-', '-', '939', '-',\n",
       "       '-', '607', '-', '674', '-', '949', '-', '-', '969', '-', '982',\n",
       "       '-', '601', '-', '769', '844', '588', '525', '-', '651', '-',\n",
       "       '612', '-', '-', '-', '-', '630', '-', '534', '-', '-', '638',\n",
       "       '973', '916', '645', '593', '-', '-', '603', '-', '990', '-',\n",
       "       '802'], dtype='<U11')"
      ]
     },
     "execution_count": 186,
     "metadata": {},
     "output_type": "execute_result"
    }
   ],
   "source": [
    "np.where(lst <= 500,\"-\", lst)"
   ]
  },
  {
   "cell_type": "code",
   "execution_count": 154,
   "id": "4841ee02",
   "metadata": {},
   "outputs": [],
   "source": [
    "import pandas as pd"
   ]
  },
  {
   "cell_type": "code",
   "execution_count": 155,
   "id": "c09a5e6d",
   "metadata": {},
   "outputs": [],
   "source": [
    "df = pd.read_csv(\"Superstore.csv\", encoding = \"ISO-8859-1\")"
   ]
  },
  {
   "cell_type": "code",
   "execution_count": 156,
   "id": "424d99d4",
   "metadata": {},
   "outputs": [
    {
     "data": {
      "text/plain": [
       "(9994, 21)"
      ]
     },
     "execution_count": 156,
     "metadata": {},
     "output_type": "execute_result"
    }
   ],
   "source": [
    "df.shape"
   ]
  },
  {
   "cell_type": "code",
   "execution_count": 159,
   "id": "f88207cc",
   "metadata": {},
   "outputs": [],
   "source": [
    "newdf = df[['Order ID',\"Region\",\"Category\",'Sub-Category',\"State\",\"Sales\",\"Quantity\"]].copy()"
   ]
  },
  {
   "cell_type": "code",
   "execution_count": 160,
   "id": "87a526b3",
   "metadata": {},
   "outputs": [
    {
     "data": {
      "text/html": [
       "<div>\n",
       "<style scoped>\n",
       "    .dataframe tbody tr th:only-of-type {\n",
       "        vertical-align: middle;\n",
       "    }\n",
       "\n",
       "    .dataframe tbody tr th {\n",
       "        vertical-align: top;\n",
       "    }\n",
       "\n",
       "    .dataframe thead th {\n",
       "        text-align: right;\n",
       "    }\n",
       "</style>\n",
       "<table border=\"1\" class=\"dataframe\">\n",
       "  <thead>\n",
       "    <tr style=\"text-align: right;\">\n",
       "      <th></th>\n",
       "      <th>Order ID</th>\n",
       "      <th>Region</th>\n",
       "      <th>Category</th>\n",
       "      <th>Sub-Category</th>\n",
       "      <th>State</th>\n",
       "      <th>Sales</th>\n",
       "      <th>Quantity</th>\n",
       "    </tr>\n",
       "  </thead>\n",
       "  <tbody>\n",
       "    <tr>\n",
       "      <th>0</th>\n",
       "      <td>CA-2016-152156</td>\n",
       "      <td>South</td>\n",
       "      <td>Furniture</td>\n",
       "      <td>Bookcases</td>\n",
       "      <td>Kentucky</td>\n",
       "      <td>261.9600</td>\n",
       "      <td>2</td>\n",
       "    </tr>\n",
       "    <tr>\n",
       "      <th>1</th>\n",
       "      <td>CA-2016-152156</td>\n",
       "      <td>South</td>\n",
       "      <td>Furniture</td>\n",
       "      <td>Chairs</td>\n",
       "      <td>Kentucky</td>\n",
       "      <td>731.9400</td>\n",
       "      <td>3</td>\n",
       "    </tr>\n",
       "    <tr>\n",
       "      <th>2</th>\n",
       "      <td>CA-2016-138688</td>\n",
       "      <td>West</td>\n",
       "      <td>Office Supplies</td>\n",
       "      <td>Labels</td>\n",
       "      <td>California</td>\n",
       "      <td>14.6200</td>\n",
       "      <td>2</td>\n",
       "    </tr>\n",
       "    <tr>\n",
       "      <th>3</th>\n",
       "      <td>US-2015-108966</td>\n",
       "      <td>South</td>\n",
       "      <td>Furniture</td>\n",
       "      <td>Tables</td>\n",
       "      <td>Florida</td>\n",
       "      <td>957.5775</td>\n",
       "      <td>5</td>\n",
       "    </tr>\n",
       "    <tr>\n",
       "      <th>4</th>\n",
       "      <td>US-2015-108966</td>\n",
       "      <td>South</td>\n",
       "      <td>Office Supplies</td>\n",
       "      <td>Storage</td>\n",
       "      <td>Florida</td>\n",
       "      <td>22.3680</td>\n",
       "      <td>2</td>\n",
       "    </tr>\n",
       "  </tbody>\n",
       "</table>\n",
       "</div>"
      ],
      "text/plain": [
       "         Order ID Region         Category Sub-Category       State     Sales  \\\n",
       "0  CA-2016-152156  South        Furniture    Bookcases    Kentucky  261.9600   \n",
       "1  CA-2016-152156  South        Furniture       Chairs    Kentucky  731.9400   \n",
       "2  CA-2016-138688   West  Office Supplies       Labels  California   14.6200   \n",
       "3  US-2015-108966  South        Furniture       Tables     Florida  957.5775   \n",
       "4  US-2015-108966  South  Office Supplies      Storage     Florida   22.3680   \n",
       "\n",
       "   Quantity  \n",
       "0         2  \n",
       "1         3  \n",
       "2         2  \n",
       "3         5  \n",
       "4         2  "
      ]
     },
     "execution_count": 160,
     "metadata": {},
     "output_type": "execute_result"
    }
   ],
   "source": [
    "newdf.head()"
   ]
  },
  {
   "cell_type": "markdown",
   "id": "d8ab6755",
   "metadata": {},
   "source": [
    "### Numpy tutorial:\n",
    "\n",
    "https://www.youtube.com/watch?v=AqJMw61d7CA&list=PLWuFHho1zKhUGq1be3zUT3Ek5myJrKiIP"
   ]
  },
  {
   "cell_type": "markdown",
   "id": "c1c593cc",
   "metadata": {},
   "source": [
    "### Pandas Live Case Study of Uber's data:\n",
    "https://www.youtube.com/watch?v=zLYC_Py_rk4"
   ]
  },
  {
   "cell_type": "code",
   "execution_count": 170,
   "id": "45482415",
   "metadata": {},
   "outputs": [
    {
     "data": {
      "text/html": [
       "<div>\n",
       "<style scoped>\n",
       "    .dataframe tbody tr th:only-of-type {\n",
       "        vertical-align: middle;\n",
       "    }\n",
       "\n",
       "    .dataframe tbody tr th {\n",
       "        vertical-align: top;\n",
       "    }\n",
       "\n",
       "    .dataframe thead th {\n",
       "        text-align: right;\n",
       "    }\n",
       "</style>\n",
       "<table border=\"1\" class=\"dataframe\">\n",
       "  <thead>\n",
       "    <tr style=\"text-align: right;\">\n",
       "      <th></th>\n",
       "      <th>Order ID</th>\n",
       "      <th>Region</th>\n",
       "      <th>Category</th>\n",
       "      <th>Sub-Category</th>\n",
       "      <th>State</th>\n",
       "      <th>Sales</th>\n",
       "      <th>Quantity</th>\n",
       "    </tr>\n",
       "  </thead>\n",
       "  <tbody>\n",
       "    <tr>\n",
       "      <th>0</th>\n",
       "      <td>CA-2016-152156</td>\n",
       "      <td>South</td>\n",
       "      <td>Furniture</td>\n",
       "      <td>Bookcases</td>\n",
       "      <td>Kentucky</td>\n",
       "      <td>261.9600</td>\n",
       "      <td>2</td>\n",
       "    </tr>\n",
       "    <tr>\n",
       "      <th>1</th>\n",
       "      <td>CA-2016-152156</td>\n",
       "      <td>South</td>\n",
       "      <td>Furniture</td>\n",
       "      <td>Chairs</td>\n",
       "      <td>Kentucky</td>\n",
       "      <td>731.9400</td>\n",
       "      <td>3</td>\n",
       "    </tr>\n",
       "    <tr>\n",
       "      <th>2</th>\n",
       "      <td>CA-2016-138688</td>\n",
       "      <td>West</td>\n",
       "      <td>Office Supplies</td>\n",
       "      <td>Labels</td>\n",
       "      <td>California</td>\n",
       "      <td>14.6200</td>\n",
       "      <td>2</td>\n",
       "    </tr>\n",
       "    <tr>\n",
       "      <th>3</th>\n",
       "      <td>US-2015-108966</td>\n",
       "      <td>South</td>\n",
       "      <td>Furniture</td>\n",
       "      <td>Tables</td>\n",
       "      <td>Florida</td>\n",
       "      <td>957.5775</td>\n",
       "      <td>5</td>\n",
       "    </tr>\n",
       "    <tr>\n",
       "      <th>4</th>\n",
       "      <td>US-2015-108966</td>\n",
       "      <td>South</td>\n",
       "      <td>Office Supplies</td>\n",
       "      <td>Storage</td>\n",
       "      <td>Florida</td>\n",
       "      <td>22.3680</td>\n",
       "      <td>2</td>\n",
       "    </tr>\n",
       "  </tbody>\n",
       "</table>\n",
       "</div>"
      ],
      "text/plain": [
       "         Order ID Region         Category Sub-Category       State     Sales  \\\n",
       "0  CA-2016-152156  South        Furniture    Bookcases    Kentucky  261.9600   \n",
       "1  CA-2016-152156  South        Furniture       Chairs    Kentucky  731.9400   \n",
       "2  CA-2016-138688   West  Office Supplies       Labels  California   14.6200   \n",
       "3  US-2015-108966  South        Furniture       Tables     Florida  957.5775   \n",
       "4  US-2015-108966  South  Office Supplies      Storage     Florida   22.3680   \n",
       "\n",
       "   Quantity  \n",
       "0         2  \n",
       "1         3  \n",
       "2         2  \n",
       "3         5  \n",
       "4         2  "
      ]
     },
     "execution_count": 170,
     "metadata": {},
     "output_type": "execute_result"
    }
   ],
   "source": [
    "newdf.head()"
   ]
  },
  {
   "cell_type": "markdown",
   "id": "b9f412e1",
   "metadata": {},
   "source": [
    "* sales -> 0 - 500 : sales 0 - 500\n",
    "* sales 500 - 1000 : sales 500 - 1000\n",
    "* sales 1000 - 5000 : sales 1000 - 5000\n",
    "* sales > 5000 : sales > 5000"
   ]
  },
  {
   "cell_type": "code",
   "execution_count": 171,
   "id": "eabe9dae",
   "metadata": {},
   "outputs": [],
   "source": [
    "def sales_bucket(s):\n",
    "    if s >= 0 and s <= 500:\n",
    "        return \"sales 0 - 500\"\n",
    "    elif s > 500 and s <= 1000:\n",
    "        return \"sales 500 - 1000\"\n",
    "    elif s > 1000 and s <= 5000:\n",
    "        return \"sales 1000 - 5000\"\n",
    "    else:\n",
    "        return 'sales > 5000'"
   ]
  },
  {
   "cell_type": "code",
   "execution_count": 175,
   "id": "985da395",
   "metadata": {},
   "outputs": [
    {
     "data": {
      "text/plain": [
       "'sales > 5000'"
      ]
     },
     "execution_count": 175,
     "metadata": {},
     "output_type": "execute_result"
    }
   ],
   "source": [
    "sales_bucket(11995)"
   ]
  },
  {
   "cell_type": "code",
   "execution_count": 178,
   "id": "3cee94e2",
   "metadata": {},
   "outputs": [
    {
     "name": "stdout",
     "output_type": "stream",
     "text": [
      "CPU times: total: 125 ms\n",
      "Wall time: 128 ms\n"
     ]
    }
   ],
   "source": [
    "%%time\n",
    "newdf[\"SalesBucket\"] = newdf.apply(lambda x : sales_bucket(x['Sales']), axis = 1)"
   ]
  },
  {
   "cell_type": "code",
   "execution_count": 177,
   "id": "f652a0b5",
   "metadata": {},
   "outputs": [
    {
     "data": {
      "text/html": [
       "<div>\n",
       "<style scoped>\n",
       "    .dataframe tbody tr th:only-of-type {\n",
       "        vertical-align: middle;\n",
       "    }\n",
       "\n",
       "    .dataframe tbody tr th {\n",
       "        vertical-align: top;\n",
       "    }\n",
       "\n",
       "    .dataframe thead th {\n",
       "        text-align: right;\n",
       "    }\n",
       "</style>\n",
       "<table border=\"1\" class=\"dataframe\">\n",
       "  <thead>\n",
       "    <tr style=\"text-align: right;\">\n",
       "      <th></th>\n",
       "      <th>Order ID</th>\n",
       "      <th>Region</th>\n",
       "      <th>Category</th>\n",
       "      <th>Sub-Category</th>\n",
       "      <th>State</th>\n",
       "      <th>Sales</th>\n",
       "      <th>Quantity</th>\n",
       "      <th>SalesBucket</th>\n",
       "    </tr>\n",
       "  </thead>\n",
       "  <tbody>\n",
       "    <tr>\n",
       "      <th>0</th>\n",
       "      <td>CA-2016-152156</td>\n",
       "      <td>South</td>\n",
       "      <td>Furniture</td>\n",
       "      <td>Bookcases</td>\n",
       "      <td>Kentucky</td>\n",
       "      <td>261.9600</td>\n",
       "      <td>2</td>\n",
       "      <td>sales 0 - 500</td>\n",
       "    </tr>\n",
       "    <tr>\n",
       "      <th>1</th>\n",
       "      <td>CA-2016-152156</td>\n",
       "      <td>South</td>\n",
       "      <td>Furniture</td>\n",
       "      <td>Chairs</td>\n",
       "      <td>Kentucky</td>\n",
       "      <td>731.9400</td>\n",
       "      <td>3</td>\n",
       "      <td>sales 500 - 1000</td>\n",
       "    </tr>\n",
       "    <tr>\n",
       "      <th>2</th>\n",
       "      <td>CA-2016-138688</td>\n",
       "      <td>West</td>\n",
       "      <td>Office Supplies</td>\n",
       "      <td>Labels</td>\n",
       "      <td>California</td>\n",
       "      <td>14.6200</td>\n",
       "      <td>2</td>\n",
       "      <td>sales 0 - 500</td>\n",
       "    </tr>\n",
       "    <tr>\n",
       "      <th>3</th>\n",
       "      <td>US-2015-108966</td>\n",
       "      <td>South</td>\n",
       "      <td>Furniture</td>\n",
       "      <td>Tables</td>\n",
       "      <td>Florida</td>\n",
       "      <td>957.5775</td>\n",
       "      <td>5</td>\n",
       "      <td>sales 500 - 1000</td>\n",
       "    </tr>\n",
       "    <tr>\n",
       "      <th>4</th>\n",
       "      <td>US-2015-108966</td>\n",
       "      <td>South</td>\n",
       "      <td>Office Supplies</td>\n",
       "      <td>Storage</td>\n",
       "      <td>Florida</td>\n",
       "      <td>22.3680</td>\n",
       "      <td>2</td>\n",
       "      <td>sales 0 - 500</td>\n",
       "    </tr>\n",
       "  </tbody>\n",
       "</table>\n",
       "</div>"
      ],
      "text/plain": [
       "         Order ID Region         Category Sub-Category       State     Sales  \\\n",
       "0  CA-2016-152156  South        Furniture    Bookcases    Kentucky  261.9600   \n",
       "1  CA-2016-152156  South        Furniture       Chairs    Kentucky  731.9400   \n",
       "2  CA-2016-138688   West  Office Supplies       Labels  California   14.6200   \n",
       "3  US-2015-108966  South        Furniture       Tables     Florida  957.5775   \n",
       "4  US-2015-108966  South  Office Supplies      Storage     Florida   22.3680   \n",
       "\n",
       "   Quantity       SalesBucket  \n",
       "0         2     sales 0 - 500  \n",
       "1         3  sales 500 - 1000  \n",
       "2         2     sales 0 - 500  \n",
       "3         5  sales 500 - 1000  \n",
       "4         2     sales 0 - 500  "
      ]
     },
     "execution_count": 177,
     "metadata": {},
     "output_type": "execute_result"
    }
   ],
   "source": [
    "newdf.head()"
   ]
  },
  {
   "cell_type": "code",
   "execution_count": 182,
   "id": "1a19f891",
   "metadata": {},
   "outputs": [],
   "source": [
    "# newdf[\"SalesBucket\"].value_counts().plot(kind='barh')"
   ]
  },
  {
   "cell_type": "code",
   "execution_count": 196,
   "id": "8b19ad61",
   "metadata": {},
   "outputs": [
    {
     "name": "stdout",
     "output_type": "stream",
     "text": [
      "CPU times: total: 15.6 ms\n",
      "Wall time: 5.98 ms\n"
     ]
    }
   ],
   "source": [
    "%%time\n",
    "newdf[\"Sales_Bucket\"] = np.where((newdf['Sales'] >= 0) & (newdf['Sales'] <= 500),\"Sales 0 - 500\",\n",
    "                    np.where((newdf['Sales'] >500) & (newdf['Sales'] <= 1000),\n",
    "                            \"Sales 500 - 1000\",\"Sales > 1000\"))\n"
   ]
  },
  {
   "cell_type": "code",
   "execution_count": 195,
   "id": "c4da87fe",
   "metadata": {},
   "outputs": [
    {
     "data": {
      "text/html": [
       "<div>\n",
       "<style scoped>\n",
       "    .dataframe tbody tr th:only-of-type {\n",
       "        vertical-align: middle;\n",
       "    }\n",
       "\n",
       "    .dataframe tbody tr th {\n",
       "        vertical-align: top;\n",
       "    }\n",
       "\n",
       "    .dataframe thead th {\n",
       "        text-align: right;\n",
       "    }\n",
       "</style>\n",
       "<table border=\"1\" class=\"dataframe\">\n",
       "  <thead>\n",
       "    <tr style=\"text-align: right;\">\n",
       "      <th></th>\n",
       "      <th>Order ID</th>\n",
       "      <th>Region</th>\n",
       "      <th>Category</th>\n",
       "      <th>Sub-Category</th>\n",
       "      <th>State</th>\n",
       "      <th>Sales</th>\n",
       "      <th>Quantity</th>\n",
       "      <th>SalesBucket</th>\n",
       "      <th>Sales_Bucket</th>\n",
       "    </tr>\n",
       "  </thead>\n",
       "  <tbody>\n",
       "    <tr>\n",
       "      <th>0</th>\n",
       "      <td>CA-2016-152156</td>\n",
       "      <td>South</td>\n",
       "      <td>Furniture</td>\n",
       "      <td>Bookcases</td>\n",
       "      <td>Kentucky</td>\n",
       "      <td>261.9600</td>\n",
       "      <td>2</td>\n",
       "      <td>sales 0 - 500</td>\n",
       "      <td>Sales 0 - 500</td>\n",
       "    </tr>\n",
       "    <tr>\n",
       "      <th>1</th>\n",
       "      <td>CA-2016-152156</td>\n",
       "      <td>South</td>\n",
       "      <td>Furniture</td>\n",
       "      <td>Chairs</td>\n",
       "      <td>Kentucky</td>\n",
       "      <td>731.9400</td>\n",
       "      <td>3</td>\n",
       "      <td>sales 500 - 1000</td>\n",
       "      <td>Sales 500 - 1000</td>\n",
       "    </tr>\n",
       "    <tr>\n",
       "      <th>2</th>\n",
       "      <td>CA-2016-138688</td>\n",
       "      <td>West</td>\n",
       "      <td>Office Supplies</td>\n",
       "      <td>Labels</td>\n",
       "      <td>California</td>\n",
       "      <td>14.6200</td>\n",
       "      <td>2</td>\n",
       "      <td>sales 0 - 500</td>\n",
       "      <td>Sales 0 - 500</td>\n",
       "    </tr>\n",
       "    <tr>\n",
       "      <th>3</th>\n",
       "      <td>US-2015-108966</td>\n",
       "      <td>South</td>\n",
       "      <td>Furniture</td>\n",
       "      <td>Tables</td>\n",
       "      <td>Florida</td>\n",
       "      <td>957.5775</td>\n",
       "      <td>5</td>\n",
       "      <td>sales 500 - 1000</td>\n",
       "      <td>Sales 500 - 1000</td>\n",
       "    </tr>\n",
       "    <tr>\n",
       "      <th>4</th>\n",
       "      <td>US-2015-108966</td>\n",
       "      <td>South</td>\n",
       "      <td>Office Supplies</td>\n",
       "      <td>Storage</td>\n",
       "      <td>Florida</td>\n",
       "      <td>22.3680</td>\n",
       "      <td>2</td>\n",
       "      <td>sales 0 - 500</td>\n",
       "      <td>Sales 0 - 500</td>\n",
       "    </tr>\n",
       "  </tbody>\n",
       "</table>\n",
       "</div>"
      ],
      "text/plain": [
       "         Order ID Region         Category Sub-Category       State     Sales  \\\n",
       "0  CA-2016-152156  South        Furniture    Bookcases    Kentucky  261.9600   \n",
       "1  CA-2016-152156  South        Furniture       Chairs    Kentucky  731.9400   \n",
       "2  CA-2016-138688   West  Office Supplies       Labels  California   14.6200   \n",
       "3  US-2015-108966  South        Furniture       Tables     Florida  957.5775   \n",
       "4  US-2015-108966  South  Office Supplies      Storage     Florida   22.3680   \n",
       "\n",
       "   Quantity       SalesBucket      Sales_Bucket  \n",
       "0         2     sales 0 - 500     Sales 0 - 500  \n",
       "1         3  sales 500 - 1000  Sales 500 - 1000  \n",
       "2         2     sales 0 - 500     Sales 0 - 500  \n",
       "3         5  sales 500 - 1000  Sales 500 - 1000  \n",
       "4         2     sales 0 - 500     Sales 0 - 500  "
      ]
     },
     "execution_count": 195,
     "metadata": {},
     "output_type": "execute_result"
    }
   ],
   "source": [
    "newdf.head()"
   ]
  },
  {
   "cell_type": "code",
   "execution_count": 197,
   "id": "af857cc4",
   "metadata": {},
   "outputs": [
    {
     "data": {
      "text/plain": [
       "(9994, 9)"
      ]
     },
     "execution_count": 197,
     "metadata": {},
     "output_type": "execute_result"
    }
   ],
   "source": [
    "newdf.shape"
   ]
  },
  {
   "cell_type": "code",
   "execution_count": null,
   "id": "8fa65360",
   "metadata": {},
   "outputs": [],
   "source": []
  }
 ],
 "metadata": {
  "kernelspec": {
   "display_name": "Python 3 (ipykernel)",
   "language": "python",
   "name": "python3"
  },
  "language_info": {
   "codemirror_mode": {
    "name": "ipython",
    "version": 3
   },
   "file_extension": ".py",
   "mimetype": "text/x-python",
   "name": "python",
   "nbconvert_exporter": "python",
   "pygments_lexer": "ipython3",
   "version": "3.11.2"
  }
 },
 "nbformat": 4,
 "nbformat_minor": 5
}
