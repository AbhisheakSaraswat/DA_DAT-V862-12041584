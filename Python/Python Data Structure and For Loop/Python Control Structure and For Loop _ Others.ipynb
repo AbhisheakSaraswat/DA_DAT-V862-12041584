{
 "cells": [
  {
   "cell_type": "markdown",
   "id": "59c73a8d",
   "metadata": {},
   "source": [
    "### Python control structure:\n",
    "\n",
    "* if\n",
    "* elif\n",
    "* else"
   ]
  },
  {
   "cell_type": "code",
   "execution_count": null,
   "id": "892d9dc2",
   "metadata": {},
   "outputs": [],
   "source": [
    "# syntax\n",
    "if logical_condition:\n",
    "    print(yourmsg)\n",
    "elif logical_condition:\n",
    "    print(yourmsg)\n",
    "elif logical_condition:\n",
    "    print(yourmsg)\n",
    "else:\n",
    "    print(yourmsg)"
   ]
  },
  {
   "cell_type": "code",
   "execution_count": 2,
   "id": "acd4d2f5",
   "metadata": {},
   "outputs": [
    {
     "name": "stdout",
     "output_type": "stream",
     "text": [
      "Enter your age: 13\n",
      "Not applicable.\n"
     ]
    }
   ],
   "source": [
    "age = int(input(\"Enter your age: \"))\n",
    "if age >= 18:\n",
    "    print(\"Eligible for vote\")\n",
    "else:\n",
    "    print(\"Not applicable.\")"
   ]
  },
  {
   "cell_type": "code",
   "execution_count": 5,
   "id": "0a561401",
   "metadata": {},
   "outputs": [
    {
     "name": "stdout",
     "output_type": "stream",
     "text": [
      "000\n"
     ]
    },
    {
     "data": {
      "text/plain": [
       "0"
      ]
     },
     "execution_count": 5,
     "metadata": {},
     "output_type": "execute_result"
    }
   ],
   "source": [
    "int(input()) # using this function we can take a input from the user."
   ]
  },
  {
   "cell_type": "markdown",
   "id": "08a317ef",
   "metadata": {},
   "source": [
    "### Q.\n",
    "\n",
    "How to check entered number is positive, negative, or zero."
   ]
  },
  {
   "cell_type": "code",
   "execution_count": 8,
   "id": "c7021eac",
   "metadata": {},
   "outputs": [
    {
     "name": "stdout",
     "output_type": "stream",
     "text": [
      "enter your number: -10\n",
      "negative\n"
     ]
    }
   ],
   "source": [
    "number = int(input(\"enter your number: \"))\n",
    "if number >= 0:\n",
    "    if number == 0:\n",
    "        print(\"Zero\")\n",
    "    else:\n",
    "        print(\"Positive\")\n",
    "else:\n",
    "    print(\"negative\")"
   ]
  },
  {
   "cell_type": "code",
   "execution_count": 11,
   "id": "dbdc8d64",
   "metadata": {},
   "outputs": [
    {
     "name": "stdout",
     "output_type": "stream",
     "text": [
      "enter your number: -10\n",
      "Negative\n"
     ]
    }
   ],
   "source": [
    "number = int(input(\"enter your number: \"))\n",
    "if number > 0:\n",
    "    print(\"Positive Number\")\n",
    "elif number == 0:\n",
    "    print(\"Zero\")\n",
    "else:\n",
    "    print(\"Negative\")"
   ]
  },
  {
   "cell_type": "code",
   "execution_count": 12,
   "id": "e0d669a3",
   "metadata": {},
   "outputs": [],
   "source": [
    "# check entered number is even or odd"
   ]
  },
  {
   "cell_type": "code",
   "execution_count": 15,
   "id": "55fff89f",
   "metadata": {},
   "outputs": [
    {
     "name": "stdout",
     "output_type": "stream",
     "text": [
      "Enter a number: 5\n",
      "Odd\n"
     ]
    }
   ],
   "source": [
    "number = int(input(\"Enter a number: \"))\n",
    "if number % 2 == 0:\n",
    "    print(\"Even\")\n",
    "else:\n",
    "    print(\"Odd\")"
   ]
  },
  {
   "cell_type": "markdown",
   "id": "0103fb6e",
   "metadata": {},
   "source": [
    "### For Loop:\n",
    "\n",
    "for yourVariable in container:\n",
    "    print(yourVariable)"
   ]
  },
  {
   "cell_type": "code",
   "execution_count": 16,
   "id": "bd25181e",
   "metadata": {},
   "outputs": [],
   "source": [
    "lst = [10,20,30,40,20,4,50,10,45,38]"
   ]
  },
  {
   "cell_type": "code",
   "execution_count": 17,
   "id": "91abc78a",
   "metadata": {},
   "outputs": [
    {
     "data": {
      "text/plain": [
       "[10, 20, 30, 40, 20, 4, 50, 10, 45, 38]"
      ]
     },
     "execution_count": 17,
     "metadata": {},
     "output_type": "execute_result"
    }
   ],
   "source": [
    "lst"
   ]
  },
  {
   "cell_type": "code",
   "execution_count": 18,
   "id": "852afbc3",
   "metadata": {},
   "outputs": [
    {
     "name": "stdout",
     "output_type": "stream",
     "text": [
      "10\n",
      "20\n",
      "30\n",
      "40\n",
      "20\n",
      "4\n",
      "50\n",
      "10\n",
      "45\n",
      "38\n"
     ]
    }
   ],
   "source": [
    "for element in lst:\n",
    "    print(element)"
   ]
  },
  {
   "cell_type": "code",
   "execution_count": 20,
   "id": "b0e3cb35",
   "metadata": {},
   "outputs": [
    {
     "name": "stdout",
     "output_type": "stream",
     "text": [
      "10 20 30 40 20 50 10 "
     ]
    }
   ],
   "source": [
    "for element in lst:\n",
    "    if element % 10 == 0:\n",
    "        print(element, end = \" \")"
   ]
  },
  {
   "cell_type": "code",
   "execution_count": 21,
   "id": "a473bf33",
   "metadata": {},
   "outputs": [],
   "source": [
    "lst = [1,0,40,50,20,34,58,(12,40,50,30),[30,203],11,22,38,49,\"A\"]"
   ]
  },
  {
   "cell_type": "code",
   "execution_count": 22,
   "id": "73fb4d51",
   "metadata": {},
   "outputs": [
    {
     "data": {
      "text/plain": [
       "[1, 0, 40, 50, 20, 34, 58, (12, 40, 50, 30), [30, 203], 11, 22, 38, 49, 'A']"
      ]
     },
     "execution_count": 22,
     "metadata": {},
     "output_type": "execute_result"
    }
   ],
   "source": [
    "lst"
   ]
  },
  {
   "cell_type": "code",
   "execution_count": 23,
   "id": "f1fe07f2",
   "metadata": {},
   "outputs": [
    {
     "name": "stdout",
     "output_type": "stream",
     "text": [
      "1 0 40 50 20 34 58 (12, 40, 50, 30) [30, 203] 11 22 38 49 A "
     ]
    }
   ],
   "source": [
    "for element in lst:\n",
    "    print(element, end = \" \")"
   ]
  },
  {
   "cell_type": "code",
   "execution_count": 24,
   "id": "8a439b11",
   "metadata": {},
   "outputs": [],
   "source": [
    "# how we can only the element from tuple"
   ]
  },
  {
   "cell_type": "code",
   "execution_count": 25,
   "id": "c7244b45",
   "metadata": {},
   "outputs": [
    {
     "name": "stdout",
     "output_type": "stream",
     "text": [
      "12\n",
      "40\n",
      "50\n",
      "30\n"
     ]
    }
   ],
   "source": [
    "for elements in lst:\n",
    "    if type(elements) == tuple:\n",
    "        for item in elements:\n",
    "            print(item)"
   ]
  },
  {
   "cell_type": "code",
   "execution_count": 26,
   "id": "55d7f445",
   "metadata": {},
   "outputs": [
    {
     "name": "stdout",
     "output_type": "stream",
     "text": [
      "<class 'int'>\n",
      "<class 'int'>\n",
      "<class 'int'>\n",
      "<class 'int'>\n",
      "<class 'int'>\n",
      "<class 'int'>\n",
      "<class 'int'>\n",
      "<class 'tuple'>\n",
      "<class 'list'>\n",
      "<class 'int'>\n",
      "<class 'int'>\n",
      "<class 'int'>\n",
      "<class 'int'>\n",
      "<class 'str'>\n"
     ]
    }
   ],
   "source": [
    "for ele in lst:\n",
    "    print(type(ele))"
   ]
  },
  {
   "cell_type": "code",
   "execution_count": 29,
   "id": "4345c029",
   "metadata": {},
   "outputs": [
    {
     "name": "stdout",
     "output_type": "stream",
     "text": [
      "12\n",
      "40\n",
      "50\n",
      "30\n"
     ]
    }
   ],
   "source": [
    "for elements in lst:\n",
    "    if type(elements) == tuple:\n",
    "        for ele in elements:\n",
    "            print(ele)\n"
   ]
  },
  {
   "cell_type": "code",
   "execution_count": 30,
   "id": "8027ef5d",
   "metadata": {},
   "outputs": [],
   "source": [
    "lst = [1,0,40,50,20,34,58,(12,40,50,30),[30,203],11,(22,38,49),\"A\",(1,2,3,4)]"
   ]
  },
  {
   "cell_type": "code",
   "execution_count": 31,
   "id": "8c50de43",
   "metadata": {},
   "outputs": [
    {
     "name": "stdout",
     "output_type": "stream",
     "text": [
      "12 40 50 30 22 38 49 1 2 3 4 "
     ]
    }
   ],
   "source": [
    "for elements in lst:\n",
    "    if type(elements) == tuple:\n",
    "        for ele in elements:\n",
    "            print(ele, end = \" \")\n"
   ]
  },
  {
   "cell_type": "code",
   "execution_count": 32,
   "id": "ca3e1b17",
   "metadata": {},
   "outputs": [
    {
     "name": "stdout",
     "output_type": "stream",
     "text": [
      "(12, 40, 50, 30)\n",
      "(22, 38, 49)\n",
      "(1, 2, 3, 4)\n"
     ]
    }
   ],
   "source": [
    "for elements in lst:\n",
    "    if type(elements) == tuple:\n",
    "        print(elements)"
   ]
  },
  {
   "cell_type": "code",
   "execution_count": 34,
   "id": "94e1193f",
   "metadata": {},
   "outputs": [
    {
     "name": "stdout",
     "output_type": "stream",
     "text": [
      "[30, 203]\n",
      "30 203 "
     ]
    }
   ],
   "source": [
    "for elements in lst:\n",
    "    if type(elements) == list:\n",
    "        print(elements)\n",
    "        for ele in elements:\n",
    "            print(ele, end = \" \")\n"
   ]
  },
  {
   "cell_type": "code",
   "execution_count": 35,
   "id": "9df4dfb4",
   "metadata": {},
   "outputs": [
    {
     "name": "stdout",
     "output_type": "stream",
     "text": [
      "(12, 40, 50, 30)\n",
      "12 40 50 30 (22, 38, 49)\n",
      "22 38 49 (1, 2, 3, 4)\n",
      "1 2 3 4 "
     ]
    }
   ],
   "source": [
    "for elements in lst:\n",
    "    if type(elements) == tuple:\n",
    "        print(elements)\n",
    "        for ele in elements:\n",
    "            print(ele, end = \" \")\n"
   ]
  },
  {
   "cell_type": "markdown",
   "id": "5fb51423",
   "metadata": {},
   "source": [
    "### Range function\n",
    "\n",
    "Range function is very useful function for generating number and iterating the data structure etc\n",
    "\n",
    "Range(start,end,stepsize)\n",
    "\n",
    "Here, start and stepsize is optional perameter\n",
    "\n",
    "by default start = 0 and stepsize = 1"
   ]
  },
  {
   "cell_type": "code",
   "execution_count": 37,
   "id": "a97f56a2",
   "metadata": {},
   "outputs": [
    {
     "data": {
      "text/plain": [
       "range(0, 10)"
      ]
     },
     "execution_count": 37,
     "metadata": {},
     "output_type": "execute_result"
    }
   ],
   "source": [
    "range(0,10)"
   ]
  },
  {
   "cell_type": "code",
   "execution_count": 38,
   "id": "08f89201",
   "metadata": {},
   "outputs": [
    {
     "data": {
      "text/plain": [
       "range(1, 5)"
      ]
     },
     "execution_count": 38,
     "metadata": {},
     "output_type": "execute_result"
    }
   ],
   "source": [
    "range(1,5)"
   ]
  },
  {
   "cell_type": "code",
   "execution_count": 40,
   "id": "d0c9670b",
   "metadata": {},
   "outputs": [
    {
     "data": {
      "text/plain": [
       "[0, 1, 2, 3, 4]"
      ]
     },
     "execution_count": 40,
     "metadata": {},
     "output_type": "execute_result"
    }
   ],
   "source": [
    "list(range(5)) # list will be starts from 0 to n-1 (5-1=4)"
   ]
  },
  {
   "cell_type": "code",
   "execution_count": 41,
   "id": "d6cb3a32",
   "metadata": {},
   "outputs": [
    {
     "data": {
      "text/plain": [
       "[5, 6, 7, 8, 9, 10, 11, 12, 13, 14, 15, 16, 17, 18, 19]"
      ]
     },
     "execution_count": 41,
     "metadata": {},
     "output_type": "execute_result"
    }
   ],
   "source": [
    "list(range(5,20))"
   ]
  },
  {
   "cell_type": "code",
   "execution_count": 42,
   "id": "058a0172",
   "metadata": {},
   "outputs": [
    {
     "data": {
      "text/plain": [
       "[3, 5, 7, 9, 11, 13, 15, 17, 19]"
      ]
     },
     "execution_count": 42,
     "metadata": {},
     "output_type": "execute_result"
    }
   ],
   "source": [
    "list(range(3,20,2))"
   ]
  },
  {
   "cell_type": "code",
   "execution_count": 43,
   "id": "526124d8",
   "metadata": {},
   "outputs": [
    {
     "data": {
      "text/plain": [
       "[5, 10, 15, 20, 25, 30, 35, 40, 45, 50, 55, 60, 65, 70, 75, 80, 85, 90, 95]"
      ]
     },
     "execution_count": 43,
     "metadata": {},
     "output_type": "execute_result"
    }
   ],
   "source": [
    "list(range(5,100,5))"
   ]
  },
  {
   "cell_type": "code",
   "execution_count": 44,
   "id": "5f8ee8e6",
   "metadata": {},
   "outputs": [
    {
     "data": {
      "text/plain": [
       "[12, 24, 36, 48, 60, 72, 84, 96, 108, 120]"
      ]
     },
     "execution_count": 44,
     "metadata": {},
     "output_type": "execute_result"
    }
   ],
   "source": [
    "list(range(12,121,12))"
   ]
  },
  {
   "cell_type": "code",
   "execution_count": 45,
   "id": "a860eec5",
   "metadata": {},
   "outputs": [
    {
     "data": {
      "text/plain": [
       "[10, 9, 8, 7, 6, 5, 4, 3, 2, 1]"
      ]
     },
     "execution_count": 45,
     "metadata": {},
     "output_type": "execute_result"
    }
   ],
   "source": [
    "list(range(10,0,-1))"
   ]
  },
  {
   "cell_type": "code",
   "execution_count": 46,
   "id": "63af316c",
   "metadata": {},
   "outputs": [
    {
     "data": {
      "text/plain": [
       "[2, 4, 6, 8, 10, 12, 14, 16, 18, 20]"
      ]
     },
     "execution_count": 46,
     "metadata": {},
     "output_type": "execute_result"
    }
   ],
   "source": [
    "list(range(2,21,2))"
   ]
  },
  {
   "cell_type": "code",
   "execution_count": 47,
   "id": "a51e5956",
   "metadata": {},
   "outputs": [
    {
     "data": {
      "text/plain": [
       "[1, 3, 5, 7, 9, 11, 13, 15, 17, 19]"
      ]
     },
     "execution_count": 47,
     "metadata": {},
     "output_type": "execute_result"
    }
   ],
   "source": [
    "list(range(1,21,2))"
   ]
  },
  {
   "cell_type": "code",
   "execution_count": 48,
   "id": "d79a9940",
   "metadata": {},
   "outputs": [],
   "source": [
    "lst = [12,20,5,10,1,5,20,30,20,34,50,23,10.20,1.4,6.5,15.3,45.34,\n",
    "      \"AB\",\"BD\",\"MD\",\"A\",\"C\",\"A\",\"MBA\",\"MTech\",\"BCA\",\"Btech\",\"MBBA\",\"Corey\",23.45]"
   ]
  },
  {
   "cell_type": "markdown",
   "id": "5322156f",
   "metadata": {},
   "source": [
    "* Create a separate list of whole number which are greater than 10\n",
    "* Create a separate list of decimal number\n",
    "* Create s separate list of string, a string has the length greater than or equal to 3"
   ]
  },
  {
   "cell_type": "code",
   "execution_count": 49,
   "id": "7ee149b0",
   "metadata": {},
   "outputs": [
    {
     "name": "stdout",
     "output_type": "stream",
     "text": [
      "[12, 20, 5, 10, 1, 5, 20, 30, 20, 34, 50, 23, 10.2, 1.4, 6.5, 15.3, 45.34, 'AB', 'BD', 'MD', 'A', 'C', 'A', 'MBA', 'MTech', 'BCA', 'Btech', 'MBBA', 'Corey', 23.45]\n"
     ]
    }
   ],
   "source": [
    "print(lst)"
   ]
  },
  {
   "cell_type": "code",
   "execution_count": 50,
   "id": "371e650b",
   "metadata": {},
   "outputs": [],
   "source": [
    "listofNumber = []; listOfDecimal = []; listOfString = []\n",
    "for ele in lst:\n",
    "    if type(ele) == int and ele > 10:\n",
    "        listofNumber.append(ele)\n",
    "    elif type(ele) == float:\n",
    "        listOfDecimal.append(ele)\n",
    "    elif type(ele) == str and len(ele) >= 3:\n",
    "        listOfString.append(ele)"
   ]
  },
  {
   "cell_type": "code",
   "execution_count": 51,
   "id": "402f95f0",
   "metadata": {},
   "outputs": [
    {
     "data": {
      "text/plain": [
       "[12, 20, 20, 30, 20, 34, 50, 23]"
      ]
     },
     "execution_count": 51,
     "metadata": {},
     "output_type": "execute_result"
    }
   ],
   "source": [
    "listofNumber"
   ]
  },
  {
   "cell_type": "code",
   "execution_count": 52,
   "id": "a374171a",
   "metadata": {},
   "outputs": [
    {
     "data": {
      "text/plain": [
       "[10.2, 1.4, 6.5, 15.3, 45.34, 23.45]"
      ]
     },
     "execution_count": 52,
     "metadata": {},
     "output_type": "execute_result"
    }
   ],
   "source": [
    "listOfDecimal"
   ]
  },
  {
   "cell_type": "code",
   "execution_count": 53,
   "id": "08c2a552",
   "metadata": {},
   "outputs": [
    {
     "data": {
      "text/plain": [
       "['MBA', 'MTech', 'BCA', 'Btech', 'MBBA', 'Corey']"
      ]
     },
     "execution_count": 53,
     "metadata": {},
     "output_type": "execute_result"
    }
   ],
   "source": [
    "listOfString"
   ]
  },
  {
   "cell_type": "code",
   "execution_count": 54,
   "id": "ca8f837f",
   "metadata": {},
   "outputs": [],
   "source": [
    "lst = [10,20,30]"
   ]
  },
  {
   "cell_type": "code",
   "execution_count": 55,
   "id": "74c44c39",
   "metadata": {},
   "outputs": [],
   "source": [
    "lst.append(\"AnkitKumar\")"
   ]
  },
  {
   "cell_type": "code",
   "execution_count": 56,
   "id": "92b7efce",
   "metadata": {},
   "outputs": [
    {
     "data": {
      "text/plain": [
       "[10, 20, 30, 'AnkitKumar']"
      ]
     },
     "execution_count": 56,
     "metadata": {},
     "output_type": "execute_result"
    }
   ],
   "source": [
    "lst"
   ]
  },
  {
   "cell_type": "code",
   "execution_count": 57,
   "id": "708d17f7",
   "metadata": {},
   "outputs": [
    {
     "name": "stdout",
     "output_type": "stream",
     "text": [
      "10\n",
      "20\n",
      "30\n",
      "AnkitKumar\n",
      "No element is found.\n"
     ]
    }
   ],
   "source": [
    "for ele in lst:\n",
    "    print(ele)\n",
    "else:\n",
    "    print(\"No element is found.\")"
   ]
  },
  {
   "cell_type": "code",
   "execution_count": 59,
   "id": "af5448ce",
   "metadata": {},
   "outputs": [],
   "source": [
    "lst.append(5)"
   ]
  },
  {
   "cell_type": "code",
   "execution_count": 60,
   "id": "0379d25f",
   "metadata": {},
   "outputs": [
    {
     "data": {
      "text/plain": [
       "[10, 20, 30, 'AnkitKumar', 5]"
      ]
     },
     "execution_count": 60,
     "metadata": {},
     "output_type": "execute_result"
    }
   ],
   "source": [
    "lst"
   ]
  },
  {
   "cell_type": "code",
   "execution_count": 63,
   "id": "04bad90f",
   "metadata": {},
   "outputs": [],
   "source": [
    "prod = 1\n",
    "for ele in lst:\n",
    "    if type(ele) ==  int:\n",
    "        prod = prod * ele"
   ]
  },
  {
   "cell_type": "code",
   "execution_count": 64,
   "id": "bc63b65b",
   "metadata": {},
   "outputs": [
    {
     "data": {
      "text/plain": [
       "30000"
      ]
     },
     "execution_count": 64,
     "metadata": {},
     "output_type": "execute_result"
    }
   ],
   "source": [
    "prod"
   ]
  },
  {
   "cell_type": "code",
   "execution_count": 65,
   "id": "d8b408ae",
   "metadata": {},
   "outputs": [
    {
     "name": "stdout",
     "output_type": "stream",
     "text": [
      "0 1 2 3 4 5 6 7 8 9 26 27 28 29 "
     ]
    }
   ],
   "source": [
    "for i in range(30):\n",
    "    if i >= 10 and i<=25:\n",
    "        continue\n",
    "    else:\n",
    "        print(i, end =  \" \")"
   ]
  },
  {
   "cell_type": "code",
   "execution_count": 66,
   "id": "05b32208",
   "metadata": {},
   "outputs": [
    {
     "name": "stdout",
     "output_type": "stream",
     "text": [
      "0 1 2 3 4 5 6 7 8 9 "
     ]
    }
   ],
   "source": [
    "for i in range(30):\n",
    "    if i == 10:\n",
    "        break\n",
    "    else:\n",
    "        print(i, end = ' ')"
   ]
  },
  {
   "cell_type": "code",
   "execution_count": 67,
   "id": "0cea897d",
   "metadata": {},
   "outputs": [
    {
     "data": {
      "text/plain": [
       "10"
      ]
     },
     "execution_count": 67,
     "metadata": {},
     "output_type": "execute_result"
    }
   ],
   "source": [
    "i"
   ]
  },
  {
   "cell_type": "code",
   "execution_count": 71,
   "id": "a9c7f425",
   "metadata": {},
   "outputs": [],
   "source": [
    "data = [[1,2,3],[4,5,6,7],[8,9]]"
   ]
  },
  {
   "cell_type": "code",
   "execution_count": 78,
   "id": "6899fe25",
   "metadata": {},
   "outputs": [],
   "source": [
    "newlst = []\n",
    "for pair in data:\n",
    "    newlst.extend(pair)"
   ]
  },
  {
   "cell_type": "code",
   "execution_count": 79,
   "id": "a3b383af",
   "metadata": {},
   "outputs": [
    {
     "data": {
      "text/plain": [
       "[1, 2, 3, 4, 5, 6, 7, 8, 9]"
      ]
     },
     "execution_count": 79,
     "metadata": {},
     "output_type": "execute_result"
    }
   ],
   "source": [
    "newlst"
   ]
  },
  {
   "cell_type": "code",
   "execution_count": 80,
   "id": "230b9c72",
   "metadata": {},
   "outputs": [],
   "source": [
    "newlist = []\n",
    "for pair in data:\n",
    "    for ele in pair:\n",
    "        newlist.append(ele)"
   ]
  },
  {
   "cell_type": "code",
   "execution_count": 81,
   "id": "784dcb59",
   "metadata": {},
   "outputs": [
    {
     "data": {
      "text/plain": [
       "[1, 2, 3, 4, 5, 6, 7, 8, 9]"
      ]
     },
     "execution_count": 81,
     "metadata": {},
     "output_type": "execute_result"
    }
   ],
   "source": [
    "newlist"
   ]
  },
  {
   "cell_type": "code",
   "execution_count": 83,
   "id": "d17423a9",
   "metadata": {},
   "outputs": [],
   "source": [
    "data = [\"a\",\"b\",\"g\",\"c\",\"b\",\"b\",\"a\",10,10,20,20,10,20,\"a\",\"g\",\"c\"]"
   ]
  },
  {
   "cell_type": "markdown",
   "id": "21b6dd43",
   "metadata": {},
   "source": [
    "from above query can you give me the occurence of each element example:\n",
    "    \n",
    "a : 3, b : 3, g: 2 and so on."
   ]
  },
  {
   "cell_type": "code",
   "execution_count": 86,
   "id": "7f5df70e",
   "metadata": {},
   "outputs": [],
   "source": [
    "dct = dict()\n",
    "for item in data:\n",
    "    if item not in dct:\n",
    "        dct[item] = data.count(item)\n",
    "    "
   ]
  },
  {
   "cell_type": "code",
   "execution_count": 87,
   "id": "0122cf2d",
   "metadata": {},
   "outputs": [
    {
     "data": {
      "text/plain": [
       "{'a': 3, 'b': 3, 'g': 2, 'c': 2, 10: 3, 20: 3}"
      ]
     },
     "execution_count": 87,
     "metadata": {},
     "output_type": "execute_result"
    }
   ],
   "source": [
    "dct"
   ]
  },
  {
   "cell_type": "code",
   "execution_count": 88,
   "id": "090bd505",
   "metadata": {},
   "outputs": [],
   "source": [
    "dct = dict()\n",
    "for item in data:\n",
    "    if item in dct:\n",
    "        dct[item] = dct[item] + 1\n",
    "    else:\n",
    "        dct[item] = 1"
   ]
  },
  {
   "cell_type": "code",
   "execution_count": 89,
   "id": "2df76fde",
   "metadata": {},
   "outputs": [
    {
     "data": {
      "text/plain": [
       "{'a': 3, 'b': 3, 'g': 2, 'c': 2, 10: 3, 20: 3}"
      ]
     },
     "execution_count": 89,
     "metadata": {},
     "output_type": "execute_result"
    }
   ],
   "source": [
    "dct"
   ]
  },
  {
   "cell_type": "code",
   "execution_count": null,
   "id": "619570f0",
   "metadata": {},
   "outputs": [],
   "source": []
  }
 ],
 "metadata": {
  "kernelspec": {
   "display_name": "Python 3 (ipykernel)",
   "language": "python",
   "name": "python3"
  },
  "language_info": {
   "codemirror_mode": {
    "name": "ipython",
    "version": 3
   },
   "file_extension": ".py",
   "mimetype": "text/x-python",
   "name": "python",
   "nbconvert_exporter": "python",
   "pygments_lexer": "ipython3",
   "version": "3.11.2"
  }
 },
 "nbformat": 4,
 "nbformat_minor": 5
}
