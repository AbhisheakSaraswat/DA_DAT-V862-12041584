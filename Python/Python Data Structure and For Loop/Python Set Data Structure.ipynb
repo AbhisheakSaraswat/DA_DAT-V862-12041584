{
 "cells": [
  {
   "cell_type": "markdown",
   "id": "0e4c62d2",
   "metadata": {},
   "source": [
    "### Set Data Structure:\n",
    "\n",
    "- Rules and guidelines of Set:\n",
    "\n",
    "    * Set is an unordered collection of item, due to this set is not indexable.\n",
    "    * Every element in the set is unique. (Set does not allow duplicate item)\n",
    "    * Set is very powerful for mathematical operations\n",
    "    * Set can be represented by {} and set function\n",
    "    * Set is mutable, element can add or remove\n",
    "    * Set only allowed immutable data type.\n",
    "    \n"
   ]
  },
  {
   "cell_type": "code",
   "execution_count": 2,
   "id": "d69126ec",
   "metadata": {},
   "outputs": [
    {
     "name": "stdout",
     "output_type": "stream",
     "text": [
      "All Functions from Set:  ['add', 'clear', 'copy', 'difference', 'difference_update', 'discard', 'intersection', 'intersection_update', 'isdisjoint', 'issubset', 'issuperset', 'pop', 'remove', 'symmetric_difference', 'symmetric_difference_update', 'union', 'update']\n"
     ]
    }
   ],
   "source": [
    "print(\"All Functions from Set: \",[i for i in dir(set) if \"__\" not in i])"
   ]
  },
  {
   "cell_type": "code",
   "execution_count": 3,
   "id": "a191a9f2",
   "metadata": {},
   "outputs": [],
   "source": [
    "st = {} # now it is dictionary"
   ]
  },
  {
   "cell_type": "code",
   "execution_count": 4,
   "id": "f52bc704",
   "metadata": {},
   "outputs": [
    {
     "data": {
      "text/plain": [
       "dict"
      ]
     },
     "execution_count": 4,
     "metadata": {},
     "output_type": "execute_result"
    }
   ],
   "source": [
    "type(st)"
   ]
  },
  {
   "cell_type": "code",
   "execution_count": 5,
   "id": "90941f09",
   "metadata": {},
   "outputs": [],
   "source": [
    "st = {1,3,4,5,11,3,55,23,45,\"A\",\"g\",\"A\",\"12\",23.40}"
   ]
  },
  {
   "cell_type": "code",
   "execution_count": 6,
   "id": "381077b6",
   "metadata": {},
   "outputs": [
    {
     "data": {
      "text/plain": [
       "{1, 11, '12', 23, 23.4, 3, 4, 45, 5, 55, 'A', 'g'}"
      ]
     },
     "execution_count": 6,
     "metadata": {},
     "output_type": "execute_result"
    }
   ],
   "source": [
    "st"
   ]
  },
  {
   "cell_type": "code",
   "execution_count": 7,
   "id": "a2ce3a46",
   "metadata": {},
   "outputs": [],
   "source": [
    "setA = {1,3,5,7,8,9}"
   ]
  },
  {
   "cell_type": "markdown",
   "id": "61bebbe7",
   "metadata": {},
   "source": [
    "### Adding a element\n",
    "\n",
    "* Add :  Using add function we can add only single element at a time\n",
    "* update: using update function we can add multiple element at a time if needed"
   ]
  },
  {
   "cell_type": "code",
   "execution_count": 8,
   "id": "6ba69231",
   "metadata": {},
   "outputs": [],
   "source": [
    "setA.add(\"10\")"
   ]
  },
  {
   "cell_type": "code",
   "execution_count": 9,
   "id": "49e6a636",
   "metadata": {},
   "outputs": [
    {
     "data": {
      "text/plain": [
       "{1, '10', 3, 5, 7, 8, 9}"
      ]
     },
     "execution_count": 9,
     "metadata": {},
     "output_type": "execute_result"
    }
   ],
   "source": [
    "setA"
   ]
  },
  {
   "cell_type": "markdown",
   "id": "d874fd40",
   "metadata": {},
   "source": [
    "### Adding multiple element"
   ]
  },
  {
   "cell_type": "code",
   "execution_count": 11,
   "id": "2754f7b6",
   "metadata": {},
   "outputs": [],
   "source": [
    "setA.update([10,20,30,\"A\",\"X\",\"a\",10,20,30])"
   ]
  },
  {
   "cell_type": "code",
   "execution_count": 12,
   "id": "89871553",
   "metadata": {},
   "outputs": [
    {
     "data": {
      "text/plain": [
       "{1, 10, '10', 20, 3, 30, 5, 7, 8, 9, 'A', 'X', 'a'}"
      ]
     },
     "execution_count": 12,
     "metadata": {},
     "output_type": "execute_result"
    }
   ],
   "source": [
    "setA"
   ]
  },
  {
   "cell_type": "markdown",
   "id": "f890315b",
   "metadata": {},
   "source": [
    "### Note:\n",
    "\n",
    "Set does not allowed a list, dict, and set itself."
   ]
  },
  {
   "cell_type": "code",
   "execution_count": 13,
   "id": "e2b11c7b",
   "metadata": {},
   "outputs": [
    {
     "ename": "TypeError",
     "evalue": "unhashable type: 'list'",
     "output_type": "error",
     "traceback": [
      "\u001b[1;31m---------------------------------------------------------------------------\u001b[0m",
      "\u001b[1;31mTypeError\u001b[0m                                 Traceback (most recent call last)",
      "Cell \u001b[1;32mIn[13], line 1\u001b[0m\n\u001b[1;32m----> 1\u001b[0m st \u001b[38;5;241m=\u001b[39m {\u001b[38;5;241m1\u001b[39m,\u001b[38;5;241m2\u001b[39m,\u001b[38;5;241m3\u001b[39m,\u001b[38;5;241m3\u001b[39m,\u001b[38;5;241m3\u001b[39m,\u001b[38;5;241m3\u001b[39m,\u001b[38;5;241m3\u001b[39m,\u001b[38;5;241m3\u001b[39m,\u001b[38;5;241m3\u001b[39m,\u001b[38;5;241m3\u001b[39m,[\u001b[38;5;241m12\u001b[39m,\u001b[38;5;241m34\u001b[39m]}\n",
      "\u001b[1;31mTypeError\u001b[0m: unhashable type: 'list'"
     ]
    }
   ],
   "source": [
    "st = {1,2,3,3,3,3,3,3,3,3,[12,34]}"
   ]
  },
  {
   "cell_type": "code",
   "execution_count": 14,
   "id": "929af971",
   "metadata": {},
   "outputs": [
    {
     "ename": "TypeError",
     "evalue": "unhashable type: 'set'",
     "output_type": "error",
     "traceback": [
      "\u001b[1;31m---------------------------------------------------------------------------\u001b[0m",
      "\u001b[1;31mTypeError\u001b[0m                                 Traceback (most recent call last)",
      "Cell \u001b[1;32mIn[14], line 1\u001b[0m\n\u001b[1;32m----> 1\u001b[0m st \u001b[38;5;241m=\u001b[39m {\u001b[38;5;241m1\u001b[39m,\u001b[38;5;241m2\u001b[39m,\u001b[38;5;241m3\u001b[39m,\u001b[38;5;241m3\u001b[39m,\u001b[38;5;241m3\u001b[39m,\u001b[38;5;241m3\u001b[39m,\u001b[38;5;241m3\u001b[39m,\u001b[38;5;241m3\u001b[39m,\u001b[38;5;241m3\u001b[39m,\u001b[38;5;241m3\u001b[39m,{\u001b[38;5;241m12\u001b[39m,\u001b[38;5;241m34\u001b[39m}}\n",
      "\u001b[1;31mTypeError\u001b[0m: unhashable type: 'set'"
     ]
    }
   ],
   "source": [
    "st = {1,2,3,3,3,3,3,3,3,3,{12,34}}"
   ]
  },
  {
   "cell_type": "code",
   "execution_count": 15,
   "id": "fb38a262",
   "metadata": {},
   "outputs": [
    {
     "ename": "TypeError",
     "evalue": "unhashable type: 'dict'",
     "output_type": "error",
     "traceback": [
      "\u001b[1;31m---------------------------------------------------------------------------\u001b[0m",
      "\u001b[1;31mTypeError\u001b[0m                                 Traceback (most recent call last)",
      "Cell \u001b[1;32mIn[15], line 1\u001b[0m\n\u001b[1;32m----> 1\u001b[0m st \u001b[38;5;241m=\u001b[39m {\u001b[38;5;241m1\u001b[39m,\u001b[38;5;241m2\u001b[39m,\u001b[38;5;241m3\u001b[39m,{\u001b[38;5;124m\"\u001b[39m\u001b[38;5;124mA\u001b[39m\u001b[38;5;124m\"\u001b[39m:\u001b[38;5;241m10\u001b[39m,\u001b[38;5;124m\"\u001b[39m\u001b[38;5;124mb\u001b[39m\u001b[38;5;124m\"\u001b[39m:\u001b[38;5;241m10\u001b[39m}}\n",
      "\u001b[1;31mTypeError\u001b[0m: unhashable type: 'dict'"
     ]
    }
   ],
   "source": [
    "st = {1,2,3,{\"A\":10,\"b\":10}}"
   ]
  },
  {
   "cell_type": "code",
   "execution_count": 16,
   "id": "77c63d8d",
   "metadata": {},
   "outputs": [],
   "source": [
    "st = {1,2,3,4,(1,2,3,4,5)}"
   ]
  },
  {
   "cell_type": "code",
   "execution_count": 17,
   "id": "63751810",
   "metadata": {},
   "outputs": [
    {
     "data": {
      "text/plain": [
       "{(1, 2, 3, 4, 5), 1, 2, 3, 4}"
      ]
     },
     "execution_count": 17,
     "metadata": {},
     "output_type": "execute_result"
    }
   ],
   "source": [
    "st"
   ]
  },
  {
   "cell_type": "markdown",
   "id": "f68aecfc",
   "metadata": {},
   "source": [
    "### How to remove, discard, pop elements from set"
   ]
  },
  {
   "cell_type": "code",
   "execution_count": 18,
   "id": "7f7d6d8a",
   "metadata": {},
   "outputs": [],
   "source": [
    "st = {1,3,4,5,11,3,55,23,45,\"A\",\"g\",\"A\",\"12\",23.40}"
   ]
  },
  {
   "cell_type": "markdown",
   "id": "16398654",
   "metadata": {},
   "source": [
    "### Remove\n",
    "\n",
    "We can remove the element if element is part of set otherwise set function raise an exception.\n",
    "\n",
    "### Discard\n",
    "\n",
    "Discard function does not raise an error if element is not part of set.\n",
    "\n",
    "### Pop\n",
    "\n",
    "Using pop we can remove random element."
   ]
  },
  {
   "cell_type": "code",
   "execution_count": 19,
   "id": "71f835d5",
   "metadata": {},
   "outputs": [
    {
     "data": {
      "text/plain": [
       "{1, 11, '12', 23, 23.4, 3, 4, 45, 5, 55, 'A', 'g'}"
      ]
     },
     "execution_count": 19,
     "metadata": {},
     "output_type": "execute_result"
    }
   ],
   "source": [
    "st"
   ]
  },
  {
   "cell_type": "code",
   "execution_count": 20,
   "id": "5f9885e8",
   "metadata": {},
   "outputs": [
    {
     "ename": "KeyError",
     "evalue": "'M'",
     "output_type": "error",
     "traceback": [
      "\u001b[1;31m---------------------------------------------------------------------------\u001b[0m",
      "\u001b[1;31mKeyError\u001b[0m                                  Traceback (most recent call last)",
      "Cell \u001b[1;32mIn[20], line 1\u001b[0m\n\u001b[1;32m----> 1\u001b[0m \u001b[43mst\u001b[49m\u001b[38;5;241;43m.\u001b[39;49m\u001b[43mremove\u001b[49m\u001b[43m(\u001b[49m\u001b[38;5;124;43m\"\u001b[39;49m\u001b[38;5;124;43mM\u001b[39;49m\u001b[38;5;124;43m\"\u001b[39;49m\u001b[43m)\u001b[49m\n",
      "\u001b[1;31mKeyError\u001b[0m: 'M'"
     ]
    }
   ],
   "source": [
    "st.remove(\"M\")"
   ]
  },
  {
   "cell_type": "code",
   "execution_count": 21,
   "id": "fd2a13f2",
   "metadata": {},
   "outputs": [],
   "source": [
    "st.remove(23)"
   ]
  },
  {
   "cell_type": "code",
   "execution_count": 22,
   "id": "642c6974",
   "metadata": {},
   "outputs": [
    {
     "data": {
      "text/plain": [
       "{1, 11, '12', 23.4, 3, 4, 45, 5, 55, 'A', 'g'}"
      ]
     },
     "execution_count": 22,
     "metadata": {},
     "output_type": "execute_result"
    }
   ],
   "source": [
    "st"
   ]
  },
  {
   "cell_type": "code",
   "execution_count": 23,
   "id": "f3280e3f",
   "metadata": {},
   "outputs": [],
   "source": [
    "st.discard(\"M\")"
   ]
  },
  {
   "cell_type": "code",
   "execution_count": 24,
   "id": "2e88f97f",
   "metadata": {},
   "outputs": [],
   "source": [
    "st.discard(45)"
   ]
  },
  {
   "cell_type": "code",
   "execution_count": 25,
   "id": "dce35453",
   "metadata": {},
   "outputs": [
    {
     "data": {
      "text/plain": [
       "{1, 11, '12', 23.4, 3, 4, 5, 55, 'A', 'g'}"
      ]
     },
     "execution_count": 25,
     "metadata": {},
     "output_type": "execute_result"
    }
   ],
   "source": [
    "st"
   ]
  },
  {
   "cell_type": "code",
   "execution_count": 26,
   "id": "05e7456a",
   "metadata": {},
   "outputs": [
    {
     "data": {
      "text/plain": [
       "1"
      ]
     },
     "execution_count": 26,
     "metadata": {},
     "output_type": "execute_result"
    }
   ],
   "source": [
    "st.pop()"
   ]
  },
  {
   "cell_type": "code",
   "execution_count": 27,
   "id": "404a76f0",
   "metadata": {},
   "outputs": [
    {
     "data": {
      "text/plain": [
       "3"
      ]
     },
     "execution_count": 27,
     "metadata": {},
     "output_type": "execute_result"
    }
   ],
   "source": [
    "st.pop()"
   ]
  },
  {
   "cell_type": "code",
   "execution_count": 29,
   "id": "81e993a9",
   "metadata": {},
   "outputs": [
    {
     "data": {
      "text/plain": [
       "{11, '12', 23.4, 4, 5, 55, 'A', 'g'}"
      ]
     },
     "execution_count": 29,
     "metadata": {},
     "output_type": "execute_result"
    }
   ],
   "source": [
    "st"
   ]
  },
  {
   "cell_type": "code",
   "execution_count": 30,
   "id": "1433a747",
   "metadata": {},
   "outputs": [
    {
     "data": {
      "text/plain": [
       "{1, 10, '10', 20, 3, 30, 5, 7, 8, 9, 'A', 'X', 'a'}"
      ]
     },
     "execution_count": 30,
     "metadata": {},
     "output_type": "execute_result"
    }
   ],
   "source": [
    "setA"
   ]
  },
  {
   "cell_type": "code",
   "execution_count": 31,
   "id": "7f6ae821",
   "metadata": {},
   "outputs": [],
   "source": [
    "setA.clear()"
   ]
  },
  {
   "cell_type": "code",
   "execution_count": 32,
   "id": "4eb37d8b",
   "metadata": {},
   "outputs": [
    {
     "data": {
      "text/plain": [
       "set()"
      ]
     },
     "execution_count": 32,
     "metadata": {},
     "output_type": "execute_result"
    }
   ],
   "source": [
    "setA"
   ]
  },
  {
   "cell_type": "code",
   "execution_count": 33,
   "id": "75d3e48d",
   "metadata": {},
   "outputs": [],
   "source": [
    "newst = st.copy()"
   ]
  },
  {
   "cell_type": "code",
   "execution_count": 34,
   "id": "80c5fac7",
   "metadata": {},
   "outputs": [
    {
     "data": {
      "text/plain": [
       "{11, '12', 23.4, 4, 5, 55, 'A', 'g'}"
      ]
     },
     "execution_count": 34,
     "metadata": {},
     "output_type": "execute_result"
    }
   ],
   "source": [
    "newst"
   ]
  },
  {
   "cell_type": "markdown",
   "id": "a442eaf5",
   "metadata": {},
   "source": [
    "### Set Mathematical Operations"
   ]
  },
  {
   "cell_type": "code",
   "execution_count": 35,
   "id": "171da196",
   "metadata": {},
   "outputs": [],
   "source": [
    "setA = {1,3,5,7,8,\"a\",\"z\",\"o\",11,45}\n",
    "setB = {7,11,\"a\",\"c\",\"m\",\"1\",8,12,0}"
   ]
  },
  {
   "cell_type": "code",
   "execution_count": 36,
   "id": "74c52769",
   "metadata": {},
   "outputs": [
    {
     "data": {
      "text/plain": [
       "{1, 11, 3, 45, 5, 7, 8, 'a', 'o', 'z'}"
      ]
     },
     "execution_count": 36,
     "metadata": {},
     "output_type": "execute_result"
    }
   ],
   "source": [
    "setA"
   ]
  },
  {
   "cell_type": "code",
   "execution_count": 37,
   "id": "9f127ac9",
   "metadata": {},
   "outputs": [
    {
     "data": {
      "text/plain": [
       "{0, '1', 11, 12, 7, 8, 'a', 'c', 'm'}"
      ]
     },
     "execution_count": 37,
     "metadata": {},
     "output_type": "execute_result"
    }
   ],
   "source": [
    "setB"
   ]
  },
  {
   "cell_type": "markdown",
   "id": "a076ae5e",
   "metadata": {},
   "source": [
    "### Set Union (pipe |)\n",
    "\n",
    "Set union will not allowed the duplicate element, It will combined more than 1 set and return unique element from the sets."
   ]
  },
  {
   "cell_type": "code",
   "execution_count": 38,
   "id": "eabbffb5",
   "metadata": {},
   "outputs": [
    {
     "data": {
      "text/plain": [
       "{0, 1, '1', 11, 12, 3, 45, 5, 7, 8, 'a', 'c', 'm', 'o', 'z'}"
      ]
     },
     "execution_count": 38,
     "metadata": {},
     "output_type": "execute_result"
    }
   ],
   "source": [
    "setA.union(setB)"
   ]
  },
  {
   "cell_type": "code",
   "execution_count": 39,
   "id": "f55be977",
   "metadata": {},
   "outputs": [
    {
     "data": {
      "text/plain": [
       "{0, 1, '1', 11, 12, 3, 45, 5, 7, 8, 'a', 'c', 'm', 'o', 'z'}"
      ]
     },
     "execution_count": 39,
     "metadata": {},
     "output_type": "execute_result"
    }
   ],
   "source": [
    "setB.union(setA)"
   ]
  },
  {
   "cell_type": "code",
   "execution_count": 40,
   "id": "6831a2c2",
   "metadata": {},
   "outputs": [
    {
     "data": {
      "text/plain": [
       "{0, 1, '1', 11, 12, 3, 45, 5, 7, 8, 'a', 'c', 'm', 'o', 'z'}"
      ]
     },
     "execution_count": 40,
     "metadata": {},
     "output_type": "execute_result"
    }
   ],
   "source": [
    "setA | setB"
   ]
  },
  {
   "cell_type": "code",
   "execution_count": 41,
   "id": "03c9eab7",
   "metadata": {},
   "outputs": [
    {
     "data": {
      "text/plain": [
       "{0, 1, '1', 11, 12, 3, 45, 5, 7, 8, 'a', 'c', 'm', 'o', 'z'}"
      ]
     },
     "execution_count": 41,
     "metadata": {},
     "output_type": "execute_result"
    }
   ],
   "source": [
    "setB | setA"
   ]
  },
  {
   "cell_type": "markdown",
   "id": "b5643a99",
   "metadata": {},
   "source": [
    "### Set Intersection (&)\n",
    "\n",
    "common values from the sets"
   ]
  },
  {
   "cell_type": "code",
   "execution_count": 42,
   "id": "3a51c704",
   "metadata": {},
   "outputs": [
    {
     "data": {
      "text/plain": [
       "{11, 7, 8, 'a'}"
      ]
     },
     "execution_count": 42,
     "metadata": {},
     "output_type": "execute_result"
    }
   ],
   "source": [
    "setA.intersection(setB)"
   ]
  },
  {
   "cell_type": "code",
   "execution_count": 43,
   "id": "c5c195ad",
   "metadata": {},
   "outputs": [
    {
     "data": {
      "text/plain": [
       "{11, 7, 8, 'a'}"
      ]
     },
     "execution_count": 43,
     "metadata": {},
     "output_type": "execute_result"
    }
   ],
   "source": [
    "setB & setA"
   ]
  },
  {
   "cell_type": "code",
   "execution_count": 44,
   "id": "afbf70b9",
   "metadata": {},
   "outputs": [
    {
     "data": {
      "text/plain": [
       "{1, 11, 3, 45, 5, 7, 8, 'a', 'o', 'z'}"
      ]
     },
     "execution_count": 44,
     "metadata": {},
     "output_type": "execute_result"
    }
   ],
   "source": [
    "setA"
   ]
  },
  {
   "cell_type": "code",
   "execution_count": 45,
   "id": "ccf11988",
   "metadata": {},
   "outputs": [
    {
     "data": {
      "text/plain": [
       "{0, '1', 11, 12, 7, 8, 'a', 'c', 'm'}"
      ]
     },
     "execution_count": 45,
     "metadata": {},
     "output_type": "execute_result"
    }
   ],
   "source": [
    "setB"
   ]
  },
  {
   "cell_type": "markdown",
   "id": "461cbc51",
   "metadata": {},
   "source": [
    "### Set Difference (-)\n",
    "\n",
    "Elements which are not the part of another set."
   ]
  },
  {
   "cell_type": "code",
   "execution_count": 46,
   "id": "dc15aca3",
   "metadata": {},
   "outputs": [
    {
     "data": {
      "text/plain": [
       "{1, 3, 45, 5, 'o', 'z'}"
      ]
     },
     "execution_count": 46,
     "metadata": {},
     "output_type": "execute_result"
    }
   ],
   "source": [
    "setA.difference(setB)"
   ]
  },
  {
   "cell_type": "code",
   "execution_count": 47,
   "id": "7538979d",
   "metadata": {},
   "outputs": [
    {
     "data": {
      "text/plain": [
       "{0, '1', 12, 'c', 'm'}"
      ]
     },
     "execution_count": 47,
     "metadata": {},
     "output_type": "execute_result"
    }
   ],
   "source": [
    "setB.difference(setA)"
   ]
  },
  {
   "cell_type": "code",
   "execution_count": 48,
   "id": "8c34ad13",
   "metadata": {},
   "outputs": [
    {
     "data": {
      "text/plain": [
       "{1, 3, 45, 5, 'o', 'z'}"
      ]
     },
     "execution_count": 48,
     "metadata": {},
     "output_type": "execute_result"
    }
   ],
   "source": [
    "setA - setB"
   ]
  },
  {
   "cell_type": "markdown",
   "id": "7f0bd3c7",
   "metadata": {},
   "source": [
    "### Set Symmetric_difference (^)\n",
    "\n",
    "Except common in both."
   ]
  },
  {
   "cell_type": "markdown",
   "id": "048e5f53",
   "metadata": {},
   "source": [
    "Return the symmetric difference of two sets as a new set.\n",
    "\n",
    "(i.e. all elements that are in exactly one of the sets.)"
   ]
  },
  {
   "cell_type": "code",
   "execution_count": 50,
   "id": "cda0b706",
   "metadata": {},
   "outputs": [
    {
     "data": {
      "text/plain": [
       "{1, 11, 3, 45, 5, 7, 8, 'a', 'o', 'z'}"
      ]
     },
     "execution_count": 50,
     "metadata": {},
     "output_type": "execute_result"
    }
   ],
   "source": [
    "setA"
   ]
  },
  {
   "cell_type": "code",
   "execution_count": 51,
   "id": "a8e9118b",
   "metadata": {},
   "outputs": [
    {
     "data": {
      "text/plain": [
       "{0, '1', 11, 12, 7, 8, 'a', 'c', 'm'}"
      ]
     },
     "execution_count": 51,
     "metadata": {},
     "output_type": "execute_result"
    }
   ],
   "source": [
    "setB"
   ]
  },
  {
   "cell_type": "code",
   "execution_count": 52,
   "id": "88e16142",
   "metadata": {},
   "outputs": [
    {
     "data": {
      "text/plain": [
       "{0, 1, '1', 12, 3, 45, 5, 'c', 'm', 'o', 'z'}"
      ]
     },
     "execution_count": 52,
     "metadata": {},
     "output_type": "execute_result"
    }
   ],
   "source": [
    "setA.symmetric_difference(setB)"
   ]
  },
  {
   "cell_type": "code",
   "execution_count": 53,
   "id": "fcf5e183",
   "metadata": {},
   "outputs": [
    {
     "data": {
      "text/plain": [
       "{0, 1, '1', 12, 3, 45, 5, 'c', 'm', 'o', 'z'}"
      ]
     },
     "execution_count": 53,
     "metadata": {},
     "output_type": "execute_result"
    }
   ],
   "source": [
    "setB ^ setA"
   ]
  },
  {
   "cell_type": "code",
   "execution_count": 54,
   "id": "d952257f",
   "metadata": {},
   "outputs": [
    {
     "data": {
      "text/plain": [
       "{11, 7, 8, 'a'}"
      ]
     },
     "execution_count": 54,
     "metadata": {},
     "output_type": "execute_result"
    }
   ],
   "source": [
    "setA & setB"
   ]
  },
  {
   "cell_type": "markdown",
   "id": "3aac906e",
   "metadata": {},
   "source": [
    "### issubset, issuperset, isdisjoint"
   ]
  },
  {
   "cell_type": "code",
   "execution_count": 55,
   "id": "8525f956",
   "metadata": {},
   "outputs": [],
   "source": [
    "setX = {4,6,8,9}\n",
    "setY = {6,7,9,0,11,4,67,6,8,9,4,6,\"a\"}"
   ]
  },
  {
   "cell_type": "markdown",
   "id": "984e65c9",
   "metadata": {},
   "source": [
    "### issubset or issuperset\n",
    "\n",
    "if all the element on one set are found in another 2nd set then first set is issubset of another set, or you can say that 2nd set is superset of first set."
   ]
  },
  {
   "cell_type": "code",
   "execution_count": 56,
   "id": "cbbc9751",
   "metadata": {},
   "outputs": [
    {
     "data": {
      "text/plain": [
       "True"
      ]
     },
     "execution_count": 56,
     "metadata": {},
     "output_type": "execute_result"
    }
   ],
   "source": [
    "setX.issubset(setY)"
   ]
  },
  {
   "cell_type": "code",
   "execution_count": 57,
   "id": "e42a427e",
   "metadata": {},
   "outputs": [
    {
     "data": {
      "text/plain": [
       "True"
      ]
     },
     "execution_count": 57,
     "metadata": {},
     "output_type": "execute_result"
    }
   ],
   "source": [
    "setY.issuperset(setX)"
   ]
  },
  {
   "cell_type": "markdown",
   "id": "7d907e23",
   "metadata": {},
   "source": [
    "### isdisjoint\n",
    "\n",
    " Return True if two sets have a null intersection."
   ]
  },
  {
   "cell_type": "code",
   "execution_count": 58,
   "id": "eff0e1cb",
   "metadata": {},
   "outputs": [
    {
     "data": {
      "text/plain": [
       "{4, 6, 8, 9}"
      ]
     },
     "execution_count": 58,
     "metadata": {},
     "output_type": "execute_result"
    }
   ],
   "source": [
    "setX"
   ]
  },
  {
   "cell_type": "code",
   "execution_count": 59,
   "id": "74690f6f",
   "metadata": {},
   "outputs": [
    {
     "data": {
      "text/plain": [
       "{0, 11, 4, 6, 67, 7, 8, 9, 'a'}"
      ]
     },
     "execution_count": 59,
     "metadata": {},
     "output_type": "execute_result"
    }
   ],
   "source": [
    "setY"
   ]
  },
  {
   "cell_type": "code",
   "execution_count": 60,
   "id": "571c6774",
   "metadata": {},
   "outputs": [
    {
     "data": {
      "text/plain": [
       "False"
      ]
     },
     "execution_count": 60,
     "metadata": {},
     "output_type": "execute_result"
    }
   ],
   "source": [
    "setX.isdisjoint(setY)"
   ]
  },
  {
   "cell_type": "code",
   "execution_count": 62,
   "id": "88871c51",
   "metadata": {},
   "outputs": [],
   "source": [
    "setX.add(\"Komal\")"
   ]
  },
  {
   "cell_type": "code",
   "execution_count": 63,
   "id": "777bff3c",
   "metadata": {},
   "outputs": [
    {
     "data": {
      "text/plain": [
       "{4, 6, 8, 9, 'Komal'}"
      ]
     },
     "execution_count": 63,
     "metadata": {},
     "output_type": "execute_result"
    }
   ],
   "source": [
    "setX"
   ]
  },
  {
   "cell_type": "code",
   "execution_count": 64,
   "id": "763bbde6",
   "metadata": {},
   "outputs": [
    {
     "data": {
      "text/plain": [
       "False"
      ]
     },
     "execution_count": 64,
     "metadata": {},
     "output_type": "execute_result"
    }
   ],
   "source": [
    "setX.isdisjoint(setY)"
   ]
  },
  {
   "cell_type": "code",
   "execution_count": 65,
   "id": "71c60068",
   "metadata": {},
   "outputs": [],
   "source": [
    "setX.remove(4)"
   ]
  },
  {
   "cell_type": "code",
   "execution_count": 66,
   "id": "c657264c",
   "metadata": {},
   "outputs": [],
   "source": [
    "setX.remove(8)"
   ]
  },
  {
   "cell_type": "code",
   "execution_count": 67,
   "id": "ee1a6d8d",
   "metadata": {},
   "outputs": [],
   "source": [
    "setX.remove(6)"
   ]
  },
  {
   "cell_type": "code",
   "execution_count": 68,
   "id": "748e1ae0",
   "metadata": {},
   "outputs": [],
   "source": [
    "setX.remove(9)"
   ]
  },
  {
   "cell_type": "code",
   "execution_count": 69,
   "id": "87b47127",
   "metadata": {},
   "outputs": [
    {
     "data": {
      "text/plain": [
       "{'Komal'}"
      ]
     },
     "execution_count": 69,
     "metadata": {},
     "output_type": "execute_result"
    }
   ],
   "source": [
    "setX"
   ]
  },
  {
   "cell_type": "code",
   "execution_count": 70,
   "id": "80244cdf",
   "metadata": {},
   "outputs": [],
   "source": [
    "setX.update([100,\"AB\",\"BD\",\"MD\"])"
   ]
  },
  {
   "cell_type": "code",
   "execution_count": 71,
   "id": "5ff8dfe3",
   "metadata": {},
   "outputs": [
    {
     "data": {
      "text/plain": [
       "{100, 'AB', 'BD', 'Komal', 'MD'}"
      ]
     },
     "execution_count": 71,
     "metadata": {},
     "output_type": "execute_result"
    }
   ],
   "source": [
    "setX"
   ]
  },
  {
   "cell_type": "code",
   "execution_count": 72,
   "id": "d6c16a62",
   "metadata": {},
   "outputs": [
    {
     "data": {
      "text/plain": [
       "{0, 11, 4, 6, 67, 7, 8, 9, 'a'}"
      ]
     },
     "execution_count": 72,
     "metadata": {},
     "output_type": "execute_result"
    }
   ],
   "source": [
    "setY"
   ]
  },
  {
   "cell_type": "code",
   "execution_count": 73,
   "id": "c2dba4cd",
   "metadata": {},
   "outputs": [
    {
     "data": {
      "text/plain": [
       "True"
      ]
     },
     "execution_count": 73,
     "metadata": {},
     "output_type": "execute_result"
    }
   ],
   "source": [
    "setX.isdisjoint(setY)"
   ]
  },
  {
   "cell_type": "markdown",
   "id": "484119f2",
   "metadata": {},
   "source": [
    "* difference_update\n",
    "* intersection_update\n",
    "* symmetric_difference_update"
   ]
  },
  {
   "cell_type": "code",
   "execution_count": 74,
   "id": "fd68c931",
   "metadata": {},
   "outputs": [
    {
     "data": {
      "text/plain": [
       "{1, 11, 3, 45, 5, 7, 8, 'a', 'o', 'z'}"
      ]
     },
     "execution_count": 74,
     "metadata": {},
     "output_type": "execute_result"
    }
   ],
   "source": [
    "setA"
   ]
  },
  {
   "cell_type": "code",
   "execution_count": 75,
   "id": "533e008e",
   "metadata": {},
   "outputs": [
    {
     "data": {
      "text/plain": [
       "{0, '1', 11, 12, 7, 8, 'a', 'c', 'm'}"
      ]
     },
     "execution_count": 75,
     "metadata": {},
     "output_type": "execute_result"
    }
   ],
   "source": [
    "setB"
   ]
  },
  {
   "cell_type": "code",
   "execution_count": 76,
   "id": "c14c5d3f",
   "metadata": {},
   "outputs": [
    {
     "data": {
      "text/plain": [
       "{1, 3, 45, 5, 'o', 'z'}"
      ]
     },
     "execution_count": 76,
     "metadata": {},
     "output_type": "execute_result"
    }
   ],
   "source": [
    "setA - setB"
   ]
  },
  {
   "cell_type": "markdown",
   "id": "92673218",
   "metadata": {},
   "source": [
    "Whatever the difference I am getting from above statement that result or difference I want to override on SetA and SetB "
   ]
  },
  {
   "cell_type": "code",
   "execution_count": 77,
   "id": "18031031",
   "metadata": {},
   "outputs": [],
   "source": [
    "setA.difference_update(setB)"
   ]
  },
  {
   "cell_type": "code",
   "execution_count": 78,
   "id": "6f7a9aeb",
   "metadata": {},
   "outputs": [
    {
     "data": {
      "text/plain": [
       "{1, 3, 45, 5, 'o', 'z'}"
      ]
     },
     "execution_count": 78,
     "metadata": {},
     "output_type": "execute_result"
    }
   ],
   "source": [
    "setA"
   ]
  },
  {
   "cell_type": "code",
   "execution_count": 80,
   "id": "d97ac013",
   "metadata": {},
   "outputs": [
    {
     "data": {
      "text/plain": [
       "{0, '1', 11, 12, 7, 8, 'a', 'c', 'm'}"
      ]
     },
     "execution_count": 80,
     "metadata": {},
     "output_type": "execute_result"
    }
   ],
   "source": [
    "setB"
   ]
  },
  {
   "cell_type": "code",
   "execution_count": 81,
   "id": "3217ba3f",
   "metadata": {},
   "outputs": [
    {
     "data": {
      "text/plain": [
       "{0, 11, 4, 6, 67, 7, 8, 9, 'a'}"
      ]
     },
     "execution_count": 81,
     "metadata": {},
     "output_type": "execute_result"
    }
   ],
   "source": [
    "setY"
   ]
  },
  {
   "cell_type": "code",
   "execution_count": 82,
   "id": "e1682fb1",
   "metadata": {},
   "outputs": [
    {
     "data": {
      "text/plain": [
       "{0, 11, 7, 8, 'a'}"
      ]
     },
     "execution_count": 82,
     "metadata": {},
     "output_type": "execute_result"
    }
   ],
   "source": [
    "setY & setB"
   ]
  },
  {
   "cell_type": "code",
   "execution_count": 83,
   "id": "812bdea1",
   "metadata": {},
   "outputs": [],
   "source": [
    "setY.intersection_update(setB)"
   ]
  },
  {
   "cell_type": "code",
   "execution_count": 84,
   "id": "dde43b8a",
   "metadata": {},
   "outputs": [
    {
     "data": {
      "text/plain": [
       "{0, 11, 7, 8, 'a'}"
      ]
     },
     "execution_count": 84,
     "metadata": {},
     "output_type": "execute_result"
    }
   ],
   "source": [
    "setY"
   ]
  },
  {
   "cell_type": "code",
   "execution_count": 85,
   "id": "38b61d4f",
   "metadata": {},
   "outputs": [
    {
     "data": {
      "text/plain": [
       "{0, '1', 11, 12, 7, 8, 'a', 'c', 'm'}"
      ]
     },
     "execution_count": 85,
     "metadata": {},
     "output_type": "execute_result"
    }
   ],
   "source": [
    "setB"
   ]
  },
  {
   "cell_type": "code",
   "execution_count": 86,
   "id": "976ba89e",
   "metadata": {},
   "outputs": [],
   "source": [
    "setB.symmetric_difference_update(setY)"
   ]
  },
  {
   "cell_type": "code",
   "execution_count": 87,
   "id": "9f9f34c1",
   "metadata": {},
   "outputs": [
    {
     "data": {
      "text/plain": [
       "{'1', 12, 'c', 'm'}"
      ]
     },
     "execution_count": 87,
     "metadata": {},
     "output_type": "execute_result"
    }
   ],
   "source": [
    "setB"
   ]
  },
  {
   "cell_type": "code",
   "execution_count": null,
   "id": "8d729f0a",
   "metadata": {},
   "outputs": [],
   "source": []
  }
 ],
 "metadata": {
  "kernelspec": {
   "display_name": "Python 3 (ipykernel)",
   "language": "python",
   "name": "python3"
  },
  "language_info": {
   "codemirror_mode": {
    "name": "ipython",
    "version": 3
   },
   "file_extension": ".py",
   "mimetype": "text/x-python",
   "name": "python",
   "nbconvert_exporter": "python",
   "pygments_lexer": "ipython3",
   "version": "3.11.2"
  }
 },
 "nbformat": 4,
 "nbformat_minor": 5
}
