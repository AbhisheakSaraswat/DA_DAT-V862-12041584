{
 "cells": [
  {
   "cell_type": "markdown",
   "id": "a04e6fba",
   "metadata": {},
   "source": [
    "### Dictionary Data Structure\n",
    "\n",
    "- Rules and guidelines of dictionary data structure\n",
    "    * Dictionary are key-pair elements just like JSON\n",
    "    * Dictionary is listed by {}\n",
    "    * Each element is the combination of key : value pair\n",
    "    * Dictionary keys are immutable and Key's values can be mutable or immutable\n",
    "    * Dictionary can be created using {} and dict function.\n",
    "    * We can not have duplicate key in the dictionary"
   ]
  },
  {
   "cell_type": "code",
   "execution_count": 1,
   "id": "19af14ed",
   "metadata": {},
   "outputs": [
    {
     "name": "stdout",
     "output_type": "stream",
     "text": [
      "All Functions from Dictionary:  ['clear', 'copy', 'fromkeys', 'get', 'items', 'keys', 'pop', 'popitem', 'setdefault', 'update', 'values']\n"
     ]
    }
   ],
   "source": [
    "print(\"All Functions from Dictionary: \",[i for i in dir(dict) if \"__\" not in i])"
   ]
  },
  {
   "cell_type": "code",
   "execution_count": 2,
   "id": "dec7468c",
   "metadata": {},
   "outputs": [],
   "source": [
    "dct = {}"
   ]
  },
  {
   "cell_type": "code",
   "execution_count": 3,
   "id": "575e19f0",
   "metadata": {},
   "outputs": [
    {
     "data": {
      "text/plain": [
       "dict"
      ]
     },
     "execution_count": 3,
     "metadata": {},
     "output_type": "execute_result"
    }
   ],
   "source": [
    "type(dct)"
   ]
  },
  {
   "cell_type": "code",
   "execution_count": 4,
   "id": "ec1ed7c7",
   "metadata": {},
   "outputs": [],
   "source": [
    "d = dict()"
   ]
  },
  {
   "cell_type": "code",
   "execution_count": 5,
   "id": "0dff2187",
   "metadata": {},
   "outputs": [
    {
     "data": {
      "text/plain": [
       "dict"
      ]
     },
     "execution_count": 5,
     "metadata": {},
     "output_type": "execute_result"
    }
   ],
   "source": [
    "type(d)"
   ]
  },
  {
   "cell_type": "code",
   "execution_count": 6,
   "id": "a5f819d9",
   "metadata": {},
   "outputs": [],
   "source": [
    "employeeDB = {\"EmpID\" : [101,102,103,104,105],\n",
    "             \"EmpName\" : [\"A\",\"B\",\"C\",\"D\"],\n",
    "             \"City\" : [\"Houson\",\"Tempa\",\"Delhi\",'Chennai'],\n",
    "             \"Grade\" : [\"A\",\"B\",\"A\",\"B\"],\n",
    "             \"Salary\" : [100,200,350,230]}"
   ]
  },
  {
   "cell_type": "code",
   "execution_count": 7,
   "id": "e1742545",
   "metadata": {},
   "outputs": [
    {
     "data": {
      "text/plain": [
       "{'EmpID': [101, 102, 103, 104, 105],\n",
       " 'EmpName': ['A', 'B', 'C', 'D'],\n",
       " 'City': ['Houson', 'Tempa', 'Delhi', 'Chennai'],\n",
       " 'Grade': ['A', 'B', 'A', 'B'],\n",
       " 'Salary': [100, 200, 350, 230]}"
      ]
     },
     "execution_count": 7,
     "metadata": {},
     "output_type": "execute_result"
    }
   ],
   "source": [
    "employeeDB"
   ]
  },
  {
   "cell_type": "code",
   "execution_count": 8,
   "id": "eb063b5e",
   "metadata": {},
   "outputs": [],
   "source": [
    "# can you display only the keys"
   ]
  },
  {
   "cell_type": "code",
   "execution_count": 9,
   "id": "bda3d534",
   "metadata": {},
   "outputs": [
    {
     "data": {
      "text/plain": [
       "dict_keys(['EmpID', 'EmpName', 'City', 'Grade', 'Salary'])"
      ]
     },
     "execution_count": 9,
     "metadata": {},
     "output_type": "execute_result"
    }
   ],
   "source": [
    "employeeDB.keys()"
   ]
  },
  {
   "cell_type": "code",
   "execution_count": 10,
   "id": "772e6bb6",
   "metadata": {},
   "outputs": [],
   "source": [
    "# can you display the values"
   ]
  },
  {
   "cell_type": "code",
   "execution_count": 11,
   "id": "cfcd73fd",
   "metadata": {},
   "outputs": [
    {
     "data": {
      "text/plain": [
       "dict_values([[101, 102, 103, 104, 105], ['A', 'B', 'C', 'D'], ['Houson', 'Tempa', 'Delhi', 'Chennai'], ['A', 'B', 'A', 'B'], [100, 200, 350, 230]])"
      ]
     },
     "execution_count": 11,
     "metadata": {},
     "output_type": "execute_result"
    }
   ],
   "source": [
    "employeeDB.values()"
   ]
  },
  {
   "cell_type": "code",
   "execution_count": 12,
   "id": "60684e23",
   "metadata": {},
   "outputs": [],
   "source": [
    "# can you display the key and its values"
   ]
  },
  {
   "cell_type": "code",
   "execution_count": 13,
   "id": "790d9a99",
   "metadata": {},
   "outputs": [
    {
     "data": {
      "text/plain": [
       "dict_items([('EmpID', [101, 102, 103, 104, 105]), ('EmpName', ['A', 'B', 'C', 'D']), ('City', ['Houson', 'Tempa', 'Delhi', 'Chennai']), ('Grade', ['A', 'B', 'A', 'B']), ('Salary', [100, 200, 350, 230])])"
      ]
     },
     "execution_count": 13,
     "metadata": {},
     "output_type": "execute_result"
    }
   ],
   "source": [
    "employeeDB.items() # returning tuple, where first item is key and 2nd item are values"
   ]
  },
  {
   "cell_type": "code",
   "execution_count": 14,
   "id": "ae2840ea",
   "metadata": {},
   "outputs": [],
   "source": [
    "# can you display the value of specific key"
   ]
  },
  {
   "cell_type": "code",
   "execution_count": 15,
   "id": "14e7501a",
   "metadata": {},
   "outputs": [
    {
     "data": {
      "text/plain": [
       "[100, 200, 350, 230]"
      ]
     },
     "execution_count": 15,
     "metadata": {},
     "output_type": "execute_result"
    }
   ],
   "source": [
    "employeeDB['Salary']"
   ]
  },
  {
   "cell_type": "code",
   "execution_count": 16,
   "id": "b15ad8f5",
   "metadata": {},
   "outputs": [
    {
     "data": {
      "text/plain": [
       "[101, 102, 103, 104, 105]"
      ]
     },
     "execution_count": 16,
     "metadata": {},
     "output_type": "execute_result"
    }
   ],
   "source": [
    "employeeDB[\"EmpID\"]"
   ]
  },
  {
   "cell_type": "code",
   "execution_count": 17,
   "id": "05741415",
   "metadata": {},
   "outputs": [
    {
     "data": {
      "text/plain": [
       "['A', 'B', 'C', 'D']"
      ]
     },
     "execution_count": 17,
     "metadata": {},
     "output_type": "execute_result"
    }
   ],
   "source": [
    "employeeDB[\"EmpName\"]"
   ]
  },
  {
   "cell_type": "code",
   "execution_count": 18,
   "id": "de5c49f0",
   "metadata": {},
   "outputs": [
    {
     "data": {
      "text/plain": [
       "['Houson', 'Tempa', 'Delhi', 'Chennai']"
      ]
     },
     "execution_count": 18,
     "metadata": {},
     "output_type": "execute_result"
    }
   ],
   "source": [
    "employeeDB[\"City\"]"
   ]
  },
  {
   "cell_type": "code",
   "execution_count": 19,
   "id": "030ebe4d",
   "metadata": {},
   "outputs": [
    {
     "data": {
      "text/plain": [
       "['A', 'B', 'A', 'B']"
      ]
     },
     "execution_count": 19,
     "metadata": {},
     "output_type": "execute_result"
    }
   ],
   "source": [
    "employeeDB[\"Grade\"]"
   ]
  },
  {
   "cell_type": "code",
   "execution_count": 20,
   "id": "da0e8503",
   "metadata": {},
   "outputs": [
    {
     "data": {
      "text/plain": [
       "{'EmpID': [101, 102, 103, 104, 105],\n",
       " 'EmpName': ['A', 'B', 'C', 'D'],\n",
       " 'City': ['Houson', 'Tempa', 'Delhi', 'Chennai'],\n",
       " 'Grade': ['A', 'B', 'A', 'B'],\n",
       " 'Salary': [100, 200, 350, 230]}"
      ]
     },
     "execution_count": 20,
     "metadata": {},
     "output_type": "execute_result"
    }
   ],
   "source": [
    "employeeDB"
   ]
  },
  {
   "cell_type": "code",
   "execution_count": 21,
   "id": "423185fd",
   "metadata": {},
   "outputs": [],
   "source": [
    "import pandas as pd"
   ]
  },
  {
   "cell_type": "code",
   "execution_count": 23,
   "id": "259a17cf",
   "metadata": {},
   "outputs": [],
   "source": [
    "employeeDB = {\"EmpID\" : [101,102,103,104,105],\n",
    "             \"EmpName\" : [\"A\",\"B\",\"C\",\"D\",\"E\"],\n",
    "             \"City\" : [\"Houson\",\"Tempa\",\"Delhi\",'Chennai',\"Panjim\"],\n",
    "             \"Grade\" : [\"A\",\"B\",\"A\",\"B\",\"A\"],\n",
    "             \"Salary\" : [100,200,350,230,150]}"
   ]
  },
  {
   "cell_type": "code",
   "execution_count": 24,
   "id": "79b5a967",
   "metadata": {},
   "outputs": [],
   "source": [
    "df = pd.DataFrame(employeeDB)"
   ]
  },
  {
   "cell_type": "code",
   "execution_count": 25,
   "id": "e0879458",
   "metadata": {},
   "outputs": [
    {
     "data": {
      "text/html": [
       "<div>\n",
       "<style scoped>\n",
       "    .dataframe tbody tr th:only-of-type {\n",
       "        vertical-align: middle;\n",
       "    }\n",
       "\n",
       "    .dataframe tbody tr th {\n",
       "        vertical-align: top;\n",
       "    }\n",
       "\n",
       "    .dataframe thead th {\n",
       "        text-align: right;\n",
       "    }\n",
       "</style>\n",
       "<table border=\"1\" class=\"dataframe\">\n",
       "  <thead>\n",
       "    <tr style=\"text-align: right;\">\n",
       "      <th></th>\n",
       "      <th>EmpID</th>\n",
       "      <th>EmpName</th>\n",
       "      <th>City</th>\n",
       "      <th>Grade</th>\n",
       "      <th>Salary</th>\n",
       "    </tr>\n",
       "  </thead>\n",
       "  <tbody>\n",
       "    <tr>\n",
       "      <th>0</th>\n",
       "      <td>101</td>\n",
       "      <td>A</td>\n",
       "      <td>Houson</td>\n",
       "      <td>A</td>\n",
       "      <td>100</td>\n",
       "    </tr>\n",
       "    <tr>\n",
       "      <th>1</th>\n",
       "      <td>102</td>\n",
       "      <td>B</td>\n",
       "      <td>Tempa</td>\n",
       "      <td>B</td>\n",
       "      <td>200</td>\n",
       "    </tr>\n",
       "    <tr>\n",
       "      <th>2</th>\n",
       "      <td>103</td>\n",
       "      <td>C</td>\n",
       "      <td>Delhi</td>\n",
       "      <td>A</td>\n",
       "      <td>350</td>\n",
       "    </tr>\n",
       "    <tr>\n",
       "      <th>3</th>\n",
       "      <td>104</td>\n",
       "      <td>D</td>\n",
       "      <td>Chennai</td>\n",
       "      <td>B</td>\n",
       "      <td>230</td>\n",
       "    </tr>\n",
       "    <tr>\n",
       "      <th>4</th>\n",
       "      <td>105</td>\n",
       "      <td>E</td>\n",
       "      <td>Panjim</td>\n",
       "      <td>A</td>\n",
       "      <td>150</td>\n",
       "    </tr>\n",
       "  </tbody>\n",
       "</table>\n",
       "</div>"
      ],
      "text/plain": [
       "   EmpID EmpName     City Grade  Salary\n",
       "0    101       A   Houson     A     100\n",
       "1    102       B    Tempa     B     200\n",
       "2    103       C    Delhi     A     350\n",
       "3    104       D  Chennai     B     230\n",
       "4    105       E   Panjim     A     150"
      ]
     },
     "execution_count": 25,
     "metadata": {},
     "output_type": "execute_result"
    }
   ],
   "source": [
    "df"
   ]
  },
  {
   "cell_type": "code",
   "execution_count": 26,
   "id": "437110c1",
   "metadata": {},
   "outputs": [],
   "source": [
    "df.to_csv(\"Employee.csv\", index = False)"
   ]
  },
  {
   "cell_type": "code",
   "execution_count": 27,
   "id": "339472d9",
   "metadata": {},
   "outputs": [
    {
     "data": {
      "text/plain": [
       "{'EmpID': [101, 102, 103, 104, 105],\n",
       " 'EmpName': ['A', 'B', 'C', 'D', 'E'],\n",
       " 'City': ['Houson', 'Tempa', 'Delhi', 'Chennai', 'Panjim'],\n",
       " 'Grade': ['A', 'B', 'A', 'B', 'A'],\n",
       " 'Salary': [100, 200, 350, 230, 150]}"
      ]
     },
     "execution_count": 27,
     "metadata": {},
     "output_type": "execute_result"
    }
   ],
   "source": [
    "employeeDB"
   ]
  },
  {
   "cell_type": "code",
   "execution_count": 28,
   "id": "cf411133",
   "metadata": {},
   "outputs": [],
   "source": [
    "dct = dict()"
   ]
  },
  {
   "cell_type": "code",
   "execution_count": 29,
   "id": "50b0e867",
   "metadata": {},
   "outputs": [],
   "source": [
    "dct[\"A\"] = 10,20,30,40"
   ]
  },
  {
   "cell_type": "code",
   "execution_count": 30,
   "id": "6fc271f9",
   "metadata": {},
   "outputs": [
    {
     "data": {
      "text/plain": [
       "{'A': (10, 20, 30, 40)}"
      ]
     },
     "execution_count": 30,
     "metadata": {},
     "output_type": "execute_result"
    }
   ],
   "source": [
    "dct"
   ]
  },
  {
   "cell_type": "code",
   "execution_count": 31,
   "id": "b2b900a2",
   "metadata": {},
   "outputs": [],
   "source": [
    "dct[\"D\"] = [\"Abhishek\",\"Ajeet\"]"
   ]
  },
  {
   "cell_type": "code",
   "execution_count": 32,
   "id": "69509ad4",
   "metadata": {},
   "outputs": [
    {
     "data": {
      "text/plain": [
       "{'A': (10, 20, 30, 40), 'D': ['Abhishek', 'Ajeet']}"
      ]
     },
     "execution_count": 32,
     "metadata": {},
     "output_type": "execute_result"
    }
   ],
   "source": [
    "dct"
   ]
  },
  {
   "cell_type": "code",
   "execution_count": 33,
   "id": "9380f6a5",
   "metadata": {},
   "outputs": [],
   "source": [
    "dct[\"X\"] = employeeDB"
   ]
  },
  {
   "cell_type": "code",
   "execution_count": 34,
   "id": "d0abf257",
   "metadata": {},
   "outputs": [
    {
     "data": {
      "text/plain": [
       "{'A': (10, 20, 30, 40),\n",
       " 'D': ['Abhishek', 'Ajeet'],\n",
       " 'X': {'EmpID': [101, 102, 103, 104, 105],\n",
       "  'EmpName': ['A', 'B', 'C', 'D', 'E'],\n",
       "  'City': ['Houson', 'Tempa', 'Delhi', 'Chennai', 'Panjim'],\n",
       "  'Grade': ['A', 'B', 'A', 'B', 'A'],\n",
       "  'Salary': [100, 200, 350, 230, 150]}}"
      ]
     },
     "execution_count": 34,
     "metadata": {},
     "output_type": "execute_result"
    }
   ],
   "source": [
    "dct"
   ]
  },
  {
   "cell_type": "code",
   "execution_count": 35,
   "id": "f777ffd2",
   "metadata": {},
   "outputs": [],
   "source": [
    "dct[\"Z\"] = {\"Name\" : \"Dharmendra\",\"son\" : [\"Sunny\",\"Bobby\"],\"Pet\" : [\"Cat\",\"Dog\"]}"
   ]
  },
  {
   "cell_type": "code",
   "execution_count": 36,
   "id": "f7067eba",
   "metadata": {},
   "outputs": [
    {
     "data": {
      "text/plain": [
       "{'A': (10, 20, 30, 40),\n",
       " 'D': ['Abhishek', 'Ajeet'],\n",
       " 'X': {'EmpID': [101, 102, 103, 104, 105],\n",
       "  'EmpName': ['A', 'B', 'C', 'D', 'E'],\n",
       "  'City': ['Houson', 'Tempa', 'Delhi', 'Chennai', 'Panjim'],\n",
       "  'Grade': ['A', 'B', 'A', 'B', 'A'],\n",
       "  'Salary': [100, 200, 350, 230, 150]},\n",
       " 'Z': {'Name': 'Dharmendra', 'son': ['Sunny', 'Bobby'], 'Pet': ['Cat', 'Dog']}}"
      ]
     },
     "execution_count": 36,
     "metadata": {},
     "output_type": "execute_result"
    }
   ],
   "source": [
    "dct"
   ]
  },
  {
   "cell_type": "code",
   "execution_count": 37,
   "id": "cf99147e",
   "metadata": {},
   "outputs": [
    {
     "data": {
      "text/plain": [
       "{'Name': 'Dharmendra', 'son': ['Sunny', 'Bobby'], 'Pet': ['Cat', 'Dog']}"
      ]
     },
     "execution_count": 37,
     "metadata": {},
     "output_type": "execute_result"
    }
   ],
   "source": [
    "dct[\"Z\"]"
   ]
  },
  {
   "cell_type": "code",
   "execution_count": 39,
   "id": "a588fff6",
   "metadata": {},
   "outputs": [
    {
     "ename": "KeyError",
     "evalue": "'Name'",
     "output_type": "error",
     "traceback": [
      "\u001b[1;31m---------------------------------------------------------------------------\u001b[0m",
      "\u001b[1;31mKeyError\u001b[0m                                  Traceback (most recent call last)",
      "Cell \u001b[1;32mIn[39], line 1\u001b[0m\n\u001b[1;32m----> 1\u001b[0m \u001b[43mdct\u001b[49m\u001b[43m[\u001b[49m\u001b[38;5;124;43m\"\u001b[39;49m\u001b[38;5;124;43mName\u001b[39;49m\u001b[38;5;124;43m\"\u001b[39;49m\u001b[43m]\u001b[49m\n",
      "\u001b[1;31mKeyError\u001b[0m: 'Name'"
     ]
    }
   ],
   "source": [
    "dct[\"Name\"]"
   ]
  },
  {
   "cell_type": "code",
   "execution_count": 41,
   "id": "00578d4a",
   "metadata": {},
   "outputs": [
    {
     "data": {
      "text/plain": [
       "dict_keys(['A', 'D', 'X', 'Z'])"
      ]
     },
     "execution_count": 41,
     "metadata": {},
     "output_type": "execute_result"
    }
   ],
   "source": [
    "dct.keys()"
   ]
  },
  {
   "cell_type": "code",
   "execution_count": 42,
   "id": "d16b7aa2",
   "metadata": {},
   "outputs": [],
   "source": [
    "dct.get('Name')"
   ]
  },
  {
   "cell_type": "code",
   "execution_count": 43,
   "id": "3bbdc1ab",
   "metadata": {},
   "outputs": [
    {
     "data": {
      "text/plain": [
       "{'EmpID': [101, 102, 103, 104, 105],\n",
       " 'EmpName': ['A', 'B', 'C', 'D', 'E'],\n",
       " 'City': ['Houson', 'Tempa', 'Delhi', 'Chennai', 'Panjim'],\n",
       " 'Grade': ['A', 'B', 'A', 'B', 'A'],\n",
       " 'Salary': [100, 200, 350, 230, 150]}"
      ]
     },
     "execution_count": 43,
     "metadata": {},
     "output_type": "execute_result"
    }
   ],
   "source": [
    "employeeDB"
   ]
  },
  {
   "cell_type": "code",
   "execution_count": 44,
   "id": "8f1495bc",
   "metadata": {},
   "outputs": [
    {
     "ename": "KeyError",
     "evalue": "'Address'",
     "output_type": "error",
     "traceback": [
      "\u001b[1;31m---------------------------------------------------------------------------\u001b[0m",
      "\u001b[1;31mKeyError\u001b[0m                                  Traceback (most recent call last)",
      "Cell \u001b[1;32mIn[44], line 1\u001b[0m\n\u001b[1;32m----> 1\u001b[0m \u001b[43memployeeDB\u001b[49m\u001b[43m[\u001b[49m\u001b[38;5;124;43m\"\u001b[39;49m\u001b[38;5;124;43mAddress\u001b[39;49m\u001b[38;5;124;43m\"\u001b[39;49m\u001b[43m]\u001b[49m\n",
      "\u001b[1;31mKeyError\u001b[0m: 'Address'"
     ]
    }
   ],
   "source": [
    "employeeDB[\"Address\"]"
   ]
  },
  {
   "cell_type": "code",
   "execution_count": 45,
   "id": "ad452e51",
   "metadata": {},
   "outputs": [],
   "source": [
    "employeeDB.get(\"Address\")"
   ]
  },
  {
   "cell_type": "code",
   "execution_count": 46,
   "id": "772e9548",
   "metadata": {},
   "outputs": [
    {
     "data": {
      "text/plain": [
       "['Houson', 'Tempa', 'Delhi', 'Chennai', 'Panjim']"
      ]
     },
     "execution_count": 46,
     "metadata": {},
     "output_type": "execute_result"
    }
   ],
   "source": [
    "employeeDB.get(\"City\")"
   ]
  },
  {
   "cell_type": "code",
   "execution_count": 47,
   "id": "7a75062e",
   "metadata": {},
   "outputs": [
    {
     "data": {
      "text/plain": [
       "{'EmpID': [101, 102, 103, 104, 105],\n",
       " 'EmpName': ['A', 'B', 'C', 'D', 'E'],\n",
       " 'City': ['Houson', 'Tempa', 'Delhi', 'Chennai', 'Panjim'],\n",
       " 'Grade': ['A', 'B', 'A', 'B', 'A'],\n",
       " 'Salary': [100, 200, 350, 230, 150]}"
      ]
     },
     "execution_count": 47,
     "metadata": {},
     "output_type": "execute_result"
    }
   ],
   "source": [
    "employeeDB"
   ]
  },
  {
   "cell_type": "code",
   "execution_count": 49,
   "id": "0b5a4dc2",
   "metadata": {},
   "outputs": [],
   "source": [
    "employeeDB['EmpID'].append(999)"
   ]
  },
  {
   "cell_type": "code",
   "execution_count": 50,
   "id": "86ab7949",
   "metadata": {},
   "outputs": [
    {
     "data": {
      "text/plain": [
       "{'EmpID': [101, 102, 103, 104, 105, 999],\n",
       " 'EmpName': ['A', 'B', 'C', 'D', 'E'],\n",
       " 'City': ['Houson', 'Tempa', 'Delhi', 'Chennai', 'Panjim'],\n",
       " 'Grade': ['A', 'B', 'A', 'B', 'A'],\n",
       " 'Salary': [100, 200, 350, 230, 150]}"
      ]
     },
     "execution_count": 50,
     "metadata": {},
     "output_type": "execute_result"
    }
   ],
   "source": [
    "employeeDB"
   ]
  },
  {
   "cell_type": "code",
   "execution_count": 53,
   "id": "2bb08b57",
   "metadata": {},
   "outputs": [],
   "source": [
    "employeeDB['City'][-3] = \"New Delhi\""
   ]
  },
  {
   "cell_type": "code",
   "execution_count": 54,
   "id": "ed55d67d",
   "metadata": {},
   "outputs": [
    {
     "data": {
      "text/plain": [
       "{'EmpID': [101, 102, 103, 104, 105, 999],\n",
       " 'EmpName': ['A', 'B', 'C', 'D', 'E'],\n",
       " 'City': ['Houson', 'Tempa', 'New Delhi', 'Chennai', 'Panjim'],\n",
       " 'Grade': ['A', 'B', 'A', 'B', 'A'],\n",
       " 'Salary': [100, 200, 350, 230, 150]}"
      ]
     },
     "execution_count": 54,
     "metadata": {},
     "output_type": "execute_result"
    }
   ],
   "source": [
    "employeeDB"
   ]
  },
  {
   "cell_type": "code",
   "execution_count": 55,
   "id": "3ee4160d",
   "metadata": {},
   "outputs": [
    {
     "data": {
      "text/plain": [
       "{'A': (10, 20, 30, 40),\n",
       " 'D': ['Abhishek', 'Ajeet'],\n",
       " 'X': {'EmpID': [101, 102, 103, 104, 105, 999],\n",
       "  'EmpName': ['A', 'B', 'C', 'D', 'E'],\n",
       "  'City': ['Houson', 'Tempa', 'New Delhi', 'Chennai', 'Panjim'],\n",
       "  'Grade': ['A', 'B', 'A', 'B', 'A'],\n",
       "  'Salary': [100, 200, 350, 230, 150]},\n",
       " 'Z': {'Name': 'Dharmendra', 'son': ['Sunny', 'Bobby'], 'Pet': ['Cat', 'Dog']}}"
      ]
     },
     "execution_count": 55,
     "metadata": {},
     "output_type": "execute_result"
    }
   ],
   "source": [
    "dct"
   ]
  },
  {
   "cell_type": "code",
   "execution_count": 57,
   "id": "64328d69",
   "metadata": {},
   "outputs": [
    {
     "data": {
      "text/plain": [
       "['Cat', 'Dog']"
      ]
     },
     "execution_count": 57,
     "metadata": {},
     "output_type": "execute_result"
    }
   ],
   "source": [
    "dct[\"Z\"]['Pet']"
   ]
  },
  {
   "cell_type": "code",
   "execution_count": 60,
   "id": "62adfc18",
   "metadata": {},
   "outputs": [],
   "source": [
    "dct[\"X\"][\"Salary\"] = dct[\"X\"][\"Salary\"][::-1]"
   ]
  },
  {
   "cell_type": "code",
   "execution_count": 61,
   "id": "1e57417c",
   "metadata": {},
   "outputs": [
    {
     "data": {
      "text/plain": [
       "{'A': (10, 20, 30, 40),\n",
       " 'D': ['Abhishek', 'Ajeet'],\n",
       " 'X': {'EmpID': [101, 102, 103, 104, 105, 999],\n",
       "  'EmpName': ['A', 'B', 'C', 'D', 'E'],\n",
       "  'City': ['Houson', 'Tempa', 'New Delhi', 'Chennai', 'Panjim'],\n",
       "  'Grade': ['A', 'B', 'A', 'B', 'A'],\n",
       "  'Salary': [150, 230, 350, 200, 100]},\n",
       " 'Z': {'Name': 'Dharmendra', 'son': ['Sunny', 'Bobby'], 'Pet': ['Cat', 'Dog']}}"
      ]
     },
     "execution_count": 61,
     "metadata": {},
     "output_type": "execute_result"
    }
   ],
   "source": [
    "dct"
   ]
  },
  {
   "cell_type": "markdown",
   "id": "c20d8ebb",
   "metadata": {},
   "source": [
    "### How to add a key and its values"
   ]
  },
  {
   "cell_type": "code",
   "execution_count": 62,
   "id": "1f714c2f",
   "metadata": {},
   "outputs": [],
   "source": [
    "dct[\"Address\"] = [\"Sec-11\",\"Sec-12\",\"Sec-13\"]"
   ]
  },
  {
   "cell_type": "code",
   "execution_count": 63,
   "id": "784c13ad",
   "metadata": {},
   "outputs": [
    {
     "data": {
      "text/plain": [
       "{'A': (10, 20, 30, 40),\n",
       " 'D': ['Abhishek', 'Ajeet'],\n",
       " 'X': {'EmpID': [101, 102, 103, 104, 105, 999],\n",
       "  'EmpName': ['A', 'B', 'C', 'D', 'E'],\n",
       "  'City': ['Houson', 'Tempa', 'New Delhi', 'Chennai', 'Panjim'],\n",
       "  'Grade': ['A', 'B', 'A', 'B', 'A'],\n",
       "  'Salary': [150, 230, 350, 200, 100]},\n",
       " 'Z': {'Name': 'Dharmendra', 'son': ['Sunny', 'Bobby'], 'Pet': ['Cat', 'Dog']},\n",
       " 'Address': ['Sec-11', 'Sec-12', 'Sec-13']}"
      ]
     },
     "execution_count": 63,
     "metadata": {},
     "output_type": "execute_result"
    }
   ],
   "source": [
    "dct"
   ]
  },
  {
   "cell_type": "code",
   "execution_count": 64,
   "id": "af815f02",
   "metadata": {},
   "outputs": [],
   "source": [
    "dct[\"D\"] = [\"Abhinav\",\"Aniket\",\"Ankit\"]"
   ]
  },
  {
   "cell_type": "code",
   "execution_count": 65,
   "id": "ec746657",
   "metadata": {},
   "outputs": [
    {
     "data": {
      "text/plain": [
       "{'A': (10, 20, 30, 40),\n",
       " 'D': ['Abhinav', 'Aniket', 'Ankit'],\n",
       " 'X': {'EmpID': [101, 102, 103, 104, 105, 999],\n",
       "  'EmpName': ['A', 'B', 'C', 'D', 'E'],\n",
       "  'City': ['Houson', 'Tempa', 'New Delhi', 'Chennai', 'Panjim'],\n",
       "  'Grade': ['A', 'B', 'A', 'B', 'A'],\n",
       "  'Salary': [150, 230, 350, 200, 100]},\n",
       " 'Z': {'Name': 'Dharmendra', 'son': ['Sunny', 'Bobby'], 'Pet': ['Cat', 'Dog']},\n",
       " 'Address': ['Sec-11', 'Sec-12', 'Sec-13']}"
      ]
     },
     "execution_count": 65,
     "metadata": {},
     "output_type": "execute_result"
    }
   ],
   "source": [
    "dct"
   ]
  },
  {
   "cell_type": "code",
   "execution_count": 71,
   "id": "f59e9c1b",
   "metadata": {},
   "outputs": [],
   "source": [
    "d = {1:12,2:22,3:30,4:40,5:\"A\",2:200} # latest key value will be consider"
   ]
  },
  {
   "cell_type": "code",
   "execution_count": 72,
   "id": "6b4f0156",
   "metadata": {},
   "outputs": [],
   "source": [
    "m = {1:100,2:20,\"A\":[1,2],\"C\":20}"
   ]
  },
  {
   "cell_type": "code",
   "execution_count": 73,
   "id": "59d37975",
   "metadata": {},
   "outputs": [
    {
     "data": {
      "text/plain": [
       "{1: 12, 2: 200, 3: 30, 4: 40, 5: 'A'}"
      ]
     },
     "execution_count": 73,
     "metadata": {},
     "output_type": "execute_result"
    }
   ],
   "source": [
    "d"
   ]
  },
  {
   "cell_type": "code",
   "execution_count": 74,
   "id": "0a8585d8",
   "metadata": {},
   "outputs": [
    {
     "data": {
      "text/plain": [
       "{1: 100, 2: 20, 'A': [1, 2], 'C': 20}"
      ]
     },
     "execution_count": 74,
     "metadata": {},
     "output_type": "execute_result"
    }
   ],
   "source": [
    "m"
   ]
  },
  {
   "cell_type": "markdown",
   "id": "fc27f459",
   "metadata": {},
   "source": [
    "### Update Function"
   ]
  },
  {
   "cell_type": "code",
   "execution_count": 75,
   "id": "2141e2e6",
   "metadata": {},
   "outputs": [
    {
     "data": {
      "text/plain": [
       "{1: 12, 2: 200, 3: 30, 4: 40, 5: 'A'}"
      ]
     },
     "execution_count": 75,
     "metadata": {},
     "output_type": "execute_result"
    }
   ],
   "source": [
    "d"
   ]
  },
  {
   "cell_type": "code",
   "execution_count": 76,
   "id": "76138937",
   "metadata": {},
   "outputs": [],
   "source": [
    "d.update({1:100,4:4000})"
   ]
  },
  {
   "cell_type": "code",
   "execution_count": 77,
   "id": "d3b5debf",
   "metadata": {},
   "outputs": [
    {
     "data": {
      "text/plain": [
       "{1: 100, 2: 200, 3: 30, 4: 4000, 5: 'A'}"
      ]
     },
     "execution_count": 77,
     "metadata": {},
     "output_type": "execute_result"
    }
   ],
   "source": [
    "d"
   ]
  },
  {
   "cell_type": "code",
   "execution_count": 79,
   "id": "960bc821",
   "metadata": {},
   "outputs": [],
   "source": [
    "d.update({100:1000})"
   ]
  },
  {
   "cell_type": "code",
   "execution_count": 80,
   "id": "5d17b5df",
   "metadata": {},
   "outputs": [
    {
     "data": {
      "text/plain": [
       "{1: 100, 2: 200, 3: 30, 4: 4000, 5: 'A', 100: 1000}"
      ]
     },
     "execution_count": 80,
     "metadata": {},
     "output_type": "execute_result"
    }
   ],
   "source": [
    "d"
   ]
  },
  {
   "cell_type": "code",
   "execution_count": 82,
   "id": "6219fe4c",
   "metadata": {},
   "outputs": [],
   "source": [
    "d.update({1:200})"
   ]
  },
  {
   "cell_type": "code",
   "execution_count": 83,
   "id": "628a7b7b",
   "metadata": {},
   "outputs": [
    {
     "data": {
      "text/plain": [
       "{1: 200, 2: 200, 3: 30, 4: 4000, 5: 'A', 100: 1000}"
      ]
     },
     "execution_count": 83,
     "metadata": {},
     "output_type": "execute_result"
    }
   ],
   "source": [
    "d"
   ]
  },
  {
   "cell_type": "code",
   "execution_count": 84,
   "id": "d1c340be",
   "metadata": {},
   "outputs": [
    {
     "data": {
      "text/plain": [
       "{'EmpID': [101, 102, 103, 104, 105, 999],\n",
       " 'EmpName': ['A', 'B', 'C', 'D', 'E'],\n",
       " 'City': ['Houson', 'Tempa', 'New Delhi', 'Chennai', 'Panjim'],\n",
       " 'Grade': ['A', 'B', 'A', 'B', 'A'],\n",
       " 'Salary': [150, 230, 350, 200, 100]}"
      ]
     },
     "execution_count": 84,
     "metadata": {},
     "output_type": "execute_result"
    }
   ],
   "source": [
    "employeeDB"
   ]
  },
  {
   "cell_type": "markdown",
   "id": "6624e3dc",
   "metadata": {},
   "source": [
    "* Number : Immutable\n",
    "* Strings : Immutable\n",
    "* Tuple : Immutable"
   ]
  },
  {
   "cell_type": "code",
   "execution_count": 86,
   "id": "84e7735b",
   "metadata": {},
   "outputs": [
    {
     "ename": "TypeError",
     "evalue": "unhashable type: 'list'",
     "output_type": "error",
     "traceback": [
      "\u001b[1;31m---------------------------------------------------------------------------\u001b[0m",
      "\u001b[1;31mTypeError\u001b[0m                                 Traceback (most recent call last)",
      "Cell \u001b[1;32mIn[86], line 1\u001b[0m\n\u001b[1;32m----> 1\u001b[0m dct \u001b[38;5;241m=\u001b[39m {\u001b[38;5;124m\"\u001b[39m\u001b[38;5;124ma\u001b[39m\u001b[38;5;124m\"\u001b[39m : \u001b[38;5;241m100\u001b[39m, [\u001b[38;5;241m10\u001b[39m,\u001b[38;5;241m20\u001b[39m] : \u001b[38;5;241m10\u001b[39m}\n",
      "\u001b[1;31mTypeError\u001b[0m: unhashable type: 'list'"
     ]
    }
   ],
   "source": [
    "dct = {\"a\" : 100, [10,20] : 10}"
   ]
  },
  {
   "cell_type": "code",
   "execution_count": 87,
   "id": "852ac96d",
   "metadata": {},
   "outputs": [],
   "source": [
    "dct = {\"a\" : 100, (10,20) : 10}"
   ]
  },
  {
   "cell_type": "code",
   "execution_count": 93,
   "id": "d740b8fe",
   "metadata": {},
   "outputs": [
    {
     "data": {
      "text/plain": [
       "10"
      ]
     },
     "execution_count": 93,
     "metadata": {},
     "output_type": "execute_result"
    }
   ],
   "source": [
    "dct[(10,20)]"
   ]
  },
  {
   "cell_type": "markdown",
   "id": "bce9d55d",
   "metadata": {},
   "source": [
    "### fromkeys"
   ]
  },
  {
   "cell_type": "markdown",
   "id": "ac8e4a57",
   "metadata": {},
   "source": [
    "Using fromkey we can create a dictionary very quickly."
   ]
  },
  {
   "cell_type": "code",
   "execution_count": 92,
   "id": "cdb1466e",
   "metadata": {},
   "outputs": [
    {
     "data": {
      "text/plain": [
       "{1: 200, 2: 200, 3: 30, 4: 4000, 5: 'A', 100: 1000}"
      ]
     },
     "execution_count": 92,
     "metadata": {},
     "output_type": "execute_result"
    }
   ],
   "source": [
    "d"
   ]
  },
  {
   "cell_type": "code",
   "execution_count": 94,
   "id": "35e1fa7a",
   "metadata": {},
   "outputs": [],
   "source": [
    "lst = [\"Abhishek\",\"Eric\",\"Corey\",\"Lucas\",\"Modi\"]"
   ]
  },
  {
   "cell_type": "code",
   "execution_count": 95,
   "id": "ad2b35f1",
   "metadata": {},
   "outputs": [
    {
     "data": {
      "text/plain": [
       "{'Abhishek': None, 'Eric': None, 'Corey': None, 'Lucas': None, 'Modi': None}"
      ]
     },
     "execution_count": 95,
     "metadata": {},
     "output_type": "execute_result"
    }
   ],
   "source": [
    "dict.fromkeys(lst)"
   ]
  },
  {
   "cell_type": "code",
   "execution_count": 96,
   "id": "694addfa",
   "metadata": {},
   "outputs": [
    {
     "data": {
      "text/plain": [
       "{'Abhishek': 10, 'Eric': 10, 'Corey': 10, 'Lucas': 10, 'Modi': 10}"
      ]
     },
     "execution_count": 96,
     "metadata": {},
     "output_type": "execute_result"
    }
   ],
   "source": [
    "dict.fromkeys(lst,10)"
   ]
  },
  {
   "cell_type": "markdown",
   "id": "eadc08f4",
   "metadata": {},
   "source": [
    "### SetDefault\n",
    "\n",
    "If you want to create a key but you are not sure about the its values then you can use setdefault."
   ]
  },
  {
   "cell_type": "code",
   "execution_count": 97,
   "id": "60b4030b",
   "metadata": {},
   "outputs": [
    {
     "data": {
      "text/plain": [
       "{1: 200, 2: 200, 3: 30, 4: 4000, 5: 'A', 100: 1000}"
      ]
     },
     "execution_count": 97,
     "metadata": {},
     "output_type": "execute_result"
    }
   ],
   "source": [
    "d"
   ]
  },
  {
   "cell_type": "code",
   "execution_count": 98,
   "id": "2bb9af87",
   "metadata": {},
   "outputs": [],
   "source": [
    "d.setdefault('PAN')"
   ]
  },
  {
   "cell_type": "code",
   "execution_count": 99,
   "id": "f8ac505d",
   "metadata": {},
   "outputs": [
    {
     "data": {
      "text/plain": [
       "{1: 200, 2: 200, 3: 30, 4: 4000, 5: 'A', 100: 1000, 'PAN': None}"
      ]
     },
     "execution_count": 99,
     "metadata": {},
     "output_type": "execute_result"
    }
   ],
   "source": [
    "d"
   ]
  },
  {
   "cell_type": "code",
   "execution_count": 100,
   "id": "fd5921e8",
   "metadata": {},
   "outputs": [
    {
     "data": {
      "text/plain": [
       "'AAA-DDD'"
      ]
     },
     "execution_count": 100,
     "metadata": {},
     "output_type": "execute_result"
    }
   ],
   "source": [
    "d.setdefault(\"EmpID\",\"AAA-DDD\")"
   ]
  },
  {
   "cell_type": "code",
   "execution_count": 101,
   "id": "2a6f80e8",
   "metadata": {},
   "outputs": [
    {
     "data": {
      "text/plain": [
       "{1: 200,\n",
       " 2: 200,\n",
       " 3: 30,\n",
       " 4: 4000,\n",
       " 5: 'A',\n",
       " 100: 1000,\n",
       " 'PAN': None,\n",
       " 'EmpID': 'AAA-DDD'}"
      ]
     },
     "execution_count": 101,
     "metadata": {},
     "output_type": "execute_result"
    }
   ],
   "source": [
    "d"
   ]
  },
  {
   "cell_type": "code",
   "execution_count": 102,
   "id": "3f832137",
   "metadata": {},
   "outputs": [
    {
     "data": {
      "text/plain": [
       "'+91 xxxx-xxxx-xx'"
      ]
     },
     "execution_count": 102,
     "metadata": {},
     "output_type": "execute_result"
    }
   ],
   "source": [
    "d.setdefault('Mobile',\"+91 xxxx-xxxx-xx\")"
   ]
  },
  {
   "cell_type": "code",
   "execution_count": 103,
   "id": "5b1ac93f",
   "metadata": {},
   "outputs": [
    {
     "name": "stdout",
     "output_type": "stream",
     "text": [
      "{1: 200, 2: 200, 3: 30, 4: 4000, 5: 'A', 100: 1000, 'PAN': None, 'EmpID': 'AAA-DDD', 'Mobile': '+91 xxxx-xxxx-xx'}\n"
     ]
    }
   ],
   "source": [
    "print(d)"
   ]
  },
  {
   "cell_type": "code",
   "execution_count": 104,
   "id": "a0265eb4",
   "metadata": {},
   "outputs": [
    {
     "data": {
      "text/plain": [
       "{'EmpID': [101, 102, 103, 104, 105, 999],\n",
       " 'EmpName': ['A', 'B', 'C', 'D', 'E'],\n",
       " 'City': ['Houson', 'Tempa', 'New Delhi', 'Chennai', 'Panjim'],\n",
       " 'Grade': ['A', 'B', 'A', 'B', 'A'],\n",
       " 'Salary': [150, 230, 350, 200, 100]}"
      ]
     },
     "execution_count": 104,
     "metadata": {},
     "output_type": "execute_result"
    }
   ],
   "source": [
    "employeeDB"
   ]
  },
  {
   "cell_type": "markdown",
   "id": "51c4a8a7",
   "metadata": {},
   "source": [
    "### Dictionary Pop\n",
    "\n",
    "using pop method we can remove a key and its value, if key is not the part of your dictionary then raise an error."
   ]
  },
  {
   "cell_type": "code",
   "execution_count": 105,
   "id": "dad552af",
   "metadata": {},
   "outputs": [],
   "source": [
    "employeeDB.pop?"
   ]
  },
  {
   "cell_type": "code",
   "execution_count": 106,
   "id": "0f520eac",
   "metadata": {},
   "outputs": [
    {
     "data": {
      "text/plain": [
       "['Houson', 'Tempa', 'New Delhi', 'Chennai', 'Panjim']"
      ]
     },
     "execution_count": 106,
     "metadata": {},
     "output_type": "execute_result"
    }
   ],
   "source": [
    "employeeDB.pop(\"City\")"
   ]
  },
  {
   "cell_type": "code",
   "execution_count": 107,
   "id": "0ffe6240",
   "metadata": {},
   "outputs": [
    {
     "data": {
      "text/plain": [
       "{'EmpID': [101, 102, 103, 104, 105, 999],\n",
       " 'EmpName': ['A', 'B', 'C', 'D', 'E'],\n",
       " 'Grade': ['A', 'B', 'A', 'B', 'A'],\n",
       " 'Salary': [150, 230, 350, 200, 100]}"
      ]
     },
     "execution_count": 107,
     "metadata": {},
     "output_type": "execute_result"
    }
   ],
   "source": [
    "employeeDB"
   ]
  },
  {
   "cell_type": "code",
   "execution_count": 108,
   "id": "4306df41",
   "metadata": {},
   "outputs": [
    {
     "ename": "KeyError",
     "evalue": "'College'",
     "output_type": "error",
     "traceback": [
      "\u001b[1;31m---------------------------------------------------------------------------\u001b[0m",
      "\u001b[1;31mKeyError\u001b[0m                                  Traceback (most recent call last)",
      "Cell \u001b[1;32mIn[108], line 1\u001b[0m\n\u001b[1;32m----> 1\u001b[0m \u001b[43memployeeDB\u001b[49m\u001b[38;5;241;43m.\u001b[39;49m\u001b[43mpop\u001b[49m\u001b[43m(\u001b[49m\u001b[38;5;124;43m\"\u001b[39;49m\u001b[38;5;124;43mCollege\u001b[39;49m\u001b[38;5;124;43m\"\u001b[39;49m\u001b[43m)\u001b[49m\n",
      "\u001b[1;31mKeyError\u001b[0m: 'College'"
     ]
    }
   ],
   "source": [
    "employeeDB.pop(\"College\")"
   ]
  },
  {
   "cell_type": "code",
   "execution_count": 109,
   "id": "6add290e",
   "metadata": {},
   "outputs": [
    {
     "data": {
      "text/plain": [
       "{'a': 100, (10, 20): 10}"
      ]
     },
     "execution_count": 109,
     "metadata": {},
     "output_type": "execute_result"
    }
   ],
   "source": [
    "dct"
   ]
  },
  {
   "cell_type": "code",
   "execution_count": 110,
   "id": "2e8187d7",
   "metadata": {},
   "outputs": [
    {
     "data": {
      "text/plain": [
       "{1: 200,\n",
       " 2: 200,\n",
       " 3: 30,\n",
       " 4: 4000,\n",
       " 5: 'A',\n",
       " 100: 1000,\n",
       " 'PAN': None,\n",
       " 'EmpID': 'AAA-DDD',\n",
       " 'Mobile': '+91 xxxx-xxxx-xx'}"
      ]
     },
     "execution_count": 110,
     "metadata": {},
     "output_type": "execute_result"
    }
   ],
   "source": [
    "d"
   ]
  },
  {
   "cell_type": "markdown",
   "id": "c2faefb7",
   "metadata": {},
   "source": [
    "### Dictonary popitem : LIFO (Last In First Out)\n",
    "\n",
    "This function works based on LIFO and return an output in the form tuple, first element will be your key and 2nd element will be your key's values."
   ]
  },
  {
   "cell_type": "code",
   "execution_count": 111,
   "id": "92c664e4",
   "metadata": {},
   "outputs": [
    {
     "data": {
      "text/plain": [
       "('Mobile', '+91 xxxx-xxxx-xx')"
      ]
     },
     "execution_count": 111,
     "metadata": {},
     "output_type": "execute_result"
    }
   ],
   "source": [
    "d.popitem() "
   ]
  },
  {
   "cell_type": "code",
   "execution_count": 112,
   "id": "78635341",
   "metadata": {},
   "outputs": [
    {
     "data": {
      "text/plain": [
       "{1: 200,\n",
       " 2: 200,\n",
       " 3: 30,\n",
       " 4: 4000,\n",
       " 5: 'A',\n",
       " 100: 1000,\n",
       " 'PAN': None,\n",
       " 'EmpID': 'AAA-DDD'}"
      ]
     },
     "execution_count": 112,
     "metadata": {},
     "output_type": "execute_result"
    }
   ],
   "source": [
    "d"
   ]
  },
  {
   "cell_type": "code",
   "execution_count": 113,
   "id": "6708f312",
   "metadata": {},
   "outputs": [
    {
     "data": {
      "text/plain": [
       "('EmpID', 'AAA-DDD')"
      ]
     },
     "execution_count": 113,
     "metadata": {},
     "output_type": "execute_result"
    }
   ],
   "source": [
    "d.popitem()"
   ]
  },
  {
   "cell_type": "code",
   "execution_count": 114,
   "id": "e878f851",
   "metadata": {},
   "outputs": [
    {
     "data": {
      "text/plain": [
       "{1: 200, 2: 200, 3: 30, 4: 4000, 5: 'A', 100: 1000, 'PAN': None}"
      ]
     },
     "execution_count": 114,
     "metadata": {},
     "output_type": "execute_result"
    }
   ],
   "source": [
    "d"
   ]
  },
  {
   "cell_type": "code",
   "execution_count": 115,
   "id": "21b62090",
   "metadata": {},
   "outputs": [
    {
     "data": {
      "text/plain": [
       "('PAN', None)"
      ]
     },
     "execution_count": 115,
     "metadata": {},
     "output_type": "execute_result"
    }
   ],
   "source": [
    "d.popitem()"
   ]
  },
  {
   "cell_type": "code",
   "execution_count": 116,
   "id": "4c5c47f5",
   "metadata": {},
   "outputs": [
    {
     "data": {
      "text/plain": [
       "(100, 1000)"
      ]
     },
     "execution_count": 116,
     "metadata": {},
     "output_type": "execute_result"
    }
   ],
   "source": [
    "d.popitem()"
   ]
  },
  {
   "cell_type": "code",
   "execution_count": 117,
   "id": "97ef8acf",
   "metadata": {},
   "outputs": [
    {
     "data": {
      "text/plain": [
       "{1: 200, 2: 200, 3: 30, 4: 4000, 5: 'A'}"
      ]
     },
     "execution_count": 117,
     "metadata": {},
     "output_type": "execute_result"
    }
   ],
   "source": [
    "d"
   ]
  },
  {
   "cell_type": "code",
   "execution_count": 119,
   "id": "bd3ba437",
   "metadata": {},
   "outputs": [
    {
     "name": "stdout",
     "output_type": "stream",
     "text": [
      "All Functions from Dictionary:  ['clear', 'copy', 'fromkeys', 'get', 'items', 'keys', 'pop', 'popitem', 'setdefault', 'update', 'values']\n",
      "\n",
      "All Functions from list:  ['append', 'clear', 'copy', 'count', 'extend', 'index', 'insert', 'pop', 'remove', 'reverse', 'sort']\n",
      "\n",
      "All Functions from tuple:  ['count', 'index']\n",
      "\n",
      "All Functions from set:  ['add', 'clear', 'copy', 'difference', 'difference_update', 'discard', 'intersection', 'intersection_update', 'isdisjoint', 'issubset', 'issuperset', 'pop', 'remove', 'symmetric_difference', 'symmetric_difference_update', 'union', 'update']\n"
     ]
    }
   ],
   "source": [
    "print(\"All Functions from Dictionary: \",[i for i in dir(dict) if \"__\" not in i])\n",
    "print()\n",
    "print(\"All Functions from list: \",[i for i in dir(list) if \"__\" not in i])\n",
    "print()\n",
    "print(\"All Functions from tuple: \",[i for i in dir(tuple) if \"__\" not in i])\n",
    "print()\n",
    "print(\"All Functions from set: \",[i for i in dir(set) if \"__\" not in i])"
   ]
  },
  {
   "cell_type": "code",
   "execution_count": null,
   "id": "bc7c7746",
   "metadata": {},
   "outputs": [],
   "source": []
  }
 ],
 "metadata": {
  "kernelspec": {
   "display_name": "Python 3 (ipykernel)",
   "language": "python",
   "name": "python3"
  },
  "language_info": {
   "codemirror_mode": {
    "name": "ipython",
    "version": 3
   },
   "file_extension": ".py",
   "mimetype": "text/x-python",
   "name": "python",
   "nbconvert_exporter": "python",
   "pygments_lexer": "ipython3",
   "version": "3.11.2"
  }
 },
 "nbformat": 4,
 "nbformat_minor": 5
}
