{
 "cells": [
  {
   "cell_type": "markdown",
   "id": "b32069fc",
   "metadata": {},
   "source": [
    "### Anonymous _ Lambda Function with Map - Filter - Reduce"
   ]
  },
  {
   "cell_type": "code",
   "execution_count": 1,
   "id": "ab7cd1ef",
   "metadata": {},
   "outputs": [],
   "source": [
    "def get_sum(a,b):\n",
    "    return a + b"
   ]
  },
  {
   "cell_type": "code",
   "execution_count": 2,
   "id": "3a004430",
   "metadata": {},
   "outputs": [
    {
     "data": {
      "text/plain": [
       "22"
      ]
     },
     "execution_count": 2,
     "metadata": {},
     "output_type": "execute_result"
    }
   ],
   "source": [
    "get_sum(10,12)"
   ]
  },
  {
   "cell_type": "markdown",
   "id": "e93b0ed1",
   "metadata": {},
   "source": [
    "### Lambda Function\n",
    "\n",
    "lambda argument(s) : expression"
   ]
  },
  {
   "cell_type": "code",
   "execution_count": 3,
   "id": "b9f9ebdd",
   "metadata": {},
   "outputs": [
    {
     "data": {
      "text/plain": [
       "<function __main__.<lambda>(arguments)>"
      ]
     },
     "execution_count": 3,
     "metadata": {},
     "output_type": "execute_result"
    }
   ],
   "source": [
    "lambda arguments : expression # single expression only"
   ]
  },
  {
   "cell_type": "code",
   "execution_count": 4,
   "id": "c52b72af",
   "metadata": {},
   "outputs": [],
   "source": [
    "result = lambda a, b : a + b"
   ]
  },
  {
   "cell_type": "code",
   "execution_count": 5,
   "id": "8322e860",
   "metadata": {},
   "outputs": [
    {
     "data": {
      "text/plain": [
       "22"
      ]
     },
     "execution_count": 5,
     "metadata": {},
     "output_type": "execute_result"
    }
   ],
   "source": [
    "result(10,12)"
   ]
  },
  {
   "cell_type": "code",
   "execution_count": 6,
   "id": "0781dea8",
   "metadata": {},
   "outputs": [],
   "source": [
    "def get_square(n):\n",
    "    return n * n"
   ]
  },
  {
   "cell_type": "code",
   "execution_count": 7,
   "id": "5142156c",
   "metadata": {},
   "outputs": [
    {
     "data": {
      "text/plain": [
       "121"
      ]
     },
     "execution_count": 7,
     "metadata": {},
     "output_type": "execute_result"
    }
   ],
   "source": [
    "get_square(11)"
   ]
  },
  {
   "cell_type": "code",
   "execution_count": 8,
   "id": "c3ab6925",
   "metadata": {},
   "outputs": [],
   "source": [
    "result = lambda n : n * n"
   ]
  },
  {
   "cell_type": "code",
   "execution_count": 9,
   "id": "d4d61cc4",
   "metadata": {},
   "outputs": [
    {
     "data": {
      "text/plain": [
       "121"
      ]
     },
     "execution_count": 9,
     "metadata": {},
     "output_type": "execute_result"
    }
   ],
   "source": [
    "result(11)"
   ]
  },
  {
   "cell_type": "markdown",
   "id": "aba76ddf",
   "metadata": {},
   "source": [
    "### Python Map Function\n",
    "\n",
    "Map function takes another function as a parameter alongwith a sequence of iterables and it will return each item from the iterables one by one to the map function.\n",
    "\n",
    "Map Function will take 2 inputs:\n",
    "\n",
    "* Function\n",
    "* Iterable(s)"
   ]
  },
  {
   "cell_type": "code",
   "execution_count": 10,
   "id": "859446b9",
   "metadata": {},
   "outputs": [
    {
     "data": {
      "text/plain": [
       "100"
      ]
     },
     "execution_count": 10,
     "metadata": {},
     "output_type": "execute_result"
    }
   ],
   "source": [
    "get_square(10)"
   ]
  },
  {
   "cell_type": "code",
   "execution_count": 11,
   "id": "bf64c011",
   "metadata": {},
   "outputs": [
    {
     "name": "stdout",
     "output_type": "stream",
     "text": [
      "25 49 64 81 144 400 9 49 "
     ]
    }
   ],
   "source": [
    "lst = [5,7,8,9,12,20,3,7]\n",
    "for num in lst:\n",
    "    print(get_square(num), end = \" \")"
   ]
  },
  {
   "cell_type": "code",
   "execution_count": 12,
   "id": "f8183e7f",
   "metadata": {},
   "outputs": [
    {
     "data": {
      "text/plain": [
       "<map at 0x21bacd8b4c0>"
      ]
     },
     "execution_count": 12,
     "metadata": {},
     "output_type": "execute_result"
    }
   ],
   "source": [
    "map(get_square, lst)"
   ]
  },
  {
   "cell_type": "code",
   "execution_count": 13,
   "id": "8fb9c1d6",
   "metadata": {},
   "outputs": [
    {
     "data": {
      "text/plain": [
       "[25, 49, 64, 81, 144, 400, 9, 49]"
      ]
     },
     "execution_count": 13,
     "metadata": {},
     "output_type": "execute_result"
    }
   ],
   "source": [
    "list(map(get_square, lst))"
   ]
  },
  {
   "cell_type": "code",
   "execution_count": 14,
   "id": "e4060039",
   "metadata": {},
   "outputs": [
    {
     "name": "stdout",
     "output_type": "stream",
     "text": [
      "25 49 64 81 144 400 9 49 "
     ]
    }
   ],
   "source": [
    "for number in map(get_square, lst):\n",
    "    print(number, end = \" \")"
   ]
  },
  {
   "cell_type": "code",
   "execution_count": 89,
   "id": "57529b85",
   "metadata": {},
   "outputs": [
    {
     "data": {
      "text/plain": [
       "[1, 4, 9, 16, 25, 121]"
      ]
     },
     "execution_count": 89,
     "metadata": {},
     "output_type": "execute_result"
    }
   ],
   "source": [
    "list(map(lambda x : x*x, [1,2,3,4,5,11]))"
   ]
  },
  {
   "cell_type": "code",
   "execution_count": 15,
   "id": "f1b713f8",
   "metadata": {},
   "outputs": [],
   "source": [
    "lstofName = [\"Agyeman\",\"Abhishek\",\"Sriraja\",\"Akash\",\"Modi\",\"Nidhi\",\"Ananye\"]"
   ]
  },
  {
   "cell_type": "code",
   "execution_count": 16,
   "id": "ad8a780c",
   "metadata": {},
   "outputs": [
    {
     "data": {
      "text/plain": [
       "[7, 8, 7, 5, 4, 5, 6]"
      ]
     },
     "execution_count": 16,
     "metadata": {},
     "output_type": "execute_result"
    }
   ],
   "source": [
    "list(map(len,lstofName))"
   ]
  },
  {
   "cell_type": "code",
   "execution_count": null,
   "id": "75109c2c",
   "metadata": {},
   "outputs": [],
   "source": [
    "# map(function(userDefinedFunction|Built-inFunction, Iterables))"
   ]
  },
  {
   "cell_type": "code",
   "execution_count": 17,
   "id": "b6ecd434",
   "metadata": {},
   "outputs": [],
   "source": [
    "lst1 = [1,2,3,5,8,12]\n",
    "lst2 = [3,4,5,6,7,10]"
   ]
  },
  {
   "cell_type": "code",
   "execution_count": 18,
   "id": "69d9cfca",
   "metadata": {},
   "outputs": [
    {
     "data": {
      "text/plain": [
       "[4, 6, 8, 11, 15, 22]"
      ]
     },
     "execution_count": 18,
     "metadata": {},
     "output_type": "execute_result"
    }
   ],
   "source": [
    "list(map(lambda x,y : x + y,lst1,lst2))"
   ]
  },
  {
   "cell_type": "code",
   "execution_count": 19,
   "id": "6b185c7e",
   "metadata": {},
   "outputs": [
    {
     "data": {
      "text/plain": [
       "[2, 4, 6, 10, 16, 24]"
      ]
     },
     "execution_count": 19,
     "metadata": {},
     "output_type": "execute_result"
    }
   ],
   "source": [
    "list(map(lambda x,y : x + x,lst1,lst2))"
   ]
  },
  {
   "cell_type": "code",
   "execution_count": 20,
   "id": "747b3e3a",
   "metadata": {},
   "outputs": [
    {
     "data": {
      "text/plain": [
       "[3, 8, 15, 30, 56, 120]"
      ]
     },
     "execution_count": 20,
     "metadata": {},
     "output_type": "execute_result"
    }
   ],
   "source": [
    "list(map(lambda x,y : x * y,lst1,lst2))"
   ]
  },
  {
   "cell_type": "code",
   "execution_count": 21,
   "id": "7d1a7cf7",
   "metadata": {},
   "outputs": [],
   "source": [
    "lst3 = [10,2,4,5]"
   ]
  },
  {
   "cell_type": "code",
   "execution_count": 23,
   "id": "c5ab5cc1",
   "metadata": {},
   "outputs": [
    {
     "data": {
      "text/plain": [
       "[1, 2, 3, 5, 8, 12]"
      ]
     },
     "execution_count": 23,
     "metadata": {},
     "output_type": "execute_result"
    }
   ],
   "source": [
    "lst1"
   ]
  },
  {
   "cell_type": "code",
   "execution_count": 24,
   "id": "9d88cd18",
   "metadata": {},
   "outputs": [
    {
     "data": {
      "text/plain": [
       "[3, 4, 5, 6, 7, 10]"
      ]
     },
     "execution_count": 24,
     "metadata": {},
     "output_type": "execute_result"
    }
   ],
   "source": [
    "lst2"
   ]
  },
  {
   "cell_type": "code",
   "execution_count": 25,
   "id": "d364283b",
   "metadata": {},
   "outputs": [
    {
     "data": {
      "text/plain": [
       "[14, 8, 12, 16]"
      ]
     },
     "execution_count": 25,
     "metadata": {},
     "output_type": "execute_result"
    }
   ],
   "source": [
    "list(map(lambda x,y,z : x + y + z,lst1,lst2,lst3)) # based on shortest iterable"
   ]
  },
  {
   "cell_type": "code",
   "execution_count": 26,
   "id": "5b72e9d5",
   "metadata": {},
   "outputs": [],
   "source": [
    "lstOfString = \"I hope you guys are doing practice on daily basis\""
   ]
  },
  {
   "cell_type": "code",
   "execution_count": 28,
   "id": "f15d393e",
   "metadata": {},
   "outputs": [
    {
     "data": {
      "text/plain": [
       "[1, 4, 3, 4, 3, 5, 8, 2, 5, 5]"
      ]
     },
     "execution_count": 28,
     "metadata": {},
     "output_type": "execute_result"
    }
   ],
   "source": [
    "list(map(lambda x : len(x), lstOfString.split()))"
   ]
  },
  {
   "cell_type": "markdown",
   "id": "d76da8bb",
   "metadata": {},
   "source": [
    "### Python Filter Function \n",
    "\n",
    "Using this we can filter the data based on criteria.\n",
    "\n",
    "This function also takes two input like Map:\n",
    "\n",
    "* Function or None\n",
    "* Iterable(s)"
   ]
  },
  {
   "cell_type": "code",
   "execution_count": 31,
   "id": "31d5d720",
   "metadata": {},
   "outputs": [],
   "source": [
    "lst = [1, 4, 3, 4, 3, 5, 8, 2, 5, 5,12,45,67,89,36]"
   ]
  },
  {
   "cell_type": "code",
   "execution_count": 36,
   "id": "923f4bcb",
   "metadata": {},
   "outputs": [],
   "source": [
    "def getEven(n):\n",
    "    if n % 2 == 0:\n",
    "        return n"
   ]
  },
  {
   "cell_type": "code",
   "execution_count": 37,
   "id": "fe0a3f8e",
   "metadata": {},
   "outputs": [
    {
     "data": {
      "text/plain": [
       "<filter at 0x21bac885cc0>"
      ]
     },
     "execution_count": 37,
     "metadata": {},
     "output_type": "execute_result"
    }
   ],
   "source": [
    "filter(getEven,lst)"
   ]
  },
  {
   "cell_type": "code",
   "execution_count": 38,
   "id": "c03f56c7",
   "metadata": {},
   "outputs": [
    {
     "data": {
      "text/plain": [
       "[4, 4, 8, 2, 12, 36]"
      ]
     },
     "execution_count": 38,
     "metadata": {},
     "output_type": "execute_result"
    }
   ],
   "source": [
    "list(filter(getEven,lst))"
   ]
  },
  {
   "cell_type": "code",
   "execution_count": 40,
   "id": "2687de35",
   "metadata": {},
   "outputs": [
    {
     "data": {
      "text/plain": [
       "[4, 4, 8, 2, 12, 36]"
      ]
     },
     "execution_count": 40,
     "metadata": {},
     "output_type": "execute_result"
    }
   ],
   "source": [
    "list(filter(lambda n : n % 2 == 0, lst))"
   ]
  },
  {
   "cell_type": "code",
   "execution_count": 41,
   "id": "4c764e49",
   "metadata": {},
   "outputs": [],
   "source": [
    "import random\n",
    "lstOfNumber = []\n",
    "for i in range(50):\n",
    "    lstOfNumber.append(random.randint(1,150))"
   ]
  },
  {
   "cell_type": "code",
   "execution_count": 42,
   "id": "5798a2c3",
   "metadata": {},
   "outputs": [
    {
     "name": "stdout",
     "output_type": "stream",
     "text": [
      "[103, 120, 47, 71, 98, 17, 59, 131, 98, 74, 63, 139, 61, 47, 108, 92, 70, 6, 18, 41, 127, 38, 73, 43, 60, 120, 69, 44, 50, 125, 33, 7, 107, 18, 134, 110, 16, 68, 114, 145, 99, 96, 21, 117, 142, 70, 100, 129, 59, 72]\n"
     ]
    }
   ],
   "source": [
    "print(lstOfNumber)"
   ]
  },
  {
   "cell_type": "code",
   "execution_count": 43,
   "id": "0445ea9c",
   "metadata": {},
   "outputs": [],
   "source": [
    "# Can you filter the number between 50 - 80"
   ]
  },
  {
   "cell_type": "code",
   "execution_count": 44,
   "id": "5e32c3c2",
   "metadata": {},
   "outputs": [
    {
     "data": {
      "text/plain": [
       "[71, 59, 74, 63, 61, 70, 73, 60, 69, 50, 68, 70, 59, 72]"
      ]
     },
     "execution_count": 44,
     "metadata": {},
     "output_type": "execute_result"
    }
   ],
   "source": [
    "list(filter(lambda x : x >= 50 and x <= 80, lstOfNumber))"
   ]
  },
  {
   "cell_type": "code",
   "execution_count": 46,
   "id": "4b6eeb6c",
   "metadata": {},
   "outputs": [
    {
     "name": "stdout",
     "output_type": "stream",
     "text": [
      "[False, False, False, True, False, False, True, False, False, True, True, False, True, False, False, False, True, False, False, False, False, False, True, False, True, False, True, False, True, False, False, False, False, False, False, False, False, True, False, False, False, False, False, False, False, True, False, False, True, True]\n"
     ]
    }
   ],
   "source": [
    "print(list(map(lambda x : x >= 50 and x <= 80, lstOfNumber)))"
   ]
  },
  {
   "cell_type": "code",
   "execution_count": 90,
   "id": "c90e32c9",
   "metadata": {},
   "outputs": [],
   "source": [
    "st = \"\"\"Practicing Python and SQL is crucial for ratining concepts and imporving problem solving\n",
    "skills and learning from error and mistakes, Practice will builds confindence, \n",
    "enchances speed and helps you apply these skills to real word scenarios.\n",
    "Regular pracitce also prepares you for interviews.\"\"\""
   ]
  },
  {
   "cell_type": "code",
   "execution_count": 91,
   "id": "c9d57dc9",
   "metadata": {},
   "outputs": [
    {
     "name": "stdout",
     "output_type": "stream",
     "text": [
      "Practicing Python and SQL is crucial for ratining concepts and imporving problem solving\n",
      "skills and learning from error and mistakes, Practice will builds confindence, \n",
      "enchances speed and helps you apply these skills to real word scenarios.\n",
      "Regular pracitce also prepares you for interviews.\n"
     ]
    }
   ],
   "source": [
    "print(st)"
   ]
  },
  {
   "cell_type": "markdown",
   "id": "a7aab718",
   "metadata": {},
   "source": [
    "* Question: a word contains 'v' or 'n'"
   ]
  },
  {
   "cell_type": "markdown",
   "id": "da4c5ff2",
   "metadata": {},
   "source": [
    "* Question : a word contains 'v' or 'e' and lenght should be greater than 8 char of that word"
   ]
  },
  {
   "cell_type": "code",
   "execution_count": 55,
   "id": "3b8147b9",
   "metadata": {},
   "outputs": [
    {
     "name": "stdout",
     "output_type": "stream",
     "text": [
      "['Practicing', 'Python', 'and', 'ratining', 'concepts', 'and', 'imporving', 'solving', 'and', 'learning', 'and', 'confindence,', 'enchances', 'and', 'scenarios.', 'interviews.']\n"
     ]
    }
   ],
   "source": [
    "print(list(filter(lambda word : 'v' in word or 'n' in word, st.split())))"
   ]
  },
  {
   "cell_type": "code",
   "execution_count": 53,
   "id": "58dfdd44",
   "metadata": {},
   "outputs": [
    {
     "name": "stdout",
     "output_type": "stream",
     "text": [
      "Practicing Python and ratining concepts and imporving solving and learning and confindence, enchances and scenarios. interviews. "
     ]
    }
   ],
   "source": [
    "for word in st.split():\n",
    "    if 'v' in word or 'n' in word:\n",
    "        print(word, end = \" \")"
   ]
  },
  {
   "cell_type": "code",
   "execution_count": 56,
   "id": "5b75b17f",
   "metadata": {},
   "outputs": [
    {
     "name": "stdout",
     "output_type": "stream",
     "text": [
      "['imporving', 'mistakes,', 'confindence,', 'enchances', 'scenarios.', 'interviews.']\n"
     ]
    }
   ],
   "source": [
    "print(list(filter(lambda word : ('v' in word or 'e' in word) and len(word) > 8, st.split())))"
   ]
  },
  {
   "cell_type": "code",
   "execution_count": 57,
   "id": "a93743a3",
   "metadata": {},
   "outputs": [
    {
     "name": "stdout",
     "output_type": "stream",
     "text": [
      "['solving', 'skills', 'speed', 'skills', 'scenarios.']\n"
     ]
    }
   ],
   "source": [
    "print(list(filter(lambda word : word.startswith('s'), st.split())))"
   ]
  },
  {
   "cell_type": "code",
   "execution_count": 92,
   "id": "d6b5f995",
   "metadata": {},
   "outputs": [
    {
     "name": "stdout",
     "output_type": "stream",
     "text": [
      "['solving', 'skills', 'speed', 'skills', 'scenarios.']\n"
     ]
    }
   ],
   "source": [
    "print(list(filter(lambda word : word[0] == 's', st.split())))"
   ]
  },
  {
   "cell_type": "markdown",
   "id": "f83b440a",
   "metadata": {},
   "source": [
    "### Filter with None\n",
    "\n",
    "When defining None then this fuction removes the missing value."
   ]
  },
  {
   "cell_type": "code",
   "execution_count": 59,
   "id": "7a7ac443",
   "metadata": {},
   "outputs": [],
   "source": [
    "lst = [10,20,\"A\",0, -10, None, True, 'Aman',\"Vamsi\", False,11,0,0,11]"
   ]
  },
  {
   "cell_type": "code",
   "execution_count": 60,
   "id": "f36ab767",
   "metadata": {},
   "outputs": [
    {
     "data": {
      "text/plain": [
       "[10, 20, 'A', -10, True, 'Aman', 'Vamsi', 11, 11]"
      ]
     },
     "execution_count": 60,
     "metadata": {},
     "output_type": "execute_result"
    }
   ],
   "source": [
    "list(filter(None,lst))"
   ]
  },
  {
   "cell_type": "markdown",
   "id": "39ba58f3",
   "metadata": {},
   "source": [
    "### Reduce Function\n",
    "\n",
    "Using this function we can reduce a list, tuple or other iterable into a single output, this function resides in functools pytho package (This function is not from built-in function like map and filter)\n",
    "\n",
    "This function also takes two input as follows:\n",
    "\n",
    "* Function\n",
    "* Iterable (Not iterables)"
   ]
  },
  {
   "cell_type": "code",
   "execution_count": 61,
   "id": "42ddcfd6",
   "metadata": {},
   "outputs": [],
   "source": [
    "from functools import reduce"
   ]
  },
  {
   "attachments": {
    "image.png": {
     "image/png": "[encoded data removed]"
    }
   },
   "cell_type": "markdown",
   "id": "74df137a",
   "metadata": {},
   "source": [
    "![image.png](attachment:image.png)"
   ]
  },
  {
   "cell_type": "code",
   "execution_count": 93,
   "id": "6f565ab8",
   "metadata": {},
   "outputs": [],
   "source": [
    "reduce?"
   ]
  },
  {
   "cell_type": "code",
   "execution_count": 62,
   "id": "7b255c60",
   "metadata": {},
   "outputs": [],
   "source": [
    "lst = [47,11,42,13]"
   ]
  },
  {
   "cell_type": "markdown",
   "id": "7a7feb69",
   "metadata": {},
   "source": [
    "* how reduce works?\n",
    "\n",
    "* Step - 1 : 47, 11 : 47 + 11 => 58\n",
    "* Step - 2 : 58, 42 : 58 + 42 => 100\n",
    "* Step - 3 : 100, 13 : 100 + 13 => 113"
   ]
  },
  {
   "cell_type": "code",
   "execution_count": 63,
   "id": "9ceff8a5",
   "metadata": {},
   "outputs": [
    {
     "data": {
      "text/plain": [
       "113"
      ]
     },
     "execution_count": 63,
     "metadata": {},
     "output_type": "execute_result"
    }
   ],
   "source": [
    "reduce(lambda x, y : x + y, lst)"
   ]
  },
  {
   "cell_type": "code",
   "execution_count": 64,
   "id": "a403aa2b",
   "metadata": {},
   "outputs": [],
   "source": [
    "lstofString = [\"A\", \"N\", \"K\", \"I\", \"T\", \" \", \"K\", \"U\", \"M\", \"A\", \"R\"]"
   ]
  },
  {
   "cell_type": "code",
   "execution_count": 66,
   "id": "eb20982b",
   "metadata": {},
   "outputs": [
    {
     "data": {
      "text/plain": [
       "['A', 'N', 'K', 'I', 'T', ' ', 'K', 'U', 'M', 'A', 'R']"
      ]
     },
     "execution_count": 66,
     "metadata": {},
     "output_type": "execute_result"
    }
   ],
   "source": [
    "lstofString"
   ]
  },
  {
   "cell_type": "code",
   "execution_count": 67,
   "id": "5813ee8a",
   "metadata": {},
   "outputs": [
    {
     "data": {
      "text/plain": [
       "'ANKIT KUMAR'"
      ]
     },
     "execution_count": 67,
     "metadata": {},
     "output_type": "execute_result"
    }
   ],
   "source": [
    "reduce(lambda x,y : x + y, lstofString)"
   ]
  },
  {
   "cell_type": "code",
   "execution_count": 68,
   "id": "eb486dd7",
   "metadata": {},
   "outputs": [
    {
     "data": {
      "text/plain": [
       "['Agyeman', 'Abhishek', 'Sriraja', 'Akash', 'Modi', 'Nidhi', 'Ananye']"
      ]
     },
     "execution_count": 68,
     "metadata": {},
     "output_type": "execute_result"
    }
   ],
   "source": [
    "lstofName"
   ]
  },
  {
   "cell_type": "code",
   "execution_count": 70,
   "id": "bf248b35",
   "metadata": {},
   "outputs": [
    {
     "data": {
      "text/plain": [
       "'Agyeman|Abhishek|Sriraja|Akash|Modi|Nidhi|Ananye'"
      ]
     },
     "execution_count": 70,
     "metadata": {},
     "output_type": "execute_result"
    }
   ],
   "source": [
    "reduce(lambda x,y : x + '|' +  y, lstofName)"
   ]
  },
  {
   "cell_type": "code",
   "execution_count": 71,
   "id": "571219f5",
   "metadata": {},
   "outputs": [
    {
     "data": {
      "text/plain": [
       "<map at 0x21bad283be0>"
      ]
     },
     "execution_count": 71,
     "metadata": {},
     "output_type": "execute_result"
    }
   ],
   "source": [
    "Numbers = [10,20,30,5,12,20,10,40,50,30,20,40,60,100]\n",
    "\n",
    "map(lambda x : x + x, filter(lambda x : x <= 30, Numbers))"
   ]
  },
  {
   "cell_type": "code",
   "execution_count": 72,
   "id": "99bad0f0",
   "metadata": {},
   "outputs": [
    {
     "data": {
      "text/plain": [
       "[10, 20, 30, 5, 12, 20, 10, 30, 20]"
      ]
     },
     "execution_count": 72,
     "metadata": {},
     "output_type": "execute_result"
    }
   ],
   "source": [
    "list(filter(lambda x : x <= 30, Numbers))"
   ]
  },
  {
   "cell_type": "code",
   "execution_count": 73,
   "id": "814f4a14",
   "metadata": {},
   "outputs": [
    {
     "data": {
      "text/plain": [
       "[20, 40, 60, 10, 24, 40, 20, 60, 40]"
      ]
     },
     "execution_count": 73,
     "metadata": {},
     "output_type": "execute_result"
    }
   ],
   "source": [
    "list(map(lambda x : x + x, filter(lambda x : x <= 30, Numbers)))"
   ]
  },
  {
   "cell_type": "code",
   "execution_count": 99,
   "id": "ee9e84ed",
   "metadata": {},
   "outputs": [
    {
     "data": {
      "text/plain": [
       "314"
      ]
     },
     "execution_count": 99,
     "metadata": {},
     "output_type": "execute_result"
    }
   ],
   "source": [
    "sum(list(map(lambda x : x + x, list(filter(lambda x : x <= 30, Numbers)))))"
   ]
  },
  {
   "cell_type": "code",
   "execution_count": 75,
   "id": "dbee764f",
   "metadata": {},
   "outputs": [
    {
     "data": {
      "text/plain": [
       "314"
      ]
     },
     "execution_count": 75,
     "metadata": {},
     "output_type": "execute_result"
    }
   ],
   "source": [
    "reduce(lambda x, y : x + y,\n",
    "      list(map(lambda x : x + x, filter(lambda x : x <= 30, Numbers))))"
   ]
  },
  {
   "cell_type": "code",
   "execution_count": 94,
   "id": "a17b1096",
   "metadata": {},
   "outputs": [
    {
     "data": {
      "text/plain": [
       "314"
      ]
     },
     "execution_count": 94,
     "metadata": {},
     "output_type": "execute_result"
    }
   ],
   "source": [
    "reduce(lambda x, y : x + y,\n",
    "      map(lambda x : x + x, filter(lambda x : x <= 30, Numbers)))"
   ]
  },
  {
   "cell_type": "code",
   "execution_count": 76,
   "id": "cf6de91b",
   "metadata": {},
   "outputs": [
    {
     "data": {
      "text/plain": [
       "[10, 20, 30, 5, 12, 20, 10, 40, 50, 30, 20, 40, 60, 100]"
      ]
     },
     "execution_count": 76,
     "metadata": {},
     "output_type": "execute_result"
    }
   ],
   "source": [
    "Numbers"
   ]
  },
  {
   "cell_type": "code",
   "execution_count": 77,
   "id": "00a65af1",
   "metadata": {},
   "outputs": [
    {
     "data": {
      "text/plain": [
       "[50, 70, 150]"
      ]
     },
     "execution_count": 77,
     "metadata": {},
     "output_type": "execute_result"
    }
   ],
   "source": [
    "list(filter(lambda x: x>=50, map(lambda x : (x + x) - 50, Numbers)))"
   ]
  },
  {
   "cell_type": "code",
   "execution_count": 78,
   "id": "9982ae6e",
   "metadata": {},
   "outputs": [
    {
     "data": {
      "text/plain": [
       "(-30, -10, 10, -40, -26, -10, -30, 30, 50, 10, -10, 30, 70, 150)"
      ]
     },
     "execution_count": 78,
     "metadata": {},
     "output_type": "execute_result"
    }
   ],
   "source": [
    "tuple(map(lambda x : (x + x) - 50, Numbers))"
   ]
  },
  {
   "cell_type": "code",
   "execution_count": 79,
   "id": "9352d4de",
   "metadata": {},
   "outputs": [
    {
     "data": {
      "text/plain": [
       "[50, 70, 150]"
      ]
     },
     "execution_count": 79,
     "metadata": {},
     "output_type": "execute_result"
    }
   ],
   "source": [
    "list(filter(lambda x :  x >= 50,\n",
    "           (-30, -10, 10, -40, -26, -10, -30, 30, 50, 10, -10, 30, 70, 150)))"
   ]
  },
  {
   "cell_type": "code",
   "execution_count": 80,
   "id": "c4bc0070",
   "metadata": {},
   "outputs": [],
   "source": [
    "lst = [1,5,7,8,9,0]\n",
    "# 157890"
   ]
  },
  {
   "cell_type": "code",
   "execution_count": 84,
   "id": "ef9d9ca8",
   "metadata": {},
   "outputs": [
    {
     "data": {
      "text/plain": [
       "'157890'"
      ]
     },
     "execution_count": 84,
     "metadata": {},
     "output_type": "execute_result"
    }
   ],
   "source": [
    "reduce(lambda x,y : str(x) + str(y), lst)"
   ]
  },
  {
   "cell_type": "code",
   "execution_count": 85,
   "id": "bfc13f57",
   "metadata": {},
   "outputs": [
    {
     "data": {
      "text/plain": [
       "30"
      ]
     },
     "execution_count": 85,
     "metadata": {},
     "output_type": "execute_result"
    }
   ],
   "source": [
    "reduce(lambda x,y : str(x) + str(y), lst)"
   ]
  },
  {
   "cell_type": "code",
   "execution_count": 86,
   "id": "7eba5dba",
   "metadata": {},
   "outputs": [
    {
     "data": {
      "text/plain": [
       "30"
      ]
     },
     "execution_count": 86,
     "metadata": {},
     "output_type": "execute_result"
    }
   ],
   "source": [
    "sum(lst)"
   ]
  },
  {
   "cell_type": "code",
   "execution_count": 87,
   "id": "a56bfd5a",
   "metadata": {},
   "outputs": [
    {
     "data": {
      "text/plain": [
       "'15'"
      ]
     },
     "execution_count": 87,
     "metadata": {},
     "output_type": "execute_result"
    }
   ],
   "source": [
    "str(1) + str(5)"
   ]
  },
  {
   "cell_type": "code",
   "execution_count": null,
   "id": "544267d4",
   "metadata": {},
   "outputs": [],
   "source": []
  }
 ],
 "metadata": {
  "kernelspec": {
   "display_name": "Python 3 (ipykernel)",
   "language": "python",
   "name": "python3"
  },
  "language_info": {
   "codemirror_mode": {
    "name": "ipython",
    "version": 3
   },
   "file_extension": ".py",
   "mimetype": "text/x-python",
   "name": "python",
   "nbconvert_exporter": "python",
   "pygments_lexer": "ipython3",
   "version": "3.11.2"
  }
 },
 "nbformat": 4,
 "nbformat_minor": 5
}
