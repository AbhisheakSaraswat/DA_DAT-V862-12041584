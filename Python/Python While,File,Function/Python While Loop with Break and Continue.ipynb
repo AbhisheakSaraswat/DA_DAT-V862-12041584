{
 "cells": [
  {
   "cell_type": "markdown",
   "id": "779b542b",
   "metadata": {},
   "source": [
    "### Python While Loop:\n",
    "\n",
    "### Syntax:\n",
    "while logical_condition:\n",
    "    print(yourstatement)\n",
    "    increment / decrement optional"
   ]
  },
  {
   "cell_type": "code",
   "execution_count": 1,
   "id": "d2aaadec",
   "metadata": {},
   "outputs": [],
   "source": [
    "# can you print number from 1 to 10 using while loop"
   ]
  },
  {
   "cell_type": "code",
   "execution_count": 2,
   "id": "95290514",
   "metadata": {},
   "outputs": [
    {
     "name": "stdout",
     "output_type": "stream",
     "text": [
      "1 2 3 4 5 6 7 8 9 10 "
     ]
    }
   ],
   "source": [
    "num = 1\n",
    "while num < 11:\n",
    "    print(num, end = \" \")\n",
    "    num =  num + 1"
   ]
  },
  {
   "cell_type": "code",
   "execution_count": 7,
   "id": "9c24f789",
   "metadata": {},
   "outputs": [],
   "source": [
    "import numpy as np\n",
    "lst = list(np.random.randint(10,50, size = 8))"
   ]
  },
  {
   "cell_type": "code",
   "execution_count": 8,
   "id": "21129c45",
   "metadata": {},
   "outputs": [
    {
     "name": "stdout",
     "output_type": "stream",
     "text": [
      "[24, 47, 45, 37, 10, 25, 43, 20]\n"
     ]
    }
   ],
   "source": [
    "print(lst)"
   ]
  },
  {
   "cell_type": "code",
   "execution_count": 10,
   "id": "e8449997",
   "metadata": {},
   "outputs": [
    {
     "name": "stdout",
     "output_type": "stream",
     "text": [
      "24 47 45 37 10 25 43 20 "
     ]
    }
   ],
   "source": [
    "i = 0\n",
    "while i < len(lst):\n",
    "    print(lst[i], end = \" \")\n",
    "    i = i + 1"
   ]
  },
  {
   "cell_type": "markdown",
   "id": "edbaa896",
   "metadata": {},
   "source": [
    "### Using while can you print all the number in reverse order"
   ]
  },
  {
   "cell_type": "code",
   "execution_count": 11,
   "id": "7d9163ea",
   "metadata": {},
   "outputs": [
    {
     "name": "stdout",
     "output_type": "stream",
     "text": [
      "20 43 25 10 37 45 47 24 "
     ]
    }
   ],
   "source": [
    "i = len(lst)-1\n",
    "while i >= 0:\n",
    "    print(lst[i], end = \" \")\n",
    "    i = i - 1"
   ]
  },
  {
   "cell_type": "code",
   "execution_count": 13,
   "id": "9dca7a70",
   "metadata": {},
   "outputs": [],
   "source": [
    "lst = [24, 47, 45, 37, 10, 25, 43, 20]"
   ]
  },
  {
   "cell_type": "code",
   "execution_count": 14,
   "id": "7f242678",
   "metadata": {},
   "outputs": [],
   "source": [
    "# Can you calc addition and multiplication of each number from given list"
   ]
  },
  {
   "cell_type": "code",
   "execution_count": 15,
   "id": "a71d2c01",
   "metadata": {},
   "outputs": [
    {
     "data": {
      "text/plain": [
       "251"
      ]
     },
     "execution_count": 15,
     "metadata": {},
     "output_type": "execute_result"
    }
   ],
   "source": [
    "sum(lst)"
   ]
  },
  {
   "cell_type": "code",
   "execution_count": 17,
   "id": "5f99d258",
   "metadata": {},
   "outputs": [],
   "source": [
    "i = 0; add = 0; product = 1\n",
    "while i < len(lst):\n",
    "    add = add + lst[i]\n",
    "    product = product * lst[i]\n",
    "    i = i + 1"
   ]
  },
  {
   "cell_type": "code",
   "execution_count": 19,
   "id": "33f7dec6",
   "metadata": {},
   "outputs": [
    {
     "name": "stdout",
     "output_type": "stream",
     "text": [
      "Addition: 251 and Multiplication: 403795800000.\n"
     ]
    }
   ],
   "source": [
    "print(f\"Addition: {add} and Multiplication: {product}.\")"
   ]
  },
  {
   "cell_type": "markdown",
   "id": "492f47c1",
   "metadata": {},
   "source": [
    "# Home Task : Python While Loop"
   ]
  },
  {
   "cell_type": "markdown",
   "id": "e293270c",
   "metadata": {},
   "source": [
    "### How to check the entered number is Prime Number, if the entered number is not a prime number then give all the possible factors of that number."
   ]
  },
  {
   "cell_type": "markdown",
   "id": "2aa4bdb0",
   "metadata": {},
   "source": [
    "### Tomorrow I can ask from anyone to explain this problem."
   ]
  },
  {
   "cell_type": "code",
   "execution_count": null,
   "id": "62a7f8d9",
   "metadata": {},
   "outputs": [],
   "source": []
  },
  {
   "cell_type": "markdown",
   "id": "c5ea6e8e",
   "metadata": {},
   "source": [
    "### While Loop with break statement"
   ]
  },
  {
   "cell_type": "code",
   "execution_count": 21,
   "id": "fee2d152",
   "metadata": {},
   "outputs": [
    {
     "name": "stdout",
     "output_type": "stream",
     "text": [
      "1 2 3 4 5 6 7 8 "
     ]
    }
   ],
   "source": [
    "i = 1\n",
    "while True:\n",
    "    print(i, end = \" \")\n",
    "    i = i + 1\n",
    "    if i > 8:\n",
    "        break"
   ]
  },
  {
   "cell_type": "markdown",
   "id": "dd70762a",
   "metadata": {},
   "source": [
    "### Can you generate only odd number upto 50."
   ]
  },
  {
   "cell_type": "code",
   "execution_count": 22,
   "id": "f51b9a55",
   "metadata": {},
   "outputs": [
    {
     "name": "stdout",
     "output_type": "stream",
     "text": [
      "1 3 5 7 9 11 13 15 17 19 21 23 25 27 29 31 33 35 37 39 41 43 45 47 49 51 "
     ]
    }
   ],
   "source": [
    "i = 0\n",
    "while i <= 50:\n",
    "    i = i + 1\n",
    "    if i % 2 == 0:\n",
    "        continue # Skip the loop when i is even\n",
    "    print(i, end = \" \")"
   ]
  },
  {
   "cell_type": "code",
   "execution_count": 23,
   "id": "ba9af2c5",
   "metadata": {},
   "outputs": [
    {
     "name": "stdout",
     "output_type": "stream",
     "text": [
      "2 4 6 8 10 12 14 16 18 20 22 24 26 28 30 32 34 36 38 40 42 44 46 48 50 "
     ]
    }
   ],
   "source": [
    "i = 0\n",
    "while i <= 50:\n",
    "    i = i + 1\n",
    "    if i % 2 != 0:\n",
    "        continue # Skip the loop when i is odd\n",
    "    print(i, end = \" \")"
   ]
  },
  {
   "cell_type": "code",
   "execution_count": 25,
   "id": "ed5c4b35",
   "metadata": {},
   "outputs": [
    {
     "name": "stdout",
     "output_type": "stream",
     "text": [
      "1 2 4 5 "
     ]
    }
   ],
   "source": [
    "for i in range(1,6):\n",
    "    if i == 3:\n",
    "        continue\n",
    "        print(\"Hi\")\n",
    "        print(\"Bye\")\n",
    "    print(i, end = \" \")"
   ]
  },
  {
   "cell_type": "code",
   "execution_count": 26,
   "id": "c6a20cda",
   "metadata": {},
   "outputs": [
    {
     "name": "stdout",
     "output_type": "stream",
     "text": [
      "1 2 "
     ]
    }
   ],
   "source": [
    "for i in range(1,6):\n",
    "    if i == 3:\n",
    "        break\n",
    "        print(\"Hi\")\n",
    "        print(\"Bye\")\n",
    "    print(i, end = \" \")"
   ]
  },
  {
   "cell_type": "code",
   "execution_count": 27,
   "id": "14cc67d7",
   "metadata": {},
   "outputs": [
    {
     "name": "stdout",
     "output_type": "stream",
     "text": [
      "1 2 3 4 6 7 8 9 10 11 12 13 14 16 17 18 19 20 "
     ]
    }
   ],
   "source": [
    "i = 0\n",
    "while i < 20:\n",
    "    i += 1\n",
    "    if i == 5 or i == 15:\n",
    "        continue\n",
    "    print(i, end = \" \")"
   ]
  },
  {
   "cell_type": "code",
   "execution_count": 28,
   "id": "bb29f347",
   "metadata": {},
   "outputs": [
    {
     "name": "stdout",
     "output_type": "stream",
     "text": [
      "Enter 'quit' of exit from the program: test\n",
      "Enter 'quit' of exit from the program: Divesh\n",
      "Enter 'quit' of exit from the program: quit\n"
     ]
    }
   ],
   "source": [
    "while True:\n",
    "    user_input = input(\"Enter 'quit' of exit from the program: \")\n",
    "    if user_input == \"quit\":\n",
    "        break"
   ]
  },
  {
   "cell_type": "markdown",
   "id": "deb20aea",
   "metadata": {},
   "source": [
    "### Using while Loop can we skip negative numbers"
   ]
  },
  {
   "cell_type": "code",
   "execution_count": 30,
   "id": "dd22dc0c",
   "metadata": {},
   "outputs": [
    {
     "name": "stdout",
     "output_type": "stream",
     "text": [
      "5 5 7 8 "
     ]
    }
   ],
   "source": [
    "numbers = [-4,5,-2,5,-5,-3,7,8]\n",
    "i = 0\n",
    "while i < len(numbers):\n",
    "    if numbers[i] < 0:\n",
    "        i = i + 1\n",
    "        continue\n",
    "    print(numbers[i], end = \" \")\n",
    "    i = i + 1"
   ]
  },
  {
   "cell_type": "code",
   "execution_count": 31,
   "id": "73f11a68",
   "metadata": {},
   "outputs": [
    {
     "name": "stdout",
     "output_type": "stream",
     "text": [
      "1 2 4 5 7 8 10 11 13 14 16 "
     ]
    }
   ],
   "source": [
    "i = 0\n",
    "while i < 20:\n",
    "    i = i + 1\n",
    "    if i % 3 == 0:\n",
    "        continue # skipping when number is divided by 3 completely\n",
    "    if i == 17:\n",
    "        break\n",
    "    print(i, end = \" \")"
   ]
  },
  {
   "cell_type": "markdown",
   "id": "f6928031",
   "metadata": {},
   "source": [
    "### Develop a Game Using Python while loop:\n",
    "\n",
    "https://www.youtube.com/watch?v=VauAiVixICU&list=PLWuFHho1zKhWb-f-SJAMUCK--f8PJlG46&index=25"
   ]
  }
 ],
 "metadata": {
  "kernelspec": {
   "display_name": "Python 3 (ipykernel)",
   "language": "python",
   "name": "python3"
  },
  "language_info": {
   "codemirror_mode": {
    "name": "ipython",
    "version": 3
   },
   "file_extension": ".py",
   "mimetype": "text/x-python",
   "name": "python",
   "nbconvert_exporter": "python",
   "pygments_lexer": "ipython3",
   "version": "3.11.2"
  }
 },
 "nbformat": 4,
 "nbformat_minor": 5
}
