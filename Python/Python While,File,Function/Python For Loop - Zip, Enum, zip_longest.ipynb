{
 "cells": [
  {
   "cell_type": "code",
   "execution_count": null,
   "id": "1461220c",
   "metadata": {},
   "outputs": [],
   "source": [
    "for YourVariable in YourContainer:\n",
    "    print(YourVariable)"
   ]
  },
  {
   "cell_type": "code",
   "execution_count": 1,
   "id": "e149c902",
   "metadata": {},
   "outputs": [
    {
     "name": "stdout",
     "output_type": "stream",
     "text": [
      "1\n",
      "2\n",
      "3\n",
      "4\n"
     ]
    }
   ],
   "source": [
    "for num in range(1,5): # last size of range will be exclusive\n",
    "    print(num)"
   ]
  },
  {
   "cell_type": "code",
   "execution_count": 2,
   "id": "c3f99de5",
   "metadata": {},
   "outputs": [],
   "source": [
    "lst = [1,5,8,9,2,0,4]"
   ]
  },
  {
   "cell_type": "code",
   "execution_count": 3,
   "id": "726b3331",
   "metadata": {},
   "outputs": [
    {
     "name": "stdout",
     "output_type": "stream",
     "text": [
      "1\n",
      "5\n",
      "8\n",
      "9\n",
      "2\n",
      "0\n",
      "4\n"
     ]
    }
   ],
   "source": [
    "for ele in lst:\n",
    "    print(ele)"
   ]
  },
  {
   "cell_type": "code",
   "execution_count": 4,
   "id": "a424a68f",
   "metadata": {},
   "outputs": [],
   "source": [
    "lst1 = [1,5,7,8]\n",
    "lst2 = [2,3,2,4]"
   ]
  },
  {
   "cell_type": "code",
   "execution_count": 6,
   "id": "40e1bd4e",
   "metadata": {},
   "outputs": [
    {
     "name": "stdout",
     "output_type": "stream",
     "text": [
      "2\n",
      "15\n",
      "14\n",
      "32\n"
     ]
    }
   ],
   "source": [
    "for i in range(len(lst1)):\n",
    "    print(lst1[i] * lst2[i])"
   ]
  },
  {
   "cell_type": "code",
   "execution_count": 8,
   "id": "ec851cb2",
   "metadata": {},
   "outputs": [
    {
     "name": "stdout",
     "output_type": "stream",
     "text": [
      "[2] [15] [14] [32] "
     ]
    }
   ],
   "source": [
    "for i in range(len(lst1)):\n",
    "    print([lst1[i] * lst2[i]], end = \" \")"
   ]
  },
  {
   "cell_type": "markdown",
   "id": "f75100f2",
   "metadata": {},
   "source": [
    "### Zip and Enumerate Function"
   ]
  },
  {
   "cell_type": "markdown",
   "id": "4021fec8",
   "metadata": {},
   "source": [
    "### ZIP\n",
    "\n",
    "Using this function we can combine more than 1 iterable and return an output in the form of tuple object or ZIP object.\n",
    "\n",
    "<b> Note : </b> Zip function always combined the iterables based on shortest iterable."
   ]
  },
  {
   "cell_type": "code",
   "execution_count": 9,
   "id": "e8a1badc",
   "metadata": {},
   "outputs": [
    {
     "data": {
      "text/plain": [
       "<zip at 0x126acc92900>"
      ]
     },
     "execution_count": 9,
     "metadata": {},
     "output_type": "execute_result"
    }
   ],
   "source": [
    "zip(lst1,lst2) # zip function is also iterable type of container"
   ]
  },
  {
   "cell_type": "code",
   "execution_count": 11,
   "id": "4a08543e",
   "metadata": {},
   "outputs": [
    {
     "name": "stdout",
     "output_type": "stream",
     "text": [
      "[1, 5, 7, 8] [2, 3, 2, 4]\n"
     ]
    }
   ],
   "source": [
    "print(lst1, lst2)"
   ]
  },
  {
   "cell_type": "code",
   "execution_count": 10,
   "id": "ef9d159d",
   "metadata": {},
   "outputs": [
    {
     "data": {
      "text/plain": [
       "[(1, 2), (5, 3), (7, 2), (8, 4)]"
      ]
     },
     "execution_count": 10,
     "metadata": {},
     "output_type": "execute_result"
    }
   ],
   "source": [
    "list(zip(lst1,lst2)) # Inside the list each element in the form of tuple object"
   ]
  },
  {
   "cell_type": "code",
   "execution_count": 12,
   "id": "1479642b",
   "metadata": {},
   "outputs": [],
   "source": [
    "lst1 = [1,3,5,7,8,9,2]\n",
    "lst2 = [4,5,8]"
   ]
  },
  {
   "cell_type": "code",
   "execution_count": 13,
   "id": "5c741a0c",
   "metadata": {},
   "outputs": [
    {
     "data": {
      "text/plain": [
       "[(1, 4), (3, 5), (5, 8)]"
      ]
     },
     "execution_count": 13,
     "metadata": {},
     "output_type": "execute_result"
    }
   ],
   "source": [
    "list(zip(lst1,lst2))"
   ]
  },
  {
   "cell_type": "code",
   "execution_count": 15,
   "id": "58dd66eb",
   "metadata": {},
   "outputs": [],
   "source": [
    "lst1 = [\"A\",\"B\",\"C\",1,2,3]\n",
    "lst2 = ['Abhishek',\"Anikt\",\"Manya\",'Sugandha']\n",
    "lst3 = ['Jocinda',\"Biden\",'Modi']\n",
    "tp = (2,4,5,6,7,8)"
   ]
  },
  {
   "cell_type": "code",
   "execution_count": 16,
   "id": "36c5e92a",
   "metadata": {},
   "outputs": [
    {
     "data": {
      "text/plain": [
       "<zip at 0x126accb6e80>"
      ]
     },
     "execution_count": 16,
     "metadata": {},
     "output_type": "execute_result"
    }
   ],
   "source": [
    "zip(lst1,lst2,lst3,tp)"
   ]
  },
  {
   "cell_type": "code",
   "execution_count": 17,
   "id": "be7f4377",
   "metadata": {},
   "outputs": [
    {
     "name": "stdout",
     "output_type": "stream",
     "text": [
      "('A', 'Abhishek', 'Jocinda', 2)\n",
      "('B', 'Anikt', 'Biden', 4)\n",
      "('C', 'Manya', 'Modi', 5)\n"
     ]
    }
   ],
   "source": [
    "for pair in zip(lst1,lst2,lst3,tp):\n",
    "    print(pair)"
   ]
  },
  {
   "cell_type": "code",
   "execution_count": 18,
   "id": "ac23ede2",
   "metadata": {},
   "outputs": [
    {
     "data": {
      "text/plain": [
       "[('A', 'Abhishek', 'Jocinda', 2),\n",
       " ('B', 'Anikt', 'Biden', 4),\n",
       " ('C', 'Manya', 'Modi', 5)]"
      ]
     },
     "execution_count": 18,
     "metadata": {},
     "output_type": "execute_result"
    }
   ],
   "source": [
    "list(zip(lst1,lst2,lst3,tp))"
   ]
  },
  {
   "cell_type": "markdown",
   "id": "69dcb632",
   "metadata": {},
   "source": [
    "### What If I want to combined based on Longest Iterable?"
   ]
  },
  {
   "cell_type": "code",
   "execution_count": 24,
   "id": "655887b0",
   "metadata": {},
   "outputs": [],
   "source": [
    "lst1 = [\"A\",\"B\",\"C\",1,2,3]\n",
    "lst2 = ['Abhishek',\"Anikt\",\"Manya\",'Sugandha']\n",
    "lst3 = ['Jocinda',\"Biden\",'Modi']\n",
    "tp = (2,4,5,6,7,8,9,\"Abhisheak\")"
   ]
  },
  {
   "cell_type": "code",
   "execution_count": 25,
   "id": "7ecda5a2",
   "metadata": {},
   "outputs": [],
   "source": [
    "from itertools import zip_longest"
   ]
  },
  {
   "cell_type": "code",
   "execution_count": 26,
   "id": "293bb2eb",
   "metadata": {},
   "outputs": [
    {
     "data": {
      "text/plain": [
       "[('A', 'Abhishek', 'Jocinda', 2),\n",
       " ('B', 'Anikt', 'Biden', 4),\n",
       " ('C', 'Manya', 'Modi', 5),\n",
       " (1, 'Sugandha', None, 6),\n",
       " (2, None, None, 7),\n",
       " (3, None, None, 8),\n",
       " (None, None, None, 9),\n",
       " (None, None, None, 'Abhisheak')]"
      ]
     },
     "execution_count": 26,
     "metadata": {},
     "output_type": "execute_result"
    }
   ],
   "source": [
    "list(zip_longest(lst1,lst2,lst3,tp))"
   ]
  },
  {
   "cell_type": "code",
   "execution_count": 27,
   "id": "2e59a7f1",
   "metadata": {},
   "outputs": [
    {
     "data": {
      "text/plain": [
       "[('A', 'Abhishek', 'Jocinda', 2),\n",
       " ('B', 'Anikt', 'Biden', 4),\n",
       " ('C', 'Manya', 'Modi', 5),\n",
       " (1, 'Sugandha', '|', 6),\n",
       " (2, '|', '|', 7),\n",
       " (3, '|', '|', 8),\n",
       " ('|', '|', '|', 9),\n",
       " ('|', '|', '|', 'Abhisheak')]"
      ]
     },
     "execution_count": 27,
     "metadata": {},
     "output_type": "execute_result"
    }
   ],
   "source": [
    "list(zip_longest(lst1,lst2,lst3,tp,fillvalue=\"|\"))"
   ]
  },
  {
   "cell_type": "code",
   "execution_count": 28,
   "id": "250e948d",
   "metadata": {},
   "outputs": [
    {
     "data": {
      "text/plain": [
       "[('A', 'Abhishek', 'Jocinda', 2),\n",
       " ('B', 'Anikt', 'Biden', 4),\n",
       " ('C', 'Manya', 'Modi', 5),\n",
       " (1, 'Sugandha', 0, 6),\n",
       " (2, 0, 0, 7),\n",
       " (3, 0, 0, 8),\n",
       " (0, 0, 0, 9),\n",
       " (0, 0, 0, 'Abhisheak')]"
      ]
     },
     "execution_count": 28,
     "metadata": {},
     "output_type": "execute_result"
    }
   ],
   "source": [
    "list(zip_longest(lst1,lst2,lst3,tp,fillvalue=0))"
   ]
  },
  {
   "cell_type": "markdown",
   "id": "8211fe32",
   "metadata": {},
   "source": [
    "### Enumerate\n",
    "\n",
    "Using this funtion we can assign the index automatically against\n",
    "the iterable, by default index will starts from 0 to n - 1, \n",
    "and this function also return as enumerate object and tuple."
   ]
  },
  {
   "cell_type": "code",
   "execution_count": 29,
   "id": "86b7a679",
   "metadata": {},
   "outputs": [
    {
     "data": {
      "text/plain": [
       "[1, 5, 8, 9, 2, 0, 4]"
      ]
     },
     "execution_count": 29,
     "metadata": {},
     "output_type": "execute_result"
    }
   ],
   "source": [
    "lst"
   ]
  },
  {
   "cell_type": "code",
   "execution_count": 30,
   "id": "d6b2f933",
   "metadata": {},
   "outputs": [
    {
     "data": {
      "text/plain": [
       "<enumerate at 0x126acc6ba60>"
      ]
     },
     "execution_count": 30,
     "metadata": {},
     "output_type": "execute_result"
    }
   ],
   "source": [
    "enumerate(lst)"
   ]
  },
  {
   "cell_type": "code",
   "execution_count": 31,
   "id": "0377672a",
   "metadata": {},
   "outputs": [
    {
     "data": {
      "text/plain": [
       "((0, 1), (1, 5), (2, 8), (3, 9), (4, 2), (5, 0), (6, 4))"
      ]
     },
     "execution_count": 31,
     "metadata": {},
     "output_type": "execute_result"
    }
   ],
   "source": [
    "tuple(enumerate(lst))"
   ]
  },
  {
   "cell_type": "code",
   "execution_count": 32,
   "id": "67a8d8f7",
   "metadata": {},
   "outputs": [
    {
     "data": {
      "text/plain": [
       "[(0, 1), (1, 5), (2, 8), (3, 9), (4, 2), (5, 0), (6, 4)]"
      ]
     },
     "execution_count": 32,
     "metadata": {},
     "output_type": "execute_result"
    }
   ],
   "source": [
    "list(enumerate(lst))"
   ]
  },
  {
   "cell_type": "code",
   "execution_count": 33,
   "id": "c7a29f09",
   "metadata": {},
   "outputs": [
    {
     "data": {
      "text/plain": [
       "['Abhishek', 'Anikt', 'Manya', 'Sugandha']"
      ]
     },
     "execution_count": 33,
     "metadata": {},
     "output_type": "execute_result"
    }
   ],
   "source": [
    "lst2"
   ]
  },
  {
   "cell_type": "code",
   "execution_count": 34,
   "id": "5b6a14e6",
   "metadata": {},
   "outputs": [
    {
     "data": {
      "text/plain": [
       "[(0, 'Abhishek'), (1, 'Anikt'), (2, 'Manya'), (3, 'Sugandha')]"
      ]
     },
     "execution_count": 34,
     "metadata": {},
     "output_type": "execute_result"
    }
   ],
   "source": [
    "list(enumerate(lst2))"
   ]
  },
  {
   "cell_type": "code",
   "execution_count": 35,
   "id": "07db9af2",
   "metadata": {},
   "outputs": [
    {
     "data": {
      "text/plain": [
       "[(100, 'Abhishek'), (101, 'Anikt'), (102, 'Manya'), (103, 'Sugandha')]"
      ]
     },
     "execution_count": 35,
     "metadata": {},
     "output_type": "execute_result"
    }
   ],
   "source": [
    "list(enumerate(lst2, start=100))"
   ]
  },
  {
   "cell_type": "code",
   "execution_count": 36,
   "id": "726cc372",
   "metadata": {},
   "outputs": [
    {
     "data": {
      "text/plain": [
       "[(1, 'Abhishek'), (2, 'Anikt'), (3, 'Manya'), (4, 'Sugandha')]"
      ]
     },
     "execution_count": 36,
     "metadata": {},
     "output_type": "execute_result"
    }
   ],
   "source": [
    "list(enumerate(lst2, start=1))"
   ]
  },
  {
   "cell_type": "markdown",
   "id": "a7c9e8b5",
   "metadata": {},
   "source": [
    "### Question:\n",
    "\n",
    "Find the valid mobile Number\n",
    "* Valid If:\n",
    "    * All should be number\n",
    "    * Mobile Number length should be 10\n",
    "    * A mobile number valid if that number starts from either 99 or 98"
   ]
  },
  {
   "cell_type": "code",
   "execution_count": 43,
   "id": "d750fe4a",
   "metadata": {},
   "outputs": [],
   "source": [
    "Mobile = [\"9922O35163\", 9063128575, 9943429726, 9279976357, 9780749505, 9888322180,\n",
    "          9404627867, 9525377064, 9271594705, 9448690411, 9482693910, 9022884399,\n",
    "          9415329855, 9578548288, 9892740918, 9112757951, 9752527815, 987564468,\n",
    "          9052415768, 999915928, \"9889369176\", 998975372, 8953925516, 8949485164,\n",
    "          9157246474, 9222281601, 9160334285, 9978570556, 9040316642, 9307702021,\n",
    "          994875956, 9848554714, 9086330432, 9929558363, 9470721128, 9320688348,\n",
    "          9308732519, \"9890980185\", 9829410009, \"983888I386\"]"
   ]
  },
  {
   "cell_type": "code",
   "execution_count": 45,
   "id": "7af90866",
   "metadata": {},
   "outputs": [
    {
     "name": "stdout",
     "output_type": "stream",
     "text": [
      "9943429726 9888322180 9892740918 9889369176 9978570556 9848554714 9929558363 9829410009 "
     ]
    }
   ],
   "source": [
    "for m in Mobile:\n",
    "    if len(str(m)) == 10 and str(m).isnumeric():\n",
    "        if str(m).startswith('98') or str(m).startswith('99'):\n",
    "            print(m, end = \" \")"
   ]
  }
 ],
 "metadata": {
  "kernelspec": {
   "display_name": "Python 3 (ipykernel)",
   "language": "python",
   "name": "python3"
  },
  "language_info": {
   "codemirror_mode": {
    "name": "ipython",
    "version": 3
   },
   "file_extension": ".py",
   "mimetype": "text/x-python",
   "name": "python",
   "nbconvert_exporter": "python",
   "pygments_lexer": "ipython3",
   "version": "3.11.2"
  }
 },
 "nbformat": 4,
 "nbformat_minor": 5
}
