{
 "cells": [
  {
   "cell_type": "markdown",
   "id": "23ef3c89",
   "metadata": {},
   "source": [
    "### File handling\n",
    "\n",
    "* Open or Read a file\n",
    "* Write in the file\n",
    "* Rename or Delete a file\n",
    "* Save or Close a File"
   ]
  },
  {
   "cell_type": "markdown",
   "id": "9f65cc7d",
   "metadata": {},
   "source": [
    "### File Modes :\n",
    "\n",
    "* 'r' : open for reading (default)\n",
    "* 'w' : open for writing, but it will truncating the file first\n",
    "* 'x' : create a new file and open it for writing\n",
    "* 'a' : open for writing, appending to the end of the file if it exists\n",
    "* 'b' : binary mode\n",
    "* 't' : test mode (default)\n",
    "* '+' : open a disk file for updating (reading and writing)"
   ]
  },
  {
   "cell_type": "code",
   "execution_count": 1,
   "id": "bb4014df",
   "metadata": {},
   "outputs": [],
   "source": [
    "import os"
   ]
  },
  {
   "cell_type": "code",
   "execution_count": 3,
   "id": "e8ef3537",
   "metadata": {},
   "outputs": [
    {
     "data": {
      "text/plain": [
       "'C:\\\\Users\\\\AEPAC\\\\Desktop\\\\KnowledgeHut\\\\2024\\\\2024_KnowledgeHut\\\\Data Analyst (MID - 14th Sep)\\\\Python\\\\12 Oct - Python While Loop, File Handling and Functions'"
      ]
     },
     "execution_count": 3,
     "metadata": {},
     "output_type": "execute_result"
    }
   ],
   "source": [
    "os.getcwd() # Where I am working right now : CWD : current working directory"
   ]
  },
  {
   "cell_type": "code",
   "execution_count": 4,
   "id": "a4b754a3",
   "metadata": {},
   "outputs": [
    {
     "data": {
      "text/plain": [
       "['.ipynb_checkpoints',\n",
       " 'File Handling.ipynb',\n",
       " 'Python For Loop - Zip, Enum, zip_longest.ipynb',\n",
       " 'Python While Loop with Break and Continue.ipynb']"
      ]
     },
     "execution_count": 4,
     "metadata": {},
     "output_type": "execute_result"
    }
   ],
   "source": [
    "os.listdir() # all the files from current directory by default"
   ]
  },
  {
   "cell_type": "code",
   "execution_count": 5,
   "id": "5e379f07",
   "metadata": {},
   "outputs": [
    {
     "data": {
      "text/plain": [
       "['Abhisheak.csv', 'Aman.csv', 'Superstore.csv']"
      ]
     },
     "execution_count": 5,
     "metadata": {},
     "output_type": "execute_result"
    }
   ],
   "source": [
    "os.listdir(r\"C:\\Users\\AEPAC\\Desktop\\Aman\")"
   ]
  },
  {
   "cell_type": "code",
   "execution_count": 6,
   "id": "f3d7974a",
   "metadata": {},
   "outputs": [
    {
     "data": {
      "text/plain": [
       "['.ipynb_checkpoints',\n",
       " 'File Handling.ipynb',\n",
       " 'Python For Loop - Zip, Enum, zip_longest.ipynb',\n",
       " 'Python While Loop with Break and Continue.ipynb',\n",
       " 'sales.txt']"
      ]
     },
     "execution_count": 6,
     "metadata": {},
     "output_type": "execute_result"
    }
   ],
   "source": [
    "os.listdir()"
   ]
  },
  {
   "cell_type": "code",
   "execution_count": 7,
   "id": "a14a116b",
   "metadata": {},
   "outputs": [],
   "source": [
    "fl = open(\"sales.txt\", mode = \"r\")"
   ]
  },
  {
   "cell_type": "code",
   "execution_count": 8,
   "id": "41b3cfe1",
   "metadata": {},
   "outputs": [
    {
     "data": {
      "text/plain": [
       "<_io.TextIOWrapper name='sales.txt' mode='r' encoding='cp1252'>"
      ]
     },
     "execution_count": 8,
     "metadata": {},
     "output_type": "execute_result"
    }
   ],
   "source": [
    "fl"
   ]
  },
  {
   "cell_type": "code",
   "execution_count": 9,
   "id": "2a24270c",
   "metadata": {},
   "outputs": [],
   "source": [
    "# Reading data from a sales file"
   ]
  },
  {
   "cell_type": "code",
   "execution_count": 10,
   "id": "0eb0ea37",
   "metadata": {},
   "outputs": [
    {
     "data": {
      "text/plain": [
       "'Row ID\\tOrd'"
      ]
     },
     "execution_count": 10,
     "metadata": {},
     "output_type": "execute_result"
    }
   ],
   "source": [
    "fl.read(10) # First 10 char from the files"
   ]
  },
  {
   "cell_type": "code",
   "execution_count": 11,
   "id": "68cc70ae",
   "metadata": {},
   "outputs": [
    {
     "data": {
      "text/plain": [
       "'er ID\\tOrde'"
      ]
     },
     "execution_count": 11,
     "metadata": {},
     "output_type": "execute_result"
    }
   ],
   "source": [
    "# next 10 car\n",
    "fl.read(10)"
   ]
  },
  {
   "cell_type": "code",
   "execution_count": 12,
   "id": "447c3ca5",
   "metadata": {},
   "outputs": [
    {
     "data": {
      "text/plain": [
       "'r Date\\tShip Date\\tShip Mode\\tCustomer ID\\tCustomer Name\\tSegment\\tCountry\\tCity\\tState\\n1\\tCA-2016-152156\\t11/8/2016\\t11/11/2016\\tSecond Class\\tCG-12520\\tClaire Gute\\tConsumer\\tUnited States\\tHenderson\\tKentucky\\n2\\tCA-2'"
      ]
     },
     "execution_count": 12,
     "metadata": {},
     "output_type": "execute_result"
    }
   ],
   "source": [
    "# next 200 char\n",
    "fl.read(200)"
   ]
  },
  {
   "cell_type": "markdown",
   "id": "29840a8b",
   "metadata": {},
   "source": [
    "### Check the position of cursor and reset it if needed"
   ]
  },
  {
   "cell_type": "code",
   "execution_count": 13,
   "id": "0069a5dc",
   "metadata": {},
   "outputs": [
    {
     "data": {
      "text/plain": [
       "222"
      ]
     },
     "execution_count": 13,
     "metadata": {},
     "output_type": "execute_result"
    }
   ],
   "source": [
    "fl.tell()"
   ]
  },
  {
   "cell_type": "code",
   "execution_count": 14,
   "id": "dfcf429c",
   "metadata": {},
   "outputs": [
    {
     "data": {
      "text/plain": [
       "0"
      ]
     },
     "execution_count": 14,
     "metadata": {},
     "output_type": "execute_result"
    }
   ],
   "source": [
    "fl.seek(0)"
   ]
  },
  {
   "cell_type": "code",
   "execution_count": 15,
   "id": "4110f203",
   "metadata": {},
   "outputs": [
    {
     "data": {
      "text/plain": [
       "'Row ID\\tOrd'"
      ]
     },
     "execution_count": 15,
     "metadata": {},
     "output_type": "execute_result"
    }
   ],
   "source": [
    "fl.read(10)"
   ]
  },
  {
   "cell_type": "code",
   "execution_count": 17,
   "id": "dd58ae78",
   "metadata": {},
   "outputs": [
    {
     "name": "stdout",
     "output_type": "stream",
     "text": [
      "Row ID\tOrder ID\tOrder Date\tShip Date\tShip Mode\tCustomer ID\tCustomer Name\tSegment\tCountry\tCity\tState\n",
      "1\tCA-2016-152156\t11/8/2016\t11/11/2016\tSecond Class\tCG-12520\tClaire Gute\tConsumer\tUnited States\tHenderson\tKentucky\n",
      "2\tCA-2016-152156\t11/8/2016\t11/11/2016\tSecond Class\tCG-12520\tClaire Gute\tConsumer\tUnited States\tHenderson\tKentucky\n",
      "3\tCA-2016-138688\t6/12/2016\t6/16/2016\tSecond Class\tDV-13045\tDarrin Van Huff\tCorporate\tUnited States\tLos Angeles\tCalifornia\n",
      "4\tUS-2015-108966\t10/11/2015\t10/18/2015\tStandard Class\tSO-20335\tSean O'Donnell\tConsumer\tUnited States\tFort Lauderdale\tFlorida\n",
      "5\tUS-2015-108966\t10/11/2015\t10/18/2015\tStandard Class\tSO-20335\tSean O'Donnell\tConsumer\tUnited States\tFort Lauderdale\tFlorida\n",
      "6\tCA-2014-115812\t6/9/2014\t6/14/2014\tStandard Class\tBH-11710\tBrosina Hoffman\tConsumer\tUnited States\tLos Angeles\tCalifornia\n",
      "7\tCA-2014-115812\t6/9/2014\t6/14/2014\tStandard Class\tBH-11710\tBrosina Hoffman\tConsumer\tUnited States\tLos Angeles\tCalifornia\n",
      "8\tCA-2014-115812\t6/9/2014\t6/14/2014\tStandard Class\tBH-11710\tBrosina Hoffman\tConsumer\tUnited States\tLos Angeles\tCalifornia\n",
      "9\tCA-2014-115812\t6/9/2014\t6/14/2014\tStandard Class\tBH-11710\tBrosina Hoffman\tConsumer\tUnited States\tLos Angeles\tCalifornia\n",
      "10\tCA-2014-115812\t6/9/2014\t6/14/2014\tStandard Class\tBH-11710\tBrosina Hoffman\tConsumer\tUnited States\tLos Angeles\tCalifornia\n",
      "11\tCA-2014-115812\t6/9/2014\t6/14/2014\tStandard Class\tBH-11710\tBrosina Hoffman\tConsumer\tUnited States\tLos Angeles\tCalifornia\n",
      "\n"
     ]
    }
   ],
   "source": [
    "fl.seek(0)\n",
    "# reading the data in one go\n",
    "print(fl.read())"
   ]
  },
  {
   "cell_type": "code",
   "execution_count": 18,
   "id": "ead1bae5",
   "metadata": {},
   "outputs": [
    {
     "data": {
      "text/plain": [
       "'Row ID\\tOrder ID\\tOrder Date\\tShip Date\\tShip Mode\\tCustomer ID\\tCustomer Name\\tSegment\\tCountry\\tCity\\tState\\n'"
      ]
     },
     "execution_count": 18,
     "metadata": {},
     "output_type": "execute_result"
    }
   ],
   "source": [
    "fl.seek(0)\n",
    "fl.readline()"
   ]
  },
  {
   "cell_type": "code",
   "execution_count": 19,
   "id": "8d513029",
   "metadata": {},
   "outputs": [
    {
     "data": {
      "text/plain": [
       "'1\\tCA-2016-152156\\t11/8/2016\\t11/11/2016\\tSecond Class\\tCG-12520\\tClaire Gute\\tConsumer\\tUnited States\\tHenderson\\tKentucky\\n'"
      ]
     },
     "execution_count": 19,
     "metadata": {},
     "output_type": "execute_result"
    }
   ],
   "source": [
    "fl.readline()"
   ]
  },
  {
   "cell_type": "code",
   "execution_count": 20,
   "id": "63286903",
   "metadata": {},
   "outputs": [
    {
     "data": {
      "text/plain": [
       "['2\\tCA-2016-152156\\t11/8/2016\\t11/11/2016\\tSecond Class\\tCG-12520\\tClaire Gute\\tConsumer\\tUnited States\\tHenderson\\tKentucky\\n',\n",
       " '3\\tCA-2016-138688\\t6/12/2016\\t6/16/2016\\tSecond Class\\tDV-13045\\tDarrin Van Huff\\tCorporate\\tUnited States\\tLos Angeles\\tCalifornia\\n',\n",
       " \"4\\tUS-2015-108966\\t10/11/2015\\t10/18/2015\\tStandard Class\\tSO-20335\\tSean O'Donnell\\tConsumer\\tUnited States\\tFort Lauderdale\\tFlorida\\n\",\n",
       " \"5\\tUS-2015-108966\\t10/11/2015\\t10/18/2015\\tStandard Class\\tSO-20335\\tSean O'Donnell\\tConsumer\\tUnited States\\tFort Lauderdale\\tFlorida\\n\",\n",
       " '6\\tCA-2014-115812\\t6/9/2014\\t6/14/2014\\tStandard Class\\tBH-11710\\tBrosina Hoffman\\tConsumer\\tUnited States\\tLos Angeles\\tCalifornia\\n',\n",
       " '7\\tCA-2014-115812\\t6/9/2014\\t6/14/2014\\tStandard Class\\tBH-11710\\tBrosina Hoffman\\tConsumer\\tUnited States\\tLos Angeles\\tCalifornia\\n',\n",
       " '8\\tCA-2014-115812\\t6/9/2014\\t6/14/2014\\tStandard Class\\tBH-11710\\tBrosina Hoffman\\tConsumer\\tUnited States\\tLos Angeles\\tCalifornia\\n',\n",
       " '9\\tCA-2014-115812\\t6/9/2014\\t6/14/2014\\tStandard Class\\tBH-11710\\tBrosina Hoffman\\tConsumer\\tUnited States\\tLos Angeles\\tCalifornia\\n',\n",
       " '10\\tCA-2014-115812\\t6/9/2014\\t6/14/2014\\tStandard Class\\tBH-11710\\tBrosina Hoffman\\tConsumer\\tUnited States\\tLos Angeles\\tCalifornia\\n',\n",
       " '11\\tCA-2014-115812\\t6/9/2014\\t6/14/2014\\tStandard Class\\tBH-11710\\tBrosina Hoffman\\tConsumer\\tUnited States\\tLos Angeles\\tCalifornia\\n']"
      ]
     },
     "execution_count": 20,
     "metadata": {},
     "output_type": "execute_result"
    }
   ],
   "source": [
    "fl.readlines()"
   ]
  },
  {
   "cell_type": "code",
   "execution_count": 25,
   "id": "75a213b8",
   "metadata": {},
   "outputs": [
    {
     "name": "stdout",
     "output_type": "stream",
     "text": [
      "Row ID\tOrder ID\tOrder Date\tShip Date\tShip Mode\tCustomer ID\tCustomer Name\tSegment\tCountry\tCity\tState\n",
      "\n",
      "1\tCA-2016-152156\t11/8/2016\t11/11/2016\tSecond Class\tCG-12520\tClaire Gute\tConsumer\tUnited States\tHenderson\tKentucky\n",
      "\n",
      "2\tCA-2016-152156\t11/8/2016\t11/11/2016\tSecond Class\tCG-12520\tClaire Gute\tConsumer\tUnited States\tHenderson\tKentucky\n",
      "\n",
      "3\tCA-2016-138688\t6/12/2016\t6/16/2016\tSecond Class\tDV-13045\tDarrin Van Huff\tCorporate\tUnited States\tLos Angeles\tCalifornia\n",
      "\n",
      "4\tUS-2015-108966\t10/11/2015\t10/18/2015\tStandard Class\tSO-20335\tSean O'Donnell\tConsumer\tUnited States\tFort Lauderdale\tFlorida\n",
      "\n",
      "5\tUS-2015-108966\t10/11/2015\t10/18/2015\tStandard Class\tSO-20335\tSean O'Donnell\tConsumer\tUnited States\tFort Lauderdale\tFlorida\n",
      "\n",
      "6\tCA-2014-115812\t6/9/2014\t6/14/2014\tStandard Class\tBH-11710\tBrosina Hoffman\tConsumer\tUnited States\tLos Angeles\tCalifornia\n",
      "\n",
      "7\tCA-2014-115812\t6/9/2014\t6/14/2014\tStandard Class\tBH-11710\tBrosina Hoffman\tConsumer\tUnited States\tLos Angeles\tCalifornia\n",
      "\n",
      "8\tCA-2014-115812\t6/9/2014\t6/14/2014\tStandard Class\tBH-11710\tBrosina Hoffman\tConsumer\tUnited States\tLos Angeles\tCalifornia\n",
      "\n",
      "9\tCA-2014-115812\t6/9/2014\t6/14/2014\tStandard Class\tBH-11710\tBrosina Hoffman\tConsumer\tUnited States\tLos Angeles\tCalifornia\n",
      "\n",
      "10\tCA-2014-115812\t6/9/2014\t6/14/2014\tStandard Class\tBH-11710\tBrosina Hoffman\tConsumer\tUnited States\tLos Angeles\tCalifornia\n",
      "\n",
      "11\tCA-2014-115812\t6/9/2014\t6/14/2014\tStandard Class\tBH-11710\tBrosina Hoffman\tConsumer\tUnited States\tLos Angeles\tCalifornia\n",
      "\n"
     ]
    }
   ],
   "source": [
    "fl.seek(0)\n",
    "for line in fl.readlines():\n",
    "    print(line)"
   ]
  },
  {
   "cell_type": "code",
   "execution_count": 26,
   "id": "dfc99ae8",
   "metadata": {},
   "outputs": [],
   "source": [
    "fl = open(\"Manya.txt\", \"w\") # write something in the file\n"
   ]
  },
  {
   "cell_type": "code",
   "execution_count": 27,
   "id": "64911c1f",
   "metadata": {},
   "outputs": [
    {
     "data": {
      "text/plain": [
       "<_io.TextIOWrapper name='Manya.txt' mode='w' encoding='cp1252'>"
      ]
     },
     "execution_count": 27,
     "metadata": {},
     "output_type": "execute_result"
    }
   ],
   "source": [
    "fl"
   ]
  },
  {
   "cell_type": "code",
   "execution_count": 28,
   "id": "f1c4d5cc",
   "metadata": {},
   "outputs": [
    {
     "data": {
      "text/plain": [
       "53"
      ]
     },
     "execution_count": 28,
     "metadata": {},
     "output_type": "execute_result"
    }
   ],
   "source": [
    "fl.write(\"We are learning Python programming with KnowledgeHut.\")"
   ]
  },
  {
   "cell_type": "code",
   "execution_count": 29,
   "id": "90b0cb43",
   "metadata": {},
   "outputs": [
    {
     "data": {
      "text/plain": [
       "48"
      ]
     },
     "execution_count": 29,
     "metadata": {},
     "output_type": "execute_result"
    }
   ],
   "source": [
    "fl.write(\"Abhishek is not explaining the topic as we want.\")"
   ]
  },
  {
   "cell_type": "code",
   "execution_count": 30,
   "id": "69c6a452",
   "metadata": {},
   "outputs": [
    {
     "data": {
      "text/plain": [
       "3"
      ]
     },
     "execution_count": 30,
     "metadata": {},
     "output_type": "execute_result"
    }
   ],
   "source": [
    "fl.write(\"lol\")"
   ]
  },
  {
   "cell_type": "code",
   "execution_count": 31,
   "id": "3bb3906c",
   "metadata": {},
   "outputs": [
    {
     "data": {
      "text/plain": [
       "60"
      ]
     },
     "execution_count": 31,
     "metadata": {},
     "output_type": "execute_result"
    }
   ],
   "source": [
    "fl.write(\"\\n\")\n",
    "fl.write(\"If you will do the practice everything will be easy for you.\")"
   ]
  },
  {
   "cell_type": "code",
   "execution_count": 32,
   "id": "e5f771b0",
   "metadata": {},
   "outputs": [
    {
     "data": {
      "text/plain": [
       "41"
      ]
     },
     "execution_count": 32,
     "metadata": {},
     "output_type": "execute_result"
    }
   ],
   "source": [
    "fl.write(\"\\n\")\n",
    "fl.write(\"What a good thought.\")\n",
    "fl.write(\"\\n\")\n",
    "fl.write(\"We are sure, we will not do the practice.\")"
   ]
  },
  {
   "cell_type": "code",
   "execution_count": 33,
   "id": "a1fb7e54",
   "metadata": {},
   "outputs": [],
   "source": [
    "fl.close()"
   ]
  },
  {
   "cell_type": "code",
   "execution_count": 34,
   "id": "de9a5509",
   "metadata": {},
   "outputs": [
    {
     "data": {
      "text/plain": [
       "<_io.TextIOWrapper name='Manya.txt' mode='w' encoding='cp1252'>"
      ]
     },
     "execution_count": 34,
     "metadata": {},
     "output_type": "execute_result"
    }
   ],
   "source": [
    "fl"
   ]
  },
  {
   "cell_type": "code",
   "execution_count": 35,
   "id": "803ec861",
   "metadata": {},
   "outputs": [],
   "source": [
    "fl.close()"
   ]
  },
  {
   "cell_type": "code",
   "execution_count": 36,
   "id": "bd160687",
   "metadata": {},
   "outputs": [
    {
     "data": {
      "text/plain": [
       "'Manya.txt'"
      ]
     },
     "execution_count": 36,
     "metadata": {},
     "output_type": "execute_result"
    }
   ],
   "source": [
    "fl.name"
   ]
  },
  {
   "cell_type": "code",
   "execution_count": 37,
   "id": "e826feac",
   "metadata": {},
   "outputs": [
    {
     "data": {
      "text/plain": [
       "'w'"
      ]
     },
     "execution_count": 37,
     "metadata": {},
     "output_type": "execute_result"
    }
   ],
   "source": [
    "fl.mode"
   ]
  },
  {
   "cell_type": "code",
   "execution_count": 38,
   "id": "7d8a32a1",
   "metadata": {},
   "outputs": [
    {
     "data": {
      "text/plain": [
       "'cp1252'"
      ]
     },
     "execution_count": 38,
     "metadata": {},
     "output_type": "execute_result"
    }
   ],
   "source": [
    "fl.encoding"
   ]
  },
  {
   "cell_type": "code",
   "execution_count": 40,
   "id": "c076060e",
   "metadata": {},
   "outputs": [],
   "source": [
    "with open('AnkitKumar.txt', \"w\") as fl:\n",
    "    fl.write(\"Hey, we are learning File Handling.\")\n",
    "    fl.write(\"\\n\")\n",
    "    fl.write(\"Thanks for your input.\")\n",
    "    fl.close()"
   ]
  },
  {
   "cell_type": "code",
   "execution_count": 41,
   "id": "ce1dcf61",
   "metadata": {},
   "outputs": [
    {
     "data": {
      "text/plain": [
       "<_io.TextIOWrapper name='AnkitKumar.txt' mode='w' encoding='cp1252'>"
      ]
     },
     "execution_count": 41,
     "metadata": {},
     "output_type": "execute_result"
    }
   ],
   "source": [
    "fl"
   ]
  },
  {
   "cell_type": "code",
   "execution_count": 44,
   "id": "4e18edfb",
   "metadata": {},
   "outputs": [],
   "source": [
    "with open('AnkitKumar1.txt', \"w\") as fl:\n",
    "    fl.write(\"Hey, we are learning File Handling.\")\n",
    "    fl.write(\"\\n\")\n",
    "    fl.write(\"Thanks for your input.\")\n"
   ]
  },
  {
   "cell_type": "code",
   "execution_count": 45,
   "id": "446e4cc9",
   "metadata": {},
   "outputs": [
    {
     "ename": "ValueError",
     "evalue": "I/O operation on closed file.",
     "output_type": "error",
     "traceback": [
      "\u001b[1;31m---------------------------------------------------------------------------\u001b[0m",
      "\u001b[1;31mValueError\u001b[0m                                Traceback (most recent call last)",
      "Cell \u001b[1;32mIn[45], line 1\u001b[0m\n\u001b[1;32m----> 1\u001b[0m \u001b[43mfl\u001b[49m\u001b[38;5;241;43m.\u001b[39;49m\u001b[43mread\u001b[49m\u001b[43m(\u001b[49m\u001b[38;5;241;43m10\u001b[39;49m\u001b[43m)\u001b[49m\n",
      "\u001b[1;31mValueError\u001b[0m: I/O operation on closed file."
     ]
    }
   ],
   "source": [
    "fl.read(10)"
   ]
  },
  {
   "cell_type": "markdown",
   "id": "c26b672f",
   "metadata": {},
   "source": [
    "### Operating System:\n",
    "\n",
    "https://youtu.be/Tp4qTuHROX4?si=V60B4TqEvmHCR8Y2"
   ]
  },
  {
   "cell_type": "markdown",
   "id": "0ecd3464",
   "metadata": {},
   "source": [
    "### Append data into existing file "
   ]
  },
  {
   "cell_type": "code",
   "execution_count": 46,
   "id": "15fb9fc9",
   "metadata": {},
   "outputs": [],
   "source": [
    "fl = open(\"Manya.txt\", mode = \"a\") # append data\n",
    "fl.write(\"\\n\")\n",
    "lstOfName = ['Ankit',\"Karan\",'Devesh',\"Amith\",\"Ashish\"]\n",
    "for name in lstOfName:\n",
    "    fl.write(name)\n",
    "    fl.write(\"\\n\")\n",
    "fl.close()"
   ]
  },
  {
   "cell_type": "markdown",
   "id": "7a2e04ee",
   "metadata": {},
   "source": [
    "### From the sales file can we add first 10 line in Manya's file"
   ]
  },
  {
   "cell_type": "markdown",
   "id": "297b0154",
   "metadata": {},
   "source": [
    "or can we combined Manya and sales data"
   ]
  },
  {
   "cell_type": "code",
   "execution_count": 47,
   "id": "d6b4ae71",
   "metadata": {},
   "outputs": [],
   "source": [
    "manya = open(\"Manya.txt\",mode = \"a\")\n",
    "sales = open(\"sales.txt\",mode = \"r\")"
   ]
  },
  {
   "cell_type": "code",
   "execution_count": 49,
   "id": "aca3ed3f",
   "metadata": {},
   "outputs": [],
   "source": [
    "manya.write(\"\\n\")\n",
    "for line in sales:\n",
    "    manya.write(line)\n",
    "    manya.write(\"\\n\")\n",
    "manya.close()"
   ]
  },
  {
   "cell_type": "markdown",
   "id": "0e7a9aa5",
   "metadata": {},
   "source": [
    "### How to rename or delete"
   ]
  },
  {
   "cell_type": "code",
   "execution_count": 50,
   "id": "4e12d66b",
   "metadata": {},
   "outputs": [
    {
     "data": {
      "text/plain": [
       "['.ipynb_checkpoints',\n",
       " 'AnkitKumar.txt',\n",
       " 'AnkitKumar1.txt',\n",
       " 'File Handling.ipynb',\n",
       " 'Manya.txt',\n",
       " 'Python For Loop - Zip, Enum, zip_longest.ipynb',\n",
       " 'Python While Loop with Break and Continue.ipynb',\n",
       " 'sales.txt']"
      ]
     },
     "execution_count": 50,
     "metadata": {},
     "output_type": "execute_result"
    }
   ],
   "source": [
    "os.listdir()"
   ]
  },
  {
   "cell_type": "code",
   "execution_count": 51,
   "id": "c7cec6c1",
   "metadata": {},
   "outputs": [],
   "source": [
    "os.rename(\"AnkitKumar.txt\",\"Abhisheak.txt\")"
   ]
  },
  {
   "cell_type": "code",
   "execution_count": 52,
   "id": "d374897a",
   "metadata": {},
   "outputs": [
    {
     "data": {
      "text/plain": [
       "['.ipynb_checkpoints',\n",
       " 'Abhisheak.txt',\n",
       " 'AnkitKumar1.txt',\n",
       " 'File Handling.ipynb',\n",
       " 'Manya.txt',\n",
       " 'Python For Loop - Zip, Enum, zip_longest.ipynb',\n",
       " 'Python While Loop with Break and Continue.ipynb',\n",
       " 'sales.txt']"
      ]
     },
     "execution_count": 52,
     "metadata": {},
     "output_type": "execute_result"
    }
   ],
   "source": [
    "os.listdir()"
   ]
  },
  {
   "cell_type": "code",
   "execution_count": 53,
   "id": "6d1cb94c",
   "metadata": {},
   "outputs": [],
   "source": [
    "os.remove(\"AnkitKumar1.txt\")"
   ]
  },
  {
   "cell_type": "code",
   "execution_count": 54,
   "id": "d97a1f38",
   "metadata": {},
   "outputs": [
    {
     "data": {
      "text/plain": [
       "['.ipynb_checkpoints',\n",
       " 'Abhisheak.txt',\n",
       " 'File Handling.ipynb',\n",
       " 'Manya.txt',\n",
       " 'Python For Loop - Zip, Enum, zip_longest.ipynb',\n",
       " 'Python While Loop with Break and Continue.ipynb',\n",
       " 'sales.txt']"
      ]
     },
     "execution_count": 54,
     "metadata": {},
     "output_type": "execute_result"
    }
   ],
   "source": [
    "os.listdir()"
   ]
  },
  {
   "cell_type": "code",
   "execution_count": 56,
   "id": "cd5719ad",
   "metadata": {},
   "outputs": [
    {
     "ename": "FileExistsError",
     "evalue": "[Errno 17] File exists: 'Manya.txt'",
     "output_type": "error",
     "traceback": [
      "\u001b[1;31m---------------------------------------------------------------------------\u001b[0m",
      "\u001b[1;31mFileExistsError\u001b[0m                           Traceback (most recent call last)",
      "Cell \u001b[1;32mIn[56], line 1\u001b[0m\n\u001b[1;32m----> 1\u001b[0m \u001b[38;5;28;01mwith\u001b[39;00m \u001b[38;5;28;43mopen\u001b[39;49m\u001b[43m(\u001b[49m\u001b[38;5;124;43m\"\u001b[39;49m\u001b[38;5;124;43mManya.txt\u001b[39;49m\u001b[38;5;124;43m\"\u001b[39;49m\u001b[43m,\u001b[49m\u001b[43m \u001b[49m\u001b[43mmode\u001b[49m\u001b[43m \u001b[49m\u001b[38;5;241;43m=\u001b[39;49m\u001b[43m \u001b[49m\u001b[38;5;124;43m\"\u001b[39;49m\u001b[38;5;124;43mx\u001b[39;49m\u001b[38;5;124;43m\"\u001b[39;49m\u001b[43m)\u001b[49m \u001b[38;5;28;01mas\u001b[39;00m fl:\n\u001b[0;32m      2\u001b[0m     fl\u001b[38;5;241m.\u001b[39mwrite(\u001b[38;5;124m\"\u001b[39m\u001b[38;5;124mTesting\u001b[39m\u001b[38;5;124m\"\u001b[39m)\n",
      "File \u001b[1;32m~\\AppData\\Local\\Programs\\Python\\Python311\\Lib\\site-packages\\IPython\\core\\interactiveshell.py:282\u001b[0m, in \u001b[0;36m_modified_open\u001b[1;34m(file, *args, **kwargs)\u001b[0m\n\u001b[0;32m    275\u001b[0m \u001b[38;5;28;01mif\u001b[39;00m file \u001b[38;5;129;01min\u001b[39;00m {\u001b[38;5;241m0\u001b[39m, \u001b[38;5;241m1\u001b[39m, \u001b[38;5;241m2\u001b[39m}:\n\u001b[0;32m    276\u001b[0m     \u001b[38;5;28;01mraise\u001b[39;00m \u001b[38;5;167;01mValueError\u001b[39;00m(\n\u001b[0;32m    277\u001b[0m         \u001b[38;5;124mf\u001b[39m\u001b[38;5;124m\"\u001b[39m\u001b[38;5;124mIPython won\u001b[39m\u001b[38;5;124m'\u001b[39m\u001b[38;5;124mt let you open fd=\u001b[39m\u001b[38;5;132;01m{\u001b[39;00mfile\u001b[38;5;132;01m}\u001b[39;00m\u001b[38;5;124m by default \u001b[39m\u001b[38;5;124m\"\u001b[39m\n\u001b[0;32m    278\u001b[0m         \u001b[38;5;124m\"\u001b[39m\u001b[38;5;124mas it is likely to crash IPython. If you know what you are doing, \u001b[39m\u001b[38;5;124m\"\u001b[39m\n\u001b[0;32m    279\u001b[0m         \u001b[38;5;124m\"\u001b[39m\u001b[38;5;124myou can use builtins\u001b[39m\u001b[38;5;124m'\u001b[39m\u001b[38;5;124m open.\u001b[39m\u001b[38;5;124m\"\u001b[39m\n\u001b[0;32m    280\u001b[0m     )\n\u001b[1;32m--> 282\u001b[0m \u001b[38;5;28;01mreturn\u001b[39;00m \u001b[43mio_open\u001b[49m\u001b[43m(\u001b[49m\u001b[43mfile\u001b[49m\u001b[43m,\u001b[49m\u001b[43m \u001b[49m\u001b[38;5;241;43m*\u001b[39;49m\u001b[43margs\u001b[49m\u001b[43m,\u001b[49m\u001b[43m \u001b[49m\u001b[38;5;241;43m*\u001b[39;49m\u001b[38;5;241;43m*\u001b[39;49m\u001b[43mkwargs\u001b[49m\u001b[43m)\u001b[49m\n",
      "\u001b[1;31mFileExistsError\u001b[0m: [Errno 17] File exists: 'Manya.txt'"
     ]
    }
   ],
   "source": [
    "with open(\"Manya.txt\", mode = \"x\") as fl:\n",
    "    fl.write(\"Testing\")\n"
   ]
  },
  {
   "cell_type": "code",
   "execution_count": 57,
   "id": "00703c28",
   "metadata": {},
   "outputs": [],
   "source": [
    "with open(\"Manya1.txt\", mode = \"x\") as fl:\n",
    "    fl.write(\"Testing\")\n"
   ]
  },
  {
   "cell_type": "code",
   "execution_count": 72,
   "id": "35871e47",
   "metadata": {},
   "outputs": [
    {
     "name": "stdout",
     "output_type": "stream",
     "text": [
      "['We are learning Python programming with KnowledgeHut.Abhishek is not explaining the topic as we want.lol\\n', 'If you will do the practice everything will be easy for you.\\n', 'What a good thought.\\n']\n"
     ]
    }
   ],
   "source": [
    "with open(\"Manya.txt\") as fl1:\n",
    "    print(fl1.readlines()[:3])"
   ]
  },
  {
   "cell_type": "code",
   "execution_count": null,
   "id": "2daabf04",
   "metadata": {},
   "outputs": [],
   "source": []
  }
 ],
 "metadata": {
  "kernelspec": {
   "display_name": "Python 3 (ipykernel)",
   "language": "python",
   "name": "python3"
  },
  "language_info": {
   "codemirror_mode": {
    "name": "ipython",
    "version": 3
   },
   "file_extension": ".py",
   "mimetype": "text/x-python",
   "name": "python",
   "nbconvert_exporter": "python",
   "pygments_lexer": "ipython3",
   "version": "3.11.2"
  }
 },
 "nbformat": 4,
 "nbformat_minor": 5
}
