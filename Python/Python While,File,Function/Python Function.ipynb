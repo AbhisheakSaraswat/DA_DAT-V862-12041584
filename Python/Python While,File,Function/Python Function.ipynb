{
 "cells": [
  {
   "cell_type": "markdown",
   "id": "e1440904",
   "metadata": {},
   "source": [
    "### Python Function\n",
    "\n",
    "- There are two types of function we have in Python.\n",
    "    - System defined function\n",
    "        - Example : list, input, sum, ord, set, enumerate, zip etc\n",
    "    - User Defined Function or Anonymous function\n",
    "        - These functions are defined by User\n",
    "        \n",
    "        \n",
    "        \n",
    "* Function is group of statement that perform a specific task.\n",
    "* Functions are important piece of puzzle which violated the DRY principle (Don't Repeat YourSelf)\n",
    "* Function can be defined in Python using def keyword"
   ]
  },
  {
   "cell_type": "code",
   "execution_count": 1,
   "id": "6d13311a",
   "metadata": {},
   "outputs": [
    {
     "name": "stdout",
     "output_type": "stream",
     "text": [
      "['ArithmeticError', 'AssertionError', 'AttributeError', 'BaseException', 'BaseExceptionGroup', 'BlockingIOError', 'BrokenPipeError', 'BufferError', 'BytesWarning', 'ChildProcessError', 'ConnectionAbortedError', 'ConnectionError', 'ConnectionRefusedError', 'ConnectionResetError', 'DeprecationWarning', 'EOFError', 'Ellipsis', 'EncodingWarning', 'EnvironmentError', 'Exception', 'ExceptionGroup', 'False', 'FileExistsError', 'FileNotFoundError', 'FloatingPointError', 'FutureWarning', 'GeneratorExit', 'IOError', 'ImportError', 'ImportWarning', 'IndentationError', 'IndexError', 'InterruptedError', 'IsADirectoryError', 'KeyError', 'KeyboardInterrupt', 'LookupError', 'MemoryError', 'ModuleNotFoundError', 'NameError', 'None', 'NotADirectoryError', 'NotImplemented', 'NotImplementedError', 'OSError', 'OverflowError', 'PendingDeprecationWarning', 'PermissionError', 'ProcessLookupError', 'RecursionError', 'ReferenceError', 'ResourceWarning', 'RuntimeError', 'RuntimeWarning', 'StopAsyncIteration', 'StopIteration', 'SyntaxError', 'SyntaxWarning', 'SystemError', 'SystemExit', 'TabError', 'TimeoutError', 'True', 'TypeError', 'UnboundLocalError', 'UnicodeDecodeError', 'UnicodeEncodeError', 'UnicodeError', 'UnicodeTranslateError', 'UnicodeWarning', 'UserWarning', 'ValueError', 'Warning', 'WindowsError', 'ZeroDivisionError', '__IPYTHON__', '__build_class__', '__debug__', '__doc__', '__import__', '__loader__', '__name__', '__package__', '__spec__', 'abs', 'aiter', 'all', 'anext', 'any', 'ascii', 'bin', 'bool', 'breakpoint', 'bytearray', 'bytes', 'callable', 'chr', 'classmethod', 'compile', 'complex', 'copyright', 'credits', 'delattr', 'dict', 'dir', 'display', 'divmod', 'enumerate', 'eval', 'exec', 'execfile', 'filter', 'float', 'format', 'frozenset', 'get_ipython', 'getattr', 'globals', 'hasattr', 'hash', 'help', 'hex', 'id', 'input', 'int', 'isinstance', 'issubclass', 'iter', 'len', 'license', 'list', 'locals', 'map', 'max', 'memoryview', 'min', 'next', 'object', 'oct', 'open', 'ord', 'pow', 'print', 'property', 'range', 'repr', 'reversed', 'round', 'runfile', 'set', 'setattr', 'slice', 'sorted', 'staticmethod', 'str', 'sum', 'super', 'tuple', 'type', 'vars', 'zip']\n"
     ]
    }
   ],
   "source": [
    "print(dir(__builtins__))"
   ]
  },
  {
   "cell_type": "markdown",
   "id": "3aa5a1a4",
   "metadata": {},
   "source": [
    "### Syntax of a function\n",
    "\n",
    "def YoucanDefineYourFunctionName():\n",
    "    \"\"\" Here your doctstring, which will\n",
    "    describe the functionalites of a function\"\n",
    "    here you can write your code\n",
    "\n"
   ]
  },
  {
   "cell_type": "code",
   "execution_count": 3,
   "id": "f23b7d89",
   "metadata": {},
   "outputs": [],
   "source": [
    "def testing():\n",
    "    \"\"\"This function is basically for testing\"\"\"\n",
    "    print(\"hello\")"
   ]
  },
  {
   "cell_type": "code",
   "execution_count": 4,
   "id": "cbff1e45",
   "metadata": {},
   "outputs": [
    {
     "name": "stdout",
     "output_type": "stream",
     "text": [
      "hello\n"
     ]
    }
   ],
   "source": [
    "testing()"
   ]
  },
  {
   "cell_type": "code",
   "execution_count": 5,
   "id": "74dac2de",
   "metadata": {},
   "outputs": [
    {
     "name": "stdout",
     "output_type": "stream",
     "text": [
      "This function is basically for testing\n"
     ]
    }
   ],
   "source": [
    "print(testing.__doc__)"
   ]
  },
  {
   "cell_type": "code",
   "execution_count": 6,
   "id": "15a9714a",
   "metadata": {},
   "outputs": [],
   "source": [
    "list.append?"
   ]
  },
  {
   "cell_type": "code",
   "execution_count": 7,
   "id": "60d32f7c",
   "metadata": {},
   "outputs": [
    {
     "name": "stdout",
     "output_type": "stream",
     "text": [
      "Append object to the end of the list.\n"
     ]
    }
   ],
   "source": [
    "print(list.append.__doc__)"
   ]
  },
  {
   "cell_type": "code",
   "execution_count": 8,
   "id": "d53d1d40",
   "metadata": {},
   "outputs": [],
   "source": [
    "def addingNumbers(a,b):\n",
    "    return a + b"
   ]
  },
  {
   "cell_type": "code",
   "execution_count": 22,
   "id": "79eea14f",
   "metadata": {},
   "outputs": [],
   "source": [
    "result = addingNumbers(10,34)"
   ]
  },
  {
   "cell_type": "code",
   "execution_count": 23,
   "id": "6b831bfe",
   "metadata": {},
   "outputs": [
    {
     "data": {
      "text/plain": [
       "44"
      ]
     },
     "execution_count": 23,
     "metadata": {},
     "output_type": "execute_result"
    }
   ],
   "source": [
    "result"
   ]
  },
  {
   "cell_type": "code",
   "execution_count": 19,
   "id": "f5b55820",
   "metadata": {},
   "outputs": [],
   "source": [
    "def validMobileNumber(number):\n",
    "    if len(str(number)) == 10 and str(number).isnumeric():\n",
    "        if str(number).startswith(\"99\") or str(number).startswith(\"98\"):\n",
    "            print(\"ValidMobile\")\n",
    "    else:\n",
    "        print(\"InvalidMobile\")"
   ]
  },
  {
   "cell_type": "code",
   "execution_count": 21,
   "id": "68e0c8ec",
   "metadata": {},
   "outputs": [
    {
     "name": "stdout",
     "output_type": "stream",
     "text": [
      "ValidMobile\n"
     ]
    }
   ],
   "source": [
    "num = 9897645364\n",
    "validMobileNumber(num)"
   ]
  },
  {
   "cell_type": "code",
   "execution_count": null,
   "id": "d19a0bcc",
   "metadata": {},
   "outputs": [],
   "source": [
    "# print vs return"
   ]
  },
  {
   "cell_type": "code",
   "execution_count": 24,
   "id": "ea8a204d",
   "metadata": {},
   "outputs": [],
   "source": [
    "def taxPayer(income):\n",
    "    \"\"\"This function will calculate the tax based on your income. There are some\n",
    "    rules and calcs we have applied here.\n",
    "    This function is created by Suman : 12th Oct 1:03 PM\"\"\"\n",
    "    if income >= 300000 and income <= 500000:\n",
    "        return (income * 10) / 100\n",
    "    elif income > 500000 and income <= 1000000:\n",
    "        return (income * 20) / 100\n",
    "    else:\n",
    "        return (income * 30) / 100"
   ]
  },
  {
   "cell_type": "code",
   "execution_count": 25,
   "id": "0d2edb23",
   "metadata": {},
   "outputs": [],
   "source": [
    "taxPayer?"
   ]
  },
  {
   "cell_type": "code",
   "execution_count": 26,
   "id": "00e9d62c",
   "metadata": {},
   "outputs": [
    {
     "data": {
      "text/plain": [
       "115777.6"
      ]
     },
     "execution_count": 26,
     "metadata": {},
     "output_type": "execute_result"
    }
   ],
   "source": [
    "taxPayer(578888)"
   ]
  },
  {
   "cell_type": "code",
   "execution_count": 27,
   "id": "09f8544d",
   "metadata": {},
   "outputs": [],
   "source": [
    "def sales_bucket(sales):\n",
    "    '''This function will calc the bucket size based on the sale,\n",
    "    more specifically user will enter a number based on the sales size this funtion\n",
    "    calc the bucket and display it.\n",
    "    In this function I am using control structure like if and logical operator.'''\n",
    "    if sales >=0 and sales < 500:\n",
    "        return \"sales 0 - 500\"\n",
    "    elif sales >= 500 and sales <= 1000:\n",
    "        return \"sales 500 - 1000\"\n",
    "    elif sales > 1000 and sales <= 5000:\n",
    "        return \"sales 1000 - 5000\"\n",
    "    else:\n",
    "        return 'sales  > 5000'"
   ]
  },
  {
   "cell_type": "code",
   "execution_count": 28,
   "id": "fa06d1e7",
   "metadata": {},
   "outputs": [],
   "source": [
    "sales_bucket?"
   ]
  },
  {
   "cell_type": "code",
   "execution_count": 29,
   "id": "ba6d17db",
   "metadata": {},
   "outputs": [
    {
     "data": {
      "text/plain": [
       "'sales  > 5000'"
      ]
     },
     "execution_count": 29,
     "metadata": {},
     "output_type": "execute_result"
    }
   ],
   "source": [
    "sales_bucket(88733)"
   ]
  },
  {
   "cell_type": "markdown",
   "id": "1e2f9e89",
   "metadata": {},
   "source": [
    "* Create a function which takes an input either list or tuple with number, find out only even number and stored into a separate list using udf."
   ]
  },
  {
   "cell_type": "code",
   "execution_count": 35,
   "id": "1f23c935",
   "metadata": {},
   "outputs": [],
   "source": [
    "def calc_even(number):\n",
    "    even_list = []\n",
    "    for i in number:\n",
    "        if i % 2 == 0:\n",
    "            even_list.append(i)\n",
    "    return even_list"
   ]
  },
  {
   "cell_type": "code",
   "execution_count": 36,
   "id": "85d3e96e",
   "metadata": {},
   "outputs": [],
   "source": [
    "lstofNumber = [45,67,89,23,44, 46,45,59,71,23]"
   ]
  },
  {
   "cell_type": "code",
   "execution_count": 37,
   "id": "cb529bb9",
   "metadata": {},
   "outputs": [
    {
     "data": {
      "text/plain": [
       "[44, 46]"
      ]
     },
     "execution_count": 37,
     "metadata": {},
     "output_type": "execute_result"
    }
   ],
   "source": [
    "calc_even(lstofNumber)"
   ]
  },
  {
   "cell_type": "markdown",
   "id": "a71db58b",
   "metadata": {},
   "source": [
    "### Home Task:\n",
    "\n",
    "Can you create a function that calc prime number within a range\n",
    "\n",
    "example : 50 to 80"
   ]
  },
  {
   "cell_type": "markdown",
   "id": "bec4449b",
   "metadata": {},
   "source": [
    "### PEP8 Guidelines"
   ]
  },
  {
   "cell_type": "markdown",
   "id": "9f9f1500",
   "metadata": {},
   "source": [
    "### *args and **kwargs\n",
    "\n",
    "* args : arguments (non keyword argument)\n",
    "* kwargs : keyword arguments"
   ]
  },
  {
   "cell_type": "markdown",
   "id": "40585638",
   "metadata": {},
   "source": [
    "### * args (Variable-length arguments)\n",
    "\n",
    "*args will give the functionalities to accept any number of arguments"
   ]
  },
  {
   "cell_type": "code",
   "execution_count": 38,
   "id": "00fe53ed",
   "metadata": {},
   "outputs": [],
   "source": [
    "def myfunction(*arguments):\n",
    "    for arg in arguments:\n",
    "        print(arg)"
   ]
  },
  {
   "cell_type": "code",
   "execution_count": 39,
   "id": "9b8448e9",
   "metadata": {},
   "outputs": [
    {
     "name": "stdout",
     "output_type": "stream",
     "text": [
      "[1, 2, 3, 4, 5]\n"
     ]
    }
   ],
   "source": [
    "myfunction([1,2,3,4,5])"
   ]
  },
  {
   "cell_type": "code",
   "execution_count": 40,
   "id": "80d4d463",
   "metadata": {},
   "outputs": [
    {
     "name": "stdout",
     "output_type": "stream",
     "text": [
      "1\n",
      "2\n",
      "3\n",
      "4\n",
      "5\n"
     ]
    }
   ],
   "source": [
    "myfunction(1,2,3,4,5)"
   ]
  },
  {
   "cell_type": "code",
   "execution_count": 41,
   "id": "f37a5402",
   "metadata": {},
   "outputs": [],
   "source": [
    "def calc_avg(*args):\n",
    "    return sum(args) / len(args)"
   ]
  },
  {
   "cell_type": "code",
   "execution_count": 42,
   "id": "6803834f",
   "metadata": {},
   "outputs": [],
   "source": [
    "result = calc_avg(3,4,5,6,7)"
   ]
  },
  {
   "cell_type": "code",
   "execution_count": 43,
   "id": "86136e9a",
   "metadata": {},
   "outputs": [
    {
     "data": {
      "text/plain": [
       "5.0"
      ]
     },
     "execution_count": 43,
     "metadata": {},
     "output_type": "execute_result"
    }
   ],
   "source": [
    "result"
   ]
  },
  {
   "cell_type": "markdown",
   "id": "625dad8d",
   "metadata": {},
   "source": [
    "### **kwargs : keyword argument"
   ]
  },
  {
   "cell_type": "code",
   "execution_count": 46,
   "id": "4b0510a3",
   "metadata": {},
   "outputs": [],
   "source": [
    "def get_employee_info(**info):\n",
    "    for key, value in info.items():\n",
    "        print(f\"{key} : {value}\")\n",
    "        "
   ]
  },
  {
   "cell_type": "code",
   "execution_count": 47,
   "id": "864a46dd",
   "metadata": {},
   "outputs": [
    {
     "name": "stdout",
     "output_type": "stream",
     "text": [
      "name : John\n",
      "age : 45\n",
      "course : ML\n"
     ]
    }
   ],
   "source": [
    "get_employee_info(name = \"John\", age = \"45\", course = 'ML')"
   ]
  },
  {
   "cell_type": "code",
   "execution_count": 49,
   "id": "c04c5d72",
   "metadata": {},
   "outputs": [
    {
     "name": "stdout",
     "output_type": "stream",
     "text": [
      "name : Sunghanda\n",
      "age : null\n",
      "course : CS\n",
      "manger : Ashish\n",
      "Pan : NA\n"
     ]
    }
   ],
   "source": [
    "get_employee_info(name = \"Sunghanda\",age = \"null\", course = \"CS\",manger = \"Ashish\",Pan = 'NA')"
   ]
  },
  {
   "cell_type": "code",
   "execution_count": 50,
   "id": "4dd8e325",
   "metadata": {},
   "outputs": [],
   "source": [
    "def display_data(*args, **kwargs):\n",
    "    print(\"Non positional arguments: {args} : \", args)\n",
    "    print(\"Keyword arguments: {kwargs} : \",kwargs)"
   ]
  },
  {
   "cell_type": "code",
   "execution_count": 51,
   "id": "88fafd1e",
   "metadata": {},
   "outputs": [
    {
     "name": "stdout",
     "output_type": "stream",
     "text": [
      "Non positional arguments: {args} :  (10000, 21000, 45000)\n",
      "Keyword arguments: {kwargs} :  {'name': 'Abhishek', 'age': 32, 'city': 'Goa'}\n"
     ]
    }
   ],
   "source": [
    "display_data(10000,21000,45000, name = \"Abhishek\", age = 32, city = 'Goa')"
   ]
  },
  {
   "cell_type": "markdown",
   "id": "4883e840",
   "metadata": {},
   "source": [
    "*args : When you want to pass a list or tuple of non keyword arguments\n",
    "**kwargs : wen you want to pass a keyword arguments in te form of dictionary"
   ]
  },
  {
   "cell_type": "code",
   "execution_count": null,
   "id": "8fbb20c1",
   "metadata": {},
   "outputs": [],
   "source": []
  }
 ],
 "metadata": {
  "kernelspec": {
   "display_name": "Python 3 (ipykernel)",
   "language": "python",
   "name": "python3"
  },
  "language_info": {
   "codemirror_mode": {
    "name": "ipython",
    "version": 3
   },
   "file_extension": ".py",
   "mimetype": "text/x-python",
   "name": "python",
   "nbconvert_exporter": "python",
   "pygments_lexer": "ipython3",
   "version": "3.11.2"
  }
 },
 "nbformat": 4,
 "nbformat_minor": 5
}
