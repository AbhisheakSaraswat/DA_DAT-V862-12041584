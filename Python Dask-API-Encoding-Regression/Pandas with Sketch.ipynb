{
 "cells": [
  {
   "cell_type": "code",
   "execution_count": 7,
   "id": "3d306be4",
   "metadata": {},
   "outputs": [],
   "source": [
    "import pandas as pd\n",
    "import sketch\n",
    "import os"
   ]
  },
  {
   "cell_type": "code",
   "execution_count": 2,
   "id": "88e1ab0c",
   "metadata": {},
   "outputs": [],
   "source": [
    "df = pd.read_clipboard()"
   ]
  },
  {
   "cell_type": "code",
   "execution_count": 3,
   "id": "b3d505b1",
   "metadata": {},
   "outputs": [
    {
     "data": {
      "text/plain": [
       "(9994, 21)"
      ]
     },
     "execution_count": 3,
     "metadata": {},
     "output_type": "execute_result"
    }
   ],
   "source": [
    "df.shape"
   ]
  },
  {
   "cell_type": "code",
   "execution_count": 4,
   "id": "0d68d9ef",
   "metadata": {},
   "outputs": [],
   "source": [
    "df1 = df.copy()"
   ]
  },
  {
   "cell_type": "code",
   "execution_count": 5,
   "id": "37acd881",
   "metadata": {},
   "outputs": [
    {
     "data": {
      "text/html": [
       "<div>\n",
       "<style scoped>\n",
       "    .dataframe tbody tr th:only-of-type {\n",
       "        vertical-align: middle;\n",
       "    }\n",
       "\n",
       "    .dataframe tbody tr th {\n",
       "        vertical-align: top;\n",
       "    }\n",
       "\n",
       "    .dataframe thead th {\n",
       "        text-align: right;\n",
       "    }\n",
       "</style>\n",
       "<table border=\"1\" class=\"dataframe\">\n",
       "  <thead>\n",
       "    <tr style=\"text-align: right;\">\n",
       "      <th></th>\n",
       "      <th>Row ID</th>\n",
       "      <th>Order ID</th>\n",
       "      <th>Order Date</th>\n",
       "      <th>Ship Date</th>\n",
       "      <th>Ship Mode</th>\n",
       "      <th>Customer ID</th>\n",
       "      <th>Customer Name</th>\n",
       "      <th>Segment</th>\n",
       "      <th>Country</th>\n",
       "      <th>City</th>\n",
       "      <th>...</th>\n",
       "      <th>Postal Code</th>\n",
       "      <th>Region</th>\n",
       "      <th>Product ID</th>\n",
       "      <th>Category</th>\n",
       "      <th>Sub-Category</th>\n",
       "      <th>Product Name</th>\n",
       "      <th>Sales</th>\n",
       "      <th>Quantity</th>\n",
       "      <th>Discount</th>\n",
       "      <th>Profit</th>\n",
       "    </tr>\n",
       "  </thead>\n",
       "  <tbody>\n",
       "    <tr>\n",
       "      <th>0</th>\n",
       "      <td>1</td>\n",
       "      <td>CA-2016-152156</td>\n",
       "      <td>11/8/2016</td>\n",
       "      <td>11/11/2016</td>\n",
       "      <td>Second Class</td>\n",
       "      <td>CG-12520</td>\n",
       "      <td>Claire Gute</td>\n",
       "      <td>Consumer</td>\n",
       "      <td>United States</td>\n",
       "      <td>Henderson</td>\n",
       "      <td>...</td>\n",
       "      <td>42420</td>\n",
       "      <td>South</td>\n",
       "      <td>FUR-BO-10001798</td>\n",
       "      <td>Furniture</td>\n",
       "      <td>Bookcases</td>\n",
       "      <td>Bush Somerset Collection Bookcase</td>\n",
       "      <td>261.9600</td>\n",
       "      <td>2</td>\n",
       "      <td>0.00</td>\n",
       "      <td>41.9136</td>\n",
       "    </tr>\n",
       "    <tr>\n",
       "      <th>1</th>\n",
       "      <td>2</td>\n",
       "      <td>CA-2016-152156</td>\n",
       "      <td>11/8/2016</td>\n",
       "      <td>11/11/2016</td>\n",
       "      <td>Second Class</td>\n",
       "      <td>CG-12520</td>\n",
       "      <td>Claire Gute</td>\n",
       "      <td>Consumer</td>\n",
       "      <td>United States</td>\n",
       "      <td>Henderson</td>\n",
       "      <td>...</td>\n",
       "      <td>42420</td>\n",
       "      <td>South</td>\n",
       "      <td>FUR-CH-10000454</td>\n",
       "      <td>Furniture</td>\n",
       "      <td>Chairs</td>\n",
       "      <td>Hon Deluxe Fabric Upholstered Stacking Chairs,...</td>\n",
       "      <td>731.9400</td>\n",
       "      <td>3</td>\n",
       "      <td>0.00</td>\n",
       "      <td>219.5820</td>\n",
       "    </tr>\n",
       "    <tr>\n",
       "      <th>2</th>\n",
       "      <td>3</td>\n",
       "      <td>CA-2016-138688</td>\n",
       "      <td>6/12/2016</td>\n",
       "      <td>6/16/2016</td>\n",
       "      <td>Second Class</td>\n",
       "      <td>DV-13045</td>\n",
       "      <td>Darrin Van Huff</td>\n",
       "      <td>Corporate</td>\n",
       "      <td>United States</td>\n",
       "      <td>Los Angeles</td>\n",
       "      <td>...</td>\n",
       "      <td>90036</td>\n",
       "      <td>West</td>\n",
       "      <td>OFF-LA-10000240</td>\n",
       "      <td>Office Supplies</td>\n",
       "      <td>Labels</td>\n",
       "      <td>Self-Adhesive Address Labels for Typewriters b...</td>\n",
       "      <td>14.6200</td>\n",
       "      <td>2</td>\n",
       "      <td>0.00</td>\n",
       "      <td>6.8714</td>\n",
       "    </tr>\n",
       "    <tr>\n",
       "      <th>3</th>\n",
       "      <td>4</td>\n",
       "      <td>US-2015-108966</td>\n",
       "      <td>10/11/2015</td>\n",
       "      <td>10/18/2015</td>\n",
       "      <td>Standard Class</td>\n",
       "      <td>SO-20335</td>\n",
       "      <td>Sean O'Donnell</td>\n",
       "      <td>Consumer</td>\n",
       "      <td>United States</td>\n",
       "      <td>Fort Lauderdale</td>\n",
       "      <td>...</td>\n",
       "      <td>33311</td>\n",
       "      <td>South</td>\n",
       "      <td>FUR-TA-10000577</td>\n",
       "      <td>Furniture</td>\n",
       "      <td>Tables</td>\n",
       "      <td>Bretford CR4500 Series Slim Rectangular Table</td>\n",
       "      <td>957.5775</td>\n",
       "      <td>5</td>\n",
       "      <td>0.45</td>\n",
       "      <td>-383.0310</td>\n",
       "    </tr>\n",
       "    <tr>\n",
       "      <th>4</th>\n",
       "      <td>5</td>\n",
       "      <td>US-2015-108966</td>\n",
       "      <td>10/11/2015</td>\n",
       "      <td>10/18/2015</td>\n",
       "      <td>Standard Class</td>\n",
       "      <td>SO-20335</td>\n",
       "      <td>Sean O'Donnell</td>\n",
       "      <td>Consumer</td>\n",
       "      <td>United States</td>\n",
       "      <td>Fort Lauderdale</td>\n",
       "      <td>...</td>\n",
       "      <td>33311</td>\n",
       "      <td>South</td>\n",
       "      <td>OFF-ST-10000760</td>\n",
       "      <td>Office Supplies</td>\n",
       "      <td>Storage</td>\n",
       "      <td>Eldon Fold 'N Roll Cart System</td>\n",
       "      <td>22.3680</td>\n",
       "      <td>2</td>\n",
       "      <td>0.20</td>\n",
       "      <td>2.5164</td>\n",
       "    </tr>\n",
       "  </tbody>\n",
       "</table>\n",
       "<p>5 rows × 21 columns</p>\n",
       "</div>"
      ],
      "text/plain": [
       "   Row ID        Order ID  Order Date   Ship Date       Ship Mode Customer ID  \\\n",
       "0       1  CA-2016-152156   11/8/2016  11/11/2016    Second Class    CG-12520   \n",
       "1       2  CA-2016-152156   11/8/2016  11/11/2016    Second Class    CG-12520   \n",
       "2       3  CA-2016-138688   6/12/2016   6/16/2016    Second Class    DV-13045   \n",
       "3       4  US-2015-108966  10/11/2015  10/18/2015  Standard Class    SO-20335   \n",
       "4       5  US-2015-108966  10/11/2015  10/18/2015  Standard Class    SO-20335   \n",
       "\n",
       "     Customer Name    Segment        Country             City  ...  \\\n",
       "0      Claire Gute   Consumer  United States        Henderson  ...   \n",
       "1      Claire Gute   Consumer  United States        Henderson  ...   \n",
       "2  Darrin Van Huff  Corporate  United States      Los Angeles  ...   \n",
       "3   Sean O'Donnell   Consumer  United States  Fort Lauderdale  ...   \n",
       "4   Sean O'Donnell   Consumer  United States  Fort Lauderdale  ...   \n",
       "\n",
       "  Postal Code  Region       Product ID         Category Sub-Category  \\\n",
       "0       42420   South  FUR-BO-10001798        Furniture    Bookcases   \n",
       "1       42420   South  FUR-CH-10000454        Furniture       Chairs   \n",
       "2       90036    West  OFF-LA-10000240  Office Supplies       Labels   \n",
       "3       33311   South  FUR-TA-10000577        Furniture       Tables   \n",
       "4       33311   South  OFF-ST-10000760  Office Supplies      Storage   \n",
       "\n",
       "                                        Product Name     Sales  Quantity  \\\n",
       "0                  Bush Somerset Collection Bookcase  261.9600         2   \n",
       "1  Hon Deluxe Fabric Upholstered Stacking Chairs,...  731.9400         3   \n",
       "2  Self-Adhesive Address Labels for Typewriters b...   14.6200         2   \n",
       "3      Bretford CR4500 Series Slim Rectangular Table  957.5775         5   \n",
       "4                     Eldon Fold 'N Roll Cart System   22.3680         2   \n",
       "\n",
       "   Discount    Profit  \n",
       "0      0.00   41.9136  \n",
       "1      0.00  219.5820  \n",
       "2      0.00    6.8714  \n",
       "3      0.45 -383.0310  \n",
       "4      0.20    2.5164  \n",
       "\n",
       "[5 rows x 21 columns]"
      ]
     },
     "execution_count": 5,
     "metadata": {},
     "output_type": "execute_result"
    }
   ],
   "source": [
    "df1.head()"
   ]
  },
  {
   "cell_type": "code",
   "execution_count": 8,
   "id": "7203cd9c",
   "metadata": {},
   "outputs": [],
   "source": [
    "os.environ['SKETCH_MAX_COLUMNS'] = '30'"
   ]
  },
  {
   "cell_type": "code",
   "execution_count": 9,
   "id": "18d2d991",
   "metadata": {},
   "outputs": [
    {
     "data": {
      "text/html": [
       "\n",
       "The columns in the dataframe are: \n",
       "1. index\n",
       "2. Row ID\n",
       "3. Order ID\n",
       "4. Order Date\n",
       "5. Ship Date\n",
       "6. Ship Mode\n",
       "7. Customer ID\n",
       "8. Customer Name\n",
       "9. Segment\n",
       "10. Country\n",
       "11. City\n",
       "12. State\n",
       "13. Postal Code\n",
       "14. Region\n",
       "15. Product ID\n",
       "16. Category\n",
       "17. Sub-Category\n",
       "18. Product Name\n",
       "19. Sales\n",
       "20. Quantity\n",
       "21. Discount\n",
       "22. Profit"
      ],
      "text/plain": [
       "<IPython.core.display.HTML object>"
      ]
     },
     "metadata": {},
     "output_type": "display_data"
    }
   ],
   "source": [
    "df.sketch.ask(\"can you give me columns name?\")"
   ]
  },
  {
   "cell_type": "code",
   "execution_count": 11,
   "id": "60fce62e",
   "metadata": {},
   "outputs": [
    {
     "data": {
      "text/html": [
       "\n",
       "{'index': 'int64', 'Row ID': 'int64', 'Order ID': 'object', 'Order Date': 'object', 'Ship Date': 'object', 'Ship Mode': 'object', 'Customer ID': 'object', 'Customer Name': 'object', 'Segment': 'object', 'Country': 'object', 'City': 'object', 'State': 'object', 'Postal Code': 'int64', 'Region': 'object', 'Product ID': 'object', 'Category': 'object', 'Sub-Category': 'object', 'Product Name': 'object', 'Sales': 'float64', 'Quantity': 'int64', 'Discount': 'float64', 'Profit': 'float64'}"
      ],
      "text/plain": [
       "<IPython.core.display.HTML object>"
      ]
     },
     "metadata": {},
     "output_type": "display_data"
    }
   ],
   "source": [
    "df.sketch.ask(\"can you give me columns name and its types in dictionary?\")"
   ]
  },
  {
   "cell_type": "code",
   "execution_count": 13,
   "id": "ead9502c",
   "metadata": {},
   "outputs": [
    {
     "data": {
      "text/html": [
       "\n",
       "The shape of the data is (9994, 21), meaning there are 9994 rows and 21 columns in the dataframe."
      ],
      "text/plain": [
       "<IPython.core.display.HTML object>"
      ]
     },
     "metadata": {},
     "output_type": "display_data"
    }
   ],
   "source": [
    "df.sketch.ask(\"give me shape of the data?\")"
   ]
  },
  {
   "cell_type": "code",
   "execution_count": 14,
   "id": "d40daff2",
   "metadata": {},
   "outputs": [
    {
     "data": {
      "text/html": [
       "\n",
       "The unique categories in the dataframe are 'Furniture', 'Office Supplies', and 'Technology'."
      ],
      "text/plain": [
       "<IPython.core.display.HTML object>"
      ]
     },
     "metadata": {},
     "output_type": "display_data"
    }
   ],
   "source": [
    "df.sketch.ask(\"give me unique Category\")"
   ]
  },
  {
   "cell_type": "code",
   "execution_count": 15,
   "id": "dbb554b0",
   "metadata": {},
   "outputs": [
    {
     "data": {
      "text/html": [
       "\n",
       "The top selling sub-category is \"Binders\"."
      ],
      "text/plain": [
       "<IPython.core.display.HTML object>"
      ]
     },
     "metadata": {},
     "output_type": "display_data"
    }
   ],
   "source": [
    "df.sketch.ask(\"which is the top sellling sub-category?\")"
   ]
  },
  {
   "cell_type": "code",
   "execution_count": 18,
   "id": "a97701a6",
   "metadata": {},
   "outputs": [
    {
     "data": {
      "text/plain": [
       "Sub-Category\n",
       "Copiers         234\n",
       "Machines        440\n",
       "Supplies        647\n",
       "Bookcases       868\n",
       "Envelopes       906\n",
       "Fasteners       914\n",
       "Tables         1241\n",
       "Labels         1400\n",
       "Appliances     1729\n",
       "Chairs         2356\n",
       "Accessories    2976\n",
       "Art            3000\n",
       "Storage        3158\n",
       "Phones         3289\n",
       "Furnishings    3563\n",
       "Paper          5178\n",
       "Binders        5974\n",
       "Name: Quantity, dtype: int64"
      ]
     },
     "execution_count": 18,
     "metadata": {},
     "output_type": "execute_result"
    }
   ],
   "source": [
    "df.groupby(by = 'Sub-Category')['Quantity'].sum().sort_values()"
   ]
  },
  {
   "cell_type": "code",
   "execution_count": 19,
   "id": "f99c60d1",
   "metadata": {},
   "outputs": [
    {
     "data": {
      "text/html": [
       "\n",
       "1. Start with the basics: Before diving into data analysis, it is important to have a strong foundation in statistics and mathematics. Make sure you have a good understanding of concepts such as mean, median, standard deviation, and correlation.\n",
       "\n",
       "2. Learn a programming language: Data analysis is typically done using programming languages such as Python, R, or SQL. Choose one and become proficient in it. There are many online resources and tutorials available to help you learn these languages.\n",
       "\n",
       "3. Practice with real-world datasets: The best way to learn data analysis is by practicing with real-world datasets. You can find datasets on websites like Kaggle, UCI Machine Learning Repository, and Google Dataset Search.\n",
       "\n",
       "4. Learn data visualization: Data visualization is an important aspect of data analysis. It helps you understand and communicate insights from your data. Learn how to create different types of charts and graphs using tools like Tableau or Matplotlib.\n",
       "\n",
       "5. Take online courses: There are many online courses available that can teach you data analysis skills. Some popular platforms include Coursera, Udemy, and DataCamp.\n",
       "\n",
       "6. Join online communities: Joining online communities of data analysts can help you learn from others and get feedback on your work. You can also participate in discussions and ask for help when needed.\n",
       "\n",
       "7. Read books and articles: There are many books and articles written on data analysis that can help you deepen your understanding of the subject. Some recommended books include \"Data Science for Business\" by Foster Provost and Tom Fawcett, \"Python for Data Analysis\" by Wes McKinney, and \"The Visual Display of Quantitative Information\" by Edward Tufte.\n",
       "\n",
       "8. Practice, practice, practice: The key to becoming a good data analyst is practice. Keep working on different projects and datasets to improve your skills and gain experience.\n",
       "\n",
       "9. Attend workshops and conferences: Attending workshops and conferences related to data analysis can help you learn from experts and network with other professionals in the field.\n",
       "\n",
       "10. Be curious and keep learning: Data analysis is a constantly evolving field, so it is important to stay curious and keep learning new techniques and tools. Follow blogs, podcasts, and social media accounts related to data analysis to stay updated on the latest trends and developments."
      ],
      "text/plain": [
       "<IPython.core.display.HTML object>"
      ]
     },
     "metadata": {},
     "output_type": "display_data"
    }
   ],
   "source": [
    "df.sketch.ask(\"How can I learn data analysis?\")"
   ]
  },
  {
   "cell_type": "code",
   "execution_count": 20,
   "id": "7ddf6c7c",
   "metadata": {},
   "outputs": [
    {
     "data": {
      "text/html": [
       "\n",
       "To check for outliers in the data, you can use the `describe()` method on the dataframe. This will give you summary statistics such as mean, standard deviation, and quartile values for each numerical column in the dataframe. You can then use these values to identify any data points that fall significantly outside of the expected range. Additionally, you can create box plots or scatter plots to visually identify any outliers in the data. Another approach is to use statistical tests such as z-score or Tukey's method to detect outliers."
      ],
      "text/plain": [
       "<IPython.core.display.HTML object>"
      ]
     },
     "metadata": {},
     "output_type": "display_data"
    }
   ],
   "source": [
    "df.sketch.ask(\"tell me how we can check the outlier in the data?\")"
   ]
  },
  {
   "cell_type": "code",
   "execution_count": 21,
   "id": "fb5c2604",
   "metadata": {},
   "outputs": [
    {
     "data": {
      "text/html": [
       "\n",
       "To perform a box plot on the dataframe `df`, you can use the `boxplot()` function from the pandas library. This function takes in the column name as an argument and plots a box plot for that column. For example, if you want to plot a box plot for the \"Sales\" column, you can use the following code:\n",
       "\n"
      ],
      "text/plain": [
       "<IPython.core.display.HTML object>"
      ]
     },
     "metadata": {},
     "output_type": "display_data"
    }
   ],
   "source": [
    "df.sketch.ask(\"how to perform box plot?\")"
   ]
  },
  {
   "cell_type": "code",
   "execution_count": 22,
   "id": "2d6f369c",
   "metadata": {},
   "outputs": [
    {
     "data": {
      "text/html": [
       "\n",
       "A box plot, also known as a box and whisker plot, is a graphical representation of the distribution of numerical data through quartiles. It displays the minimum, maximum, median, and first and third quartiles of the data in a visual format. The \"box\" in the plot represents the middle 50% of the data, with the median marked by a line inside the box. The \"whiskers\" extend from the box to show the range of the data, with any outliers shown as individual points. Box plots are useful for quickly identifying the spread and skewness of a dataset, as well as any potential outliers."
      ],
      "text/plain": [
       "<IPython.core.display.HTML object>"
      ]
     },
     "metadata": {},
     "output_type": "display_data"
    }
   ],
   "source": [
    "df.sketch.ask(\"what does box plot?\")"
   ]
  },
  {
   "cell_type": "code",
   "execution_count": 23,
   "id": "d6bc098b",
   "metadata": {},
   "outputs": [
    {
     "data": {
      "text/html": [
       "\n",
       "<ul>\n",
       "<li><b>index:</b> The index of the dataframe, which is a unique identifier for each row.</li>\n",
       "<li><b>Row ID:</b> The ID of the row, which is also a unique identifier for each row.</li>\n",
       "<li><b>Order ID:</b> The ID of the order placed by the customer.</li>\n",
       "<li><b>Order Date:</b> The date on which the order was placed.</li>\n",
       "<li><b>Ship Date:</b> The date on which the order was shipped.</li>\n",
       "<li><b>Ship Mode:</b> The mode of shipping chosen by the customer.</li>\n",
       "<li><b>Customer ID:</b> The ID of the customer who placed the order.</li>\n",
       "<li><b>Customer Name:</b> The name of the customer who placed the order.</li>\n",
       "<li><b>Segment:</b> The segment to which the customer belongs (consumer, corporate, or home office).</li>\n",
       "<li><b>Country:</b> The country in which the order was placed (in this case, all orders are from the United States).</li>\n",
       "<li><b>City:</b> The city in which the order was placed.</li>\n",
       "<li><b>State:</b> The state in which the order was placed.</li>\n",
       "<li><b>Postal Code:</b> The postal code of the location where the order was shipped to.</li>\n",
       "<li><b>Region:</b> The region in which the order was placed (East, West, North, or South).</li>\n",
       "<li><b>Product ID:</b> The ID of the product ordered by the customer.</li>\n",
       "<li><b>Category:</b> The category to which the product belongs (furniture, office supplies, or technology).</li>\n",
       "<li><b>Sub-Category:</b> The sub-category to which the product belongs (e.g. chairs, tables, storage).</li>\n",
       "<li><b>Product Name:</b> The name of the product ordered by the customer.</li>\n",
       "<li><b>Sales:</b> The total sales amount for the order.</li>\n",
       "<li><b>Quantity:</b> The quantity of the product ordered by the customer.</li>\n",
       "<li><b>Discount:</b> The discount applied to the order.</li>\n",
       "<li><b>Profit:</b> The profit made on the order.</li>\n",
       "</ul>"
      ],
      "text/plain": [
       "<IPython.core.display.HTML object>"
      ]
     },
     "metadata": {},
     "output_type": "display_data"
    }
   ],
   "source": [
    "df.sketch.ask(\"can you give me friendly names with description of each column (output in HTML List)\")"
   ]
  },
  {
   "cell_type": "code",
   "execution_count": 24,
   "id": "3b4ce6f9",
   "metadata": {},
   "outputs": [
    {
     "data": {
      "text/html": [
       "<div style=\"display:flex;flex-direction:row;justify-content:space-between;\">\n",
       "                <pre style=\"width: 100%; white-space: pre-wrap;\" id=\"23425b75-71e1-4601-925d-ae6054207310\">df.dtypes\n",
       "</pre>\n",
       "                <button style=\"height: fit-content;\" onclick=\"navigator.clipboard.writeText(JSON.parse(atob(`ImRmLmR0eXBlc1xuIg==`)))\">Copy</button>\n",
       "                </div>"
      ],
      "text/plain": [
       "<IPython.core.display.HTML object>"
      ]
     },
     "metadata": {},
     "output_type": "display_data"
    }
   ],
   "source": [
    "df.sketch.howto(\"data type of each column\")"
   ]
  },
  {
   "cell_type": "code",
   "execution_count": 25,
   "id": "daf7cb06",
   "metadata": {},
   "outputs": [
    {
     "data": {
      "text/plain": [
       "Row ID             int64\n",
       "Order ID          object\n",
       "Order Date        object\n",
       "Ship Date         object\n",
       "Ship Mode         object\n",
       "Customer ID       object\n",
       "Customer Name     object\n",
       "Segment           object\n",
       "Country           object\n",
       "City              object\n",
       "State             object\n",
       "Postal Code        int64\n",
       "Region            object\n",
       "Product ID        object\n",
       "Category          object\n",
       "Sub-Category      object\n",
       "Product Name      object\n",
       "Sales            float64\n",
       "Quantity           int64\n",
       "Discount         float64\n",
       "Profit           float64\n",
       "dtype: object"
      ]
     },
     "execution_count": 25,
     "metadata": {},
     "output_type": "execute_result"
    }
   ],
   "source": [
    "df.dtypes\n"
   ]
  },
  {
   "cell_type": "code",
   "execution_count": 26,
   "id": "dd39ef57",
   "metadata": {},
   "outputs": [
    {
     "data": {
      "text/html": [
       "<div style=\"display:flex;flex-direction:row;justify-content:space-between;\">\n",
       "                <pre style=\"width: 100%; white-space: pre-wrap;\" id=\"42062dde-a0f8-4528-9879-134cbfc39515\"># Group the dataframe by region and sum the sales column\n",
       "region_sales = df.groupby('Region')['Sales'].sum()\n",
       "\n",
       "# Print the result\n",
       "print(region_sales)\n",
       "</pre>\n",
       "                <button style=\"height: fit-content;\" onclick=\"navigator.clipboard.writeText(JSON.parse(atob(`IiMgR3JvdXAgdGhlIGRhdGFmcmFtZSBieSByZWdpb24gYW5kIHN1bSB0aGUgc2FsZXMgY29sdW1uXG5yZWdpb25fc2FsZXMgPSBkZi5ncm91cGJ5KCdSZWdpb24nKVsnU2FsZXMnXS5zdW0oKVxuXG4jIFByaW50IHRoZSByZXN1bHRcbnByaW50KHJlZ2lvbl9zYWxlcylcbiI=`)))\">Copy</button>\n",
       "                </div>"
      ],
      "text/plain": [
       "<IPython.core.display.HTML object>"
      ]
     },
     "metadata": {},
     "output_type": "display_data"
    }
   ],
   "source": [
    "df.sketch.howto(\"Region wise sales\")"
   ]
  },
  {
   "cell_type": "code",
   "execution_count": 27,
   "id": "3ab7dca6",
   "metadata": {},
   "outputs": [
    {
     "name": "stdout",
     "output_type": "stream",
     "text": [
      "Region\n",
      "Central    501239.8908\n",
      "East       678781.2400\n",
      "South      391721.9050\n",
      "West       725457.8245\n",
      "Name: Sales, dtype: float64\n"
     ]
    }
   ],
   "source": [
    "# Group the dataframe by region and sum the sales column\n",
    "region_sales = df.groupby('Region')['Sales'].sum()\n",
    "\n",
    "# Print the result\n",
    "print(region_sales)\n"
   ]
  },
  {
   "cell_type": "code",
   "execution_count": 28,
   "id": "d2b6ffe6",
   "metadata": {},
   "outputs": [
    {
     "data": {
      "text/html": [
       "<div style=\"display:flex;flex-direction:row;justify-content:space-between;\">\n",
       "                <pre style=\"width: 100%; white-space: pre-wrap;\" id=\"9b868cdb-cc95-48ae-b64e-9ffbee23b24e\">import matplotlib.pyplot as plt\n",
       "\n",
       "# Group the dataframe by region and sum the sales\n",
       "region_sales = df.groupby('Region')['Sales'].sum()\n",
       "\n",
       "# Create a bar chart using the region_sales data\n",
       "plt.bar(region_sales.index, region_sales.values)\n",
       "\n",
       "# Add labels and title to the chart\n",
       "plt.xlabel('Region')\n",
       "plt.ylabel('Sales')\n",
       "plt.title('Region-wise Sales')\n",
       "\n",
       "# Display the chart\n",
       "plt.show()\n",
       "</pre>\n",
       "                <button style=\"height: fit-content;\" onclick=\"navigator.clipboard.writeText(JSON.parse(atob(`ImltcG9ydCBtYXRwbG90bGliLnB5cGxvdCBhcyBwbHRcblxuIyBHcm91cCB0aGUgZGF0YWZyYW1lIGJ5IHJlZ2lvbiBhbmQgc3VtIHRoZSBzYWxlc1xucmVnaW9uX3NhbGVzID0gZGYuZ3JvdXBieSgnUmVnaW9uJylbJ1NhbGVzJ10uc3VtKClcblxuIyBDcmVhdGUgYSBiYXIgY2hhcnQgdXNpbmcgdGhlIHJlZ2lvbl9zYWxlcyBkYXRhXG5wbHQuYmFyKHJlZ2lvbl9zYWxlcy5pbmRleCwgcmVnaW9uX3NhbGVzLnZhbHVlcylcblxuIyBBZGQgbGFiZWxzIGFuZCB0aXRsZSB0byB0aGUgY2hhcnRcbnBsdC54bGFiZWwoJ1JlZ2lvbicpXG5wbHQueWxhYmVsKCdTYWxlcycpXG5wbHQudGl0bGUoJ1JlZ2lvbi13aXNlIFNhbGVzJylcblxuIyBEaXNwbGF5IHRoZSBjaGFydFxucGx0LnNob3coKVxuIg==`)))\">Copy</button>\n",
       "                </div>"
      ],
      "text/plain": [
       "<IPython.core.display.HTML object>"
      ]
     },
     "metadata": {},
     "output_type": "display_data"
    }
   ],
   "source": [
    "df.sketch.howto(\"Display Region wise sales using column chart\")"
   ]
  },
  {
   "cell_type": "code",
   "execution_count": 29,
   "id": "60e44f9e",
   "metadata": {},
   "outputs": [
    {
     "data": {
      "image/png": "[encoded data removed]",
      "text/plain": [
       "<Figure size 640x480 with 1 Axes>"
      ]
     },
     "metadata": {},
     "output_type": "display_data"
    }
   ],
   "source": [
    "import matplotlib.pyplot as plt\n",
    "\n",
    "# Group the dataframe by region and sum the sales\n",
    "region_sales = df.groupby('Region')['Sales'].sum()\n",
    "\n",
    "# Create a bar chart using the region_sales data\n",
    "plt.bar(region_sales.index, region_sales.values)\n",
    "\n",
    "# Add labels and title to the chart\n",
    "plt.xlabel('Region')\n",
    "plt.ylabel('Sales')\n",
    "plt.title('Region-wise Sales')\n",
    "\n",
    "# Display the chart\n",
    "plt.show()\n"
   ]
  },
  {
   "cell_type": "code",
   "execution_count": 30,
   "id": "9c0056ee",
   "metadata": {},
   "outputs": [
    {
     "data": {
      "text/html": [
       "<div>\n",
       "<style scoped>\n",
       "    .dataframe tbody tr th:only-of-type {\n",
       "        vertical-align: middle;\n",
       "    }\n",
       "\n",
       "    .dataframe tbody tr th {\n",
       "        vertical-align: top;\n",
       "    }\n",
       "\n",
       "    .dataframe thead th {\n",
       "        text-align: right;\n",
       "    }\n",
       "</style>\n",
       "<table border=\"1\" class=\"dataframe\">\n",
       "  <thead>\n",
       "    <tr style=\"text-align: right;\">\n",
       "      <th></th>\n",
       "      <th>Row ID</th>\n",
       "      <th>Order ID</th>\n",
       "      <th>Order Date</th>\n",
       "      <th>Ship Date</th>\n",
       "      <th>Ship Mode</th>\n",
       "      <th>Customer ID</th>\n",
       "      <th>Customer Name</th>\n",
       "      <th>Segment</th>\n",
       "      <th>Country</th>\n",
       "      <th>City</th>\n",
       "      <th>...</th>\n",
       "      <th>Postal Code</th>\n",
       "      <th>Region</th>\n",
       "      <th>Product ID</th>\n",
       "      <th>Category</th>\n",
       "      <th>Sub-Category</th>\n",
       "      <th>Product Name</th>\n",
       "      <th>Sales</th>\n",
       "      <th>Quantity</th>\n",
       "      <th>Discount</th>\n",
       "      <th>Profit</th>\n",
       "    </tr>\n",
       "  </thead>\n",
       "  <tbody>\n",
       "    <tr>\n",
       "      <th>0</th>\n",
       "      <td>1</td>\n",
       "      <td>CA-2016-152156</td>\n",
       "      <td>11/8/2016</td>\n",
       "      <td>11/11/2016</td>\n",
       "      <td>Second Class</td>\n",
       "      <td>CG-12520</td>\n",
       "      <td>Claire Gute</td>\n",
       "      <td>Consumer</td>\n",
       "      <td>United States</td>\n",
       "      <td>Henderson</td>\n",
       "      <td>...</td>\n",
       "      <td>42420</td>\n",
       "      <td>South</td>\n",
       "      <td>FUR-BO-10001798</td>\n",
       "      <td>Furniture</td>\n",
       "      <td>Bookcases</td>\n",
       "      <td>Bush Somerset Collection Bookcase</td>\n",
       "      <td>261.9600</td>\n",
       "      <td>2</td>\n",
       "      <td>0.00</td>\n",
       "      <td>41.9136</td>\n",
       "    </tr>\n",
       "    <tr>\n",
       "      <th>1</th>\n",
       "      <td>2</td>\n",
       "      <td>CA-2016-152156</td>\n",
       "      <td>11/8/2016</td>\n",
       "      <td>11/11/2016</td>\n",
       "      <td>Second Class</td>\n",
       "      <td>CG-12520</td>\n",
       "      <td>Claire Gute</td>\n",
       "      <td>Consumer</td>\n",
       "      <td>United States</td>\n",
       "      <td>Henderson</td>\n",
       "      <td>...</td>\n",
       "      <td>42420</td>\n",
       "      <td>South</td>\n",
       "      <td>FUR-CH-10000454</td>\n",
       "      <td>Furniture</td>\n",
       "      <td>Chairs</td>\n",
       "      <td>Hon Deluxe Fabric Upholstered Stacking Chairs,...</td>\n",
       "      <td>731.9400</td>\n",
       "      <td>3</td>\n",
       "      <td>0.00</td>\n",
       "      <td>219.5820</td>\n",
       "    </tr>\n",
       "    <tr>\n",
       "      <th>2</th>\n",
       "      <td>3</td>\n",
       "      <td>CA-2016-138688</td>\n",
       "      <td>6/12/2016</td>\n",
       "      <td>6/16/2016</td>\n",
       "      <td>Second Class</td>\n",
       "      <td>DV-13045</td>\n",
       "      <td>Darrin Van Huff</td>\n",
       "      <td>Corporate</td>\n",
       "      <td>United States</td>\n",
       "      <td>Los Angeles</td>\n",
       "      <td>...</td>\n",
       "      <td>90036</td>\n",
       "      <td>West</td>\n",
       "      <td>OFF-LA-10000240</td>\n",
       "      <td>Office Supplies</td>\n",
       "      <td>Labels</td>\n",
       "      <td>Self-Adhesive Address Labels for Typewriters b...</td>\n",
       "      <td>14.6200</td>\n",
       "      <td>2</td>\n",
       "      <td>0.00</td>\n",
       "      <td>6.8714</td>\n",
       "    </tr>\n",
       "    <tr>\n",
       "      <th>3</th>\n",
       "      <td>4</td>\n",
       "      <td>US-2015-108966</td>\n",
       "      <td>10/11/2015</td>\n",
       "      <td>10/18/2015</td>\n",
       "      <td>Standard Class</td>\n",
       "      <td>SO-20335</td>\n",
       "      <td>Sean O'Donnell</td>\n",
       "      <td>Consumer</td>\n",
       "      <td>United States</td>\n",
       "      <td>Fort Lauderdale</td>\n",
       "      <td>...</td>\n",
       "      <td>33311</td>\n",
       "      <td>South</td>\n",
       "      <td>FUR-TA-10000577</td>\n",
       "      <td>Furniture</td>\n",
       "      <td>Tables</td>\n",
       "      <td>Bretford CR4500 Series Slim Rectangular Table</td>\n",
       "      <td>957.5775</td>\n",
       "      <td>5</td>\n",
       "      <td>0.45</td>\n",
       "      <td>-383.0310</td>\n",
       "    </tr>\n",
       "    <tr>\n",
       "      <th>4</th>\n",
       "      <td>5</td>\n",
       "      <td>US-2015-108966</td>\n",
       "      <td>10/11/2015</td>\n",
       "      <td>10/18/2015</td>\n",
       "      <td>Standard Class</td>\n",
       "      <td>SO-20335</td>\n",
       "      <td>Sean O'Donnell</td>\n",
       "      <td>Consumer</td>\n",
       "      <td>United States</td>\n",
       "      <td>Fort Lauderdale</td>\n",
       "      <td>...</td>\n",
       "      <td>33311</td>\n",
       "      <td>South</td>\n",
       "      <td>OFF-ST-10000760</td>\n",
       "      <td>Office Supplies</td>\n",
       "      <td>Storage</td>\n",
       "      <td>Eldon Fold 'N Roll Cart System</td>\n",
       "      <td>22.3680</td>\n",
       "      <td>2</td>\n",
       "      <td>0.20</td>\n",
       "      <td>2.5164</td>\n",
       "    </tr>\n",
       "  </tbody>\n",
       "</table>\n",
       "<p>5 rows × 21 columns</p>\n",
       "</div>"
      ],
      "text/plain": [
       "   Row ID        Order ID  Order Date   Ship Date       Ship Mode Customer ID  \\\n",
       "0       1  CA-2016-152156   11/8/2016  11/11/2016    Second Class    CG-12520   \n",
       "1       2  CA-2016-152156   11/8/2016  11/11/2016    Second Class    CG-12520   \n",
       "2       3  CA-2016-138688   6/12/2016   6/16/2016    Second Class    DV-13045   \n",
       "3       4  US-2015-108966  10/11/2015  10/18/2015  Standard Class    SO-20335   \n",
       "4       5  US-2015-108966  10/11/2015  10/18/2015  Standard Class    SO-20335   \n",
       "\n",
       "     Customer Name    Segment        Country             City  ...  \\\n",
       "0      Claire Gute   Consumer  United States        Henderson  ...   \n",
       "1      Claire Gute   Consumer  United States        Henderson  ...   \n",
       "2  Darrin Van Huff  Corporate  United States      Los Angeles  ...   \n",
       "3   Sean O'Donnell   Consumer  United States  Fort Lauderdale  ...   \n",
       "4   Sean O'Donnell   Consumer  United States  Fort Lauderdale  ...   \n",
       "\n",
       "  Postal Code  Region       Product ID         Category Sub-Category  \\\n",
       "0       42420   South  FUR-BO-10001798        Furniture    Bookcases   \n",
       "1       42420   South  FUR-CH-10000454        Furniture       Chairs   \n",
       "2       90036    West  OFF-LA-10000240  Office Supplies       Labels   \n",
       "3       33311   South  FUR-TA-10000577        Furniture       Tables   \n",
       "4       33311   South  OFF-ST-10000760  Office Supplies      Storage   \n",
       "\n",
       "                                        Product Name     Sales  Quantity  \\\n",
       "0                  Bush Somerset Collection Bookcase  261.9600         2   \n",
       "1  Hon Deluxe Fabric Upholstered Stacking Chairs,...  731.9400         3   \n",
       "2  Self-Adhesive Address Labels for Typewriters b...   14.6200         2   \n",
       "3      Bretford CR4500 Series Slim Rectangular Table  957.5775         5   \n",
       "4                     Eldon Fold 'N Roll Cart System   22.3680         2   \n",
       "\n",
       "   Discount    Profit  \n",
       "0      0.00   41.9136  \n",
       "1      0.00  219.5820  \n",
       "2      0.00    6.8714  \n",
       "3      0.45 -383.0310  \n",
       "4      0.20    2.5164  \n",
       "\n",
       "[5 rows x 21 columns]"
      ]
     },
     "execution_count": 30,
     "metadata": {},
     "output_type": "execute_result"
    }
   ],
   "source": [
    "df.head()"
   ]
  },
  {
   "cell_type": "code",
   "execution_count": 31,
   "id": "2baf727a",
   "metadata": {},
   "outputs": [
    {
     "data": {
      "text/html": [
       "\n",
       "To import this data into MS SQL Server, you can follow these steps:\n",
       "\n",
       "1. Open Microsoft SQL Server Management Studio (SSMS) and connect to your server.\n",
       "\n",
       "2. Right-click on the database where you want to import the data and select \"Tasks\" > \"Import Data...\".\n",
       "\n",
       "3. In the \"Choose a Data Source\" window, select \"Flat File Source\" as the data source and click \"Next\".\n",
       "\n",
       "4. In the \"File Name\" field, browse for the file containing your data and click \"Next\".\n",
       "\n",
       "5. In the \"Choose a Destination\" window, select \"SQL Server Native Client 11.0\" as the destination and click \"Next\".\n",
       "\n",
       "6. In the \"Specify Table Copy or Query\" window, select \"Copy data from one or more tables or views\" and click \"Next\".\n",
       "\n",
       "7. In the \"Select Source Tables and Views\" window, select the table or view that you want to import the data into and click \"Next\".\n",
       "\n",
       "8. In the \"Save and Run Package\" window, review the summary of your import settings and click \"Finish\" to start the import process.\n",
       "\n",
       "9. Once the import is complete, you will see a message indicating that the package execution has completed successfully.\n",
       "\n",
       "10. You can now view your imported data in your selected table or view in SSMS."
      ],
      "text/plain": [
       "<IPython.core.display.HTML object>"
      ]
     },
     "metadata": {},
     "output_type": "display_data"
    }
   ],
   "source": [
    "df.sketch.ask(\"how to import this datafrom into ms sql server?\")"
   ]
  },
  {
   "cell_type": "code",
   "execution_count": 32,
   "id": "4c899e95",
   "metadata": {},
   "outputs": [
    {
     "data": {
      "text/html": [
       "<div style=\"display:flex;flex-direction:row;justify-content:space-between;\">\n",
       "                <pre style=\"width: 100%; white-space: pre-wrap;\" id=\"a4700384-d1e0-4568-9420-c76b4553b272\"># Import necessary libraries\n",
       "import pandas as pd\n",
       "import pyodbc\n",
       "\n",
       "# Connect to SQL Server\n",
       "conn = pyodbc.connect('Driver={SQL Server};'\n",
       "                      'Server=server_name;'\n",
       "                      'Database=database_name;'\n",
       "                      'Trusted_Connection=yes;')\n",
       "\n",
       "# Create cursor\n",
       "cursor = conn.cursor()\n",
       "\n",
       "# Create table in SQL Server\n",
       "cursor.execute('CREATE TABLE df (index int, row_id int, order_id varchar(255), order_date varchar(255), ship_date varchar(255), ship_mode varchar(255), customer_id varchar(255), customer_name varchar(255), segment varchar(255), country varchar(255), city varchar(255), state varchar(255), postal_code int, region varchar(255), product_id varchar(255), category varchar(255), sub_category varchar(255), product_name varchar(255), sales float, quantity int, discount float, profit float)')\n",
       "\n",
       "# Insert data into table\n",
       "for index, row in df.iterrows():\n",
       "    cursor.execute('INSERT INTO df VALUES (?,?,?,?,?,?,?,?,?,?,?,?,?,?,?,?,?,?,?,?)', \n",
       "                   row['index'], row['Row ID'], row['Order ID'], row['Order Date'], row['Ship Date'], row['Ship Mode'], row['Customer ID'], row['Customer Name'], row['Segment'], row['Country'], row['City'], row['State'], row['Postal Code'], row['Region'], row['Product ID'], row['Category'], row['Sub-Category'], row['Product Name'], row['Sales'], row['Quantity'], row['Discount'], row['Profit'])\n",
       "\n",
       "# Commit changes and close connection\n",
       "conn.commit()\n",
       "conn.close()\n",
       "</pre>\n",
       "                <button style=\"height: fit-content;\" onclick=\"navigator.clipboard.writeText(JSON.parse(atob(`IiMgSW1wb3J0IG5lY2Vzc2FyeSBsaWJyYXJpZXNcbmltcG9ydCBwYW5kYXMgYXMgcGRcbmltcG9ydCBweW9kYmNcblxuIyBDb25uZWN0IHRvIFNRTCBTZXJ2ZXJcbmNvbm4gPSBweW9kYmMuY29ubmVjdCgnRHJpdmVyPXtTUUwgU2VydmVyfTsnXG4gICAgICAgICAgICAgICAgICAgICAgJ1NlcnZlcj1zZXJ2ZXJfbmFtZTsnXG4gICAgICAgICAgICAgICAgICAgICAgJ0RhdGFiYXNlPWRhdGFiYXNlX25hbWU7J1xuICAgICAgICAgICAgICAgICAgICAgICdUcnVzdGVkX0Nvbm5lY3Rpb249eWVzOycpXG5cbiMgQ3JlYXRlIGN1cnNvclxuY3Vyc29yID0gY29ubi5jdXJzb3IoKVxuXG4jIENyZWF0ZSB0YWJsZSBpbiBTUUwgU2VydmVyXG5jdXJzb3IuZXhlY3V0ZSgnQ1JFQVRFIFRBQkxFIGRmIChpbmRleCBpbnQsIHJvd19pZCBpbnQsIG9yZGVyX2lkIHZhcmNoYXIoMjU1KSwgb3JkZXJfZGF0ZSB2YXJjaGFyKDI1NSksIHNoaXBfZGF0ZSB2YXJjaGFyKDI1NSksIHNoaXBfbW9kZSB2YXJjaGFyKDI1NSksIGN1c3RvbWVyX2lkIHZhcmNoYXIoMjU1KSwgY3VzdG9tZXJfbmFtZSB2YXJjaGFyKDI1NSksIHNlZ21lbnQgdmFyY2hhcigyNTUpLCBjb3VudHJ5IHZhcmNoYXIoMjU1KSwgY2l0eSB2YXJjaGFyKDI1NSksIHN0YXRlIHZhcmNoYXIoMjU1KSwgcG9zdGFsX2NvZGUgaW50LCByZWdpb24gdmFyY2hhcigyNTUpLCBwcm9kdWN0X2lkIHZhcmNoYXIoMjU1KSwgY2F0ZWdvcnkgdmFyY2hhcigyNTUpLCBzdWJfY2F0ZWdvcnkgdmFyY2hhcigyNTUpLCBwcm9kdWN0X25hbWUgdmFyY2hhcigyNTUpLCBzYWxlcyBmbG9hdCwgcXVhbnRpdHkgaW50LCBkaXNjb3VudCBmbG9hdCwgcHJvZml0IGZsb2F0KScpXG5cbiMgSW5zZXJ0IGRhdGEgaW50byB0YWJsZVxuZm9yIGluZGV4LCByb3cgaW4gZGYuaXRlcnJvd3MoKTpcbiAgICBjdXJzb3IuZXhlY3V0ZSgnSU5TRVJUIElOVE8gZGYgVkFMVUVTICg/LD8sPyw/LD8sPyw/LD8sPyw/LD8sPyw/LD8sPyw/LD8sPyw/LD8pJywgXG4gICAgICAgICAgICAgICAgICAgcm93WydpbmRleCddLCByb3dbJ1JvdyBJRCddLCByb3dbJ09yZGVyIElEJ10sIHJvd1snT3JkZXIgRGF0ZSddLCByb3dbJ1NoaXAgRGF0ZSddLCByb3dbJ1NoaXAgTW9kZSddLCByb3dbJ0N1c3RvbWVyIElEJ10sIHJvd1snQ3VzdG9tZXIgTmFtZSddLCByb3dbJ1NlZ21lbnQnXSwgcm93WydDb3VudHJ5J10sIHJvd1snQ2l0eSddLCByb3dbJ1N0YXRlJ10sIHJvd1snUG9zdGFsIENvZGUnXSwgcm93WydSZWdpb24nXSwgcm93WydQcm9kdWN0IElEJ10sIHJvd1snQ2F0ZWdvcnknXSwgcm93WydTdWItQ2F0ZWdvcnknXSwgcm93WydQcm9kdWN0IE5hbWUnXSwgcm93WydTYWxlcyddLCByb3dbJ1F1YW50aXR5J10sIHJvd1snRGlzY291bnQnXSwgcm93WydQcm9maXQnXSlcblxuIyBDb21taXQgY2hhbmdlcyBhbmQgY2xvc2UgY29ubmVjdGlvblxuY29ubi5jb21taXQoKVxuY29ubi5jbG9zZSgpXG4i`)))\">Copy</button>\n",
       "                </div>"
      ],
      "text/plain": [
       "<IPython.core.display.HTML object>"
      ]
     },
     "metadata": {},
     "output_type": "display_data"
    }
   ],
   "source": [
    "df.sketch.howto(\"how to import this datafrom into ms sql server using python?\")"
   ]
  },
  {
   "cell_type": "code",
   "execution_count": 33,
   "id": "ceb32f14",
   "metadata": {},
   "outputs": [
    {
     "name": "stderr",
     "output_type": "stream",
     "text": [
      "WARNING:root:Module snowflake not found, but part of suggestion. May need to pip install...\n"
     ]
    },
    {
     "data": {
      "text/html": [
       "<div style=\"display:flex;flex-direction:row;justify-content:space-between;\">\n",
       "                <pre style=\"width: 100%; white-space: pre-wrap;\" id=\"83aa9b4b-0a3d-4bac-a4e3-2580f348f9d3\"># Import the necessary libraries\n",
       "import pandas as pd\n",
       "from snowflake.connector import connect, pandas_tools\n",
       "\n",
       "# Create a connection to Snowflake\n",
       "conn = connect(\n",
       "    user='<username>',\n",
       "    password='<password>',\n",
       "    account='<account_name>'\n",
       ")\n",
       "\n",
       "# Create a cursor object\n",
       "cur = conn.cursor()\n",
       "\n",
       "# Create a dataframe from the existing dataframe\n",
       "df = pd.DataFrame(df)\n",
       "\n",
       "# Use the pandas_tools library to upload the dataframe to Snowflake\n",
       "pandas_tools.write_pandas(conn, df, 'TABLE_NAME')\n",
       "\n",
       "# Close the cursor and connection\n",
       "cur.close()\n",
       "conn.close()\n",
       "</pre>\n",
       "                <button style=\"height: fit-content;\" onclick=\"navigator.clipboard.writeText(JSON.parse(atob(`IiMgSW1wb3J0IHRoZSBuZWNlc3NhcnkgbGlicmFyaWVzXG5pbXBvcnQgcGFuZGFzIGFzIHBkXG5mcm9tIHNub3dmbGFrZS5jb25uZWN0b3IgaW1wb3J0IGNvbm5lY3QsIHBhbmRhc190b29sc1xuXG4jIENyZWF0ZSBhIGNvbm5lY3Rpb24gdG8gU25vd2ZsYWtlXG5jb25uID0gY29ubmVjdChcbiAgICB1c2VyPSc8dXNlcm5hbWU+JyxcbiAgICBwYXNzd29yZD0nPHBhc3N3b3JkPicsXG4gICAgYWNjb3VudD0nPGFjY291bnRfbmFtZT4nXG4pXG5cbiMgQ3JlYXRlIGEgY3Vyc29yIG9iamVjdFxuY3VyID0gY29ubi5jdXJzb3IoKVxuXG4jIENyZWF0ZSBhIGRhdGFmcmFtZSBmcm9tIHRoZSBleGlzdGluZyBkYXRhZnJhbWVcbmRmID0gcGQuRGF0YUZyYW1lKGRmKVxuXG4jIFVzZSB0aGUgcGFuZGFzX3Rvb2xzIGxpYnJhcnkgdG8gdXBsb2FkIHRoZSBkYXRhZnJhbWUgdG8gU25vd2ZsYWtlXG5wYW5kYXNfdG9vbHMud3JpdGVfcGFuZGFzKGNvbm4sIGRmLCAnVEFCTEVfTkFNRScpXG5cbiMgQ2xvc2UgdGhlIGN1cnNvciBhbmQgY29ubmVjdGlvblxuY3VyLmNsb3NlKClcbmNvbm4uY2xvc2UoKVxuIg==`)))\">Copy</button>\n",
       "                </div>"
      ],
      "text/plain": [
       "<IPython.core.display.HTML object>"
      ]
     },
     "metadata": {},
     "output_type": "display_data"
    }
   ],
   "source": [
    "df.sketch.howto(\"how to import this dataframe into snowflake connector?\")"
   ]
  },
  {
   "cell_type": "code",
   "execution_count": 34,
   "id": "05ebc527",
   "metadata": {},
   "outputs": [
    {
     "data": {
      "text/html": [
       "<div style=\"display:flex;flex-direction:row;justify-content:space-between;\">\n",
       "                <pre style=\"width: 100%; white-space: pre-wrap;\" id=\"b2cdc8aa-9667-4763-b168-d73fc2b68112\"># Import necessary libraries\n",
       "import pandas as pd\n",
       "\n",
       "# Group the dataframe by month and calculate the sum of sales and profit for each month\n",
       "monthly_sales = df.groupby(pd.Grouper(key='Order Date', freq='M')).agg({'Sales': 'sum', 'Profit': 'sum'})\n",
       "\n",
       "# Print the resulting dataframe\n",
       "print(monthly_sales)\n",
       "</pre>\n",
       "                <button style=\"height: fit-content;\" onclick=\"navigator.clipboard.writeText(JSON.parse(atob(`IiMgSW1wb3J0IG5lY2Vzc2FyeSBsaWJyYXJpZXNcbmltcG9ydCBwYW5kYXMgYXMgcGRcblxuIyBHcm91cCB0aGUgZGF0YWZyYW1lIGJ5IG1vbnRoIGFuZCBjYWxjdWxhdGUgdGhlIHN1bSBvZiBzYWxlcyBhbmQgcHJvZml0IGZvciBlYWNoIG1vbnRoXG5tb250aGx5X3NhbGVzID0gZGYuZ3JvdXBieShwZC5Hcm91cGVyKGtleT0nT3JkZXIgRGF0ZScsIGZyZXE9J00nKSkuYWdnKHsnU2FsZXMnOiAnc3VtJywgJ1Byb2ZpdCc6ICdzdW0nfSlcblxuIyBQcmludCB0aGUgcmVzdWx0aW5nIGRhdGFmcmFtZVxucHJpbnQobW9udGhseV9zYWxlcylcbiI=`)))\">Copy</button>\n",
       "                </div>"
      ],
      "text/plain": [
       "<IPython.core.display.HTML object>"
      ]
     },
     "metadata": {},
     "output_type": "display_data"
    }
   ],
   "source": [
    "df.sketch.howto(\"month wise sales with profit\")"
   ]
  },
  {
   "cell_type": "code",
   "execution_count": 37,
   "id": "f781222e",
   "metadata": {},
   "outputs": [
    {
     "data": {
      "text/html": [
       "<div style=\"display:flex;flex-direction:row;justify-content:space-between;\">\n",
       "                <pre style=\"width: 100%; white-space: pre-wrap;\" id=\"b0137c2f-1367-4f35-ab5a-0f25174f8907\"># Import necessary libraries\n",
       "import pandas as pd\n",
       "import matplotlib.pyplot as plt\n",
       "\n",
       "# Convert Order Date column to datetime format\n",
       "df['Order Date'] = pd.to_datetime(df['Order Date'])\n",
       "\n",
       "# Group dataframe by Order Date and sum sales and quantity\n",
       "sales_quantity = df.groupby('Order Date').sum()[['Sales', 'Quantity']]\n",
       "\n",
       "# Plot time series of sales and quantity\n",
       "sales_quantity.plot()\n",
       "plt.xlabel('Order Date')\n",
       "plt.ylabel('Sales/Quantity')\n",
       "plt.title('Time Series of Sales and Quantity')\n",
       "plt.show()\n",
       "</pre>\n",
       "                <button style=\"height: fit-content;\" onclick=\"navigator.clipboard.writeText(JSON.parse(atob(`IiMgSW1wb3J0IG5lY2Vzc2FyeSBsaWJyYXJpZXNcbmltcG9ydCBwYW5kYXMgYXMgcGRcbmltcG9ydCBtYXRwbG90bGliLnB5cGxvdCBhcyBwbHRcblxuIyBDb252ZXJ0IE9yZGVyIERhdGUgY29sdW1uIHRvIGRhdGV0aW1lIGZvcm1hdFxuZGZbJ09yZGVyIERhdGUnXSA9IHBkLnRvX2RhdGV0aW1lKGRmWydPcmRlciBEYXRlJ10pXG5cbiMgR3JvdXAgZGF0YWZyYW1lIGJ5IE9yZGVyIERhdGUgYW5kIHN1bSBzYWxlcyBhbmQgcXVhbnRpdHlcbnNhbGVzX3F1YW50aXR5ID0gZGYuZ3JvdXBieSgnT3JkZXIgRGF0ZScpLnN1bSgpW1snU2FsZXMnLCAnUXVhbnRpdHknXV1cblxuIyBQbG90IHRpbWUgc2VyaWVzIG9mIHNhbGVzIGFuZCBxdWFudGl0eVxuc2FsZXNfcXVhbnRpdHkucGxvdCgpXG5wbHQueGxhYmVsKCdPcmRlciBEYXRlJylcbnBsdC55bGFiZWwoJ1NhbGVzL1F1YW50aXR5JylcbnBsdC50aXRsZSgnVGltZSBTZXJpZXMgb2YgU2FsZXMgYW5kIFF1YW50aXR5JylcbnBsdC5zaG93KClcbiI=`)))\">Copy</button>\n",
       "                </div>"
      ],
      "text/plain": [
       "<IPython.core.display.HTML object>"
      ]
     },
     "metadata": {},
     "output_type": "display_data"
    }
   ],
   "source": [
    "df.sketch.howto(\"can you perfrom time series anlaysis based on sales and quantity?\")"
   ]
  },
  {
   "cell_type": "code",
   "execution_count": null,
   "id": "3c3f9dd4",
   "metadata": {},
   "outputs": [],
   "source": []
  },
  {
   "cell_type": "code",
   "execution_count": 39,
   "id": "469ddfe4",
   "metadata": {},
   "outputs": [
    {
     "data": {
      "image/png": "[encoded data removed]",
      "text/plain": [
       "<Figure size 640x480 with 1 Axes>"
      ]
     },
     "metadata": {},
     "output_type": "display_data"
    }
   ],
   "source": [
    "# Import necessary libraries\n",
    "import pandas as pd\n",
    "import matplotlib.pyplot as plt\n",
    "\n",
    "# Convert Order Date column to datetime format\n",
    "df['Order Date'] = pd.to_datetime(df['Order Date'])\n",
    "\n",
    "# Group dataframe by Order Date and sum sales and quantity\n",
    "sales_quantity = df.groupby('Order Date').sum()[['Sales', 'Profit']]\n",
    "\n",
    "# Plot time series of sales and quantity\n",
    "sales_quantity.plot()\n",
    "plt.xlabel('Order Date')\n",
    "plt.ylabel('Sales/Quantity')\n",
    "plt.title('Time Series of Sales and Quantity')\n",
    "plt.show()\n"
   ]
  },
  {
   "cell_type": "markdown",
   "id": "5bc47899",
   "metadata": {},
   "source": [
    "### Pandas DataAnalysis and Pandas Data Science and Automation series"
   ]
  },
  {
   "cell_type": "markdown",
   "id": "a295b6ee",
   "metadata": {},
   "source": [
    "https://www.youtube.com/playlist?list=PLWuFHho1zKhUJpe9WfSyvrrQrzqDErbmv"
   ]
  },
  {
   "cell_type": "code",
   "execution_count": null,
   "id": "640cbbd9",
   "metadata": {},
   "outputs": [],
   "source": []
  }
 ],
 "metadata": {
  "kernelspec": {
   "display_name": "Python 3 (ipykernel)",
   "language": "python",
   "name": "python3"
  },
  "language_info": {
   "codemirror_mode": {
    "name": "ipython",
    "version": 3
   },
   "file_extension": ".py",
   "mimetype": "text/x-python",
   "name": "python",
   "nbconvert_exporter": "python",
   "pygments_lexer": "ipython3",
   "version": "3.11.2"
  }
 },
 "nbformat": 4,
 "nbformat_minor": 5
}
