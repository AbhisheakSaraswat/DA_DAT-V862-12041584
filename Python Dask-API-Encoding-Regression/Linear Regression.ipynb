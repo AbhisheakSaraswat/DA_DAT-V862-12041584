{
 "cells": [
  {
   "cell_type": "markdown",
   "id": "dbe32db0",
   "metadata": {},
   "source": [
    "### Linear Regression:\n",
    "* Independent Variable (Features)\n",
    "* Dependent Variable (Label Variable)\n",
    "\n",
    "By using independent variable, we are trying to predict the dependent variable.\n",
    "\n",
    "For example: Tempeture vs Ice Cream Sales\n",
    "\n",
    "Which means to say Temp is the <b> causing variable </b> and icecream is the <b> effecting variable </b>\n",
    "\n",
    "Causing variable also called as independent variable and effection variable is the dependent variable."
   ]
  },
  {
   "cell_type": "markdown",
   "id": "878ed21a",
   "metadata": {},
   "source": [
    "### Rules and guidelines:\n",
    "\n",
    "X & Y:\n",
    "\n",
    "* Numerical variable / continuous variable\n",
    "* two variable must be in linear in nature\n",
    "* variance of error should be constant\n"
   ]
  },
  {
   "cell_type": "code",
   "execution_count": 1,
   "id": "7392eb04",
   "metadata": {},
   "outputs": [],
   "source": [
    "import pandas as pd\n",
    "import numpy as np\n",
    "import matplotlib.pyplot as plt\n",
    "import seaborn as sns\n",
    "import os"
   ]
  },
  {
   "cell_type": "code",
   "execution_count": 2,
   "id": "df9861fb",
   "metadata": {},
   "outputs": [
    {
     "data": {
      "text/plain": [
       "['.ipynb_checkpoints',\n",
       " 'AirPassengers.csv',\n",
       " 'hotel.jpg',\n",
       " 'Linear Regression.ipynb',\n",
       " 'Pandas with Sketch.ipynb',\n",
       " 'Parallel Computing with Dask.ipynb',\n",
       " 'Python API.ipynb',\n",
       " 'Python Overview of Un Structured Data.ipynb']"
      ]
     },
     "execution_count": 2,
     "metadata": {},
     "output_type": "execute_result"
    }
   ],
   "source": [
    "os.listdir()"
   ]
  },
  {
   "cell_type": "code",
   "execution_count": 3,
   "id": "6b262a1c",
   "metadata": {},
   "outputs": [],
   "source": [
    "air = pd.read_csv(\"AirPassengers.csv\")"
   ]
  },
  {
   "cell_type": "code",
   "execution_count": 4,
   "id": "8cb0b5e3",
   "metadata": {},
   "outputs": [
    {
     "data": {
      "text/plain": [
       "(80, 9)"
      ]
     },
     "execution_count": 4,
     "metadata": {},
     "output_type": "execute_result"
    }
   ],
   "source": [
    "air.shape"
   ]
  },
  {
   "cell_type": "code",
   "execution_count": 5,
   "id": "e0e0341b",
   "metadata": {},
   "outputs": [
    {
     "data": {
      "text/plain": [
       "Week_num                        0.0\n",
       "Passengers                      0.0\n",
       "Promotion_Budget                0.0\n",
       "Service_Quality_Score           0.0\n",
       "Holiday_week                    0.0\n",
       "Delayed_Cancelled_flight_ind    0.0\n",
       "Inter_metro_flight_ratio        0.0\n",
       "Bad_Weather_Ind                 0.0\n",
       "Technical_issues_ind            0.0\n",
       "dtype: float64"
      ]
     },
     "execution_count": 5,
     "metadata": {},
     "output_type": "execute_result"
    }
   ],
   "source": [
    "air.isnull().mean()"
   ]
  },
  {
   "cell_type": "code",
   "execution_count": 6,
   "id": "704b4f1a",
   "metadata": {},
   "outputs": [
    {
     "data": {
      "text/plain": [
       "False"
      ]
     },
     "execution_count": 6,
     "metadata": {},
     "output_type": "execute_result"
    }
   ],
   "source": [
    "pd.isnull(\"AirPassengers.csv\")"
   ]
  },
  {
   "cell_type": "code",
   "execution_count": 7,
   "id": "88c83730",
   "metadata": {},
   "outputs": [],
   "source": [
    "air1 = air[[\"Passengers\",\"Promotion_Budget\"]].copy()"
   ]
  },
  {
   "cell_type": "code",
   "execution_count": 8,
   "id": "05b937d2",
   "metadata": {},
   "outputs": [
    {
     "data": {
      "text/html": [
       "<div>\n",
       "<style scoped>\n",
       "    .dataframe tbody tr th:only-of-type {\n",
       "        vertical-align: middle;\n",
       "    }\n",
       "\n",
       "    .dataframe tbody tr th {\n",
       "        vertical-align: top;\n",
       "    }\n",
       "\n",
       "    .dataframe thead th {\n",
       "        text-align: right;\n",
       "    }\n",
       "</style>\n",
       "<table border=\"1\" class=\"dataframe\">\n",
       "  <thead>\n",
       "    <tr style=\"text-align: right;\">\n",
       "      <th></th>\n",
       "      <th>Passengers</th>\n",
       "      <th>Promotion_Budget</th>\n",
       "    </tr>\n",
       "  </thead>\n",
       "  <tbody>\n",
       "    <tr>\n",
       "      <th>0</th>\n",
       "      <td>37824</td>\n",
       "      <td>517356</td>\n",
       "    </tr>\n",
       "    <tr>\n",
       "      <th>1</th>\n",
       "      <td>43936</td>\n",
       "      <td>646086</td>\n",
       "    </tr>\n",
       "    <tr>\n",
       "      <th>2</th>\n",
       "      <td>42896</td>\n",
       "      <td>638330</td>\n",
       "    </tr>\n",
       "    <tr>\n",
       "      <th>3</th>\n",
       "      <td>35792</td>\n",
       "      <td>506492</td>\n",
       "    </tr>\n",
       "    <tr>\n",
       "      <th>4</th>\n",
       "      <td>38624</td>\n",
       "      <td>609658</td>\n",
       "    </tr>\n",
       "  </tbody>\n",
       "</table>\n",
       "</div>"
      ],
      "text/plain": [
       "   Passengers  Promotion_Budget\n",
       "0       37824            517356\n",
       "1       43936            646086\n",
       "2       42896            638330\n",
       "3       35792            506492\n",
       "4       38624            609658"
      ]
     },
     "execution_count": 8,
     "metadata": {},
     "output_type": "execute_result"
    }
   ],
   "source": [
    "air1.head()"
   ]
  },
  {
   "cell_type": "markdown",
   "id": "16a0d46c",
   "metadata": {},
   "source": [
    "* Promotion_budget : Independent Variable\n",
    "* Passengers : Dependent Variable"
   ]
  },
  {
   "cell_type": "code",
   "execution_count": 9,
   "id": "d7342cf8",
   "metadata": {},
   "outputs": [
    {
     "data": {
      "image/png": "[encoded data removed]",
      "text/plain": [
       "<Figure size 700x300 with 1 Axes>"
      ]
     },
     "metadata": {},
     "output_type": "display_data"
    }
   ],
   "source": [
    "plt.figure(figsize=(7,3))\n",
    "plt.scatter(air1[\"Promotion_Budget\"], air1[\"Passengers\"])\n",
    "plt.xlabel(\"Promotions\")\n",
    "plt.ylabel(\"Passengers\")\n",
    "plt.show()"
   ]
  },
  {
   "cell_type": "code",
   "execution_count": 12,
   "id": "069a5b86",
   "metadata": {},
   "outputs": [
    {
     "data": {
      "text/plain": [
       "<Figure size 700x300 with 0 Axes>"
      ]
     },
     "metadata": {},
     "output_type": "display_data"
    },
    {
     "data": {
      "image/png": "[encoded data removed]",
      "text/plain": [
       "<Figure size 500x500 with 1 Axes>"
      ]
     },
     "metadata": {},
     "output_type": "display_data"
    }
   ],
   "source": [
    "plt.figure(figsize=(7,3))\n",
    "sns.lmplot(x = \"Promotion_Budget\", y = \"Passengers\", data = air1)\n",
    "plt.show()"
   ]
  },
  {
   "cell_type": "code",
   "execution_count": 13,
   "id": "295183fd",
   "metadata": {},
   "outputs": [],
   "source": [
    "sns.lmplot?"
   ]
  },
  {
   "cell_type": "code",
   "execution_count": 15,
   "id": "da5e858d",
   "metadata": {},
   "outputs": [
    {
     "data": {
      "image/png": "[encoded data removed]",
      "text/plain": [
       "<Figure size 500x500 with 1 Axes>"
      ]
     },
     "metadata": {},
     "output_type": "display_data"
    }
   ],
   "source": [
    "sns.lmplot(x = \"Promotion_Budget\", y = \"Passengers\", data = air1, fit_reg = False)\n",
    "plt.show()"
   ]
  },
  {
   "attachments": {
    "image.png": {
     "image/png": "[encoded data removed]"
    }
   },
   "cell_type": "markdown",
   "id": "36ff5975",
   "metadata": {},
   "source": [
    "![image.png](attachment:image.png)"
   ]
  },
  {
   "cell_type": "code",
   "execution_count": 16,
   "id": "9f554fba",
   "metadata": {},
   "outputs": [],
   "source": [
    "def coef_calc(x,y):\n",
    "    a = sum((x - np.mean(x)) * (y - np.mean(y)))\n",
    "    b = sum((x - np.mean(x))**2)\n",
    "    slope = a / b\n",
    "    intercept = np.mean(y) - (slope * (np.mean(x)))\n",
    "    print(f\"Slope Value : {slope}\")\n",
    "    print(f\"Intercept Value : {intercept}\")\n",
    "    return slope, intercept"
   ]
  },
  {
   "cell_type": "code",
   "execution_count": 17,
   "id": "66bf3db1",
   "metadata": {},
   "outputs": [
    {
     "name": "stdout",
     "output_type": "stream",
     "text": [
      "Slope Value : 0.0695296852886541\n",
      "Intercept Value : 1259.6058320095326\n"
     ]
    }
   ],
   "source": [
    "coefs = coef_calc(x = air1[\"Promotion_Budget\"], y = air1[\"Passengers\"])"
   ]
  },
  {
   "cell_type": "code",
   "execution_count": 18,
   "id": "fd83d659",
   "metadata": {},
   "outputs": [],
   "source": [
    "air1[\"Predict_values\"] = coefs[0] + coefs[1] * air1[\"Promotion_Budget\"]"
   ]
  },
  {
   "cell_type": "code",
   "execution_count": 19,
   "id": "bb39880a",
   "metadata": {},
   "outputs": [
    {
     "data": {
      "text/html": [
       "<div>\n",
       "<style scoped>\n",
       "    .dataframe tbody tr th:only-of-type {\n",
       "        vertical-align: middle;\n",
       "    }\n",
       "\n",
       "    .dataframe tbody tr th {\n",
       "        vertical-align: top;\n",
       "    }\n",
       "\n",
       "    .dataframe thead th {\n",
       "        text-align: right;\n",
       "    }\n",
       "</style>\n",
       "<table border=\"1\" class=\"dataframe\">\n",
       "  <thead>\n",
       "    <tr style=\"text-align: right;\">\n",
       "      <th></th>\n",
       "      <th>Passengers</th>\n",
       "      <th>Promotion_Budget</th>\n",
       "      <th>Predict_values</th>\n",
       "    </tr>\n",
       "  </thead>\n",
       "  <tbody>\n",
       "    <tr>\n",
       "      <th>0</th>\n",
       "      <td>37824</td>\n",
       "      <td>517356</td>\n",
       "      <td>6.516646e+08</td>\n",
       "    </tr>\n",
       "    <tr>\n",
       "      <th>1</th>\n",
       "      <td>43936</td>\n",
       "      <td>646086</td>\n",
       "      <td>8.138137e+08</td>\n",
       "    </tr>\n",
       "    <tr>\n",
       "      <th>2</th>\n",
       "      <td>42896</td>\n",
       "      <td>638330</td>\n",
       "      <td>8.040442e+08</td>\n",
       "    </tr>\n",
       "    <tr>\n",
       "      <th>3</th>\n",
       "      <td>35792</td>\n",
       "      <td>506492</td>\n",
       "      <td>6.379803e+08</td>\n",
       "    </tr>\n",
       "    <tr>\n",
       "      <th>4</th>\n",
       "      <td>38624</td>\n",
       "      <td>609658</td>\n",
       "      <td>7.679288e+08</td>\n",
       "    </tr>\n",
       "  </tbody>\n",
       "</table>\n",
       "</div>"
      ],
      "text/plain": [
       "   Passengers  Promotion_Budget  Predict_values\n",
       "0       37824            517356    6.516646e+08\n",
       "1       43936            646086    8.138137e+08\n",
       "2       42896            638330    8.040442e+08\n",
       "3       35792            506492    6.379803e+08\n",
       "4       38624            609658    7.679288e+08"
      ]
     },
     "execution_count": 19,
     "metadata": {},
     "output_type": "execute_result"
    }
   ],
   "source": [
    "air1.head()"
   ]
  },
  {
   "cell_type": "code",
   "execution_count": 20,
   "id": "a0f4bbf9",
   "metadata": {},
   "outputs": [],
   "source": [
    "import statsmodels.formula.api as sm"
   ]
  },
  {
   "cell_type": "code",
   "execution_count": 21,
   "id": "19b742e6",
   "metadata": {},
   "outputs": [],
   "source": [
    "sm?"
   ]
  },
  {
   "cell_type": "code",
   "execution_count": 22,
   "id": "636b9b68",
   "metadata": {},
   "outputs": [],
   "source": [
    "model = sm.ols(formula = \"Passengers~Promotion_Budget\", data = air1).fit()"
   ]
  },
  {
   "cell_type": "code",
   "execution_count": 23,
   "id": "66765993",
   "metadata": {},
   "outputs": [
    {
     "data": {
      "text/html": [
       "<table class=\"simpletable\">\n",
       "<caption>OLS Regression Results</caption>\n",
       "<tr>\n",
       "  <th>Dep. Variable:</th>       <td>Passengers</td>    <th>  R-squared:         </th> <td>   0.933</td>\n",
       "</tr>\n",
       "<tr>\n",
       "  <th>Model:</th>                   <td>OLS</td>       <th>  Adj. R-squared:    </th> <td>   0.932</td>\n",
       "</tr>\n",
       "<tr>\n",
       "  <th>Method:</th>             <td>Least Squares</td>  <th>  F-statistic:       </th> <td>   1084.</td>\n",
       "</tr>\n",
       "<tr>\n",
       "  <th>Date:</th>             <td>Sat, 26 Oct 2024</td> <th>  Prob (F-statistic):</th> <td>1.66e-47</td>\n",
       "</tr>\n",
       "<tr>\n",
       "  <th>Time:</th>                 <td>12:41:21</td>     <th>  Log-Likelihood:    </th> <td> -751.34</td>\n",
       "</tr>\n",
       "<tr>\n",
       "  <th>No. Observations:</th>      <td>    80</td>      <th>  AIC:               </th> <td>   1507.</td>\n",
       "</tr>\n",
       "<tr>\n",
       "  <th>Df Residuals:</th>          <td>    78</td>      <th>  BIC:               </th> <td>   1511.</td>\n",
       "</tr>\n",
       "<tr>\n",
       "  <th>Df Model:</th>              <td>     1</td>      <th>                     </th>     <td> </td>   \n",
       "</tr>\n",
       "<tr>\n",
       "  <th>Covariance Type:</th>      <td>nonrobust</td>    <th>                     </th>     <td> </td>   \n",
       "</tr>\n",
       "</table>\n",
       "<table class=\"simpletable\">\n",
       "<tr>\n",
       "          <td></td>            <th>coef</th>     <th>std err</th>      <th>t</th>      <th>P>|t|</th>  <th>[0.025</th>    <th>0.975]</th>  \n",
       "</tr>\n",
       "<tr>\n",
       "  <th>Intercept</th>        <td> 1259.6058</td> <td> 1361.071</td> <td>    0.925</td> <td> 0.358</td> <td>-1450.078</td> <td> 3969.290</td>\n",
       "</tr>\n",
       "<tr>\n",
       "  <th>Promotion_Budget</th> <td>    0.0695</td> <td>    0.002</td> <td>   32.923</td> <td> 0.000</td> <td>    0.065</td> <td>    0.074</td>\n",
       "</tr>\n",
       "</table>\n",
       "<table class=\"simpletable\">\n",
       "<tr>\n",
       "  <th>Omnibus:</th>       <td>26.624</td> <th>  Durbin-Watson:     </th> <td>   1.831</td>\n",
       "</tr>\n",
       "<tr>\n",
       "  <th>Prob(Omnibus):</th> <td> 0.000</td> <th>  Jarque-Bera (JB):  </th> <td>   5.188</td>\n",
       "</tr>\n",
       "<tr>\n",
       "  <th>Skew:</th>          <td>-0.128</td> <th>  Prob(JB):          </th> <td>  0.0747</td>\n",
       "</tr>\n",
       "<tr>\n",
       "  <th>Kurtosis:</th>      <td> 1.779</td> <th>  Cond. No.          </th> <td>2.67e+06</td>\n",
       "</tr>\n",
       "</table><br/><br/>Notes:<br/>[1] Standard Errors assume that the covariance matrix of the errors is correctly specified.<br/>[2] The condition number is large, 2.67e+06. This might indicate that there are<br/>strong multicollinearity or other numerical problems."
      ],
      "text/latex": [
       "\\begin{center}\n",
       "\\begin{tabular}{lclc}\n",
       "\\toprule\n",
       "\\textbf{Dep. Variable:}    &    Passengers    & \\textbf{  R-squared:         } &     0.933   \\\\\n",
       "\\textbf{Model:}            &       OLS        & \\textbf{  Adj. R-squared:    } &     0.932   \\\\\n",
       "\\textbf{Method:}           &  Least Squares   & \\textbf{  F-statistic:       } &     1084.   \\\\\n",
       "\\textbf{Date:}             & Sat, 26 Oct 2024 & \\textbf{  Prob (F-statistic):} &  1.66e-47   \\\\\n",
       "\\textbf{Time:}             &     12:41:21     & \\textbf{  Log-Likelihood:    } &   -751.34   \\\\\n",
       "\\textbf{No. Observations:} &          80      & \\textbf{  AIC:               } &     1507.   \\\\\n",
       "\\textbf{Df Residuals:}     &          78      & \\textbf{  BIC:               } &     1511.   \\\\\n",
       "\\textbf{Df Model:}         &           1      & \\textbf{                     } &             \\\\\n",
       "\\textbf{Covariance Type:}  &    nonrobust     & \\textbf{                     } &             \\\\\n",
       "\\bottomrule\n",
       "\\end{tabular}\n",
       "\\begin{tabular}{lcccccc}\n",
       "                           & \\textbf{coef} & \\textbf{std err} & \\textbf{t} & \\textbf{P$> |$t$|$} & \\textbf{[0.025} & \\textbf{0.975]}  \\\\\n",
       "\\midrule\n",
       "\\textbf{Intercept}         &    1259.6058  &     1361.071     &     0.925  &         0.358        &    -1450.078    &     3969.290     \\\\\n",
       "\\textbf{Promotion\\_Budget} &       0.0695  &        0.002     &    32.923  &         0.000        &        0.065    &        0.074     \\\\\n",
       "\\bottomrule\n",
       "\\end{tabular}\n",
       "\\begin{tabular}{lclc}\n",
       "\\textbf{Omnibus:}       & 26.624 & \\textbf{  Durbin-Watson:     } &    1.831  \\\\\n",
       "\\textbf{Prob(Omnibus):} &  0.000 & \\textbf{  Jarque-Bera (JB):  } &    5.188  \\\\\n",
       "\\textbf{Skew:}          & -0.128 & \\textbf{  Prob(JB):          } &   0.0747  \\\\\n",
       "\\textbf{Kurtosis:}      &  1.779 & \\textbf{  Cond. No.          } & 2.67e+06  \\\\\n",
       "\\bottomrule\n",
       "\\end{tabular}\n",
       "%\\caption{OLS Regression Results}\n",
       "\\end{center}\n",
       "\n",
       "Notes: \\newline\n",
       " [1] Standard Errors assume that the covariance matrix of the errors is correctly specified. \\newline\n",
       " [2] The condition number is large, 2.67e+06. This might indicate that there are \\newline\n",
       " strong multicollinearity or other numerical problems."
      ],
      "text/plain": [
       "<class 'statsmodels.iolib.summary.Summary'>\n",
       "\"\"\"\n",
       "                            OLS Regression Results                            \n",
       "==============================================================================\n",
       "Dep. Variable:             Passengers   R-squared:                       0.933\n",
       "Model:                            OLS   Adj. R-squared:                  0.932\n",
       "Method:                 Least Squares   F-statistic:                     1084.\n",
       "Date:                Sat, 26 Oct 2024   Prob (F-statistic):           1.66e-47\n",
       "Time:                        12:41:21   Log-Likelihood:                -751.34\n",
       "No. Observations:                  80   AIC:                             1507.\n",
       "Df Residuals:                      78   BIC:                             1511.\n",
       "Df Model:                           1                                         \n",
       "Covariance Type:            nonrobust                                         \n",
       "====================================================================================\n",
       "                       coef    std err          t      P>|t|      [0.025      0.975]\n",
       "------------------------------------------------------------------------------------\n",
       "Intercept         1259.6058   1361.071      0.925      0.358   -1450.078    3969.290\n",
       "Promotion_Budget     0.0695      0.002     32.923      0.000       0.065       0.074\n",
       "==============================================================================\n",
       "Omnibus:                       26.624   Durbin-Watson:                   1.831\n",
       "Prob(Omnibus):                  0.000   Jarque-Bera (JB):                5.188\n",
       "Skew:                          -0.128   Prob(JB):                       0.0747\n",
       "Kurtosis:                       1.779   Cond. No.                     2.67e+06\n",
       "==============================================================================\n",
       "\n",
       "Notes:\n",
       "[1] Standard Errors assume that the covariance matrix of the errors is correctly specified.\n",
       "[2] The condition number is large, 2.67e+06. This might indicate that there are\n",
       "strong multicollinearity or other numerical problems.\n",
       "\"\"\""
      ]
     },
     "execution_count": 23,
     "metadata": {},
     "output_type": "execute_result"
    }
   ],
   "source": [
    "model.summary()"
   ]
  },
  {
   "cell_type": "code",
   "execution_count": 24,
   "id": "ca2cbccd",
   "metadata": {},
   "outputs": [
    {
     "data": {
      "text/plain": [
       "Intercept           1259.605832\n",
       "Promotion_Budget       0.069530\n",
       "dtype: float64"
      ]
     },
     "execution_count": 24,
     "metadata": {},
     "output_type": "execute_result"
    }
   ],
   "source": [
    "model.params"
   ]
  },
  {
   "cell_type": "code",
   "execution_count": 25,
   "id": "2c3c2b59",
   "metadata": {},
   "outputs": [
    {
     "data": {
      "text/html": [
       "<div>\n",
       "<style scoped>\n",
       "    .dataframe tbody tr th:only-of-type {\n",
       "        vertical-align: middle;\n",
       "    }\n",
       "\n",
       "    .dataframe tbody tr th {\n",
       "        vertical-align: top;\n",
       "    }\n",
       "\n",
       "    .dataframe thead th {\n",
       "        text-align: right;\n",
       "    }\n",
       "</style>\n",
       "<table border=\"1\" class=\"dataframe\">\n",
       "  <thead>\n",
       "    <tr style=\"text-align: right;\">\n",
       "      <th></th>\n",
       "      <th>Passengers</th>\n",
       "      <th>Promotion_Budget</th>\n",
       "      <th>Predict_values</th>\n",
       "    </tr>\n",
       "  </thead>\n",
       "  <tbody>\n",
       "    <tr>\n",
       "      <th>0</th>\n",
       "      <td>37824</td>\n",
       "      <td>517356</td>\n",
       "      <td>6.516646e+08</td>\n",
       "    </tr>\n",
       "    <tr>\n",
       "      <th>1</th>\n",
       "      <td>43936</td>\n",
       "      <td>646086</td>\n",
       "      <td>8.138137e+08</td>\n",
       "    </tr>\n",
       "    <tr>\n",
       "      <th>2</th>\n",
       "      <td>42896</td>\n",
       "      <td>638330</td>\n",
       "      <td>8.040442e+08</td>\n",
       "    </tr>\n",
       "    <tr>\n",
       "      <th>3</th>\n",
       "      <td>35792</td>\n",
       "      <td>506492</td>\n",
       "      <td>6.379803e+08</td>\n",
       "    </tr>\n",
       "    <tr>\n",
       "      <th>4</th>\n",
       "      <td>38624</td>\n",
       "      <td>609658</td>\n",
       "      <td>7.679288e+08</td>\n",
       "    </tr>\n",
       "  </tbody>\n",
       "</table>\n",
       "</div>"
      ],
      "text/plain": [
       "   Passengers  Promotion_Budget  Predict_values\n",
       "0       37824            517356    6.516646e+08\n",
       "1       43936            646086    8.138137e+08\n",
       "2       42896            638330    8.040442e+08\n",
       "3       35792            506492    6.379803e+08\n",
       "4       38624            609658    7.679288e+08"
      ]
     },
     "execution_count": 25,
     "metadata": {},
     "output_type": "execute_result"
    }
   ],
   "source": [
    "air1.head()"
   ]
  },
  {
   "cell_type": "code",
   "execution_count": 26,
   "id": "2c4c14a5",
   "metadata": {},
   "outputs": [],
   "source": [
    "def outlierdectection(data, x):\n",
    "    iqr = data[x].quantile(0.75) - data[x].quantile(0.25)\n",
    "    lo = data[x].quantile(0.25) - 1.5 * iqr\n",
    "    uo = data[x].quantile(0.75) + 1.5 * iqr\n",
    "    print('Lower outlier value: ',lo)\n",
    "    print(\"Upper outlier value: \",uo)"
   ]
  },
  {
   "cell_type": "code",
   "execution_count": 27,
   "id": "a4d0f189",
   "metadata": {},
   "outputs": [
    {
     "name": "stdout",
     "output_type": "stream",
     "text": [
      "Lower outlier value:  261838.5\n",
      "Upper outlier value:  944646.5\n"
     ]
    }
   ],
   "source": [
    "outlierdectection(data = air1, x = \"Promotion_Budget\")"
   ]
  },
  {
   "cell_type": "code",
   "execution_count": 28,
   "id": "bc638818",
   "metadata": {},
   "outputs": [
    {
     "data": {
      "text/plain": [
       "365680"
      ]
     },
     "execution_count": 28,
     "metadata": {},
     "output_type": "execute_result"
    }
   ],
   "source": [
    "air1.Promotion_Budget.min()"
   ]
  },
  {
   "cell_type": "code",
   "execution_count": 29,
   "id": "326949c1",
   "metadata": {},
   "outputs": [
    {
     "data": {
      "text/plain": [
       "1108254"
      ]
     },
     "execution_count": 29,
     "metadata": {},
     "output_type": "execute_result"
    }
   ],
   "source": [
    "air1.Promotion_Budget.max()"
   ]
  },
  {
   "cell_type": "code",
   "execution_count": 30,
   "id": "784d74b0",
   "metadata": {},
   "outputs": [
    {
     "name": "stdout",
     "output_type": "stream",
     "text": [
      "Lower outlier value:  17764.0\n",
      "Upper outlier value:  67524.0\n"
     ]
    }
   ],
   "source": [
    "outlierdectection(data = air1, x = \"Passengers\")"
   ]
  },
  {
   "cell_type": "code",
   "execution_count": 31,
   "id": "810f6a2f",
   "metadata": {},
   "outputs": [
    {
     "data": {
      "text/plain": [
       "81228"
      ]
     },
     "execution_count": 31,
     "metadata": {},
     "output_type": "execute_result"
    }
   ],
   "source": [
    "air1.Passengers.max()"
   ]
  },
  {
   "cell_type": "code",
   "execution_count": 32,
   "id": "710a1c4d",
   "metadata": {},
   "outputs": [
    {
     "data": {
      "text/plain": [
       "28700"
      ]
     },
     "execution_count": 32,
     "metadata": {},
     "output_type": "execute_result"
    }
   ],
   "source": [
    "air1.Passengers.min()"
   ]
  },
  {
   "cell_type": "code",
   "execution_count": 34,
   "id": "7dee92ba",
   "metadata": {},
   "outputs": [],
   "source": [
    "air1[\"Promotion_Budget\"] = np.where(air1[\"Promotion_Budget\"] > 944646.5,944646.5,air1[\"Promotion_Budget\"] )"
   ]
  },
  {
   "cell_type": "code",
   "execution_count": 35,
   "id": "984eac28",
   "metadata": {},
   "outputs": [
    {
     "data": {
      "text/html": [
       "<div>\n",
       "<style scoped>\n",
       "    .dataframe tbody tr th:only-of-type {\n",
       "        vertical-align: middle;\n",
       "    }\n",
       "\n",
       "    .dataframe tbody tr th {\n",
       "        vertical-align: top;\n",
       "    }\n",
       "\n",
       "    .dataframe thead th {\n",
       "        text-align: right;\n",
       "    }\n",
       "</style>\n",
       "<table border=\"1\" class=\"dataframe\">\n",
       "  <thead>\n",
       "    <tr style=\"text-align: right;\">\n",
       "      <th></th>\n",
       "      <th>Passengers</th>\n",
       "      <th>Promotion_Budget</th>\n",
       "      <th>Predict_values</th>\n",
       "    </tr>\n",
       "  </thead>\n",
       "  <tbody>\n",
       "    <tr>\n",
       "      <th>0</th>\n",
       "      <td>37824</td>\n",
       "      <td>517356.0</td>\n",
       "      <td>6.516646e+08</td>\n",
       "    </tr>\n",
       "    <tr>\n",
       "      <th>1</th>\n",
       "      <td>43936</td>\n",
       "      <td>646086.0</td>\n",
       "      <td>8.138137e+08</td>\n",
       "    </tr>\n",
       "    <tr>\n",
       "      <th>2</th>\n",
       "      <td>42896</td>\n",
       "      <td>638330.0</td>\n",
       "      <td>8.040442e+08</td>\n",
       "    </tr>\n",
       "    <tr>\n",
       "      <th>3</th>\n",
       "      <td>35792</td>\n",
       "      <td>506492.0</td>\n",
       "      <td>6.379803e+08</td>\n",
       "    </tr>\n",
       "    <tr>\n",
       "      <th>4</th>\n",
       "      <td>38624</td>\n",
       "      <td>609658.0</td>\n",
       "      <td>7.679288e+08</td>\n",
       "    </tr>\n",
       "  </tbody>\n",
       "</table>\n",
       "</div>"
      ],
      "text/plain": [
       "   Passengers  Promotion_Budget  Predict_values\n",
       "0       37824          517356.0    6.516646e+08\n",
       "1       43936          646086.0    8.138137e+08\n",
       "2       42896          638330.0    8.040442e+08\n",
       "3       35792          506492.0    6.379803e+08\n",
       "4       38624          609658.0    7.679288e+08"
      ]
     },
     "execution_count": 35,
     "metadata": {},
     "output_type": "execute_result"
    }
   ],
   "source": [
    "air1.head()"
   ]
  },
  {
   "cell_type": "code",
   "execution_count": 36,
   "id": "72847882",
   "metadata": {},
   "outputs": [
    {
     "data": {
      "text/plain": [
       "944646.5"
      ]
     },
     "execution_count": 36,
     "metadata": {},
     "output_type": "execute_result"
    }
   ],
   "source": [
    "air1.Promotion_Budget.max()"
   ]
  },
  {
   "cell_type": "code",
   "execution_count": 37,
   "id": "12d254ae",
   "metadata": {},
   "outputs": [],
   "source": [
    "air1[\"Passengers\"] = np.where(air1[\"Passengers\"] >67524.0,67524.0,air1['Passengers'] )"
   ]
  },
  {
   "cell_type": "code",
   "execution_count": 38,
   "id": "80eba424",
   "metadata": {},
   "outputs": [
    {
     "data": {
      "text/html": [
       "<div>\n",
       "<style scoped>\n",
       "    .dataframe tbody tr th:only-of-type {\n",
       "        vertical-align: middle;\n",
       "    }\n",
       "\n",
       "    .dataframe tbody tr th {\n",
       "        vertical-align: top;\n",
       "    }\n",
       "\n",
       "    .dataframe thead th {\n",
       "        text-align: right;\n",
       "    }\n",
       "</style>\n",
       "<table border=\"1\" class=\"dataframe\">\n",
       "  <thead>\n",
       "    <tr style=\"text-align: right;\">\n",
       "      <th></th>\n",
       "      <th>Passengers</th>\n",
       "      <th>Promotion_Budget</th>\n",
       "      <th>Predict_values</th>\n",
       "    </tr>\n",
       "  </thead>\n",
       "  <tbody>\n",
       "    <tr>\n",
       "      <th>0</th>\n",
       "      <td>37824.0</td>\n",
       "      <td>517356.0</td>\n",
       "      <td>6.516646e+08</td>\n",
       "    </tr>\n",
       "    <tr>\n",
       "      <th>1</th>\n",
       "      <td>43936.0</td>\n",
       "      <td>646086.0</td>\n",
       "      <td>8.138137e+08</td>\n",
       "    </tr>\n",
       "    <tr>\n",
       "      <th>2</th>\n",
       "      <td>42896.0</td>\n",
       "      <td>638330.0</td>\n",
       "      <td>8.040442e+08</td>\n",
       "    </tr>\n",
       "    <tr>\n",
       "      <th>3</th>\n",
       "      <td>35792.0</td>\n",
       "      <td>506492.0</td>\n",
       "      <td>6.379803e+08</td>\n",
       "    </tr>\n",
       "    <tr>\n",
       "      <th>4</th>\n",
       "      <td>38624.0</td>\n",
       "      <td>609658.0</td>\n",
       "      <td>7.679288e+08</td>\n",
       "    </tr>\n",
       "  </tbody>\n",
       "</table>\n",
       "</div>"
      ],
      "text/plain": [
       "   Passengers  Promotion_Budget  Predict_values\n",
       "0     37824.0          517356.0    6.516646e+08\n",
       "1     43936.0          646086.0    8.138137e+08\n",
       "2     42896.0          638330.0    8.040442e+08\n",
       "3     35792.0          506492.0    6.379803e+08\n",
       "4     38624.0          609658.0    7.679288e+08"
      ]
     },
     "execution_count": 38,
     "metadata": {},
     "output_type": "execute_result"
    }
   ],
   "source": [
    "air1.head()"
   ]
  },
  {
   "cell_type": "code",
   "execution_count": 39,
   "id": "022034c7",
   "metadata": {},
   "outputs": [],
   "source": [
    "model = sm.ols(formula = \"Passengers~Promotion_Budget\", data = air1).fit()"
   ]
  },
  {
   "cell_type": "code",
   "execution_count": 40,
   "id": "9a7297bf",
   "metadata": {},
   "outputs": [
    {
     "data": {
      "text/html": [
       "<table class=\"simpletable\">\n",
       "<caption>OLS Regression Results</caption>\n",
       "<tr>\n",
       "  <th>Dep. Variable:</th>       <td>Passengers</td>    <th>  R-squared:         </th> <td>   0.922</td>\n",
       "</tr>\n",
       "<tr>\n",
       "  <th>Model:</th>                   <td>OLS</td>       <th>  Adj. R-squared:    </th> <td>   0.921</td>\n",
       "</tr>\n",
       "<tr>\n",
       "  <th>Method:</th>             <td>Least Squares</td>  <th>  F-statistic:       </th> <td>   921.2</td>\n",
       "</tr>\n",
       "<tr>\n",
       "  <th>Date:</th>             <td>Sat, 26 Oct 2024</td> <th>  Prob (F-statistic):</th> <td>5.99e-45</td>\n",
       "</tr>\n",
       "<tr>\n",
       "  <th>Time:</th>                 <td>12:50:13</td>     <th>  Log-Likelihood:    </th> <td> -747.75</td>\n",
       "</tr>\n",
       "<tr>\n",
       "  <th>No. Observations:</th>      <td>    80</td>      <th>  AIC:               </th> <td>   1499.</td>\n",
       "</tr>\n",
       "<tr>\n",
       "  <th>Df Residuals:</th>          <td>    78</td>      <th>  BIC:               </th> <td>   1504.</td>\n",
       "</tr>\n",
       "<tr>\n",
       "  <th>Df Model:</th>              <td>     1</td>      <th>                     </th>     <td> </td>   \n",
       "</tr>\n",
       "<tr>\n",
       "  <th>Covariance Type:</th>      <td>nonrobust</td>    <th>                     </th>     <td> </td>   \n",
       "</tr>\n",
       "</table>\n",
       "<table class=\"simpletable\">\n",
       "<tr>\n",
       "          <td></td>            <th>coef</th>     <th>std err</th>      <th>t</th>      <th>P>|t|</th>  <th>[0.025</th>    <th>0.975]</th>  \n",
       "</tr>\n",
       "<tr>\n",
       "  <th>Intercept</th>        <td> 2302.7793</td> <td> 1417.927</td> <td>    1.624</td> <td> 0.108</td> <td> -520.097</td> <td> 5125.656</td>\n",
       "</tr>\n",
       "<tr>\n",
       "  <th>Promotion_Budget</th> <td>    0.0677</td> <td>    0.002</td> <td>   30.351</td> <td> 0.000</td> <td>    0.063</td> <td>    0.072</td>\n",
       "</tr>\n",
       "</table>\n",
       "<table class=\"simpletable\">\n",
       "<tr>\n",
       "  <th>Omnibus:</th>       <td>13.711</td> <th>  Durbin-Watson:     </th> <td>   1.764</td>\n",
       "</tr>\n",
       "<tr>\n",
       "  <th>Prob(Omnibus):</th> <td> 0.001</td> <th>  Jarque-Bera (JB):  </th> <td>   3.960</td>\n",
       "</tr>\n",
       "<tr>\n",
       "  <th>Skew:</th>          <td>-0.117</td> <th>  Prob(JB):          </th> <td>   0.138</td>\n",
       "</tr>\n",
       "<tr>\n",
       "  <th>Kurtosis:</th>      <td> 1.935</td> <th>  Cond. No.          </th> <td>2.87e+06</td>\n",
       "</tr>\n",
       "</table><br/><br/>Notes:<br/>[1] Standard Errors assume that the covariance matrix of the errors is correctly specified.<br/>[2] The condition number is large, 2.87e+06. This might indicate that there are<br/>strong multicollinearity or other numerical problems."
      ],
      "text/latex": [
       "\\begin{center}\n",
       "\\begin{tabular}{lclc}\n",
       "\\toprule\n",
       "\\textbf{Dep. Variable:}    &    Passengers    & \\textbf{  R-squared:         } &     0.922   \\\\\n",
       "\\textbf{Model:}            &       OLS        & \\textbf{  Adj. R-squared:    } &     0.921   \\\\\n",
       "\\textbf{Method:}           &  Least Squares   & \\textbf{  F-statistic:       } &     921.2   \\\\\n",
       "\\textbf{Date:}             & Sat, 26 Oct 2024 & \\textbf{  Prob (F-statistic):} &  5.99e-45   \\\\\n",
       "\\textbf{Time:}             &     12:50:13     & \\textbf{  Log-Likelihood:    } &   -747.75   \\\\\n",
       "\\textbf{No. Observations:} &          80      & \\textbf{  AIC:               } &     1499.   \\\\\n",
       "\\textbf{Df Residuals:}     &          78      & \\textbf{  BIC:               } &     1504.   \\\\\n",
       "\\textbf{Df Model:}         &           1      & \\textbf{                     } &             \\\\\n",
       "\\textbf{Covariance Type:}  &    nonrobust     & \\textbf{                     } &             \\\\\n",
       "\\bottomrule\n",
       "\\end{tabular}\n",
       "\\begin{tabular}{lcccccc}\n",
       "                           & \\textbf{coef} & \\textbf{std err} & \\textbf{t} & \\textbf{P$> |$t$|$} & \\textbf{[0.025} & \\textbf{0.975]}  \\\\\n",
       "\\midrule\n",
       "\\textbf{Intercept}         &    2302.7793  &     1417.927     &     1.624  &         0.108        &     -520.097    &     5125.656     \\\\\n",
       "\\textbf{Promotion\\_Budget} &       0.0677  &        0.002     &    30.351  &         0.000        &        0.063    &        0.072     \\\\\n",
       "\\bottomrule\n",
       "\\end{tabular}\n",
       "\\begin{tabular}{lclc}\n",
       "\\textbf{Omnibus:}       & 13.711 & \\textbf{  Durbin-Watson:     } &    1.764  \\\\\n",
       "\\textbf{Prob(Omnibus):} &  0.001 & \\textbf{  Jarque-Bera (JB):  } &    3.960  \\\\\n",
       "\\textbf{Skew:}          & -0.117 & \\textbf{  Prob(JB):          } &    0.138  \\\\\n",
       "\\textbf{Kurtosis:}      &  1.935 & \\textbf{  Cond. No.          } & 2.87e+06  \\\\\n",
       "\\bottomrule\n",
       "\\end{tabular}\n",
       "%\\caption{OLS Regression Results}\n",
       "\\end{center}\n",
       "\n",
       "Notes: \\newline\n",
       " [1] Standard Errors assume that the covariance matrix of the errors is correctly specified. \\newline\n",
       " [2] The condition number is large, 2.87e+06. This might indicate that there are \\newline\n",
       " strong multicollinearity or other numerical problems."
      ],
      "text/plain": [
       "<class 'statsmodels.iolib.summary.Summary'>\n",
       "\"\"\"\n",
       "                            OLS Regression Results                            \n",
       "==============================================================================\n",
       "Dep. Variable:             Passengers   R-squared:                       0.922\n",
       "Model:                            OLS   Adj. R-squared:                  0.921\n",
       "Method:                 Least Squares   F-statistic:                     921.2\n",
       "Date:                Sat, 26 Oct 2024   Prob (F-statistic):           5.99e-45\n",
       "Time:                        12:50:13   Log-Likelihood:                -747.75\n",
       "No. Observations:                  80   AIC:                             1499.\n",
       "Df Residuals:                      78   BIC:                             1504.\n",
       "Df Model:                           1                                         \n",
       "Covariance Type:            nonrobust                                         \n",
       "====================================================================================\n",
       "                       coef    std err          t      P>|t|      [0.025      0.975]\n",
       "------------------------------------------------------------------------------------\n",
       "Intercept         2302.7793   1417.927      1.624      0.108    -520.097    5125.656\n",
       "Promotion_Budget     0.0677      0.002     30.351      0.000       0.063       0.072\n",
       "==============================================================================\n",
       "Omnibus:                       13.711   Durbin-Watson:                   1.764\n",
       "Prob(Omnibus):                  0.001   Jarque-Bera (JB):                3.960\n",
       "Skew:                          -0.117   Prob(JB):                        0.138\n",
       "Kurtosis:                       1.935   Cond. No.                     2.87e+06\n",
       "==============================================================================\n",
       "\n",
       "Notes:\n",
       "[1] Standard Errors assume that the covariance matrix of the errors is correctly specified.\n",
       "[2] The condition number is large, 2.87e+06. This might indicate that there are\n",
       "strong multicollinearity or other numerical problems.\n",
       "\"\"\""
      ]
     },
     "execution_count": 40,
     "metadata": {},
     "output_type": "execute_result"
    }
   ],
   "source": [
    "model.summary()"
   ]
  },
  {
   "cell_type": "code",
   "execution_count": 41,
   "id": "f10f74c7",
   "metadata": {},
   "outputs": [
    {
     "data": {
      "text/plain": [
       "Index(['Week_num', 'Passengers', 'Promotion_Budget', 'Service_Quality_Score',\n",
       "       'Holiday_week', 'Delayed_Cancelled_flight_ind',\n",
       "       'Inter_metro_flight_ratio', 'Bad_Weather_Ind', 'Technical_issues_ind'],\n",
       "      dtype='object')"
      ]
     },
     "execution_count": 41,
     "metadata": {},
     "output_type": "execute_result"
    }
   ],
   "source": [
    "air.columns"
   ]
  },
  {
   "cell_type": "code",
   "execution_count": 42,
   "id": "0a45efd3",
   "metadata": {},
   "outputs": [],
   "source": [
    "test = sm.ols(formula = \"Passengers~Promotion_Budget+Service_Quality_Score\",\n",
    "             data = air).fit()"
   ]
  },
  {
   "cell_type": "code",
   "execution_count": 43,
   "id": "275ee896",
   "metadata": {},
   "outputs": [
    {
     "data": {
      "text/html": [
       "<table class=\"simpletable\">\n",
       "<caption>OLS Regression Results</caption>\n",
       "<tr>\n",
       "  <th>Dep. Variable:</th>       <td>Passengers</td>    <th>  R-squared:         </th> <td>   0.951</td>\n",
       "</tr>\n",
       "<tr>\n",
       "  <th>Model:</th>                   <td>OLS</td>       <th>  Adj. R-squared:    </th> <td>   0.950</td>\n",
       "</tr>\n",
       "<tr>\n",
       "  <th>Method:</th>             <td>Least Squares</td>  <th>  F-statistic:       </th> <td>   744.0</td>\n",
       "</tr>\n",
       "<tr>\n",
       "  <th>Date:</th>             <td>Sat, 26 Oct 2024</td> <th>  Prob (F-statistic):</th> <td>4.38e-51</td>\n",
       "</tr>\n",
       "<tr>\n",
       "  <th>Time:</th>                 <td>12:51:09</td>     <th>  Log-Likelihood:    </th> <td> -738.91</td>\n",
       "</tr>\n",
       "<tr>\n",
       "  <th>No. Observations:</th>      <td>    80</td>      <th>  AIC:               </th> <td>   1484.</td>\n",
       "</tr>\n",
       "<tr>\n",
       "  <th>Df Residuals:</th>          <td>    77</td>      <th>  BIC:               </th> <td>   1491.</td>\n",
       "</tr>\n",
       "<tr>\n",
       "  <th>Df Model:</th>              <td>     2</td>      <th>                     </th>     <td> </td>   \n",
       "</tr>\n",
       "<tr>\n",
       "  <th>Covariance Type:</th>      <td>nonrobust</td>    <th>                     </th>     <td> </td>   \n",
       "</tr>\n",
       "</table>\n",
       "<table class=\"simpletable\">\n",
       "<tr>\n",
       "            <td></td>               <th>coef</th>     <th>std err</th>      <th>t</th>      <th>P>|t|</th>  <th>[0.025</th>    <th>0.975]</th>  \n",
       "</tr>\n",
       "<tr>\n",
       "  <th>Intercept</th>             <td> 1.853e+04</td> <td> 3464.796</td> <td>    5.348</td> <td> 0.000</td> <td> 1.16e+04</td> <td> 2.54e+04</td>\n",
       "</tr>\n",
       "<tr>\n",
       "  <th>Promotion_Budget</th>      <td>    0.0544</td> <td>    0.003</td> <td>   16.063</td> <td> 0.000</td> <td>    0.048</td> <td>    0.061</td>\n",
       "</tr>\n",
       "<tr>\n",
       "  <th>Service_Quality_Score</th> <td>-2807.3095</td> <td>  529.958</td> <td>   -5.297</td> <td> 0.000</td> <td>-3862.592</td> <td>-1752.028</td>\n",
       "</tr>\n",
       "</table>\n",
       "<table class=\"simpletable\">\n",
       "<tr>\n",
       "  <th>Omnibus:</th>       <td> 7.728</td> <th>  Durbin-Watson:     </th> <td>   2.331</td>\n",
       "</tr>\n",
       "<tr>\n",
       "  <th>Prob(Omnibus):</th> <td> 0.021</td> <th>  Jarque-Bera (JB):  </th> <td>   2.913</td>\n",
       "</tr>\n",
       "<tr>\n",
       "  <th>Skew:</th>          <td>-0.043</td> <th>  Prob(JB):          </th> <td>   0.233</td>\n",
       "</tr>\n",
       "<tr>\n",
       "  <th>Kurtosis:</th>      <td> 2.069</td> <th>  Cond. No.          </th> <td>7.97e+06</td>\n",
       "</tr>\n",
       "</table><br/><br/>Notes:<br/>[1] Standard Errors assume that the covariance matrix of the errors is correctly specified.<br/>[2] The condition number is large, 7.97e+06. This might indicate that there are<br/>strong multicollinearity or other numerical problems."
      ],
      "text/latex": [
       "\\begin{center}\n",
       "\\begin{tabular}{lclc}\n",
       "\\toprule\n",
       "\\textbf{Dep. Variable:}          &    Passengers    & \\textbf{  R-squared:         } &     0.951   \\\\\n",
       "\\textbf{Model:}                  &       OLS        & \\textbf{  Adj. R-squared:    } &     0.950   \\\\\n",
       "\\textbf{Method:}                 &  Least Squares   & \\textbf{  F-statistic:       } &     744.0   \\\\\n",
       "\\textbf{Date:}                   & Sat, 26 Oct 2024 & \\textbf{  Prob (F-statistic):} &  4.38e-51   \\\\\n",
       "\\textbf{Time:}                   &     12:51:09     & \\textbf{  Log-Likelihood:    } &   -738.91   \\\\\n",
       "\\textbf{No. Observations:}       &          80      & \\textbf{  AIC:               } &     1484.   \\\\\n",
       "\\textbf{Df Residuals:}           &          77      & \\textbf{  BIC:               } &     1491.   \\\\\n",
       "\\textbf{Df Model:}               &           2      & \\textbf{                     } &             \\\\\n",
       "\\textbf{Covariance Type:}        &    nonrobust     & \\textbf{                     } &             \\\\\n",
       "\\bottomrule\n",
       "\\end{tabular}\n",
       "\\begin{tabular}{lcccccc}\n",
       "                                 & \\textbf{coef} & \\textbf{std err} & \\textbf{t} & \\textbf{P$> |$t$|$} & \\textbf{[0.025} & \\textbf{0.975]}  \\\\\n",
       "\\midrule\n",
       "\\textbf{Intercept}               &    1.853e+04  &     3464.796     &     5.348  &         0.000        &     1.16e+04    &     2.54e+04     \\\\\n",
       "\\textbf{Promotion\\_Budget}       &       0.0544  &        0.003     &    16.063  &         0.000        &        0.048    &        0.061     \\\\\n",
       "\\textbf{Service\\_Quality\\_Score} &   -2807.3095  &      529.958     &    -5.297  &         0.000        &    -3862.592    &    -1752.028     \\\\\n",
       "\\bottomrule\n",
       "\\end{tabular}\n",
       "\\begin{tabular}{lclc}\n",
       "\\textbf{Omnibus:}       &  7.728 & \\textbf{  Durbin-Watson:     } &    2.331  \\\\\n",
       "\\textbf{Prob(Omnibus):} &  0.021 & \\textbf{  Jarque-Bera (JB):  } &    2.913  \\\\\n",
       "\\textbf{Skew:}          & -0.043 & \\textbf{  Prob(JB):          } &    0.233  \\\\\n",
       "\\textbf{Kurtosis:}      &  2.069 & \\textbf{  Cond. No.          } & 7.97e+06  \\\\\n",
       "\\bottomrule\n",
       "\\end{tabular}\n",
       "%\\caption{OLS Regression Results}\n",
       "\\end{center}\n",
       "\n",
       "Notes: \\newline\n",
       " [1] Standard Errors assume that the covariance matrix of the errors is correctly specified. \\newline\n",
       " [2] The condition number is large, 7.97e+06. This might indicate that there are \\newline\n",
       " strong multicollinearity or other numerical problems."
      ],
      "text/plain": [
       "<class 'statsmodels.iolib.summary.Summary'>\n",
       "\"\"\"\n",
       "                            OLS Regression Results                            \n",
       "==============================================================================\n",
       "Dep. Variable:             Passengers   R-squared:                       0.951\n",
       "Model:                            OLS   Adj. R-squared:                  0.950\n",
       "Method:                 Least Squares   F-statistic:                     744.0\n",
       "Date:                Sat, 26 Oct 2024   Prob (F-statistic):           4.38e-51\n",
       "Time:                        12:51:09   Log-Likelihood:                -738.91\n",
       "No. Observations:                  80   AIC:                             1484.\n",
       "Df Residuals:                      77   BIC:                             1491.\n",
       "Df Model:                           2                                         \n",
       "Covariance Type:            nonrobust                                         \n",
       "=========================================================================================\n",
       "                            coef    std err          t      P>|t|      [0.025      0.975]\n",
       "-----------------------------------------------------------------------------------------\n",
       "Intercept              1.853e+04   3464.796      5.348      0.000    1.16e+04    2.54e+04\n",
       "Promotion_Budget          0.0544      0.003     16.063      0.000       0.048       0.061\n",
       "Service_Quality_Score -2807.3095    529.958     -5.297      0.000   -3862.592   -1752.028\n",
       "==============================================================================\n",
       "Omnibus:                        7.728   Durbin-Watson:                   2.331\n",
       "Prob(Omnibus):                  0.021   Jarque-Bera (JB):                2.913\n",
       "Skew:                          -0.043   Prob(JB):                        0.233\n",
       "Kurtosis:                       2.069   Cond. No.                     7.97e+06\n",
       "==============================================================================\n",
       "\n",
       "Notes:\n",
       "[1] Standard Errors assume that the covariance matrix of the errors is correctly specified.\n",
       "[2] The condition number is large, 7.97e+06. This might indicate that there are\n",
       "strong multicollinearity or other numerical problems.\n",
       "\"\"\""
      ]
     },
     "execution_count": 43,
     "metadata": {},
     "output_type": "execute_result"
    }
   ],
   "source": [
    "test.summary()"
   ]
  },
  {
   "cell_type": "code",
   "execution_count": 44,
   "id": "a7fc9e2a",
   "metadata": {},
   "outputs": [],
   "source": [
    "air1[\"Pred\"] = model.predict()"
   ]
  },
  {
   "cell_type": "code",
   "execution_count": 45,
   "id": "0bfcb02f",
   "metadata": {},
   "outputs": [
    {
     "data": {
      "text/html": [
       "<div>\n",
       "<style scoped>\n",
       "    .dataframe tbody tr th:only-of-type {\n",
       "        vertical-align: middle;\n",
       "    }\n",
       "\n",
       "    .dataframe tbody tr th {\n",
       "        vertical-align: top;\n",
       "    }\n",
       "\n",
       "    .dataframe thead th {\n",
       "        text-align: right;\n",
       "    }\n",
       "</style>\n",
       "<table border=\"1\" class=\"dataframe\">\n",
       "  <thead>\n",
       "    <tr style=\"text-align: right;\">\n",
       "      <th></th>\n",
       "      <th>Passengers</th>\n",
       "      <th>Promotion_Budget</th>\n",
       "      <th>Predict_values</th>\n",
       "      <th>Pred</th>\n",
       "    </tr>\n",
       "  </thead>\n",
       "  <tbody>\n",
       "    <tr>\n",
       "      <th>0</th>\n",
       "      <td>37824.0</td>\n",
       "      <td>517356.0</td>\n",
       "      <td>6.516646e+08</td>\n",
       "      <td>37344.432940</td>\n",
       "    </tr>\n",
       "    <tr>\n",
       "      <th>1</th>\n",
       "      <td>43936.0</td>\n",
       "      <td>646086.0</td>\n",
       "      <td>8.138137e+08</td>\n",
       "      <td>46063.597448</td>\n",
       "    </tr>\n",
       "    <tr>\n",
       "      <th>2</th>\n",
       "      <td>42896.0</td>\n",
       "      <td>638330.0</td>\n",
       "      <td>8.040442e+08</td>\n",
       "      <td>45538.266601</td>\n",
       "    </tr>\n",
       "    <tr>\n",
       "      <th>3</th>\n",
       "      <td>35792.0</td>\n",
       "      <td>506492.0</td>\n",
       "      <td>6.379803e+08</td>\n",
       "      <td>36608.590454</td>\n",
       "    </tr>\n",
       "    <tr>\n",
       "      <th>4</th>\n",
       "      <td>38624.0</td>\n",
       "      <td>609658.0</td>\n",
       "      <td>7.679288e+08</td>\n",
       "      <td>43596.249319</td>\n",
       "    </tr>\n",
       "  </tbody>\n",
       "</table>\n",
       "</div>"
      ],
      "text/plain": [
       "   Passengers  Promotion_Budget  Predict_values          Pred\n",
       "0     37824.0          517356.0    6.516646e+08  37344.432940\n",
       "1     43936.0          646086.0    8.138137e+08  46063.597448\n",
       "2     42896.0          638330.0    8.040442e+08  45538.266601\n",
       "3     35792.0          506492.0    6.379803e+08  36608.590454\n",
       "4     38624.0          609658.0    7.679288e+08  43596.249319"
      ]
     },
     "execution_count": 45,
     "metadata": {},
     "output_type": "execute_result"
    }
   ],
   "source": [
    "air1.head()"
   ]
  },
  {
   "cell_type": "code",
   "execution_count": 46,
   "id": "a3c5d014",
   "metadata": {},
   "outputs": [],
   "source": [
    "budget = 1000\n",
    "pred_passengers = coefs[0] + coefs[1] + budget\n"
   ]
  },
  {
   "cell_type": "code",
   "execution_count": 47,
   "id": "81f1e9d2",
   "metadata": {},
   "outputs": [
    {
     "data": {
      "text/plain": [
       "2259.6753616948213"
      ]
     },
     "execution_count": 47,
     "metadata": {},
     "output_type": "execute_result"
    }
   ],
   "source": [
    "pred_passengers"
   ]
  },
  {
   "cell_type": "markdown",
   "id": "2f8a7e5a",
   "metadata": {},
   "source": [
    "### Label Encoding\n",
    "\n",
    "Label encoding is a process of converting the categorical variables into numerical values."
   ]
  },
  {
   "cell_type": "code",
   "execution_count": 48,
   "id": "2dca4cfb",
   "metadata": {},
   "outputs": [],
   "source": [
    "from sklearn.preprocessing import LabelEncoder"
   ]
  },
  {
   "cell_type": "code",
   "execution_count": 49,
   "id": "bd9db68c",
   "metadata": {},
   "outputs": [],
   "source": [
    "data = {\"color\" : [\"Red\",\"Green\",'Blue',\"Red\",\"Green\"],\n",
    "       \"size\" : [\"Small\",\"Medium\",\"Large\",\"Medium\",\"Small\"]}"
   ]
  },
  {
   "cell_type": "code",
   "execution_count": 50,
   "id": "fb76e218",
   "metadata": {},
   "outputs": [
    {
     "data": {
      "text/plain": [
       "{'color': ['Red', 'Green', 'Blue', 'Red', 'Green'],\n",
       " 'size': ['Small', 'Medium', 'Large', 'Medium', 'Small']}"
      ]
     },
     "execution_count": 50,
     "metadata": {},
     "output_type": "execute_result"
    }
   ],
   "source": [
    "data"
   ]
  },
  {
   "cell_type": "code",
   "execution_count": 51,
   "id": "18493c0e",
   "metadata": {},
   "outputs": [],
   "source": [
    "df = pd.DataFrame(data)"
   ]
  },
  {
   "cell_type": "code",
   "execution_count": 52,
   "id": "1b71d750",
   "metadata": {},
   "outputs": [
    {
     "data": {
      "text/html": [
       "<div>\n",
       "<style scoped>\n",
       "    .dataframe tbody tr th:only-of-type {\n",
       "        vertical-align: middle;\n",
       "    }\n",
       "\n",
       "    .dataframe tbody tr th {\n",
       "        vertical-align: top;\n",
       "    }\n",
       "\n",
       "    .dataframe thead th {\n",
       "        text-align: right;\n",
       "    }\n",
       "</style>\n",
       "<table border=\"1\" class=\"dataframe\">\n",
       "  <thead>\n",
       "    <tr style=\"text-align: right;\">\n",
       "      <th></th>\n",
       "      <th>color</th>\n",
       "      <th>size</th>\n",
       "    </tr>\n",
       "  </thead>\n",
       "  <tbody>\n",
       "    <tr>\n",
       "      <th>0</th>\n",
       "      <td>Red</td>\n",
       "      <td>Small</td>\n",
       "    </tr>\n",
       "    <tr>\n",
       "      <th>1</th>\n",
       "      <td>Green</td>\n",
       "      <td>Medium</td>\n",
       "    </tr>\n",
       "    <tr>\n",
       "      <th>2</th>\n",
       "      <td>Blue</td>\n",
       "      <td>Large</td>\n",
       "    </tr>\n",
       "    <tr>\n",
       "      <th>3</th>\n",
       "      <td>Red</td>\n",
       "      <td>Medium</td>\n",
       "    </tr>\n",
       "    <tr>\n",
       "      <th>4</th>\n",
       "      <td>Green</td>\n",
       "      <td>Small</td>\n",
       "    </tr>\n",
       "  </tbody>\n",
       "</table>\n",
       "</div>"
      ],
      "text/plain": [
       "   color    size\n",
       "0    Red   Small\n",
       "1  Green  Medium\n",
       "2   Blue   Large\n",
       "3    Red  Medium\n",
       "4  Green   Small"
      ]
     },
     "execution_count": 52,
     "metadata": {},
     "output_type": "execute_result"
    }
   ],
   "source": [
    "df.head()"
   ]
  },
  {
   "cell_type": "code",
   "execution_count": 53,
   "id": "2c5e5397",
   "metadata": {},
   "outputs": [],
   "source": [
    "label_encoder = LabelEncoder()"
   ]
  },
  {
   "cell_type": "code",
   "execution_count": 54,
   "id": "d39f8f6e",
   "metadata": {},
   "outputs": [
    {
     "data": {
      "text/html": [
       "<style>#sk-container-id-1 {color: black;}#sk-container-id-1 pre{padding: 0;}#sk-container-id-1 div.sk-toggleable {background-color: white;}#sk-container-id-1 label.sk-toggleable__label {cursor: pointer;display: block;width: 100%;margin-bottom: 0;padding: 0.3em;box-sizing: border-box;text-align: center;}#sk-container-id-1 label.sk-toggleable__label-arrow:before {content: \"▸\";float: left;margin-right: 0.25em;color: #696969;}#sk-container-id-1 label.sk-toggleable__label-arrow:hover:before {color: black;}#sk-container-id-1 div.sk-estimator:hover label.sk-toggleable__label-arrow:before {color: black;}#sk-container-id-1 div.sk-toggleable__content {max-height: 0;max-width: 0;overflow: hidden;text-align: left;background-color: #f0f8ff;}#sk-container-id-1 div.sk-toggleable__content pre {margin: 0.2em;color: black;border-radius: 0.25em;background-color: #f0f8ff;}#sk-container-id-1 input.sk-toggleable__control:checked~div.sk-toggleable__content {max-height: 200px;max-width: 100%;overflow: auto;}#sk-container-id-1 input.sk-toggleable__control:checked~label.sk-toggleable__label-arrow:before {content: \"▾\";}#sk-container-id-1 div.sk-estimator input.sk-toggleable__control:checked~label.sk-toggleable__label {background-color: #d4ebff;}#sk-container-id-1 div.sk-label input.sk-toggleable__control:checked~label.sk-toggleable__label {background-color: #d4ebff;}#sk-container-id-1 input.sk-hidden--visually {border: 0;clip: rect(1px 1px 1px 1px);clip: rect(1px, 1px, 1px, 1px);height: 1px;margin: -1px;overflow: hidden;padding: 0;position: absolute;width: 1px;}#sk-container-id-1 div.sk-estimator {font-family: monospace;background-color: #f0f8ff;border: 1px dotted black;border-radius: 0.25em;box-sizing: border-box;margin-bottom: 0.5em;}#sk-container-id-1 div.sk-estimator:hover {background-color: #d4ebff;}#sk-container-id-1 div.sk-parallel-item::after {content: \"\";width: 100%;border-bottom: 1px solid gray;flex-grow: 1;}#sk-container-id-1 div.sk-label:hover label.sk-toggleable__label {background-color: #d4ebff;}#sk-container-id-1 div.sk-serial::before {content: \"\";position: absolute;border-left: 1px solid gray;box-sizing: border-box;top: 0;bottom: 0;left: 50%;z-index: 0;}#sk-container-id-1 div.sk-serial {display: flex;flex-direction: column;align-items: center;background-color: white;padding-right: 0.2em;padding-left: 0.2em;position: relative;}#sk-container-id-1 div.sk-item {position: relative;z-index: 1;}#sk-container-id-1 div.sk-parallel {display: flex;align-items: stretch;justify-content: center;background-color: white;position: relative;}#sk-container-id-1 div.sk-item::before, #sk-container-id-1 div.sk-parallel-item::before {content: \"\";position: absolute;border-left: 1px solid gray;box-sizing: border-box;top: 0;bottom: 0;left: 50%;z-index: -1;}#sk-container-id-1 div.sk-parallel-item {display: flex;flex-direction: column;z-index: 1;position: relative;background-color: white;}#sk-container-id-1 div.sk-parallel-item:first-child::after {align-self: flex-end;width: 50%;}#sk-container-id-1 div.sk-parallel-item:last-child::after {align-self: flex-start;width: 50%;}#sk-container-id-1 div.sk-parallel-item:only-child::after {width: 0;}#sk-container-id-1 div.sk-dashed-wrapped {border: 1px dashed gray;margin: 0 0.4em 0.5em 0.4em;box-sizing: border-box;padding-bottom: 0.4em;background-color: white;}#sk-container-id-1 div.sk-label label {font-family: monospace;font-weight: bold;display: inline-block;line-height: 1.2em;}#sk-container-id-1 div.sk-label-container {text-align: center;}#sk-container-id-1 div.sk-container {/* jupyter's `normalize.less` sets `[hidden] { display: none; }` but bootstrap.min.css set `[hidden] { display: none !important; }` so we also need the `!important` here to be able to override the default hidden behavior on the sphinx rendered scikit-learn.org. See: https://github.com/scikit-learn/scikit-learn/issues/21755 */display: inline-block !important;position: relative;}#sk-container-id-1 div.sk-text-repr-fallback {display: none;}</style><div id=\"sk-container-id-1\" class=\"sk-top-container\"><div class=\"sk-text-repr-fallback\"><pre>LabelEncoder()</pre><b>In a Jupyter environment, please rerun this cell to show the HTML representation or trust the notebook. <br />On GitHub, the HTML representation is unable to render, please try loading this page with nbviewer.org.</b></div><div class=\"sk-container\" hidden><div class=\"sk-item\"><div class=\"sk-estimator sk-toggleable\"><input class=\"sk-toggleable__control sk-hidden--visually\" id=\"sk-estimator-id-1\" type=\"checkbox\" checked><label for=\"sk-estimator-id-1\" class=\"sk-toggleable__label sk-toggleable__label-arrow\">LabelEncoder</label><div class=\"sk-toggleable__content\"><pre>LabelEncoder()</pre></div></div></div></div></div>"
      ],
      "text/plain": [
       "LabelEncoder()"
      ]
     },
     "execution_count": 54,
     "metadata": {},
     "output_type": "execute_result"
    }
   ],
   "source": [
    "label_encoder"
   ]
  },
  {
   "cell_type": "code",
   "execution_count": 55,
   "id": "25cc082d",
   "metadata": {},
   "outputs": [],
   "source": [
    "df[\"Size_Encoded\"] = label_encoder.fit_transform(df['size'])"
   ]
  },
  {
   "cell_type": "code",
   "execution_count": 56,
   "id": "9face2a8",
   "metadata": {},
   "outputs": [
    {
     "data": {
      "text/html": [
       "<div>\n",
       "<style scoped>\n",
       "    .dataframe tbody tr th:only-of-type {\n",
       "        vertical-align: middle;\n",
       "    }\n",
       "\n",
       "    .dataframe tbody tr th {\n",
       "        vertical-align: top;\n",
       "    }\n",
       "\n",
       "    .dataframe thead th {\n",
       "        text-align: right;\n",
       "    }\n",
       "</style>\n",
       "<table border=\"1\" class=\"dataframe\">\n",
       "  <thead>\n",
       "    <tr style=\"text-align: right;\">\n",
       "      <th></th>\n",
       "      <th>color</th>\n",
       "      <th>size</th>\n",
       "      <th>Size_Encoded</th>\n",
       "    </tr>\n",
       "  </thead>\n",
       "  <tbody>\n",
       "    <tr>\n",
       "      <th>0</th>\n",
       "      <td>Red</td>\n",
       "      <td>Small</td>\n",
       "      <td>2</td>\n",
       "    </tr>\n",
       "    <tr>\n",
       "      <th>1</th>\n",
       "      <td>Green</td>\n",
       "      <td>Medium</td>\n",
       "      <td>1</td>\n",
       "    </tr>\n",
       "    <tr>\n",
       "      <th>2</th>\n",
       "      <td>Blue</td>\n",
       "      <td>Large</td>\n",
       "      <td>0</td>\n",
       "    </tr>\n",
       "    <tr>\n",
       "      <th>3</th>\n",
       "      <td>Red</td>\n",
       "      <td>Medium</td>\n",
       "      <td>1</td>\n",
       "    </tr>\n",
       "    <tr>\n",
       "      <th>4</th>\n",
       "      <td>Green</td>\n",
       "      <td>Small</td>\n",
       "      <td>2</td>\n",
       "    </tr>\n",
       "  </tbody>\n",
       "</table>\n",
       "</div>"
      ],
      "text/plain": [
       "   color    size  Size_Encoded\n",
       "0    Red   Small             2\n",
       "1  Green  Medium             1\n",
       "2   Blue   Large             0\n",
       "3    Red  Medium             1\n",
       "4  Green   Small             2"
      ]
     },
     "execution_count": 56,
     "metadata": {},
     "output_type": "execute_result"
    }
   ],
   "source": [
    "df"
   ]
  },
  {
   "cell_type": "code",
   "execution_count": 57,
   "id": "9456b70e",
   "metadata": {},
   "outputs": [],
   "source": [
    "df[\"Size1\"] = df[\"size\"].astype(\"category\")"
   ]
  },
  {
   "cell_type": "code",
   "execution_count": 58,
   "id": "ee51a7aa",
   "metadata": {},
   "outputs": [
    {
     "data": {
      "text/html": [
       "<div>\n",
       "<style scoped>\n",
       "    .dataframe tbody tr th:only-of-type {\n",
       "        vertical-align: middle;\n",
       "    }\n",
       "\n",
       "    .dataframe tbody tr th {\n",
       "        vertical-align: top;\n",
       "    }\n",
       "\n",
       "    .dataframe thead th {\n",
       "        text-align: right;\n",
       "    }\n",
       "</style>\n",
       "<table border=\"1\" class=\"dataframe\">\n",
       "  <thead>\n",
       "    <tr style=\"text-align: right;\">\n",
       "      <th></th>\n",
       "      <th>color</th>\n",
       "      <th>size</th>\n",
       "      <th>Size_Encoded</th>\n",
       "      <th>Size1</th>\n",
       "    </tr>\n",
       "  </thead>\n",
       "  <tbody>\n",
       "    <tr>\n",
       "      <th>0</th>\n",
       "      <td>Red</td>\n",
       "      <td>Small</td>\n",
       "      <td>2</td>\n",
       "      <td>Small</td>\n",
       "    </tr>\n",
       "    <tr>\n",
       "      <th>1</th>\n",
       "      <td>Green</td>\n",
       "      <td>Medium</td>\n",
       "      <td>1</td>\n",
       "      <td>Medium</td>\n",
       "    </tr>\n",
       "    <tr>\n",
       "      <th>2</th>\n",
       "      <td>Blue</td>\n",
       "      <td>Large</td>\n",
       "      <td>0</td>\n",
       "      <td>Large</td>\n",
       "    </tr>\n",
       "    <tr>\n",
       "      <th>3</th>\n",
       "      <td>Red</td>\n",
       "      <td>Medium</td>\n",
       "      <td>1</td>\n",
       "      <td>Medium</td>\n",
       "    </tr>\n",
       "    <tr>\n",
       "      <th>4</th>\n",
       "      <td>Green</td>\n",
       "      <td>Small</td>\n",
       "      <td>2</td>\n",
       "      <td>Small</td>\n",
       "    </tr>\n",
       "  </tbody>\n",
       "</table>\n",
       "</div>"
      ],
      "text/plain": [
       "   color    size  Size_Encoded   Size1\n",
       "0    Red   Small             2   Small\n",
       "1  Green  Medium             1  Medium\n",
       "2   Blue   Large             0   Large\n",
       "3    Red  Medium             1  Medium\n",
       "4  Green   Small             2   Small"
      ]
     },
     "execution_count": 58,
     "metadata": {},
     "output_type": "execute_result"
    }
   ],
   "source": [
    "df"
   ]
  },
  {
   "cell_type": "code",
   "execution_count": 59,
   "id": "ea6bc3f5",
   "metadata": {},
   "outputs": [],
   "source": [
    "df[\"Size_Cat_Encoded\"] = df[\"Size1\"].cat.codes"
   ]
  },
  {
   "cell_type": "code",
   "execution_count": 60,
   "id": "b46bc019",
   "metadata": {},
   "outputs": [
    {
     "data": {
      "text/html": [
       "<div>\n",
       "<style scoped>\n",
       "    .dataframe tbody tr th:only-of-type {\n",
       "        vertical-align: middle;\n",
       "    }\n",
       "\n",
       "    .dataframe tbody tr th {\n",
       "        vertical-align: top;\n",
       "    }\n",
       "\n",
       "    .dataframe thead th {\n",
       "        text-align: right;\n",
       "    }\n",
       "</style>\n",
       "<table border=\"1\" class=\"dataframe\">\n",
       "  <thead>\n",
       "    <tr style=\"text-align: right;\">\n",
       "      <th></th>\n",
       "      <th>color</th>\n",
       "      <th>size</th>\n",
       "      <th>Size_Encoded</th>\n",
       "      <th>Size1</th>\n",
       "      <th>Size_Cat_Encoded</th>\n",
       "    </tr>\n",
       "  </thead>\n",
       "  <tbody>\n",
       "    <tr>\n",
       "      <th>0</th>\n",
       "      <td>Red</td>\n",
       "      <td>Small</td>\n",
       "      <td>2</td>\n",
       "      <td>Small</td>\n",
       "      <td>2</td>\n",
       "    </tr>\n",
       "    <tr>\n",
       "      <th>1</th>\n",
       "      <td>Green</td>\n",
       "      <td>Medium</td>\n",
       "      <td>1</td>\n",
       "      <td>Medium</td>\n",
       "      <td>1</td>\n",
       "    </tr>\n",
       "    <tr>\n",
       "      <th>2</th>\n",
       "      <td>Blue</td>\n",
       "      <td>Large</td>\n",
       "      <td>0</td>\n",
       "      <td>Large</td>\n",
       "      <td>0</td>\n",
       "    </tr>\n",
       "    <tr>\n",
       "      <th>3</th>\n",
       "      <td>Red</td>\n",
       "      <td>Medium</td>\n",
       "      <td>1</td>\n",
       "      <td>Medium</td>\n",
       "      <td>1</td>\n",
       "    </tr>\n",
       "    <tr>\n",
       "      <th>4</th>\n",
       "      <td>Green</td>\n",
       "      <td>Small</td>\n",
       "      <td>2</td>\n",
       "      <td>Small</td>\n",
       "      <td>2</td>\n",
       "    </tr>\n",
       "  </tbody>\n",
       "</table>\n",
       "</div>"
      ],
      "text/plain": [
       "   color    size  Size_Encoded   Size1  Size_Cat_Encoded\n",
       "0    Red   Small             2   Small                 2\n",
       "1  Green  Medium             1  Medium                 1\n",
       "2   Blue   Large             0   Large                 0\n",
       "3    Red  Medium             1  Medium                 1\n",
       "4  Green   Small             2   Small                 2"
      ]
     },
     "execution_count": 60,
     "metadata": {},
     "output_type": "execute_result"
    }
   ],
   "source": [
    "df"
   ]
  },
  {
   "cell_type": "code",
   "execution_count": null,
   "id": "516d03d3",
   "metadata": {},
   "outputs": [],
   "source": []
  }
 ],
 "metadata": {
  "kernelspec": {
   "display_name": "Python 3 (ipykernel)",
   "language": "python",
   "name": "python3"
  },
  "language_info": {
   "codemirror_mode": {
    "name": "ipython",
    "version": 3
   },
   "file_extension": ".py",
   "mimetype": "text/x-python",
   "name": "python",
   "nbconvert_exporter": "python",
   "pygments_lexer": "ipython3",
   "version": "3.11.2"
  }
 },
 "nbformat": 4,
 "nbformat_minor": 5
}
