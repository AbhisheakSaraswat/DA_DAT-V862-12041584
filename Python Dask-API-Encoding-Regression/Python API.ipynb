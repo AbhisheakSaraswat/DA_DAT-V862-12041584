{
 "cells": [
  {
   "cell_type": "markdown",
   "id": "50aafbf9",
   "metadata": {},
   "source": [
    "### Understanding Common API Status Codes"
   ]
  },
  {
   "cell_type": "markdown",
   "id": "d94d3eb9",
   "metadata": {},
   "source": [
    "* 200 : Everthing went okky, and the reuslt has been returned successfully (if any)\n",
    "* 301 : The server is redirecting you to a differnt endpoint. \n",
    "* 400 : The server thinks you made a bad request. or When you send incorrect data or make oter client-side errors.\n",
    "* 401 : The server thinks you are not authenticated, It happns when you do not send the right credentials to access an api.\n",
    "* 403 : The resource you are trying to access is forbidden. You dont have right persimissions to see it.\n",
    "* 404 : The resource you tried to access was not found on the server.\n",
    "* 500 : The server get unexpected condition or that is no filling the requirement mady be the client.\n",
    "* 503 : The server is not ready to handle the request.\n"
   ]
  },
  {
   "cell_type": "markdown",
   "id": "2d270356",
   "metadata": {},
   "source": [
    "### API :  Application programming Interface\n",
    "* Create : POST\n",
    "* Read : GET\n",
    "* Update : PUT\n",
    "* Delete : DELETE"
   ]
  },
  {
   "cell_type": "markdown",
   "id": "9585de67",
   "metadata": {},
   "source": [
    "* 200 : Success\n",
    "* 400 : Bad Request\n",
    "* 401 : Not Authenticated\n",
    "* 404 : Not Found\n",
    "* 429 : Too many requests"
   ]
  },
  {
   "cell_type": "code",
   "execution_count": 3,
   "id": "cae2b16f",
   "metadata": {},
   "outputs": [],
   "source": [
    "import pandas as pd\n",
    "import requests\n",
    "import warnings\n",
    "warnings.filterwarnings(\"ignore\")"
   ]
  },
  {
   "cell_type": "code",
   "execution_count": 4,
   "id": "404a119f",
   "metadata": {},
   "outputs": [],
   "source": [
    "request = requests.get('https://www.loc.gov/collections/civil-war-maps?fo=json', verify=False)"
   ]
  },
  {
   "cell_type": "code",
   "execution_count": 5,
   "id": "9a857918",
   "metadata": {},
   "outputs": [
    {
     "data": {
      "text/plain": [
       "200"
      ]
     },
     "execution_count": 5,
     "metadata": {},
     "output_type": "execute_result"
    }
   ],
   "source": [
    "request.status_code"
   ]
  },
  {
   "cell_type": "code",
   "execution_count": 6,
   "id": "6b4e98e7",
   "metadata": {},
   "outputs": [
    {
     "data": {
      "text/plain": [
       "True"
      ]
     },
     "execution_count": 6,
     "metadata": {},
     "output_type": "execute_result"
    }
   ],
   "source": [
    "request.ok"
   ]
  },
  {
   "cell_type": "code",
   "execution_count": 8,
   "id": "86bc0c9b",
   "metadata": {},
   "outputs": [],
   "source": [
    "data = request.json()"
   ]
  },
  {
   "cell_type": "code",
   "execution_count": 9,
   "id": "2c69036e",
   "metadata": {},
   "outputs": [
    {
     "data": {
      "text/plain": [
       "dict"
      ]
     },
     "execution_count": 9,
     "metadata": {},
     "output_type": "execute_result"
    }
   ],
   "source": [
    "type(data)"
   ]
  },
  {
   "cell_type": "code",
   "execution_count": 10,
   "id": "3a7186b5",
   "metadata": {},
   "outputs": [
    {
     "data": {
      "text/plain": [
       "dict_keys(['aka', 'breadcrumbs', 'categories', 'content', 'content_is_post', 'digitized', 'expert_resources', 'facet_trail', 'facet_views', 'facets', 'featured_items', 'form_facets', 'next', 'next_sibling', 'options', 'original_formats', 'pages', 'pagination', 'partof', 'previous', 'previous_sibling', 'research-centers', 'results', 'search', 'shards', 'site_type', 'subjects', 'timestamp', 'title', 'topics', 'total', 'views'])"
      ]
     },
     "execution_count": 10,
     "metadata": {},
     "output_type": "execute_result"
    }
   ],
   "source": [
    "data.keys()"
   ]
  },
  {
   "cell_type": "code",
   "execution_count": 12,
   "id": "ae2c0c00",
   "metadata": {},
   "outputs": [
    {
     "data": {
      "text/plain": [
       "dict_keys(['active', 'image_url', 'link', 'markup', 'pagination', 'partof', 'results', 'slug', 'title', 'url'])"
      ]
     },
     "execution_count": 12,
     "metadata": {},
     "output_type": "execute_result"
    }
   ],
   "source": [
    "data['content'].keys()"
   ]
  },
  {
   "cell_type": "code",
   "execution_count": 17,
   "id": "7dd46aa1",
   "metadata": {},
   "outputs": [
    {
     "data": {
      "text/plain": [
       "dict_keys(['access_restricted', 'aka', 'campaigns', 'contributor', 'date', 'dates', 'description', 'digitized', 'extract_timestamp', 'group', 'hassegments', 'id', 'image_url', 'index', 'item', 'language', 'location', 'location_country', 'mime_type', 'number', 'number_former_id', 'number_lccn', 'number_source_modified', 'online_format', 'original_format', 'partof', 'resources', 'shelf_id', 'site', 'subject', 'timestamp', 'title', 'type', 'url'])"
      ]
     },
     "execution_count": 17,
     "metadata": {},
     "output_type": "execute_result"
    }
   ],
   "source": [
    "data['content']['results'][0].keys()"
   ]
  },
  {
   "cell_type": "code",
   "execution_count": 18,
   "id": "b37f0ccb",
   "metadata": {},
   "outputs": [
    {
     "data": {
      "text/plain": [
       "['Scale ca. 1:740,000. LC Civil War Maps (2nd ed.), 12.7 At top of sheet:  Military portraits, map of the seat of war, uniforms, arms, & c. Map of Missouri, Tennessee, and parts of Nebraska, Kansas, Indian Territory, Arkansas, Illinois, Indiana, Ohio, Kentucky, Virginia, North Carolina, and South Carolina, showing cities and towns, rivers, and railroads.  Some important or strategic places are underlined in red or indicated by red dots. Above map has portraits of Generals Wool, Dix, Scott, Fremont, Lyon, McClellan, Banks, Blenker, Butler, McDowell, Rosecrans (here spelled \"Rosencranz\"), Sprague, Burnside, and Sigel, Colonel Corcoran, and Commodore Stringham. Stamped in margin: Copyright Library May 15, 1862. Description derived from published bibliography. Available also through the Library of Congress web site as raster image.']"
      ]
     },
     "execution_count": 18,
     "metadata": {},
     "output_type": "execute_result"
    }
   ],
   "source": [
    "data['content']['results'][0]['description']"
   ]
  },
  {
   "cell_type": "code",
   "execution_count": 24,
   "id": "bb305f3f",
   "metadata": {},
   "outputs": [],
   "source": [
    "json_payload = {\"empId\" : [101,102]}\n"
   ]
  },
  {
   "cell_type": "code",
   "execution_count": 25,
   "id": "8a22c192",
   "metadata": {},
   "outputs": [],
   "source": []
  },
  {
   "cell_type": "code",
   "execution_count": 28,
   "id": "d01514f7",
   "metadata": {},
   "outputs": [
    {
     "data": {
      "text/plain": [
       "\"{'test' : 'Abhishek'}\""
      ]
     },
     "execution_count": 28,
     "metadata": {},
     "output_type": "execute_result"
    }
   ],
   "source": [
    "\"{'test' : 'Abhishek'}\""
   ]
  },
  {
   "cell_type": "code",
   "execution_count": null,
   "id": "57125831",
   "metadata": {},
   "outputs": [],
   "source": []
  }
 ],
 "metadata": {
  "kernelspec": {
   "display_name": "Python 3 (ipykernel)",
   "language": "python",
   "name": "python3"
  },
  "language_info": {
   "codemirror_mode": {
    "name": "ipython",
    "version": 3
   },
   "file_extension": ".py",
   "mimetype": "text/x-python",
   "name": "python",
   "nbconvert_exporter": "python",
   "pygments_lexer": "ipython3",
   "version": "3.11.2"
  }
 },
 "nbformat": 4,
 "nbformat_minor": 5
}
